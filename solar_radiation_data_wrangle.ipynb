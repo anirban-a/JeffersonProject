{
 "cells": [
  {
   "cell_type": "code",
   "execution_count": 176,
   "metadata": {
    "collapsed": true
   },
   "outputs": [],
   "source": [
    "import pandas as pd"
   ]
  },
  {
   "cell_type": "code",
   "execution_count": 177,
   "outputs": [],
   "source": [
    "data_path = '/home/achara/data/achara/'"
   ],
   "metadata": {
    "collapsed": false
   }
  },
  {
   "cell_type": "code",
   "execution_count": 178,
   "outputs": [],
   "source": [
    "ws_17 = pd.read_csv(data_path + '2017_JP_WX.csv')"
   ],
   "metadata": {
    "collapsed": false
   }
  },
  {
   "cell_type": "code",
   "execution_count": 179,
   "outputs": [
    {
     "data": {
      "text/plain": "        DateTime  Temperature_Air_HC2  BarometricPressure_Air_HC2  \\\n0  1/1/2017 0:00            -0.356037                  997.518519   \n1  1/1/2017 1:00            -0.203712                  997.000000   \n2  1/1/2017 2:00            -0.175179                  997.000000   \n3  1/1/2017 3:00            -0.211704                  997.000000   \n4  1/1/2017 4:00            -0.321241                  996.462963   \n\n   DielectricWavePeriod_Soil_CS616  RelativeHumidity_Air_HC2  \\\n0                        21.896225                 94.253704   \n1                        21.899866                 92.513559   \n2                        21.900850                 92.244643   \n3                        21.901289                 91.811111   \n4                        21.904211                 94.668519   \n\n   Moisture_Soil_CS616  Temperature_Soil_CS616  SolarRad_Air_LiCor  \\\n0             0.131365                1.528815                 0.0   \n1             0.131454                1.528544                 0.0   \n2             0.131478                1.533117                 0.0   \n3             0.131488                1.542955                 0.0   \n4             0.131560                1.546150                 0.0   \n\n   WindDirection_Air_RMY85006  WindDirection-StdDev_Air_RMY85006  ...  \\\n0                  226.748500                          47.694074  ...   \n1                  234.364407                          40.453780  ...   \n2                  207.388054                          38.515893  ...   \n3                  164.736296                          25.343704  ...   \n4                  222.037037                          24.615593  ...   \n\n   Temperature_Air_WXT  BarometricPressure_Air_WXT  RelativeHumidity_Air_WXT  \\\n0                  NaN                         NaN                       NaN   \n1                  NaN                         NaN                       NaN   \n2                  NaN                         NaN                       NaN   \n3                  NaN                         NaN                       NaN   \n4                  NaN                         NaN                       NaN   \n\n  WindDirection_Air_WXT  WindDirection-StdDev_Air_WXT  WindSpeed_Air_WXT  \\\n0                   NaN                           NaN                NaN   \n1                   NaN                           NaN                NaN   \n2                   NaN                           NaN                NaN   \n3                   NaN                           NaN                NaN   \n4                   NaN                           NaN                NaN   \n\n   Precipitation-Hail_Air_WXT  WindSpeed-Max_Air_WXT  \\\n0                         NaN                    NaN   \n1                         NaN                    NaN   \n2                         NaN                    NaN   \n3                         NaN                    NaN   \n4                         NaN                    NaN   \n\n   Precipitation-RainDuration_Air_WXT  WindSpeed-Min_Air_WXT  \n0                                 NaN                    NaN  \n1                                 NaN                    NaN  \n2                                 NaN                    NaN  \n3                                 NaN                    NaN  \n4                                 NaN                    NaN  \n\n[5 rows x 24 columns]",
      "text/html": "<div>\n<style scoped>\n    .dataframe tbody tr th:only-of-type {\n        vertical-align: middle;\n    }\n\n    .dataframe tbody tr th {\n        vertical-align: top;\n    }\n\n    .dataframe thead th {\n        text-align: right;\n    }\n</style>\n<table border=\"1\" class=\"dataframe\">\n  <thead>\n    <tr style=\"text-align: right;\">\n      <th></th>\n      <th>DateTime</th>\n      <th>Temperature_Air_HC2</th>\n      <th>BarometricPressure_Air_HC2</th>\n      <th>DielectricWavePeriod_Soil_CS616</th>\n      <th>RelativeHumidity_Air_HC2</th>\n      <th>Moisture_Soil_CS616</th>\n      <th>Temperature_Soil_CS616</th>\n      <th>SolarRad_Air_LiCor</th>\n      <th>WindDirection_Air_RMY85006</th>\n      <th>WindDirection-StdDev_Air_RMY85006</th>\n      <th>...</th>\n      <th>Temperature_Air_WXT</th>\n      <th>BarometricPressure_Air_WXT</th>\n      <th>RelativeHumidity_Air_WXT</th>\n      <th>WindDirection_Air_WXT</th>\n      <th>WindDirection-StdDev_Air_WXT</th>\n      <th>WindSpeed_Air_WXT</th>\n      <th>Precipitation-Hail_Air_WXT</th>\n      <th>WindSpeed-Max_Air_WXT</th>\n      <th>Precipitation-RainDuration_Air_WXT</th>\n      <th>WindSpeed-Min_Air_WXT</th>\n    </tr>\n  </thead>\n  <tbody>\n    <tr>\n      <th>0</th>\n      <td>1/1/2017 0:00</td>\n      <td>-0.356037</td>\n      <td>997.518519</td>\n      <td>21.896225</td>\n      <td>94.253704</td>\n      <td>0.131365</td>\n      <td>1.528815</td>\n      <td>0.0</td>\n      <td>226.748500</td>\n      <td>47.694074</td>\n      <td>...</td>\n      <td>NaN</td>\n      <td>NaN</td>\n      <td>NaN</td>\n      <td>NaN</td>\n      <td>NaN</td>\n      <td>NaN</td>\n      <td>NaN</td>\n      <td>NaN</td>\n      <td>NaN</td>\n      <td>NaN</td>\n    </tr>\n    <tr>\n      <th>1</th>\n      <td>1/1/2017 1:00</td>\n      <td>-0.203712</td>\n      <td>997.000000</td>\n      <td>21.899866</td>\n      <td>92.513559</td>\n      <td>0.131454</td>\n      <td>1.528544</td>\n      <td>0.0</td>\n      <td>234.364407</td>\n      <td>40.453780</td>\n      <td>...</td>\n      <td>NaN</td>\n      <td>NaN</td>\n      <td>NaN</td>\n      <td>NaN</td>\n      <td>NaN</td>\n      <td>NaN</td>\n      <td>NaN</td>\n      <td>NaN</td>\n      <td>NaN</td>\n      <td>NaN</td>\n    </tr>\n    <tr>\n      <th>2</th>\n      <td>1/1/2017 2:00</td>\n      <td>-0.175179</td>\n      <td>997.000000</td>\n      <td>21.900850</td>\n      <td>92.244643</td>\n      <td>0.131478</td>\n      <td>1.533117</td>\n      <td>0.0</td>\n      <td>207.388054</td>\n      <td>38.515893</td>\n      <td>...</td>\n      <td>NaN</td>\n      <td>NaN</td>\n      <td>NaN</td>\n      <td>NaN</td>\n      <td>NaN</td>\n      <td>NaN</td>\n      <td>NaN</td>\n      <td>NaN</td>\n      <td>NaN</td>\n      <td>NaN</td>\n    </tr>\n    <tr>\n      <th>3</th>\n      <td>1/1/2017 3:00</td>\n      <td>-0.211704</td>\n      <td>997.000000</td>\n      <td>21.901289</td>\n      <td>91.811111</td>\n      <td>0.131488</td>\n      <td>1.542955</td>\n      <td>0.0</td>\n      <td>164.736296</td>\n      <td>25.343704</td>\n      <td>...</td>\n      <td>NaN</td>\n      <td>NaN</td>\n      <td>NaN</td>\n      <td>NaN</td>\n      <td>NaN</td>\n      <td>NaN</td>\n      <td>NaN</td>\n      <td>NaN</td>\n      <td>NaN</td>\n      <td>NaN</td>\n    </tr>\n    <tr>\n      <th>4</th>\n      <td>1/1/2017 4:00</td>\n      <td>-0.321241</td>\n      <td>996.462963</td>\n      <td>21.904211</td>\n      <td>94.668519</td>\n      <td>0.131560</td>\n      <td>1.546150</td>\n      <td>0.0</td>\n      <td>222.037037</td>\n      <td>24.615593</td>\n      <td>...</td>\n      <td>NaN</td>\n      <td>NaN</td>\n      <td>NaN</td>\n      <td>NaN</td>\n      <td>NaN</td>\n      <td>NaN</td>\n      <td>NaN</td>\n      <td>NaN</td>\n      <td>NaN</td>\n      <td>NaN</td>\n    </tr>\n  </tbody>\n</table>\n<p>5 rows × 24 columns</p>\n</div>"
     },
     "execution_count": 179,
     "metadata": {},
     "output_type": "execute_result"
    }
   ],
   "source": [
    "ws_17.head()"
   ],
   "metadata": {
    "collapsed": false
   }
  },
  {
   "cell_type": "markdown",
   "source": [
    "Observation: There are several `0` values for `SolarRad_Air_LiCor` sensor data."
   ],
   "metadata": {
    "collapsed": false
   }
  },
  {
   "cell_type": "markdown",
   "source": [
    "## Extracting Solar Radiation data"
   ],
   "metadata": {
    "collapsed": false
   }
  },
  {
   "cell_type": "code",
   "execution_count": 180,
   "outputs": [
    {
     "data": {
      "text/plain": "        DateTime  SolarRad_Air_LiCor\n0  1/1/2017 0:00                 0.0\n1  1/1/2017 1:00                 0.0\n2  1/1/2017 2:00                 0.0\n3  1/1/2017 3:00                 0.0\n4  1/1/2017 4:00                 0.0",
      "text/html": "<div>\n<style scoped>\n    .dataframe tbody tr th:only-of-type {\n        vertical-align: middle;\n    }\n\n    .dataframe tbody tr th {\n        vertical-align: top;\n    }\n\n    .dataframe thead th {\n        text-align: right;\n    }\n</style>\n<table border=\"1\" class=\"dataframe\">\n  <thead>\n    <tr style=\"text-align: right;\">\n      <th></th>\n      <th>DateTime</th>\n      <th>SolarRad_Air_LiCor</th>\n    </tr>\n  </thead>\n  <tbody>\n    <tr>\n      <th>0</th>\n      <td>1/1/2017 0:00</td>\n      <td>0.0</td>\n    </tr>\n    <tr>\n      <th>1</th>\n      <td>1/1/2017 1:00</td>\n      <td>0.0</td>\n    </tr>\n    <tr>\n      <th>2</th>\n      <td>1/1/2017 2:00</td>\n      <td>0.0</td>\n    </tr>\n    <tr>\n      <th>3</th>\n      <td>1/1/2017 3:00</td>\n      <td>0.0</td>\n    </tr>\n    <tr>\n      <th>4</th>\n      <td>1/1/2017 4:00</td>\n      <td>0.0</td>\n    </tr>\n  </tbody>\n</table>\n</div>"
     },
     "execution_count": 180,
     "metadata": {},
     "output_type": "execute_result"
    }
   ],
   "source": [
    "ws_17_solar = ws_17[['DateTime', 'SolarRad_Air_LiCor']]\n",
    "ws_17_solar.head()"
   ],
   "metadata": {
    "collapsed": false
   }
  },
  {
   "cell_type": "code",
   "execution_count": 181,
   "outputs": [
    {
     "data": {
      "text/plain": "count    26514.000000\nmean       166.113749\nstd        263.170066\nmin          0.000000\n25%          0.018971\n50%          8.526046\n75%        245.840250\nmax       1353.333333\nName: SolarRad_Air_LiCor, dtype: float64"
     },
     "execution_count": 181,
     "metadata": {},
     "output_type": "execute_result"
    }
   ],
   "source": [
    "ws_17_solar.SolarRad_Air_LiCor.describe()"
   ],
   "metadata": {
    "collapsed": false
   }
  },
  {
   "cell_type": "code",
   "execution_count": 182,
   "outputs": [
    {
     "data": {
      "text/plain": "4613"
     },
     "execution_count": 182,
     "metadata": {},
     "output_type": "execute_result"
    }
   ],
   "source": [
    "len(ws_17_solar[ws_17_solar.SolarRad_Air_LiCor == 0])"
   ],
   "metadata": {
    "collapsed": false
   }
  },
  {
   "cell_type": "code",
   "execution_count": 183,
   "outputs": [
    {
     "data": {
      "text/plain": "10092"
     },
     "execution_count": 183,
     "metadata": {},
     "output_type": "execute_result"
    }
   ],
   "source": [
    "# Checking for NA values\n",
    "len(ws_17_solar[ws_17_solar.SolarRad_Air_LiCor.isna()])"
   ],
   "metadata": {
    "collapsed": false
   }
  },
  {
   "cell_type": "code",
   "execution_count": 184,
   "outputs": [
    {
     "data": {
      "text/plain": "0    1/1/2017 0:00\n1    1/1/2017 1:00\n2    1/1/2017 2:00\n3    1/1/2017 3:00\n4    1/1/2017 4:00\nName: DateTime, dtype: object"
     },
     "execution_count": 184,
     "metadata": {},
     "output_type": "execute_result"
    }
   ],
   "source": [
    "ws_17_solar.DateTime.head()"
   ],
   "metadata": {
    "collapsed": false
   }
  },
  {
   "cell_type": "code",
   "execution_count": 185,
   "outputs": [],
   "source": [
    "def remove_time(datetime: str) -> str:\n",
    "    return datetime.split(' ')[0]"
   ],
   "metadata": {
    "collapsed": false
   }
  },
  {
   "cell_type": "code",
   "execution_count": 186,
   "outputs": [
    {
     "name": "stderr",
     "output_type": "stream",
     "text": [
      "/home/achara/achara_env/lib/python3.6/site-packages/pandas/core/generic.py:5170: SettingWithCopyWarning: \n",
      "A value is trying to be set on a copy of a slice from a DataFrame.\n",
      "Try using .loc[row_indexer,col_indexer] = value instead\n",
      "\n",
      "See the caveats in the documentation: https://pandas.pydata.org/pandas-docs/stable/user_guide/indexing.html#returning-a-view-versus-a-copy\n",
      "  self[name] = value\n"
     ]
    }
   ],
   "source": [
    "ws_17_solar.DateTime = ws_17_solar.DateTime.map(remove_time)"
   ],
   "metadata": {
    "collapsed": false
   }
  },
  {
   "cell_type": "code",
   "execution_count": 187,
   "outputs": [
    {
     "data": {
      "text/plain": "0    1/1/2017\n1    1/1/2017\n2    1/1/2017\n3    1/1/2017\n4    1/1/2017\nName: DateTime, dtype: object"
     },
     "execution_count": 187,
     "metadata": {},
     "output_type": "execute_result"
    }
   ],
   "source": [
    "ws_17_solar.DateTime.head()"
   ],
   "metadata": {
    "collapsed": false
   }
  },
  {
   "cell_type": "markdown",
   "source": [
    "## Find mean value of `SolarRad_Air_LiCor` by Date"
   ],
   "metadata": {
    "collapsed": false
   }
  },
  {
   "cell_type": "code",
   "execution_count": 188,
   "outputs": [],
   "source": [
    "ws_17_solar_mean = ws_17_solar.groupby('DateTime')[['SolarRad_Air_LiCor']].mean()"
   ],
   "metadata": {
    "collapsed": false
   }
  },
  {
   "cell_type": "code",
   "execution_count": 189,
   "outputs": [
    {
     "data": {
      "text/plain": "           SolarRad_Air_LiCor\nDateTime                     \n1/1/2017            73.880391\n1/1/2018             0.027000\n1/10/2017           38.902959\n1/11/2017           84.137819\n1/12/2017           12.829765",
      "text/html": "<div>\n<style scoped>\n    .dataframe tbody tr th:only-of-type {\n        vertical-align: middle;\n    }\n\n    .dataframe tbody tr th {\n        vertical-align: top;\n    }\n\n    .dataframe thead th {\n        text-align: right;\n    }\n</style>\n<table border=\"1\" class=\"dataframe\">\n  <thead>\n    <tr style=\"text-align: right;\">\n      <th></th>\n      <th>SolarRad_Air_LiCor</th>\n    </tr>\n    <tr>\n      <th>DateTime</th>\n      <th></th>\n    </tr>\n  </thead>\n  <tbody>\n    <tr>\n      <th>1/1/2017</th>\n      <td>73.880391</td>\n    </tr>\n    <tr>\n      <th>1/1/2018</th>\n      <td>0.027000</td>\n    </tr>\n    <tr>\n      <th>1/10/2017</th>\n      <td>38.902959</td>\n    </tr>\n    <tr>\n      <th>1/11/2017</th>\n      <td>84.137819</td>\n    </tr>\n    <tr>\n      <th>1/12/2017</th>\n      <td>12.829765</td>\n    </tr>\n  </tbody>\n</table>\n</div>"
     },
     "execution_count": 189,
     "metadata": {},
     "output_type": "execute_result"
    }
   ],
   "source": [
    "ws_17_solar_mean.head()"
   ],
   "metadata": {
    "collapsed": false
   }
  },
  {
   "cell_type": "code",
   "execution_count": 190,
   "outputs": [
    {
     "data": {
      "text/plain": "10092"
     },
     "execution_count": 190,
     "metadata": {},
     "output_type": "execute_result"
    }
   ],
   "source": [
    "len(ws_17_solar[ws_17_solar.SolarRad_Air_LiCor.isna()])"
   ],
   "metadata": {
    "collapsed": false
   }
  },
  {
   "cell_type": "markdown",
   "source": [
    "## Need to replace the `NA` values by the mean of `SolarRad_Air_LiCor` when matched with `DateTime`"
   ],
   "metadata": {
    "collapsed": false
   }
  },
  {
   "cell_type": "code",
   "execution_count": null,
   "outputs": [],
   "source": [
    "ws_17_solar['SolarRad_Air_LiCor'] = ws_17_solar['SolarRad_Air_LiCor'].fillna(\n",
    "    ws_17_solar.DateTime.map(lambda date: ws_17_solar_mean.at[str(date), 'SolarRad_Air_LiCor']))"
   ],
   "metadata": {
    "collapsed": false,
    "pycharm": {
     "is_executing": true
    }
   }
  },
  {
   "cell_type": "code",
   "execution_count": null,
   "outputs": [],
   "source": [
    "'''\n",
    "There still can be DateTime values for which all SolarRad_Air_LiCor values were NA because of which NA values will still persist for these DateTime values.\n",
    "I will replace these NA values with the overall mean.\n",
    "'''\n",
    "\n",
    "ws_17_solar.SolarRad_Air_LiCor.fillna(ws_17_solar.SolarRad_Air_LiCor.mean(), inplace=True)"
   ],
   "metadata": {
    "collapsed": false,
    "pycharm": {
     "is_executing": true
    }
   }
  },
  {
   "cell_type": "code",
   "execution_count": null,
   "outputs": [],
   "source": [],
   "metadata": {
    "collapsed": false
   }
  }
 ],
 "metadata": {
  "kernelspec": {
   "display_name": "Python 3",
   "language": "python",
   "name": "python3"
  },
  "language_info": {
   "codemirror_mode": {
    "name": "ipython",
    "version": 2
   },
   "file_extension": ".py",
   "mimetype": "text/x-python",
   "name": "python",
   "nbconvert_exporter": "python",
   "pygments_lexer": "ipython2",
   "version": "2.7.6"
  }
 },
 "nbformat": 4,
 "nbformat_minor": 0
}
