{
 "cells": [
  {
   "cell_type": "code",
   "execution_count": 215,
   "metadata": {
    "collapsed": true
   },
   "outputs": [],
   "source": [
    "import pandas as pd\n",
    "from functools import partial"
   ]
  },
  {
   "cell_type": "code",
   "execution_count": 216,
   "outputs": [],
   "source": [
    "data_path = '/home/achara/data/achara/'"
   ],
   "metadata": {
    "collapsed": false
   }
  },
  {
   "cell_type": "code",
   "execution_count": 217,
   "outputs": [],
   "source": [
    "ws_17 = pd.read_csv(data_path + '2017_JP_WX.csv')"
   ],
   "metadata": {
    "collapsed": false
   }
  },
  {
   "cell_type": "code",
   "execution_count": 218,
   "outputs": [],
   "source": [
    "ws_18 = pd.read_csv(data_path + '2018_JP_WX_Level4.csv')"
   ],
   "metadata": {
    "collapsed": false
   }
  },
  {
   "cell_type": "code",
   "execution_count": 219,
   "outputs": [],
   "source": [
    "ws_19 = pd.read_csv(data_path + '2019_JP_WX_Level4.csv')"
   ],
   "metadata": {
    "collapsed": false
   }
  },
  {
   "cell_type": "code",
   "execution_count": 220,
   "outputs": [
    {
     "data": {
      "text/plain": "        DateTime  Temperature_Air_HC2  BarometricPressure_Air_HC2  \\\n0  1/1/2017 0:00            -0.356037                  997.518519   \n1  1/1/2017 1:00            -0.203712                  997.000000   \n2  1/1/2017 2:00            -0.175179                  997.000000   \n3  1/1/2017 3:00            -0.211704                  997.000000   \n4  1/1/2017 4:00            -0.321241                  996.462963   \n\n   DielectricWavePeriod_Soil_CS616  RelativeHumidity_Air_HC2  \\\n0                        21.896225                 94.253704   \n1                        21.899866                 92.513559   \n2                        21.900850                 92.244643   \n3                        21.901289                 91.811111   \n4                        21.904211                 94.668519   \n\n   Moisture_Soil_CS616  Temperature_Soil_CS616  SolarRad_Air_LiCor  \\\n0             0.131365                1.528815                 0.0   \n1             0.131454                1.528544                 0.0   \n2             0.131478                1.533117                 0.0   \n3             0.131488                1.542955                 0.0   \n4             0.131560                1.546150                 0.0   \n\n   WindDirection_Air_RMY85006  WindDirection-StdDev_Air_RMY85006  ...  \\\n0                  226.748500                          47.694074  ...   \n1                  234.364407                          40.453780  ...   \n2                  207.388054                          38.515893  ...   \n3                  164.736296                          25.343704  ...   \n4                  222.037037                          24.615593  ...   \n\n   Temperature_Air_WXT  BarometricPressure_Air_WXT  RelativeHumidity_Air_WXT  \\\n0                  NaN                         NaN                       NaN   \n1                  NaN                         NaN                       NaN   \n2                  NaN                         NaN                       NaN   \n3                  NaN                         NaN                       NaN   \n4                  NaN                         NaN                       NaN   \n\n  WindDirection_Air_WXT  WindDirection-StdDev_Air_WXT  WindSpeed_Air_WXT  \\\n0                   NaN                           NaN                NaN   \n1                   NaN                           NaN                NaN   \n2                   NaN                           NaN                NaN   \n3                   NaN                           NaN                NaN   \n4                   NaN                           NaN                NaN   \n\n   Precipitation-Hail_Air_WXT  WindSpeed-Max_Air_WXT  \\\n0                         NaN                    NaN   \n1                         NaN                    NaN   \n2                         NaN                    NaN   \n3                         NaN                    NaN   \n4                         NaN                    NaN   \n\n   Precipitation-RainDuration_Air_WXT  WindSpeed-Min_Air_WXT  \n0                                 NaN                    NaN  \n1                                 NaN                    NaN  \n2                                 NaN                    NaN  \n3                                 NaN                    NaN  \n4                                 NaN                    NaN  \n\n[5 rows x 24 columns]",
      "text/html": "<div>\n<style scoped>\n    .dataframe tbody tr th:only-of-type {\n        vertical-align: middle;\n    }\n\n    .dataframe tbody tr th {\n        vertical-align: top;\n    }\n\n    .dataframe thead th {\n        text-align: right;\n    }\n</style>\n<table border=\"1\" class=\"dataframe\">\n  <thead>\n    <tr style=\"text-align: right;\">\n      <th></th>\n      <th>DateTime</th>\n      <th>Temperature_Air_HC2</th>\n      <th>BarometricPressure_Air_HC2</th>\n      <th>DielectricWavePeriod_Soil_CS616</th>\n      <th>RelativeHumidity_Air_HC2</th>\n      <th>Moisture_Soil_CS616</th>\n      <th>Temperature_Soil_CS616</th>\n      <th>SolarRad_Air_LiCor</th>\n      <th>WindDirection_Air_RMY85006</th>\n      <th>WindDirection-StdDev_Air_RMY85006</th>\n      <th>...</th>\n      <th>Temperature_Air_WXT</th>\n      <th>BarometricPressure_Air_WXT</th>\n      <th>RelativeHumidity_Air_WXT</th>\n      <th>WindDirection_Air_WXT</th>\n      <th>WindDirection-StdDev_Air_WXT</th>\n      <th>WindSpeed_Air_WXT</th>\n      <th>Precipitation-Hail_Air_WXT</th>\n      <th>WindSpeed-Max_Air_WXT</th>\n      <th>Precipitation-RainDuration_Air_WXT</th>\n      <th>WindSpeed-Min_Air_WXT</th>\n    </tr>\n  </thead>\n  <tbody>\n    <tr>\n      <th>0</th>\n      <td>1/1/2017 0:00</td>\n      <td>-0.356037</td>\n      <td>997.518519</td>\n      <td>21.896225</td>\n      <td>94.253704</td>\n      <td>0.131365</td>\n      <td>1.528815</td>\n      <td>0.0</td>\n      <td>226.748500</td>\n      <td>47.694074</td>\n      <td>...</td>\n      <td>NaN</td>\n      <td>NaN</td>\n      <td>NaN</td>\n      <td>NaN</td>\n      <td>NaN</td>\n      <td>NaN</td>\n      <td>NaN</td>\n      <td>NaN</td>\n      <td>NaN</td>\n      <td>NaN</td>\n    </tr>\n    <tr>\n      <th>1</th>\n      <td>1/1/2017 1:00</td>\n      <td>-0.203712</td>\n      <td>997.000000</td>\n      <td>21.899866</td>\n      <td>92.513559</td>\n      <td>0.131454</td>\n      <td>1.528544</td>\n      <td>0.0</td>\n      <td>234.364407</td>\n      <td>40.453780</td>\n      <td>...</td>\n      <td>NaN</td>\n      <td>NaN</td>\n      <td>NaN</td>\n      <td>NaN</td>\n      <td>NaN</td>\n      <td>NaN</td>\n      <td>NaN</td>\n      <td>NaN</td>\n      <td>NaN</td>\n      <td>NaN</td>\n    </tr>\n    <tr>\n      <th>2</th>\n      <td>1/1/2017 2:00</td>\n      <td>-0.175179</td>\n      <td>997.000000</td>\n      <td>21.900850</td>\n      <td>92.244643</td>\n      <td>0.131478</td>\n      <td>1.533117</td>\n      <td>0.0</td>\n      <td>207.388054</td>\n      <td>38.515893</td>\n      <td>...</td>\n      <td>NaN</td>\n      <td>NaN</td>\n      <td>NaN</td>\n      <td>NaN</td>\n      <td>NaN</td>\n      <td>NaN</td>\n      <td>NaN</td>\n      <td>NaN</td>\n      <td>NaN</td>\n      <td>NaN</td>\n    </tr>\n    <tr>\n      <th>3</th>\n      <td>1/1/2017 3:00</td>\n      <td>-0.211704</td>\n      <td>997.000000</td>\n      <td>21.901289</td>\n      <td>91.811111</td>\n      <td>0.131488</td>\n      <td>1.542955</td>\n      <td>0.0</td>\n      <td>164.736296</td>\n      <td>25.343704</td>\n      <td>...</td>\n      <td>NaN</td>\n      <td>NaN</td>\n      <td>NaN</td>\n      <td>NaN</td>\n      <td>NaN</td>\n      <td>NaN</td>\n      <td>NaN</td>\n      <td>NaN</td>\n      <td>NaN</td>\n      <td>NaN</td>\n    </tr>\n    <tr>\n      <th>4</th>\n      <td>1/1/2017 4:00</td>\n      <td>-0.321241</td>\n      <td>996.462963</td>\n      <td>21.904211</td>\n      <td>94.668519</td>\n      <td>0.131560</td>\n      <td>1.546150</td>\n      <td>0.0</td>\n      <td>222.037037</td>\n      <td>24.615593</td>\n      <td>...</td>\n      <td>NaN</td>\n      <td>NaN</td>\n      <td>NaN</td>\n      <td>NaN</td>\n      <td>NaN</td>\n      <td>NaN</td>\n      <td>NaN</td>\n      <td>NaN</td>\n      <td>NaN</td>\n      <td>NaN</td>\n    </tr>\n  </tbody>\n</table>\n<p>5 rows × 24 columns</p>\n</div>"
     },
     "execution_count": 220,
     "metadata": {},
     "output_type": "execute_result"
    }
   ],
   "source": [
    "ws_17.head()"
   ],
   "metadata": {
    "collapsed": false
   }
  },
  {
   "cell_type": "code",
   "execution_count": 221,
   "outputs": [
    {
     "data": {
      "text/plain": "              DateTime        Site_Name  BarometricPressure_Air_WXT  \\\n0  2018-05-09 23:00:00  VP_AnthonysNose                    1001.330   \n1  2018-05-10 00:00:00  VP_AnthonysNose                    1001.313   \n2  2018-05-10 01:00:00  VP_AnthonysNose                    1001.379   \n3  2018-05-10 02:00:00  VP_AnthonysNose                    1001.889   \n4  2018-05-10 03:00:00  VP_AnthonysNose                    1002.177   \n\n   RelativeHumidity_Air_WXT  SolarRad_Air_LiCor  Temperature_Air_WXT  \\\n0                    42.940              12.027               20.194   \n1                    50.978               0.651               18.002   \n2                    56.025               0.001               16.098   \n3                    54.018               0.000               15.135   \n4                    57.163               0.000               15.145   \n\n   WindSpeed_Air_WXT  Precipitation-Rain_Air_WXT  WindDirection_Air_WXT  \\\n0              0.220                        0.05                 65.644   \n1              0.230                        0.01                313.249   \n2              0.266                        0.00                191.270   \n3              0.420                        0.00                284.672   \n4              0.601                        0.00                263.515   \n\n   BarometricPressure_Air_HC2  Moisture_Soil_CS616  RelativeHumidity_Air_HC2  \\\n0                         NaN                  NaN                       NaN   \n1                         NaN                  NaN                       NaN   \n2                         NaN                  NaN                       NaN   \n3                         NaN                  NaN                       NaN   \n4                         NaN                  NaN                       NaN   \n\n   Temperature_Air_HC2  Temperature_Soil_CS616  WindSpeed_Air_RMY85006  \\\n0                  NaN                     NaN                     NaN   \n1                  NaN                     NaN                     NaN   \n2                  NaN                     NaN                     NaN   \n3                  NaN                     NaN                     NaN   \n4                  NaN                     NaN                     NaN   \n\n   Precipitation-Rain_Air_TB3  WindDirection_Air_RMY85006  \\\n0                         NaN                         NaN   \n1                         NaN                         NaN   \n2                         NaN                         NaN   \n3                         NaN                         NaN   \n4                         NaN                         NaN   \n\n   Precipitation-Hail_Air_WXT  \n0                         NaN  \n1                         NaN  \n2                         NaN  \n3                         NaN  \n4                         NaN  ",
      "text/html": "<div>\n<style scoped>\n    .dataframe tbody tr th:only-of-type {\n        vertical-align: middle;\n    }\n\n    .dataframe tbody tr th {\n        vertical-align: top;\n    }\n\n    .dataframe thead th {\n        text-align: right;\n    }\n</style>\n<table border=\"1\" class=\"dataframe\">\n  <thead>\n    <tr style=\"text-align: right;\">\n      <th></th>\n      <th>DateTime</th>\n      <th>Site_Name</th>\n      <th>BarometricPressure_Air_WXT</th>\n      <th>RelativeHumidity_Air_WXT</th>\n      <th>SolarRad_Air_LiCor</th>\n      <th>Temperature_Air_WXT</th>\n      <th>WindSpeed_Air_WXT</th>\n      <th>Precipitation-Rain_Air_WXT</th>\n      <th>WindDirection_Air_WXT</th>\n      <th>BarometricPressure_Air_HC2</th>\n      <th>Moisture_Soil_CS616</th>\n      <th>RelativeHumidity_Air_HC2</th>\n      <th>Temperature_Air_HC2</th>\n      <th>Temperature_Soil_CS616</th>\n      <th>WindSpeed_Air_RMY85006</th>\n      <th>Precipitation-Rain_Air_TB3</th>\n      <th>WindDirection_Air_RMY85006</th>\n      <th>Precipitation-Hail_Air_WXT</th>\n    </tr>\n  </thead>\n  <tbody>\n    <tr>\n      <th>0</th>\n      <td>2018-05-09 23:00:00</td>\n      <td>VP_AnthonysNose</td>\n      <td>1001.330</td>\n      <td>42.940</td>\n      <td>12.027</td>\n      <td>20.194</td>\n      <td>0.220</td>\n      <td>0.05</td>\n      <td>65.644</td>\n      <td>NaN</td>\n      <td>NaN</td>\n      <td>NaN</td>\n      <td>NaN</td>\n      <td>NaN</td>\n      <td>NaN</td>\n      <td>NaN</td>\n      <td>NaN</td>\n      <td>NaN</td>\n    </tr>\n    <tr>\n      <th>1</th>\n      <td>2018-05-10 00:00:00</td>\n      <td>VP_AnthonysNose</td>\n      <td>1001.313</td>\n      <td>50.978</td>\n      <td>0.651</td>\n      <td>18.002</td>\n      <td>0.230</td>\n      <td>0.01</td>\n      <td>313.249</td>\n      <td>NaN</td>\n      <td>NaN</td>\n      <td>NaN</td>\n      <td>NaN</td>\n      <td>NaN</td>\n      <td>NaN</td>\n      <td>NaN</td>\n      <td>NaN</td>\n      <td>NaN</td>\n    </tr>\n    <tr>\n      <th>2</th>\n      <td>2018-05-10 01:00:00</td>\n      <td>VP_AnthonysNose</td>\n      <td>1001.379</td>\n      <td>56.025</td>\n      <td>0.001</td>\n      <td>16.098</td>\n      <td>0.266</td>\n      <td>0.00</td>\n      <td>191.270</td>\n      <td>NaN</td>\n      <td>NaN</td>\n      <td>NaN</td>\n      <td>NaN</td>\n      <td>NaN</td>\n      <td>NaN</td>\n      <td>NaN</td>\n      <td>NaN</td>\n      <td>NaN</td>\n    </tr>\n    <tr>\n      <th>3</th>\n      <td>2018-05-10 02:00:00</td>\n      <td>VP_AnthonysNose</td>\n      <td>1001.889</td>\n      <td>54.018</td>\n      <td>0.000</td>\n      <td>15.135</td>\n      <td>0.420</td>\n      <td>0.00</td>\n      <td>284.672</td>\n      <td>NaN</td>\n      <td>NaN</td>\n      <td>NaN</td>\n      <td>NaN</td>\n      <td>NaN</td>\n      <td>NaN</td>\n      <td>NaN</td>\n      <td>NaN</td>\n      <td>NaN</td>\n    </tr>\n    <tr>\n      <th>4</th>\n      <td>2018-05-10 03:00:00</td>\n      <td>VP_AnthonysNose</td>\n      <td>1002.177</td>\n      <td>57.163</td>\n      <td>0.000</td>\n      <td>15.145</td>\n      <td>0.601</td>\n      <td>0.00</td>\n      <td>263.515</td>\n      <td>NaN</td>\n      <td>NaN</td>\n      <td>NaN</td>\n      <td>NaN</td>\n      <td>NaN</td>\n      <td>NaN</td>\n      <td>NaN</td>\n      <td>NaN</td>\n      <td>NaN</td>\n    </tr>\n  </tbody>\n</table>\n</div>"
     },
     "execution_count": 221,
     "metadata": {},
     "output_type": "execute_result"
    }
   ],
   "source": [
    "ws_18.head()"
   ],
   "metadata": {
    "collapsed": false
   }
  },
  {
   "cell_type": "code",
   "execution_count": 222,
   "outputs": [
    {
     "data": {
      "text/plain": "              DateTime        Site_Name  BarometricPressure_Air_WXT  \\\n0  2019-05-02 18:00:00  VP_AnthonysNose                    1006.544   \n1  2019-05-06 19:00:00  VP_AnthonysNose                     999.828   \n2  2019-05-06 20:00:00  VP_AnthonysNose                     999.584   \n3  2019-05-06 21:00:00  VP_AnthonysNose                     999.916   \n4  2019-05-06 22:00:00  VP_AnthonysNose                    1000.138   \n\n   PAR_Air_LiCor  RelativeHumidity_Air_WXT  SolarRad_Air_LiCor  \\\n0            NaN                    82.267                 NaN   \n1            NaN                    31.430                 NaN   \n2            NaN                    34.003                 NaN   \n3            NaN                    38.050                 NaN   \n4            NaN                    55.583                 NaN   \n\n   Temperature_Air_WXT  WindSpeed_Air_WXT  Precipitation-Rain_Air_WXT  \\\n0                7.151              1.860                        0.00   \n1               20.800              0.798                        0.01   \n2               21.025              0.472                        0.00   \n3               21.185              1.799                        0.00   \n4               17.472              3.128                        0.00   \n\n   WindDirection_Air_WXT  Precipitation-Hail_Air_WXT  \\\n0                    NaN                         NaN   \n1                342.850                         NaN   \n2                 19.133                         NaN   \n3                150.310                         NaN   \n4                143.593                         NaN   \n\n   BarometricPressure_Air_HC2  Moisture_Soil_CS616  RelativeHumidity_Air_HC2  \\\n0                         NaN                  NaN                       NaN   \n1                         NaN                  NaN                       NaN   \n2                         NaN                  NaN                       NaN   \n3                         NaN                  NaN                       NaN   \n4                         NaN                  NaN                       NaN   \n\n   Temperature_Air_HC2  Temperature_Soil_CS616  WindSpeed_Air_RMY85006  \\\n0                  NaN                     NaN                     NaN   \n1                  NaN                     NaN                     NaN   \n2                  NaN                     NaN                     NaN   \n3                  NaN                     NaN                     NaN   \n4                  NaN                     NaN                     NaN   \n\n   Precipitation-Rain_Air_TB3  WindDirection_Air_RMY85006  \n0                         NaN                         NaN  \n1                         NaN                         NaN  \n2                         NaN                         NaN  \n3                         NaN                         NaN  \n4                         NaN                         NaN  ",
      "text/html": "<div>\n<style scoped>\n    .dataframe tbody tr th:only-of-type {\n        vertical-align: middle;\n    }\n\n    .dataframe tbody tr th {\n        vertical-align: top;\n    }\n\n    .dataframe thead th {\n        text-align: right;\n    }\n</style>\n<table border=\"1\" class=\"dataframe\">\n  <thead>\n    <tr style=\"text-align: right;\">\n      <th></th>\n      <th>DateTime</th>\n      <th>Site_Name</th>\n      <th>BarometricPressure_Air_WXT</th>\n      <th>PAR_Air_LiCor</th>\n      <th>RelativeHumidity_Air_WXT</th>\n      <th>SolarRad_Air_LiCor</th>\n      <th>Temperature_Air_WXT</th>\n      <th>WindSpeed_Air_WXT</th>\n      <th>Precipitation-Rain_Air_WXT</th>\n      <th>WindDirection_Air_WXT</th>\n      <th>Precipitation-Hail_Air_WXT</th>\n      <th>BarometricPressure_Air_HC2</th>\n      <th>Moisture_Soil_CS616</th>\n      <th>RelativeHumidity_Air_HC2</th>\n      <th>Temperature_Air_HC2</th>\n      <th>Temperature_Soil_CS616</th>\n      <th>WindSpeed_Air_RMY85006</th>\n      <th>Precipitation-Rain_Air_TB3</th>\n      <th>WindDirection_Air_RMY85006</th>\n    </tr>\n  </thead>\n  <tbody>\n    <tr>\n      <th>0</th>\n      <td>2019-05-02 18:00:00</td>\n      <td>VP_AnthonysNose</td>\n      <td>1006.544</td>\n      <td>NaN</td>\n      <td>82.267</td>\n      <td>NaN</td>\n      <td>7.151</td>\n      <td>1.860</td>\n      <td>0.00</td>\n      <td>NaN</td>\n      <td>NaN</td>\n      <td>NaN</td>\n      <td>NaN</td>\n      <td>NaN</td>\n      <td>NaN</td>\n      <td>NaN</td>\n      <td>NaN</td>\n      <td>NaN</td>\n      <td>NaN</td>\n    </tr>\n    <tr>\n      <th>1</th>\n      <td>2019-05-06 19:00:00</td>\n      <td>VP_AnthonysNose</td>\n      <td>999.828</td>\n      <td>NaN</td>\n      <td>31.430</td>\n      <td>NaN</td>\n      <td>20.800</td>\n      <td>0.798</td>\n      <td>0.01</td>\n      <td>342.850</td>\n      <td>NaN</td>\n      <td>NaN</td>\n      <td>NaN</td>\n      <td>NaN</td>\n      <td>NaN</td>\n      <td>NaN</td>\n      <td>NaN</td>\n      <td>NaN</td>\n      <td>NaN</td>\n    </tr>\n    <tr>\n      <th>2</th>\n      <td>2019-05-06 20:00:00</td>\n      <td>VP_AnthonysNose</td>\n      <td>999.584</td>\n      <td>NaN</td>\n      <td>34.003</td>\n      <td>NaN</td>\n      <td>21.025</td>\n      <td>0.472</td>\n      <td>0.00</td>\n      <td>19.133</td>\n      <td>NaN</td>\n      <td>NaN</td>\n      <td>NaN</td>\n      <td>NaN</td>\n      <td>NaN</td>\n      <td>NaN</td>\n      <td>NaN</td>\n      <td>NaN</td>\n      <td>NaN</td>\n    </tr>\n    <tr>\n      <th>3</th>\n      <td>2019-05-06 21:00:00</td>\n      <td>VP_AnthonysNose</td>\n      <td>999.916</td>\n      <td>NaN</td>\n      <td>38.050</td>\n      <td>NaN</td>\n      <td>21.185</td>\n      <td>1.799</td>\n      <td>0.00</td>\n      <td>150.310</td>\n      <td>NaN</td>\n      <td>NaN</td>\n      <td>NaN</td>\n      <td>NaN</td>\n      <td>NaN</td>\n      <td>NaN</td>\n      <td>NaN</td>\n      <td>NaN</td>\n      <td>NaN</td>\n    </tr>\n    <tr>\n      <th>4</th>\n      <td>2019-05-06 22:00:00</td>\n      <td>VP_AnthonysNose</td>\n      <td>1000.138</td>\n      <td>NaN</td>\n      <td>55.583</td>\n      <td>NaN</td>\n      <td>17.472</td>\n      <td>3.128</td>\n      <td>0.00</td>\n      <td>143.593</td>\n      <td>NaN</td>\n      <td>NaN</td>\n      <td>NaN</td>\n      <td>NaN</td>\n      <td>NaN</td>\n      <td>NaN</td>\n      <td>NaN</td>\n      <td>NaN</td>\n      <td>NaN</td>\n    </tr>\n  </tbody>\n</table>\n</div>"
     },
     "execution_count": 222,
     "metadata": {},
     "output_type": "execute_result"
    }
   ],
   "source": [
    "ws_19.head()"
   ],
   "metadata": {
    "collapsed": false
   }
  },
  {
   "cell_type": "markdown",
   "source": [
    "## Extracting Solar Radiation data"
   ],
   "metadata": {
    "collapsed": false
   }
  },
  {
   "cell_type": "code",
   "execution_count": 223,
   "outputs": [
    {
     "data": {
      "text/plain": "        DateTime  SolarRad_Air_LiCor\n0  1/1/2017 0:00                 0.0\n1  1/1/2017 1:00                 0.0\n2  1/1/2017 2:00                 0.0\n3  1/1/2017 3:00                 0.0\n4  1/1/2017 4:00                 0.0",
      "text/html": "<div>\n<style scoped>\n    .dataframe tbody tr th:only-of-type {\n        vertical-align: middle;\n    }\n\n    .dataframe tbody tr th {\n        vertical-align: top;\n    }\n\n    .dataframe thead th {\n        text-align: right;\n    }\n</style>\n<table border=\"1\" class=\"dataframe\">\n  <thead>\n    <tr style=\"text-align: right;\">\n      <th></th>\n      <th>DateTime</th>\n      <th>SolarRad_Air_LiCor</th>\n    </tr>\n  </thead>\n  <tbody>\n    <tr>\n      <th>0</th>\n      <td>1/1/2017 0:00</td>\n      <td>0.0</td>\n    </tr>\n    <tr>\n      <th>1</th>\n      <td>1/1/2017 1:00</td>\n      <td>0.0</td>\n    </tr>\n    <tr>\n      <th>2</th>\n      <td>1/1/2017 2:00</td>\n      <td>0.0</td>\n    </tr>\n    <tr>\n      <th>3</th>\n      <td>1/1/2017 3:00</td>\n      <td>0.0</td>\n    </tr>\n    <tr>\n      <th>4</th>\n      <td>1/1/2017 4:00</td>\n      <td>0.0</td>\n    </tr>\n  </tbody>\n</table>\n</div>"
     },
     "execution_count": 223,
     "metadata": {},
     "output_type": "execute_result"
    }
   ],
   "source": [
    "ws_17_solar = ws_17[['DateTime', 'SolarRad_Air_LiCor']]\n",
    "ws_17_solar.head()"
   ],
   "metadata": {
    "collapsed": false
   }
  },
  {
   "cell_type": "code",
   "execution_count": 224,
   "outputs": [
    {
     "data": {
      "text/plain": "              DateTime  SolarRad_Air_LiCor\n0  2018-05-09 23:00:00              12.027\n1  2018-05-10 00:00:00               0.651\n2  2018-05-10 01:00:00               0.001\n3  2018-05-10 02:00:00               0.000\n4  2018-05-10 03:00:00               0.000",
      "text/html": "<div>\n<style scoped>\n    .dataframe tbody tr th:only-of-type {\n        vertical-align: middle;\n    }\n\n    .dataframe tbody tr th {\n        vertical-align: top;\n    }\n\n    .dataframe thead th {\n        text-align: right;\n    }\n</style>\n<table border=\"1\" class=\"dataframe\">\n  <thead>\n    <tr style=\"text-align: right;\">\n      <th></th>\n      <th>DateTime</th>\n      <th>SolarRad_Air_LiCor</th>\n    </tr>\n  </thead>\n  <tbody>\n    <tr>\n      <th>0</th>\n      <td>2018-05-09 23:00:00</td>\n      <td>12.027</td>\n    </tr>\n    <tr>\n      <th>1</th>\n      <td>2018-05-10 00:00:00</td>\n      <td>0.651</td>\n    </tr>\n    <tr>\n      <th>2</th>\n      <td>2018-05-10 01:00:00</td>\n      <td>0.001</td>\n    </tr>\n    <tr>\n      <th>3</th>\n      <td>2018-05-10 02:00:00</td>\n      <td>0.000</td>\n    </tr>\n    <tr>\n      <th>4</th>\n      <td>2018-05-10 03:00:00</td>\n      <td>0.000</td>\n    </tr>\n  </tbody>\n</table>\n</div>"
     },
     "execution_count": 224,
     "metadata": {},
     "output_type": "execute_result"
    }
   ],
   "source": [
    "ws_18_solar = ws_18[['DateTime', 'SolarRad_Air_LiCor']]\n",
    "ws_18_solar.head()"
   ],
   "metadata": {
    "collapsed": false
   }
  },
  {
   "cell_type": "code",
   "execution_count": 225,
   "outputs": [
    {
     "data": {
      "text/plain": "              DateTime  SolarRad_Air_LiCor\n0  2019-05-02 18:00:00                 NaN\n1  2019-05-06 19:00:00                 NaN\n2  2019-05-06 20:00:00                 NaN\n3  2019-05-06 21:00:00                 NaN\n4  2019-05-06 22:00:00                 NaN",
      "text/html": "<div>\n<style scoped>\n    .dataframe tbody tr th:only-of-type {\n        vertical-align: middle;\n    }\n\n    .dataframe tbody tr th {\n        vertical-align: top;\n    }\n\n    .dataframe thead th {\n        text-align: right;\n    }\n</style>\n<table border=\"1\" class=\"dataframe\">\n  <thead>\n    <tr style=\"text-align: right;\">\n      <th></th>\n      <th>DateTime</th>\n      <th>SolarRad_Air_LiCor</th>\n    </tr>\n  </thead>\n  <tbody>\n    <tr>\n      <th>0</th>\n      <td>2019-05-02 18:00:00</td>\n      <td>NaN</td>\n    </tr>\n    <tr>\n      <th>1</th>\n      <td>2019-05-06 19:00:00</td>\n      <td>NaN</td>\n    </tr>\n    <tr>\n      <th>2</th>\n      <td>2019-05-06 20:00:00</td>\n      <td>NaN</td>\n    </tr>\n    <tr>\n      <th>3</th>\n      <td>2019-05-06 21:00:00</td>\n      <td>NaN</td>\n    </tr>\n    <tr>\n      <th>4</th>\n      <td>2019-05-06 22:00:00</td>\n      <td>NaN</td>\n    </tr>\n  </tbody>\n</table>\n</div>"
     },
     "execution_count": 225,
     "metadata": {},
     "output_type": "execute_result"
    }
   ],
   "source": [
    "ws_19_solar = ws_19[['DateTime', 'SolarRad_Air_LiCor']]\n",
    "ws_19_solar.head()"
   ],
   "metadata": {
    "collapsed": false
   }
  },
  {
   "cell_type": "code",
   "execution_count": 226,
   "outputs": [
    {
     "data": {
      "text/plain": "count    26514.000000\nmean       166.113749\nstd        263.170066\nmin          0.000000\n25%          0.018971\n50%          8.526046\n75%        245.840250\nmax       1353.333333\nName: SolarRad_Air_LiCor, dtype: float64"
     },
     "execution_count": 226,
     "metadata": {},
     "output_type": "execute_result"
    }
   ],
   "source": [
    "ws_17_solar.SolarRad_Air_LiCor.describe()"
   ],
   "metadata": {
    "collapsed": false
   }
  },
  {
   "cell_type": "code",
   "execution_count": 227,
   "outputs": [
    {
     "data": {
      "text/plain": "4613"
     },
     "execution_count": 227,
     "metadata": {},
     "output_type": "execute_result"
    }
   ],
   "source": [
    "len(ws_17_solar[ws_17_solar.SolarRad_Air_LiCor == 0])"
   ],
   "metadata": {
    "collapsed": false
   }
  },
  {
   "cell_type": "code",
   "execution_count": 228,
   "outputs": [
    {
     "data": {
      "text/plain": "2921"
     },
     "execution_count": 228,
     "metadata": {},
     "output_type": "execute_result"
    }
   ],
   "source": [
    "len(ws_18_solar[ws_18_solar.SolarRad_Air_LiCor == 0])"
   ],
   "metadata": {
    "collapsed": false
   }
  },
  {
   "cell_type": "code",
   "execution_count": 229,
   "outputs": [
    {
     "data": {
      "text/plain": "3874"
     },
     "execution_count": 229,
     "metadata": {},
     "output_type": "execute_result"
    }
   ],
   "source": [
    "len(ws_19_solar[ws_19_solar.SolarRad_Air_LiCor == 0])"
   ],
   "metadata": {
    "collapsed": false
   }
  },
  {
   "cell_type": "code",
   "execution_count": 230,
   "outputs": [
    {
     "data": {
      "text/plain": "10092"
     },
     "execution_count": 230,
     "metadata": {},
     "output_type": "execute_result"
    }
   ],
   "source": [
    "# Checking for NA values\n",
    "len(ws_17_solar[ws_17_solar.SolarRad_Air_LiCor.isna()])"
   ],
   "metadata": {
    "collapsed": false
   }
  },
  {
   "cell_type": "code",
   "execution_count": 231,
   "outputs": [
    {
     "data": {
      "text/plain": "0    1/1/2017 0:00\n1    1/1/2017 1:00\n2    1/1/2017 2:00\n3    1/1/2017 3:00\n4    1/1/2017 4:00\nName: DateTime, dtype: object"
     },
     "execution_count": 231,
     "metadata": {},
     "output_type": "execute_result"
    }
   ],
   "source": [
    "ws_17_solar.DateTime.head()"
   ],
   "metadata": {
    "collapsed": false
   }
  },
  {
   "cell_type": "code",
   "execution_count": 232,
   "outputs": [],
   "source": [
    "def remove_time(datetime: str) -> str:\n",
    "    return datetime.split(' ')[0]"
   ],
   "metadata": {
    "collapsed": false
   }
  },
  {
   "cell_type": "code",
   "execution_count": 233,
   "outputs": [
    {
     "name": "stderr",
     "output_type": "stream",
     "text": [
      "/home/achara/achara_env/lib/python3.6/site-packages/pandas/core/generic.py:5170: SettingWithCopyWarning: \n",
      "A value is trying to be set on a copy of a slice from a DataFrame.\n",
      "Try using .loc[row_indexer,col_indexer] = value instead\n",
      "\n",
      "See the caveats in the documentation: https://pandas.pydata.org/pandas-docs/stable/user_guide/indexing.html#returning-a-view-versus-a-copy\n",
      "  self[name] = value\n"
     ]
    }
   ],
   "source": [
    "ws_17_solar.DateTime = ws_17_solar.DateTime.map(remove_time)"
   ],
   "metadata": {
    "collapsed": false
   }
  },
  {
   "cell_type": "code",
   "execution_count": 234,
   "outputs": [
    {
     "data": {
      "text/plain": "0    1/1/2017\n1    1/1/2017\n2    1/1/2017\n3    1/1/2017\n4    1/1/2017\nName: DateTime, dtype: object"
     },
     "execution_count": 234,
     "metadata": {},
     "output_type": "execute_result"
    }
   ],
   "source": [
    "ws_17_solar.DateTime.head()"
   ],
   "metadata": {
    "collapsed": false
   }
  },
  {
   "cell_type": "code",
   "execution_count": 235,
   "outputs": [],
   "source": [
    "ws_18_solar.SolarRad_Air_LiCor = ws_18_solar.SolarRad_Air_LiCor.map(str)"
   ],
   "metadata": {
    "collapsed": false
   }
  },
  {
   "cell_type": "code",
   "execution_count": 236,
   "outputs": [
    {
     "data": {
      "text/plain": "0    2018/05/09\n1    2018/05/10\n2    2018/05/10\n3    2018/05/10\n4    2018/05/10\nName: DateTime, dtype: object"
     },
     "execution_count": 236,
     "metadata": {},
     "output_type": "execute_result"
    }
   ],
   "source": [
    "ws_18_solar.DateTime = ws_18_solar.DateTime.map(remove_time).map(lambda x: x.replace('-', '/'))\n",
    "ws_18_solar.DateTime.head()"
   ],
   "metadata": {
    "collapsed": false
   }
  },
  {
   "cell_type": "code",
   "execution_count": 237,
   "outputs": [],
   "source": [
    "ws_19_solar.SolarRad_Air_LiCor = ws_19_solar.SolarRad_Air_LiCor.map(str)"
   ],
   "metadata": {
    "collapsed": false
   }
  },
  {
   "cell_type": "code",
   "execution_count": 238,
   "outputs": [
    {
     "data": {
      "text/plain": "0    2019/05/02\n1    2019/05/06\n2    2019/05/06\n3    2019/05/06\n4    2019/05/06\nName: DateTime, dtype: object"
     },
     "execution_count": 238,
     "metadata": {},
     "output_type": "execute_result"
    }
   ],
   "source": [
    "ws_19_solar.DateTime = ws_19_solar.DateTime.map(remove_time).map(lambda x: x.replace('-', '/'))\n",
    "ws_19_solar.DateTime.head()"
   ],
   "metadata": {
    "collapsed": false
   }
  },
  {
   "cell_type": "markdown",
   "source": [
    "## Find mean value of `SolarRad_Air_LiCor` by Date"
   ],
   "metadata": {
    "collapsed": false
   }
  },
  {
   "cell_type": "code",
   "execution_count": 239,
   "outputs": [
    {
     "data": {
      "text/plain": "           SolarRad_Air_LiCor\nDateTime                     \n1/1/2017            73.880391\n1/1/2018             0.027000\n1/10/2017           38.902959\n1/11/2017           84.137819\n1/12/2017           12.829765",
      "text/html": "<div>\n<style scoped>\n    .dataframe tbody tr th:only-of-type {\n        vertical-align: middle;\n    }\n\n    .dataframe tbody tr th {\n        vertical-align: top;\n    }\n\n    .dataframe thead th {\n        text-align: right;\n    }\n</style>\n<table border=\"1\" class=\"dataframe\">\n  <thead>\n    <tr style=\"text-align: right;\">\n      <th></th>\n      <th>SolarRad_Air_LiCor</th>\n    </tr>\n    <tr>\n      <th>DateTime</th>\n      <th></th>\n    </tr>\n  </thead>\n  <tbody>\n    <tr>\n      <th>1/1/2017</th>\n      <td>73.880391</td>\n    </tr>\n    <tr>\n      <th>1/1/2018</th>\n      <td>0.027000</td>\n    </tr>\n    <tr>\n      <th>1/10/2017</th>\n      <td>38.902959</td>\n    </tr>\n    <tr>\n      <th>1/11/2017</th>\n      <td>84.137819</td>\n    </tr>\n    <tr>\n      <th>1/12/2017</th>\n      <td>12.829765</td>\n    </tr>\n  </tbody>\n</table>\n</div>"
     },
     "execution_count": 239,
     "metadata": {},
     "output_type": "execute_result"
    }
   ],
   "source": [
    "ws_17_solar_mean = ws_17_solar.groupby('DateTime')[['SolarRad_Air_LiCor']].mean()\n",
    "ws_17_solar_mean.head()"
   ],
   "metadata": {
    "collapsed": false
   }
  },
  {
   "cell_type": "code",
   "execution_count": 240,
   "outputs": [
    {
     "name": "stderr",
     "output_type": "stream",
     "text": [
      "/home/achara/achara_env/lib/python3.6/site-packages/pandas/core/generic.py:5170: SettingWithCopyWarning: \n",
      "A value is trying to be set on a copy of a slice from a DataFrame.\n",
      "Try using .loc[row_indexer,col_indexer] = value instead\n",
      "\n",
      "See the caveats in the documentation: https://pandas.pydata.org/pandas-docs/stable/user_guide/indexing.html#returning-a-view-versus-a-copy\n",
      "  self[name] = value\n"
     ]
    }
   ],
   "source": [
    "# the SolarRad value is not in numeric type so converting it to `float`.\n",
    "ws_18_solar.SolarRad_Air_LiCor = ws_18_solar.SolarRad_Air_LiCor.map(float)"
   ],
   "metadata": {
    "collapsed": false
   }
  },
  {
   "cell_type": "code",
   "execution_count": 241,
   "outputs": [
    {
     "data": {
      "text/plain": "            SolarRad_Air_LiCor\nDateTime                      \n2018/01/01           82.381979\n2018/01/02           61.856708\n2018/01/03           82.698771\n2018/01/04           13.060729\n2018/01/05           78.017896",
      "text/html": "<div>\n<style scoped>\n    .dataframe tbody tr th:only-of-type {\n        vertical-align: middle;\n    }\n\n    .dataframe tbody tr th {\n        vertical-align: top;\n    }\n\n    .dataframe thead th {\n        text-align: right;\n    }\n</style>\n<table border=\"1\" class=\"dataframe\">\n  <thead>\n    <tr style=\"text-align: right;\">\n      <th></th>\n      <th>SolarRad_Air_LiCor</th>\n    </tr>\n    <tr>\n      <th>DateTime</th>\n      <th></th>\n    </tr>\n  </thead>\n  <tbody>\n    <tr>\n      <th>2018/01/01</th>\n      <td>82.381979</td>\n    </tr>\n    <tr>\n      <th>2018/01/02</th>\n      <td>61.856708</td>\n    </tr>\n    <tr>\n      <th>2018/01/03</th>\n      <td>82.698771</td>\n    </tr>\n    <tr>\n      <th>2018/01/04</th>\n      <td>13.060729</td>\n    </tr>\n    <tr>\n      <th>2018/01/05</th>\n      <td>78.017896</td>\n    </tr>\n  </tbody>\n</table>\n</div>"
     },
     "execution_count": 241,
     "metadata": {},
     "output_type": "execute_result"
    }
   ],
   "source": [
    "ws_18_solar_mean = ws_18_solar.groupby('DateTime')[['SolarRad_Air_LiCor']].mean()\n",
    "ws_18_solar_mean.head()"
   ],
   "metadata": {
    "collapsed": false
   }
  },
  {
   "cell_type": "code",
   "execution_count": 242,
   "outputs": [
    {
     "name": "stderr",
     "output_type": "stream",
     "text": [
      "/home/achara/achara_env/lib/python3.6/site-packages/pandas/core/generic.py:5170: SettingWithCopyWarning: \n",
      "A value is trying to be set on a copy of a slice from a DataFrame.\n",
      "Try using .loc[row_indexer,col_indexer] = value instead\n",
      "\n",
      "See the caveats in the documentation: https://pandas.pydata.org/pandas-docs/stable/user_guide/indexing.html#returning-a-view-versus-a-copy\n",
      "  self[name] = value\n"
     ]
    },
    {
     "data": {
      "text/plain": "            SolarRad_Air_LiCor\nDateTime                      \n2019/01/01           26.097083\n2019/01/02           74.238333\n2019/01/03           57.927250\n2019/01/04           90.278333\n2019/01/05           49.078000",
      "text/html": "<div>\n<style scoped>\n    .dataframe tbody tr th:only-of-type {\n        vertical-align: middle;\n    }\n\n    .dataframe tbody tr th {\n        vertical-align: top;\n    }\n\n    .dataframe thead th {\n        text-align: right;\n    }\n</style>\n<table border=\"1\" class=\"dataframe\">\n  <thead>\n    <tr style=\"text-align: right;\">\n      <th></th>\n      <th>SolarRad_Air_LiCor</th>\n    </tr>\n    <tr>\n      <th>DateTime</th>\n      <th></th>\n    </tr>\n  </thead>\n  <tbody>\n    <tr>\n      <th>2019/01/01</th>\n      <td>26.097083</td>\n    </tr>\n    <tr>\n      <th>2019/01/02</th>\n      <td>74.238333</td>\n    </tr>\n    <tr>\n      <th>2019/01/03</th>\n      <td>57.927250</td>\n    </tr>\n    <tr>\n      <th>2019/01/04</th>\n      <td>90.278333</td>\n    </tr>\n    <tr>\n      <th>2019/01/05</th>\n      <td>49.078000</td>\n    </tr>\n  </tbody>\n</table>\n</div>"
     },
     "execution_count": 242,
     "metadata": {},
     "output_type": "execute_result"
    }
   ],
   "source": [
    "ws_19_solar.SolarRad_Air_LiCor = ws_19_solar.SolarRad_Air_LiCor.map(float)\n",
    "ws_19_solar_mean = ws_19_solar.groupby('DateTime')[['SolarRad_Air_LiCor']].mean()\n",
    "ws_19_solar_mean.head()"
   ],
   "metadata": {
    "collapsed": false
   }
  },
  {
   "cell_type": "code",
   "execution_count": 243,
   "outputs": [
    {
     "data": {
      "text/plain": "10092"
     },
     "execution_count": 243,
     "metadata": {},
     "output_type": "execute_result"
    }
   ],
   "source": [
    "len(ws_17_solar[ws_17_solar.SolarRad_Air_LiCor.isna()])"
   ],
   "metadata": {
    "collapsed": false
   }
  },
  {
   "cell_type": "code",
   "execution_count": 244,
   "outputs": [
    {
     "data": {
      "text/plain": "22847"
     },
     "execution_count": 244,
     "metadata": {},
     "output_type": "execute_result"
    }
   ],
   "source": [
    "len(ws_18_solar[ws_18_solar.SolarRad_Air_LiCor.isna()])"
   ],
   "metadata": {
    "collapsed": false
   }
  },
  {
   "cell_type": "code",
   "execution_count": 245,
   "outputs": [
    {
     "data": {
      "text/plain": "26411"
     },
     "execution_count": 245,
     "metadata": {},
     "output_type": "execute_result"
    }
   ],
   "source": [
    "len(ws_19_solar[ws_19_solar.SolarRad_Air_LiCor.isna()])"
   ],
   "metadata": {
    "collapsed": false
   }
  },
  {
   "cell_type": "markdown",
   "source": [
    "## Need to replace the `NA` values by the mean of `SolarRad_Air_LiCor` when matched with `DateTime`"
   ],
   "metadata": {
    "collapsed": false
   }
  },
  {
   "cell_type": "code",
   "execution_count": 246,
   "outputs": [
    {
     "name": "stderr",
     "output_type": "stream",
     "text": [
      "/home/achara/achara_env/lib/python3.6/site-packages/ipykernel_launcher.py:2: SettingWithCopyWarning: \n",
      "A value is trying to be set on a copy of a slice from a DataFrame.\n",
      "Try using .loc[row_indexer,col_indexer] = value instead\n",
      "\n",
      "See the caveats in the documentation: https://pandas.pydata.org/pandas-docs/stable/user_guide/indexing.html#returning-a-view-versus-a-copy\n",
      "  \n"
     ]
    }
   ],
   "source": [
    "ws_17_solar['SolarRad_Air_LiCor'] = ws_17_solar['SolarRad_Air_LiCor'].fillna(\n",
    "    ws_17_solar.DateTime.map(lambda date: ws_17_solar_mean.at[str(date), 'SolarRad_Air_LiCor']))"
   ],
   "metadata": {
    "collapsed": false
   }
  },
  {
   "cell_type": "code",
   "execution_count": 247,
   "outputs": [
    {
     "name": "stderr",
     "output_type": "stream",
     "text": [
      "/home/achara/achara_env/lib/python3.6/site-packages/pandas/core/series.py:4536: SettingWithCopyWarning: \n",
      "A value is trying to be set on a copy of a slice from a DataFrame\n",
      "\n",
      "See the caveats in the documentation: https://pandas.pydata.org/pandas-docs/stable/user_guide/indexing.html#returning-a-view-versus-a-copy\n",
      "  downcast=downcast,\n"
     ]
    }
   ],
   "source": [
    "'''\n",
    "There still can be DateTime values for which all SolarRad_Air_LiCor values were NA because of which NA values will still persist for these DateTime values.\n",
    "I will replace these NA values with the overall mean.\n",
    "'''\n",
    "\n",
    "ws_17_solar.SolarRad_Air_LiCor.fillna(ws_17_solar.SolarRad_Air_LiCor.mean(), inplace=True)"
   ],
   "metadata": {
    "collapsed": false
   }
  },
  {
   "cell_type": "code",
   "execution_count": 248,
   "outputs": [
    {
     "name": "stderr",
     "output_type": "stream",
     "text": [
      "/home/achara/achara_env/lib/python3.6/site-packages/ipykernel_launcher.py:2: SettingWithCopyWarning: \n",
      "A value is trying to be set on a copy of a slice from a DataFrame.\n",
      "Try using .loc[row_indexer,col_indexer] = value instead\n",
      "\n",
      "See the caveats in the documentation: https://pandas.pydata.org/pandas-docs/stable/user_guide/indexing.html#returning-a-view-versus-a-copy\n",
      "  \n"
     ]
    }
   ],
   "source": [
    "ws_18_solar['SolarRad_Air_LiCor'] = ws_18_solar['SolarRad_Air_LiCor'].fillna(\n",
    "    ws_18_solar.DateTime.map(lambda date: ws_18_solar_mean.at[str(date), 'SolarRad_Air_LiCor']))"
   ],
   "metadata": {
    "collapsed": false
   }
  },
  {
   "cell_type": "code",
   "execution_count": 249,
   "outputs": [
    {
     "name": "stderr",
     "output_type": "stream",
     "text": [
      "/home/achara/achara_env/lib/python3.6/site-packages/ipykernel_launcher.py:2: SettingWithCopyWarning: \n",
      "A value is trying to be set on a copy of a slice from a DataFrame.\n",
      "Try using .loc[row_indexer,col_indexer] = value instead\n",
      "\n",
      "See the caveats in the documentation: https://pandas.pydata.org/pandas-docs/stable/user_guide/indexing.html#returning-a-view-versus-a-copy\n",
      "  \n"
     ]
    }
   ],
   "source": [
    "ws_19_solar['SolarRad_Air_LiCor'] = ws_19_solar['SolarRad_Air_LiCor'].fillna(\n",
    "    ws_19_solar.DateTime.map(lambda date: ws_19_solar_mean.at[str(date), 'SolarRad_Air_LiCor']))"
   ],
   "metadata": {
    "collapsed": false
   }
  },
  {
   "cell_type": "code",
   "execution_count": 250,
   "outputs": [
    {
     "data": {
      "text/plain": "96"
     },
     "execution_count": 250,
     "metadata": {},
     "output_type": "execute_result"
    }
   ],
   "source": [
    "len(ws_19_solar[ws_19_solar.SolarRad_Air_LiCor.isna()])"
   ],
   "metadata": {
    "collapsed": false
   }
  },
  {
   "cell_type": "code",
   "execution_count": 251,
   "outputs": [],
   "source": [
    "ws_19_solar.SolarRad_Air_LiCor.fillna(ws_19_solar.SolarRad_Air_LiCor.mean(), inplace=True)"
   ],
   "metadata": {
    "collapsed": false
   }
  },
  {
   "cell_type": "markdown",
   "source": [
    "## Split DateTime into Day, Month & Year for combining other data sets"
   ],
   "metadata": {
    "collapsed": false
   }
  },
  {
   "cell_type": "code",
   "execution_count": 252,
   "outputs": [],
   "source": [
    "def get_part(idx:int, date: str) -> str:\n",
    "    return date.split('/')[idx]\n",
    "\n",
    "#\n",
    "# def get_day(date: str) -> str:\n",
    "#     return date.split('/')[1]\n",
    "#\n",
    "#\n",
    "# def get_year(date: str) -> str:\n",
    "#     return date.split('/')[2]"
   ],
   "metadata": {
    "collapsed": false
   }
  },
  {
   "cell_type": "code",
   "execution_count": 253,
   "outputs": [
    {
     "name": "stderr",
     "output_type": "stream",
     "text": [
      "/home/achara/achara_env/lib/python3.6/site-packages/ipykernel_launcher.py:1: SettingWithCopyWarning: \n",
      "A value is trying to be set on a copy of a slice from a DataFrame.\n",
      "Try using .loc[row_indexer,col_indexer] = value instead\n",
      "\n",
      "See the caveats in the documentation: https://pandas.pydata.org/pandas-docs/stable/user_guide/indexing.html#returning-a-view-versus-a-copy\n",
      "  \"\"\"Entry point for launching an IPython kernel.\n",
      "/home/achara/achara_env/lib/python3.6/site-packages/ipykernel_launcher.py:2: SettingWithCopyWarning: \n",
      "A value is trying to be set on a copy of a slice from a DataFrame.\n",
      "Try using .loc[row_indexer,col_indexer] = value instead\n",
      "\n",
      "See the caveats in the documentation: https://pandas.pydata.org/pandas-docs/stable/user_guide/indexing.html#returning-a-view-versus-a-copy\n",
      "  \n",
      "/home/achara/achara_env/lib/python3.6/site-packages/ipykernel_launcher.py:3: SettingWithCopyWarning: \n",
      "A value is trying to be set on a copy of a slice from a DataFrame.\n",
      "Try using .loc[row_indexer,col_indexer] = value instead\n",
      "\n",
      "See the caveats in the documentation: https://pandas.pydata.org/pandas-docs/stable/user_guide/indexing.html#returning-a-view-versus-a-copy\n",
      "  This is separate from the ipykernel package so we can avoid doing imports until\n"
     ]
    }
   ],
   "source": [
    "ws_17_solar['month'] = ws_17_solar.DateTime.map(partial(get_part, 0))\n",
    "ws_17_solar['day'] = ws_17_solar.DateTime.map(partial(get_part, 1))\n",
    "ws_17_solar['year'] = ws_17_solar.DateTime.map(partial(get_part, 2))"
   ],
   "metadata": {
    "collapsed": false
   }
  },
  {
   "cell_type": "code",
   "execution_count": 254,
   "outputs": [
    {
     "data": {
      "text/plain": "   DateTime  SolarRad_Air_LiCor month day  year\n0  1/1/2017                 0.0     1   1  2017\n1  1/1/2017                 0.0     1   1  2017\n2  1/1/2017                 0.0     1   1  2017\n3  1/1/2017                 0.0     1   1  2017\n4  1/1/2017                 0.0     1   1  2017",
      "text/html": "<div>\n<style scoped>\n    .dataframe tbody tr th:only-of-type {\n        vertical-align: middle;\n    }\n\n    .dataframe tbody tr th {\n        vertical-align: top;\n    }\n\n    .dataframe thead th {\n        text-align: right;\n    }\n</style>\n<table border=\"1\" class=\"dataframe\">\n  <thead>\n    <tr style=\"text-align: right;\">\n      <th></th>\n      <th>DateTime</th>\n      <th>SolarRad_Air_LiCor</th>\n      <th>month</th>\n      <th>day</th>\n      <th>year</th>\n    </tr>\n  </thead>\n  <tbody>\n    <tr>\n      <th>0</th>\n      <td>1/1/2017</td>\n      <td>0.0</td>\n      <td>1</td>\n      <td>1</td>\n      <td>2017</td>\n    </tr>\n    <tr>\n      <th>1</th>\n      <td>1/1/2017</td>\n      <td>0.0</td>\n      <td>1</td>\n      <td>1</td>\n      <td>2017</td>\n    </tr>\n    <tr>\n      <th>2</th>\n      <td>1/1/2017</td>\n      <td>0.0</td>\n      <td>1</td>\n      <td>1</td>\n      <td>2017</td>\n    </tr>\n    <tr>\n      <th>3</th>\n      <td>1/1/2017</td>\n      <td>0.0</td>\n      <td>1</td>\n      <td>1</td>\n      <td>2017</td>\n    </tr>\n    <tr>\n      <th>4</th>\n      <td>1/1/2017</td>\n      <td>0.0</td>\n      <td>1</td>\n      <td>1</td>\n      <td>2017</td>\n    </tr>\n  </tbody>\n</table>\n</div>"
     },
     "execution_count": 254,
     "metadata": {},
     "output_type": "execute_result"
    }
   ],
   "source": [
    "ws_17_solar.head()"
   ],
   "metadata": {
    "collapsed": false
   }
  },
  {
   "cell_type": "code",
   "execution_count": 255,
   "outputs": [],
   "source": [
    "ws_17_solar = ws_17_solar.drop(columns=['DateTime'])"
   ],
   "metadata": {
    "collapsed": false
   }
  },
  {
   "cell_type": "code",
   "execution_count": 256,
   "outputs": [
    {
     "name": "stderr",
     "output_type": "stream",
     "text": [
      "/home/achara/achara_env/lib/python3.6/site-packages/ipykernel_launcher.py:1: SettingWithCopyWarning: \n",
      "A value is trying to be set on a copy of a slice from a DataFrame.\n",
      "Try using .loc[row_indexer,col_indexer] = value instead\n",
      "\n",
      "See the caveats in the documentation: https://pandas.pydata.org/pandas-docs/stable/user_guide/indexing.html#returning-a-view-versus-a-copy\n",
      "  \"\"\"Entry point for launching an IPython kernel.\n",
      "/home/achara/achara_env/lib/python3.6/site-packages/ipykernel_launcher.py:2: SettingWithCopyWarning: \n",
      "A value is trying to be set on a copy of a slice from a DataFrame.\n",
      "Try using .loc[row_indexer,col_indexer] = value instead\n",
      "\n",
      "See the caveats in the documentation: https://pandas.pydata.org/pandas-docs/stable/user_guide/indexing.html#returning-a-view-versus-a-copy\n",
      "  \n",
      "/home/achara/achara_env/lib/python3.6/site-packages/ipykernel_launcher.py:3: SettingWithCopyWarning: \n",
      "A value is trying to be set on a copy of a slice from a DataFrame.\n",
      "Try using .loc[row_indexer,col_indexer] = value instead\n",
      "\n",
      "See the caveats in the documentation: https://pandas.pydata.org/pandas-docs/stable/user_guide/indexing.html#returning-a-view-versus-a-copy\n",
      "  This is separate from the ipykernel package so we can avoid doing imports until\n"
     ]
    },
    {
     "data": {
      "text/plain": "     DateTime  SolarRad_Air_LiCor month day  year\n0  2018/05/09              12.027    05  09  2018\n1  2018/05/10               0.651    05  10  2018\n2  2018/05/10               0.001    05  10  2018\n3  2018/05/10               0.000    05  10  2018\n4  2018/05/10               0.000    05  10  2018",
      "text/html": "<div>\n<style scoped>\n    .dataframe tbody tr th:only-of-type {\n        vertical-align: middle;\n    }\n\n    .dataframe tbody tr th {\n        vertical-align: top;\n    }\n\n    .dataframe thead th {\n        text-align: right;\n    }\n</style>\n<table border=\"1\" class=\"dataframe\">\n  <thead>\n    <tr style=\"text-align: right;\">\n      <th></th>\n      <th>DateTime</th>\n      <th>SolarRad_Air_LiCor</th>\n      <th>month</th>\n      <th>day</th>\n      <th>year</th>\n    </tr>\n  </thead>\n  <tbody>\n    <tr>\n      <th>0</th>\n      <td>2018/05/09</td>\n      <td>12.027</td>\n      <td>05</td>\n      <td>09</td>\n      <td>2018</td>\n    </tr>\n    <tr>\n      <th>1</th>\n      <td>2018/05/10</td>\n      <td>0.651</td>\n      <td>05</td>\n      <td>10</td>\n      <td>2018</td>\n    </tr>\n    <tr>\n      <th>2</th>\n      <td>2018/05/10</td>\n      <td>0.001</td>\n      <td>05</td>\n      <td>10</td>\n      <td>2018</td>\n    </tr>\n    <tr>\n      <th>3</th>\n      <td>2018/05/10</td>\n      <td>0.000</td>\n      <td>05</td>\n      <td>10</td>\n      <td>2018</td>\n    </tr>\n    <tr>\n      <th>4</th>\n      <td>2018/05/10</td>\n      <td>0.000</td>\n      <td>05</td>\n      <td>10</td>\n      <td>2018</td>\n    </tr>\n  </tbody>\n</table>\n</div>"
     },
     "execution_count": 256,
     "metadata": {},
     "output_type": "execute_result"
    }
   ],
   "source": [
    "ws_18_solar['month'] = ws_18_solar.DateTime.map(partial(get_part, 1))\n",
    "ws_18_solar['day'] = ws_18_solar.DateTime.map(partial(get_part, 2))\n",
    "ws_18_solar['year'] = ws_18_solar.DateTime.map(partial(get_part, 0))\n",
    "\n",
    "ws_18_solar.head()"
   ],
   "metadata": {
    "collapsed": false
   }
  },
  {
   "cell_type": "code",
   "execution_count": 257,
   "outputs": [],
   "source": [
    "ws_18_solar = ws_18_solar.drop(columns=['DateTime'])"
   ],
   "metadata": {
    "collapsed": false
   }
  },
  {
   "cell_type": "code",
   "execution_count": 258,
   "outputs": [
    {
     "name": "stderr",
     "output_type": "stream",
     "text": [
      "/home/achara/achara_env/lib/python3.6/site-packages/ipykernel_launcher.py:1: SettingWithCopyWarning: \n",
      "A value is trying to be set on a copy of a slice from a DataFrame.\n",
      "Try using .loc[row_indexer,col_indexer] = value instead\n",
      "\n",
      "See the caveats in the documentation: https://pandas.pydata.org/pandas-docs/stable/user_guide/indexing.html#returning-a-view-versus-a-copy\n",
      "  \"\"\"Entry point for launching an IPython kernel.\n",
      "/home/achara/achara_env/lib/python3.6/site-packages/ipykernel_launcher.py:2: SettingWithCopyWarning: \n",
      "A value is trying to be set on a copy of a slice from a DataFrame.\n",
      "Try using .loc[row_indexer,col_indexer] = value instead\n",
      "\n",
      "See the caveats in the documentation: https://pandas.pydata.org/pandas-docs/stable/user_guide/indexing.html#returning-a-view-versus-a-copy\n",
      "  \n",
      "/home/achara/achara_env/lib/python3.6/site-packages/ipykernel_launcher.py:3: SettingWithCopyWarning: \n",
      "A value is trying to be set on a copy of a slice from a DataFrame.\n",
      "Try using .loc[row_indexer,col_indexer] = value instead\n",
      "\n",
      "See the caveats in the documentation: https://pandas.pydata.org/pandas-docs/stable/user_guide/indexing.html#returning-a-view-versus-a-copy\n",
      "  This is separate from the ipykernel package so we can avoid doing imports until\n"
     ]
    },
    {
     "data": {
      "text/plain": "     DateTime  SolarRad_Air_LiCor month day  year\n0  2019/05/02           47.438042    05  02  2019\n1  2019/05/06          250.057375    05  06  2019\n2  2019/05/06          250.057375    05  06  2019\n3  2019/05/06          250.057375    05  06  2019\n4  2019/05/06          250.057375    05  06  2019",
      "text/html": "<div>\n<style scoped>\n    .dataframe tbody tr th:only-of-type {\n        vertical-align: middle;\n    }\n\n    .dataframe tbody tr th {\n        vertical-align: top;\n    }\n\n    .dataframe thead th {\n        text-align: right;\n    }\n</style>\n<table border=\"1\" class=\"dataframe\">\n  <thead>\n    <tr style=\"text-align: right;\">\n      <th></th>\n      <th>DateTime</th>\n      <th>SolarRad_Air_LiCor</th>\n      <th>month</th>\n      <th>day</th>\n      <th>year</th>\n    </tr>\n  </thead>\n  <tbody>\n    <tr>\n      <th>0</th>\n      <td>2019/05/02</td>\n      <td>47.438042</td>\n      <td>05</td>\n      <td>02</td>\n      <td>2019</td>\n    </tr>\n    <tr>\n      <th>1</th>\n      <td>2019/05/06</td>\n      <td>250.057375</td>\n      <td>05</td>\n      <td>06</td>\n      <td>2019</td>\n    </tr>\n    <tr>\n      <th>2</th>\n      <td>2019/05/06</td>\n      <td>250.057375</td>\n      <td>05</td>\n      <td>06</td>\n      <td>2019</td>\n    </tr>\n    <tr>\n      <th>3</th>\n      <td>2019/05/06</td>\n      <td>250.057375</td>\n      <td>05</td>\n      <td>06</td>\n      <td>2019</td>\n    </tr>\n    <tr>\n      <th>4</th>\n      <td>2019/05/06</td>\n      <td>250.057375</td>\n      <td>05</td>\n      <td>06</td>\n      <td>2019</td>\n    </tr>\n  </tbody>\n</table>\n</div>"
     },
     "execution_count": 258,
     "metadata": {},
     "output_type": "execute_result"
    }
   ],
   "source": [
    "ws_19_solar['month'] = ws_19_solar.DateTime.map(partial(get_part, 1))\n",
    "ws_19_solar['day'] = ws_19_solar.DateTime.map(partial(get_part, 2))\n",
    "ws_19_solar['year'] = ws_19_solar.DateTime.map(partial(get_part, 0))\n",
    "\n",
    "ws_19_solar.head()"
   ],
   "metadata": {
    "collapsed": false
   }
  },
  {
   "cell_type": "code",
   "execution_count": 259,
   "outputs": [],
   "source": [
    "ws_19_solar = ws_19_solar.drop(columns=['DateTime'])"
   ],
   "metadata": {
    "collapsed": false
   }
  },
  {
   "cell_type": "code",
   "execution_count": 260,
   "outputs": [],
   "source": [
    "ws_17_18_solar = ws_17_solar.append(ws_18_solar)"
   ],
   "metadata": {
    "collapsed": false
   }
  },
  {
   "cell_type": "code",
   "execution_count": 261,
   "outputs": [],
   "source": [
    "ws_17_to_19_solar = ws_17_18_solar.append(ws_19_solar)"
   ],
   "metadata": {
    "collapsed": false
   }
  },
  {
   "cell_type": "code",
   "execution_count": 262,
   "outputs": [
    {
     "data": {
      "text/plain": "   SolarRad_Air_LiCor month day  year\n0                 0.0     1   1  2017\n1                 0.0     1   1  2017\n2                 0.0     1   1  2017\n3                 0.0     1   1  2017\n4                 0.0     1   1  2017",
      "text/html": "<div>\n<style scoped>\n    .dataframe tbody tr th:only-of-type {\n        vertical-align: middle;\n    }\n\n    .dataframe tbody tr th {\n        vertical-align: top;\n    }\n\n    .dataframe thead th {\n        text-align: right;\n    }\n</style>\n<table border=\"1\" class=\"dataframe\">\n  <thead>\n    <tr style=\"text-align: right;\">\n      <th></th>\n      <th>SolarRad_Air_LiCor</th>\n      <th>month</th>\n      <th>day</th>\n      <th>year</th>\n    </tr>\n  </thead>\n  <tbody>\n    <tr>\n      <th>0</th>\n      <td>0.0</td>\n      <td>1</td>\n      <td>1</td>\n      <td>2017</td>\n    </tr>\n    <tr>\n      <th>1</th>\n      <td>0.0</td>\n      <td>1</td>\n      <td>1</td>\n      <td>2017</td>\n    </tr>\n    <tr>\n      <th>2</th>\n      <td>0.0</td>\n      <td>1</td>\n      <td>1</td>\n      <td>2017</td>\n    </tr>\n    <tr>\n      <th>3</th>\n      <td>0.0</td>\n      <td>1</td>\n      <td>1</td>\n      <td>2017</td>\n    </tr>\n    <tr>\n      <th>4</th>\n      <td>0.0</td>\n      <td>1</td>\n      <td>1</td>\n      <td>2017</td>\n    </tr>\n  </tbody>\n</table>\n</div>"
     },
     "execution_count": 262,
     "metadata": {},
     "output_type": "execute_result"
    }
   ],
   "source": [
    "ws_17_to_19_solar.head()"
   ],
   "metadata": {
    "collapsed": false
   }
  },
  {
   "cell_type": "code",
   "execution_count": 264,
   "outputs": [],
   "source": [
    "ws_17_to_19_solar.to_csv(data_path + '/WS_2017_to_2019_SolarRad.csv', index=False)"
   ],
   "metadata": {
    "collapsed": false
   }
  },
  {
   "cell_type": "code",
   "execution_count": null,
   "outputs": [],
   "source": [],
   "metadata": {
    "collapsed": false
   }
  }
 ],
 "metadata": {
  "kernelspec": {
   "display_name": "Python 3",
   "language": "python",
   "name": "python3"
  },
  "language_info": {
   "codemirror_mode": {
    "name": "ipython",
    "version": 2
   },
   "file_extension": ".py",
   "mimetype": "text/x-python",
   "name": "python",
   "nbconvert_exporter": "python",
   "pygments_lexer": "ipython2",
   "version": "2.7.6"
  }
 },
 "nbformat": 4,
 "nbformat_minor": 0
}
