{
 "cells": [
  {
   "cell_type": "code",
   "execution_count": 93,
   "metadata": {
    "collapsed": true
   },
   "outputs": [],
   "source": [
    "import matplotlib.pyplot as plt\n",
    "import pandas as pd\n",
    "import seaborn as sns"
   ]
  },
  {
   "cell_type": "code",
   "execution_count": 94,
   "outputs": [],
   "source": [
    "pd.set_option(\"max_rows\", 25)"
   ],
   "metadata": {
    "collapsed": false
   }
  },
  {
   "cell_type": "code",
   "execution_count": 95,
   "outputs": [],
   "source": [
    "# Apply the default theme\n",
    "sns.set_theme()\n",
    "sns.set_style(\"whitegrid\")"
   ],
   "metadata": {
    "collapsed": false
   }
  },
  {
   "cell_type": "code",
   "execution_count": 96,
   "outputs": [],
   "source": [
    "data_path = '/home/achara/data/achara/'\n",
    "df = pd.read_csv(data_path + 'final_vp_data_2017_to_2019.csv')"
   ],
   "metadata": {
    "collapsed": false
   }
  },
  {
   "cell_type": "code",
   "execution_count": 97,
   "outputs": [
    {
     "data": {
      "text/plain": "Index(['DateTime', 'SensorDepth_Water_EXO', 'PC_Water_EXO', 'Chla_Water_EXO',\n       'DO_Water_EXO', 'DO-Sat_Water_EXO', 'SpCond_Water_EXO',\n       'Temperature_Water_EXO', 'pH_Water_EXO', 'rel_fl', 'month', 'day',\n       'year', 'SolarRad_Air_LiCor', 'TP', 'TSP', 'SRP', 'TN', 'NO3', 'NH4',\n       'PP'],\n      dtype='object')"
     },
     "execution_count": 97,
     "metadata": {},
     "output_type": "execute_result"
    }
   ],
   "source": [
    "df.columns"
   ],
   "metadata": {
    "collapsed": false
   }
  },
  {
   "cell_type": "code",
   "execution_count": 97,
   "outputs": [],
   "source": [],
   "metadata": {
    "collapsed": false
   }
  },
  {
   "cell_type": "markdown",
   "source": [
    "## Feature scaling"
   ],
   "metadata": {
    "collapsed": false
   }
  },
  {
   "cell_type": "code",
   "execution_count": 98,
   "outputs": [],
   "source": [
    "from sklearn.preprocessing import MinMaxScaler"
   ],
   "metadata": {
    "collapsed": false
   }
  },
  {
   "cell_type": "code",
   "execution_count": 99,
   "outputs": [],
   "source": [
    "ms = MinMaxScaler()"
   ],
   "metadata": {
    "collapsed": false
   }
  },
  {
   "cell_type": "code",
   "execution_count": 100,
   "outputs": [],
   "source": [
    "cols = ['SensorDepth_Water_EXO','PC_Water_EXO', 'Chla_Water_EXO',\n",
    "       'DO_Water_EXO', 'DO-Sat_Water_EXO', 'SpCond_Water_EXO',\n",
    "       'Temperature_Water_EXO', 'pH_Water_EXO', 'rel_fl', 'SolarRad_Air_LiCor', 'TP', 'TSP', 'SRP', 'TN', 'NO3', 'NH4',\n",
    "       'PP']"
   ],
   "metadata": {
    "collapsed": false
   }
  },
  {
   "cell_type": "code",
   "execution_count": 101,
   "outputs": [],
   "source": [
    "X=df[cols]\n",
    "\n",
    "Y=df[['PC_Water_EXO']]"
   ],
   "metadata": {
    "collapsed": false
   }
  },
  {
   "cell_type": "code",
   "execution_count": 102,
   "outputs": [],
   "source": [
    "X = ms.fit_transform(X)\n",
    "X = pd.DataFrame(X, columns=[cols])"
   ],
   "metadata": {
    "collapsed": false
   }
  },
  {
   "cell_type": "code",
   "execution_count": 103,
   "outputs": [
    {
     "data": {
      "text/plain": "  SensorDepth_Water_EXO PC_Water_EXO Chla_Water_EXO DO_Water_EXO  \\\n0              0.017306     0.165341       0.029115     0.606145   \n1              0.017695     0.162867       0.040962     0.607076   \n2              0.018084     0.148021       0.059983     0.605214   \n3              0.018473     0.167816       0.066091     0.605214   \n4              0.018862     0.150495       0.057054     0.604283   \n\n  DO-Sat_Water_EXO SpCond_Water_EXO Temperature_Water_EXO pH_Water_EXO  \\\n0         0.748075         0.113477              0.717584     0.803487   \n1         0.749657         0.113021              0.717880     0.812303   \n2         0.744468         0.110547              0.710480     0.808533   \n3         0.747885         0.112891              0.718917     0.818426   \n4         0.746936         0.112305              0.719361     0.810754   \n\n     rel_fl SolarRad_Air_LiCor        TP  TSP  SRP        TN      NO3  \\\n0  0.146619           0.389108  0.600322  1.0  1.0  0.648905  0.19007   \n1  0.143080           0.389108  0.600322  1.0  1.0  0.648905  0.19007   \n2  0.139541           0.389108  0.600322  1.0  1.0  0.648905  0.19007   \n3  0.136002           0.389108  0.600322  1.0  1.0  0.648905  0.19007   \n4  0.137772           0.389108  0.600322  1.0  1.0  0.648905  0.19007   \n\n            NH4        PP  \n0  1.665335e-16  0.478222  \n1  1.665335e-16  0.478222  \n2  1.665335e-16  0.478222  \n3  1.665335e-16  0.478222  \n4  1.665335e-16  0.478222  ",
      "text/html": "<div>\n<style scoped>\n    .dataframe tbody tr th:only-of-type {\n        vertical-align: middle;\n    }\n\n    .dataframe tbody tr th {\n        vertical-align: top;\n    }\n\n    .dataframe thead tr th {\n        text-align: left;\n    }\n</style>\n<table border=\"1\" class=\"dataframe\">\n  <thead>\n    <tr>\n      <th></th>\n      <th>SensorDepth_Water_EXO</th>\n      <th>PC_Water_EXO</th>\n      <th>Chla_Water_EXO</th>\n      <th>DO_Water_EXO</th>\n      <th>DO-Sat_Water_EXO</th>\n      <th>SpCond_Water_EXO</th>\n      <th>Temperature_Water_EXO</th>\n      <th>pH_Water_EXO</th>\n      <th>rel_fl</th>\n      <th>SolarRad_Air_LiCor</th>\n      <th>TP</th>\n      <th>TSP</th>\n      <th>SRP</th>\n      <th>TN</th>\n      <th>NO3</th>\n      <th>NH4</th>\n      <th>PP</th>\n    </tr>\n  </thead>\n  <tbody>\n    <tr>\n      <th>0</th>\n      <td>0.017306</td>\n      <td>0.165341</td>\n      <td>0.029115</td>\n      <td>0.606145</td>\n      <td>0.748075</td>\n      <td>0.113477</td>\n      <td>0.717584</td>\n      <td>0.803487</td>\n      <td>0.146619</td>\n      <td>0.389108</td>\n      <td>0.600322</td>\n      <td>1.0</td>\n      <td>1.0</td>\n      <td>0.648905</td>\n      <td>0.19007</td>\n      <td>1.665335e-16</td>\n      <td>0.478222</td>\n    </tr>\n    <tr>\n      <th>1</th>\n      <td>0.017695</td>\n      <td>0.162867</td>\n      <td>0.040962</td>\n      <td>0.607076</td>\n      <td>0.749657</td>\n      <td>0.113021</td>\n      <td>0.717880</td>\n      <td>0.812303</td>\n      <td>0.143080</td>\n      <td>0.389108</td>\n      <td>0.600322</td>\n      <td>1.0</td>\n      <td>1.0</td>\n      <td>0.648905</td>\n      <td>0.19007</td>\n      <td>1.665335e-16</td>\n      <td>0.478222</td>\n    </tr>\n    <tr>\n      <th>2</th>\n      <td>0.018084</td>\n      <td>0.148021</td>\n      <td>0.059983</td>\n      <td>0.605214</td>\n      <td>0.744468</td>\n      <td>0.110547</td>\n      <td>0.710480</td>\n      <td>0.808533</td>\n      <td>0.139541</td>\n      <td>0.389108</td>\n      <td>0.600322</td>\n      <td>1.0</td>\n      <td>1.0</td>\n      <td>0.648905</td>\n      <td>0.19007</td>\n      <td>1.665335e-16</td>\n      <td>0.478222</td>\n    </tr>\n    <tr>\n      <th>3</th>\n      <td>0.018473</td>\n      <td>0.167816</td>\n      <td>0.066091</td>\n      <td>0.605214</td>\n      <td>0.747885</td>\n      <td>0.112891</td>\n      <td>0.718917</td>\n      <td>0.818426</td>\n      <td>0.136002</td>\n      <td>0.389108</td>\n      <td>0.600322</td>\n      <td>1.0</td>\n      <td>1.0</td>\n      <td>0.648905</td>\n      <td>0.19007</td>\n      <td>1.665335e-16</td>\n      <td>0.478222</td>\n    </tr>\n    <tr>\n      <th>4</th>\n      <td>0.018862</td>\n      <td>0.150495</td>\n      <td>0.057054</td>\n      <td>0.604283</td>\n      <td>0.746936</td>\n      <td>0.112305</td>\n      <td>0.719361</td>\n      <td>0.810754</td>\n      <td>0.137772</td>\n      <td>0.389108</td>\n      <td>0.600322</td>\n      <td>1.0</td>\n      <td>1.0</td>\n      <td>0.648905</td>\n      <td>0.19007</td>\n      <td>1.665335e-16</td>\n      <td>0.478222</td>\n    </tr>\n  </tbody>\n</table>\n</div>"
     },
     "execution_count": 103,
     "metadata": {},
     "output_type": "execute_result"
    }
   ],
   "source": [
    "X.head()"
   ],
   "metadata": {
    "collapsed": false
   }
  },
  {
   "cell_type": "markdown",
   "source": [
    "## K-means"
   ],
   "metadata": {
    "collapsed": false
   }
  },
  {
   "cell_type": "code",
   "execution_count": 104,
   "outputs": [],
   "source": [
    "from sklearn.cluster import KMeans"
   ],
   "metadata": {
    "collapsed": false
   }
  },
  {
   "cell_type": "code",
   "execution_count": 105,
   "outputs": [],
   "source": [
    "def cluster(n:int):\n",
    "       kmeans = KMeans(n_clusters=n, random_state=0)\n",
    "       kmeans.fit(X)\n",
    "       y_kmeans = kmeans.predict(X)\n",
    "       inertia = kmeans.inertia_\n",
    "       return y_kmeans, inertia"
   ],
   "metadata": {
    "collapsed": false
   }
  },
  {
   "cell_type": "code",
   "execution_count": 112,
   "outputs": [],
   "source": [
    "sse = []\n",
    "for k in range(2,10):\n",
    "       y_kmeans, inertia = cluster(k)\n",
    "       sse.append(inertia)"
   ],
   "metadata": {
    "collapsed": false
   }
  },
  {
   "cell_type": "code",
   "execution_count": 113,
   "outputs": [
    {
     "data": {
      "text/plain": "<Figure size 432x288 with 1 Axes>",
      "image/png": "[encoded data removed]"
     },
     "metadata": {},
     "output_type": "display_data"
    }
   ],
   "source": [
    "sns.lineplot(x=range(2,10), y=sse)\n",
    "#plt.plot(range(2,20), sse, scalex=20)\n",
    "plt.show()"
   ],
   "metadata": {
    "collapsed": false
   }
  },
  {
   "cell_type": "markdown",
   "source": [
    "### Conclusion:\n",
    "\n",
    "The optimal number of clusters is 4"
   ],
   "metadata": {
    "collapsed": false
   }
  },
  {
   "cell_type": "code",
   "execution_count": 114,
   "outputs": [
    {
     "data": {
      "text/plain": "KMeans(n_clusters=4, random_state=0)"
     },
     "execution_count": 114,
     "metadata": {},
     "output_type": "execute_result"
    }
   ],
   "source": [
    "kmeans = KMeans(n_clusters=4, random_state=0)\n",
    "kmeans.fit(X)"
   ],
   "metadata": {
    "collapsed": false
   }
  },
  {
   "cell_type": "code",
   "execution_count": 135,
   "outputs": [],
   "source": [
    "centers = pd.DataFrame(kmeans.cluster_centers_, columns=[cols])"
   ],
   "metadata": {
    "collapsed": false
   }
  },
  {
   "cell_type": "code",
   "execution_count": 136,
   "outputs": [
    {
     "data": {
      "text/plain": "  SensorDepth_Water_EXO PC_Water_EXO Chla_Water_EXO DO_Water_EXO  \\\n0              0.138084     0.208040       0.123200     0.682950   \n1              0.445231     0.341620       0.111187     0.802232   \n2              0.416814     0.260621       0.118286     0.644785   \n3              0.562140     0.303799       0.124434     0.730019   \n\n  DO-Sat_Water_EXO SpCond_Water_EXO Temperature_Water_EXO pH_Water_EXO  \\\n0         0.804006         0.198901              0.655377     0.695183   \n1         0.731376         0.158716              0.256477     0.537776   \n2         0.595138         0.151632              0.267598     0.518126   \n3         0.636859         0.140965              0.171271     0.395564   \n\n     rel_fl SolarRad_Air_LiCor        TP       TSP       SRP        TN  \\\n0  0.214238           0.818085  0.173125  0.536830  0.774439  0.666335   \n1  0.394848           0.905527  1.000000  0.521351  0.309222  0.819458   \n2  0.279761           0.230030  0.217131  0.239643  0.271104  0.491878   \n3  0.326388           0.833713  0.156722  0.525697  0.762646  0.657980   \n\n        NO3       NH4        PP  \n0  0.568957  0.059684  0.102935  \n1  0.071383  1.000000  1.000000  \n2  0.330294  0.160259  0.206137  \n3  0.577728  0.058075  0.087281  ",
      "text/html": "<div>\n<style scoped>\n    .dataframe tbody tr th:only-of-type {\n        vertical-align: middle;\n    }\n\n    .dataframe tbody tr th {\n        vertical-align: top;\n    }\n\n    .dataframe thead tr th {\n        text-align: left;\n    }\n</style>\n<table border=\"1\" class=\"dataframe\">\n  <thead>\n    <tr>\n      <th></th>\n      <th>SensorDepth_Water_EXO</th>\n      <th>PC_Water_EXO</th>\n      <th>Chla_Water_EXO</th>\n      <th>DO_Water_EXO</th>\n      <th>DO-Sat_Water_EXO</th>\n      <th>SpCond_Water_EXO</th>\n      <th>Temperature_Water_EXO</th>\n      <th>pH_Water_EXO</th>\n      <th>rel_fl</th>\n      <th>SolarRad_Air_LiCor</th>\n      <th>TP</th>\n      <th>TSP</th>\n      <th>SRP</th>\n      <th>TN</th>\n      <th>NO3</th>\n      <th>NH4</th>\n      <th>PP</th>\n    </tr>\n  </thead>\n  <tbody>\n    <tr>\n      <th>0</th>\n      <td>0.138084</td>\n      <td>0.208040</td>\n      <td>0.123200</td>\n      <td>0.682950</td>\n      <td>0.804006</td>\n      <td>0.198901</td>\n      <td>0.655377</td>\n      <td>0.695183</td>\n      <td>0.214238</td>\n      <td>0.818085</td>\n      <td>0.173125</td>\n      <td>0.536830</td>\n      <td>0.774439</td>\n      <td>0.666335</td>\n      <td>0.568957</td>\n      <td>0.059684</td>\n      <td>0.102935</td>\n    </tr>\n    <tr>\n      <th>1</th>\n      <td>0.445231</td>\n      <td>0.341620</td>\n      <td>0.111187</td>\n      <td>0.802232</td>\n      <td>0.731376</td>\n      <td>0.158716</td>\n      <td>0.256477</td>\n      <td>0.537776</td>\n      <td>0.394848</td>\n      <td>0.905527</td>\n      <td>1.000000</td>\n      <td>0.521351</td>\n      <td>0.309222</td>\n      <td>0.819458</td>\n      <td>0.071383</td>\n      <td>1.000000</td>\n      <td>1.000000</td>\n    </tr>\n    <tr>\n      <th>2</th>\n      <td>0.416814</td>\n      <td>0.260621</td>\n      <td>0.118286</td>\n      <td>0.644785</td>\n      <td>0.595138</td>\n      <td>0.151632</td>\n      <td>0.267598</td>\n      <td>0.518126</td>\n      <td>0.279761</td>\n      <td>0.230030</td>\n      <td>0.217131</td>\n      <td>0.239643</td>\n      <td>0.271104</td>\n      <td>0.491878</td>\n      <td>0.330294</td>\n      <td>0.160259</td>\n      <td>0.206137</td>\n    </tr>\n    <tr>\n      <th>3</th>\n      <td>0.562140</td>\n      <td>0.303799</td>\n      <td>0.124434</td>\n      <td>0.730019</td>\n      <td>0.636859</td>\n      <td>0.140965</td>\n      <td>0.171271</td>\n      <td>0.395564</td>\n      <td>0.326388</td>\n      <td>0.833713</td>\n      <td>0.156722</td>\n      <td>0.525697</td>\n      <td>0.762646</td>\n      <td>0.657980</td>\n      <td>0.577728</td>\n      <td>0.058075</td>\n      <td>0.087281</td>\n    </tr>\n  </tbody>\n</table>\n</div>"
     },
     "execution_count": 136,
     "metadata": {},
     "output_type": "execute_result"
    }
   ],
   "source": [
    "centers"
   ],
   "metadata": {
    "collapsed": false
   }
  },
  {
   "cell_type": "code",
   "execution_count": null,
   "outputs": [],
   "source": [],
   "metadata": {
    "collapsed": false
   }
  }
 ],
 "metadata": {
  "kernelspec": {
   "display_name": "Python 3",
   "language": "python",
   "name": "python3"
  },
  "language_info": {
   "codemirror_mode": {
    "name": "ipython",
    "version": 2
   },
   "file_extension": ".py",
   "mimetype": "text/x-python",
   "name": "python",
   "nbconvert_exporter": "python",
   "pygments_lexer": "ipython2",
   "version": "2.7.6"
  }
 },
 "nbformat": 4,
 "nbformat_minor": 0
}
