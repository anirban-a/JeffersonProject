{
 "cells": [
  {
   "cell_type": "code",
   "execution_count": 3,
   "id": "initial_id",
   "metadata": {
    "collapsed": true,
    "ExecuteTime": {
     "end_time": "2023-11-14T02:34:51.271378Z",
     "start_time": "2023-11-14T02:34:49.903150Z"
    }
   },
   "outputs": [],
   "source": [
    "import pandas as pd"
   ]
  },
  {
   "cell_type": "code",
   "execution_count": 5,
   "outputs": [],
   "source": [
    "df_ts_17 = pd.read_csv('../../data/2017_JP_TS.csv', parse_dates=['DateTime'], )"
   ],
   "metadata": {
    "collapsed": false,
    "ExecuteTime": {
     "end_time": "2023-11-14T02:35:21.075962Z",
     "start_time": "2023-11-14T02:35:16.140241Z"
    }
   },
   "id": "5e8eda8d73eac757"
  },
  {
   "cell_type": "code",
   "execution_count": 6,
   "outputs": [
    {
     "data": {
      "text/plain": "             DateTime  CalibrationChange_System_EXO  fDOM-TC_Water_EXO  \\\n0 2017-01-01 00:00:00                           NaN                NaN   \n1 2017-01-01 01:00:00                           NaN                NaN   \n2 2017-01-01 02:00:00                           NaN                NaN   \n3 2017-01-01 03:00:00                           NaN                NaN   \n4 2017-01-01 04:00:00                           NaN                NaN   \n\n   FlowCell_System_EXO  pH_Water_EXO  SpCond_Water_EXO  Stage_Water_WaterLog  \\\n0                  NaN           NaN               NaN              0.939667   \n1                  NaN           NaN               NaN              0.936818   \n2                  NaN           NaN               NaN              0.937750   \n3                  NaN           NaN               NaN              0.941000   \n4                  NaN           NaN               NaN              0.947750   \n\n   Temperature_Water_EXO  Temperature_Water_WaterLog  Turbidity_Water_EXO  \\\n0                    NaN                   -0.300000                  NaN   \n1                    NaN                   -0.200000                  NaN   \n2                    NaN                   -0.200000                  NaN   \n3                    NaN                   -0.200000                  NaN   \n4                    NaN                   -0.116667                  NaN   \n\n   ... Stage_Water_CS451  Temperature_Soil_HydraProbe  \\\n0  ...               NaN                          NaN   \n1  ...               NaN                          NaN   \n2  ...               NaN                          NaN   \n3  ...               NaN                          NaN   \n4  ...               NaN                          NaN   \n\n   Temperature_Water_CS451  TransducerDepth_Water_CS451  Chla_Water_EXO  \\\n0                      NaN                          NaN             NaN   \n1                      NaN                          NaN             NaN   \n2                      NaN                          NaN             NaN   \n3                      NaN                          NaN             NaN   \n4                      NaN                          NaN             NaN   \n\n   Flow_Water_SL  Level_Water_SL  Temperature_Water_SL  Flow_Water_IQ  \\\n0            NaN             NaN                   NaN            NaN   \n1            NaN             NaN                   NaN            NaN   \n2            NaN             NaN                   NaN            NaN   \n3            NaN             NaN                   NaN            NaN   \n4            NaN             NaN                   NaN            NaN   \n\n   Stage_Water_IQ  \n0             NaN  \n1             NaN  \n2             NaN  \n3             NaN  \n4             NaN  \n\n[5 rows x 22 columns]",
      "text/html": "<div>\n<style scoped>\n    .dataframe tbody tr th:only-of-type {\n        vertical-align: middle;\n    }\n\n    .dataframe tbody tr th {\n        vertical-align: top;\n    }\n\n    .dataframe thead th {\n        text-align: right;\n    }\n</style>\n<table border=\"1\" class=\"dataframe\">\n  <thead>\n    <tr style=\"text-align: right;\">\n      <th></th>\n      <th>DateTime</th>\n      <th>CalibrationChange_System_EXO</th>\n      <th>fDOM-TC_Water_EXO</th>\n      <th>FlowCell_System_EXO</th>\n      <th>pH_Water_EXO</th>\n      <th>SpCond_Water_EXO</th>\n      <th>Stage_Water_WaterLog</th>\n      <th>Temperature_Water_EXO</th>\n      <th>Temperature_Water_WaterLog</th>\n      <th>Turbidity_Water_EXO</th>\n      <th>...</th>\n      <th>Stage_Water_CS451</th>\n      <th>Temperature_Soil_HydraProbe</th>\n      <th>Temperature_Water_CS451</th>\n      <th>TransducerDepth_Water_CS451</th>\n      <th>Chla_Water_EXO</th>\n      <th>Flow_Water_SL</th>\n      <th>Level_Water_SL</th>\n      <th>Temperature_Water_SL</th>\n      <th>Flow_Water_IQ</th>\n      <th>Stage_Water_IQ</th>\n    </tr>\n  </thead>\n  <tbody>\n    <tr>\n      <th>0</th>\n      <td>2017-01-01 00:00:00</td>\n      <td>NaN</td>\n      <td>NaN</td>\n      <td>NaN</td>\n      <td>NaN</td>\n      <td>NaN</td>\n      <td>0.939667</td>\n      <td>NaN</td>\n      <td>-0.300000</td>\n      <td>NaN</td>\n      <td>...</td>\n      <td>NaN</td>\n      <td>NaN</td>\n      <td>NaN</td>\n      <td>NaN</td>\n      <td>NaN</td>\n      <td>NaN</td>\n      <td>NaN</td>\n      <td>NaN</td>\n      <td>NaN</td>\n      <td>NaN</td>\n    </tr>\n    <tr>\n      <th>1</th>\n      <td>2017-01-01 01:00:00</td>\n      <td>NaN</td>\n      <td>NaN</td>\n      <td>NaN</td>\n      <td>NaN</td>\n      <td>NaN</td>\n      <td>0.936818</td>\n      <td>NaN</td>\n      <td>-0.200000</td>\n      <td>NaN</td>\n      <td>...</td>\n      <td>NaN</td>\n      <td>NaN</td>\n      <td>NaN</td>\n      <td>NaN</td>\n      <td>NaN</td>\n      <td>NaN</td>\n      <td>NaN</td>\n      <td>NaN</td>\n      <td>NaN</td>\n      <td>NaN</td>\n    </tr>\n    <tr>\n      <th>2</th>\n      <td>2017-01-01 02:00:00</td>\n      <td>NaN</td>\n      <td>NaN</td>\n      <td>NaN</td>\n      <td>NaN</td>\n      <td>NaN</td>\n      <td>0.937750</td>\n      <td>NaN</td>\n      <td>-0.200000</td>\n      <td>NaN</td>\n      <td>...</td>\n      <td>NaN</td>\n      <td>NaN</td>\n      <td>NaN</td>\n      <td>NaN</td>\n      <td>NaN</td>\n      <td>NaN</td>\n      <td>NaN</td>\n      <td>NaN</td>\n      <td>NaN</td>\n      <td>NaN</td>\n    </tr>\n    <tr>\n      <th>3</th>\n      <td>2017-01-01 03:00:00</td>\n      <td>NaN</td>\n      <td>NaN</td>\n      <td>NaN</td>\n      <td>NaN</td>\n      <td>NaN</td>\n      <td>0.941000</td>\n      <td>NaN</td>\n      <td>-0.200000</td>\n      <td>NaN</td>\n      <td>...</td>\n      <td>NaN</td>\n      <td>NaN</td>\n      <td>NaN</td>\n      <td>NaN</td>\n      <td>NaN</td>\n      <td>NaN</td>\n      <td>NaN</td>\n      <td>NaN</td>\n      <td>NaN</td>\n      <td>NaN</td>\n    </tr>\n    <tr>\n      <th>4</th>\n      <td>2017-01-01 04:00:00</td>\n      <td>NaN</td>\n      <td>NaN</td>\n      <td>NaN</td>\n      <td>NaN</td>\n      <td>NaN</td>\n      <td>0.947750</td>\n      <td>NaN</td>\n      <td>-0.116667</td>\n      <td>NaN</td>\n      <td>...</td>\n      <td>NaN</td>\n      <td>NaN</td>\n      <td>NaN</td>\n      <td>NaN</td>\n      <td>NaN</td>\n      <td>NaN</td>\n      <td>NaN</td>\n      <td>NaN</td>\n      <td>NaN</td>\n      <td>NaN</td>\n    </tr>\n  </tbody>\n</table>\n<p>5 rows × 22 columns</p>\n</div>"
     },
     "execution_count": 6,
     "metadata": {},
     "output_type": "execute_result"
    }
   ],
   "source": [
    "df_ts_17.head()"
   ],
   "metadata": {
    "collapsed": false,
    "ExecuteTime": {
     "end_time": "2023-11-14T02:35:26.149012Z",
     "start_time": "2023-11-14T02:35:26.081243Z"
    }
   },
   "id": "6f3e77cee0bc66fb"
  },
  {
   "cell_type": "code",
   "execution_count": 7,
   "outputs": [],
   "source": [
    "df_ts_18 = pd.read_csv('../../data/2018_JP_TS_Level4.csv', parse_dates=['DateTime'], )"
   ],
   "metadata": {
    "collapsed": false,
    "ExecuteTime": {
     "end_time": "2023-11-14T02:37:19.495490Z",
     "start_time": "2023-11-14T02:37:19.233829Z"
    }
   },
   "id": "f6968e913a822fff"
  },
  {
   "cell_type": "code",
   "execution_count": 8,
   "outputs": [
    {
     "data": {
      "text/plain": "             DateTime Site_Name  Chloride_Water_EXO  \\\n0 2018-01-01 21:00:00   TS_East                 NaN   \n1 2018-01-01 22:00:00   TS_East                 NaN   \n2 2018-01-01 23:00:00   TS_East                 NaN   \n3 2018-01-02 00:00:00   TS_East                 NaN   \n4 2018-01-02 15:00:00   TS_East                 NaN   \n\n   Conductivity_Soil_HydraProbe  fDOM_Water_EXO  Moisture_Soil_HydraProbe  \\\n0                         0.005             NaN                     0.080   \n1                         0.005             NaN                     0.080   \n2                         0.005             NaN                     0.080   \n3                         0.005             NaN                     0.080   \n4                         0.005             NaN                     0.079   \n\n   pH_Water_EXO  SpCond_Water_EXO  Stage_Water_CS451  \\\n0           NaN               NaN                NaN   \n1           NaN               NaN                NaN   \n2           NaN               NaN                NaN   \n3           NaN               NaN                NaN   \n4           NaN               NaN                NaN   \n\n   Temperature_Soil_HydraProbe  ...  Chla_Water_EXO  Flow_Water_SL  \\\n0                        2.100  ...             NaN            NaN   \n1                        2.104  ...             NaN            NaN   \n2                        2.130  ...             NaN            NaN   \n3                        2.133  ...             NaN            NaN   \n4                        2.100  ...             NaN            NaN   \n\n   Level_Water_SL  Temperature_Water_SL  Conductivity-46cm_Soil_HydraProbe  \\\n0             NaN                   NaN                                NaN   \n1             NaN                   NaN                                NaN   \n2             NaN                   NaN                                NaN   \n3             NaN                   NaN                                NaN   \n4             NaN                   NaN                                NaN   \n\n   Moisture-46cm_Soil_HydraProbe  Temperature-46cm_Soil_HydraProbe  \\\n0                            NaN                               NaN   \n1                            NaN                               NaN   \n2                            NaN                               NaN   \n3                            NaN                               NaN   \n4                            NaN                               NaN   \n\n   Flow_Water_IQ  Stage_Water_IQ  Temperature_Water_IQ  \n0            NaN             NaN                   NaN  \n1            NaN             NaN                   NaN  \n2            NaN             NaN                   NaN  \n3            NaN             NaN                   NaN  \n4            NaN             NaN                   NaN  \n\n[5 rows x 25 columns]",
      "text/html": "<div>\n<style scoped>\n    .dataframe tbody tr th:only-of-type {\n        vertical-align: middle;\n    }\n\n    .dataframe tbody tr th {\n        vertical-align: top;\n    }\n\n    .dataframe thead th {\n        text-align: right;\n    }\n</style>\n<table border=\"1\" class=\"dataframe\">\n  <thead>\n    <tr style=\"text-align: right;\">\n      <th></th>\n      <th>DateTime</th>\n      <th>Site_Name</th>\n      <th>Chloride_Water_EXO</th>\n      <th>Conductivity_Soil_HydraProbe</th>\n      <th>fDOM_Water_EXO</th>\n      <th>Moisture_Soil_HydraProbe</th>\n      <th>pH_Water_EXO</th>\n      <th>SpCond_Water_EXO</th>\n      <th>Stage_Water_CS451</th>\n      <th>Temperature_Soil_HydraProbe</th>\n      <th>...</th>\n      <th>Chla_Water_EXO</th>\n      <th>Flow_Water_SL</th>\n      <th>Level_Water_SL</th>\n      <th>Temperature_Water_SL</th>\n      <th>Conductivity-46cm_Soil_HydraProbe</th>\n      <th>Moisture-46cm_Soil_HydraProbe</th>\n      <th>Temperature-46cm_Soil_HydraProbe</th>\n      <th>Flow_Water_IQ</th>\n      <th>Stage_Water_IQ</th>\n      <th>Temperature_Water_IQ</th>\n    </tr>\n  </thead>\n  <tbody>\n    <tr>\n      <th>0</th>\n      <td>2018-01-01 21:00:00</td>\n      <td>TS_East</td>\n      <td>NaN</td>\n      <td>0.005</td>\n      <td>NaN</td>\n      <td>0.080</td>\n      <td>NaN</td>\n      <td>NaN</td>\n      <td>NaN</td>\n      <td>2.100</td>\n      <td>...</td>\n      <td>NaN</td>\n      <td>NaN</td>\n      <td>NaN</td>\n      <td>NaN</td>\n      <td>NaN</td>\n      <td>NaN</td>\n      <td>NaN</td>\n      <td>NaN</td>\n      <td>NaN</td>\n      <td>NaN</td>\n    </tr>\n    <tr>\n      <th>1</th>\n      <td>2018-01-01 22:00:00</td>\n      <td>TS_East</td>\n      <td>NaN</td>\n      <td>0.005</td>\n      <td>NaN</td>\n      <td>0.080</td>\n      <td>NaN</td>\n      <td>NaN</td>\n      <td>NaN</td>\n      <td>2.104</td>\n      <td>...</td>\n      <td>NaN</td>\n      <td>NaN</td>\n      <td>NaN</td>\n      <td>NaN</td>\n      <td>NaN</td>\n      <td>NaN</td>\n      <td>NaN</td>\n      <td>NaN</td>\n      <td>NaN</td>\n      <td>NaN</td>\n    </tr>\n    <tr>\n      <th>2</th>\n      <td>2018-01-01 23:00:00</td>\n      <td>TS_East</td>\n      <td>NaN</td>\n      <td>0.005</td>\n      <td>NaN</td>\n      <td>0.080</td>\n      <td>NaN</td>\n      <td>NaN</td>\n      <td>NaN</td>\n      <td>2.130</td>\n      <td>...</td>\n      <td>NaN</td>\n      <td>NaN</td>\n      <td>NaN</td>\n      <td>NaN</td>\n      <td>NaN</td>\n      <td>NaN</td>\n      <td>NaN</td>\n      <td>NaN</td>\n      <td>NaN</td>\n      <td>NaN</td>\n    </tr>\n    <tr>\n      <th>3</th>\n      <td>2018-01-02 00:00:00</td>\n      <td>TS_East</td>\n      <td>NaN</td>\n      <td>0.005</td>\n      <td>NaN</td>\n      <td>0.080</td>\n      <td>NaN</td>\n      <td>NaN</td>\n      <td>NaN</td>\n      <td>2.133</td>\n      <td>...</td>\n      <td>NaN</td>\n      <td>NaN</td>\n      <td>NaN</td>\n      <td>NaN</td>\n      <td>NaN</td>\n      <td>NaN</td>\n      <td>NaN</td>\n      <td>NaN</td>\n      <td>NaN</td>\n      <td>NaN</td>\n    </tr>\n    <tr>\n      <th>4</th>\n      <td>2018-01-02 15:00:00</td>\n      <td>TS_East</td>\n      <td>NaN</td>\n      <td>0.005</td>\n      <td>NaN</td>\n      <td>0.079</td>\n      <td>NaN</td>\n      <td>NaN</td>\n      <td>NaN</td>\n      <td>2.100</td>\n      <td>...</td>\n      <td>NaN</td>\n      <td>NaN</td>\n      <td>NaN</td>\n      <td>NaN</td>\n      <td>NaN</td>\n      <td>NaN</td>\n      <td>NaN</td>\n      <td>NaN</td>\n      <td>NaN</td>\n      <td>NaN</td>\n    </tr>\n  </tbody>\n</table>\n<p>5 rows × 25 columns</p>\n</div>"
     },
     "execution_count": 8,
     "metadata": {},
     "output_type": "execute_result"
    }
   ],
   "source": [
    "df_ts_18.head()"
   ],
   "metadata": {
    "collapsed": false,
    "ExecuteTime": {
     "end_time": "2023-11-14T02:37:24.748109Z",
     "start_time": "2023-11-14T02:37:24.695227Z"
    }
   },
   "id": "eda6b3508fde129a"
  },
  {
   "cell_type": "code",
   "execution_count": 9,
   "outputs": [],
   "source": [
    "df_ts_19 = pd.read_csv('../../data/2019_JP_TS_Level4.csv', parse_dates=['DateTime'], )"
   ],
   "metadata": {
    "collapsed": false,
    "ExecuteTime": {
     "end_time": "2023-11-14T02:37:45.923437Z",
     "start_time": "2023-11-14T02:37:45.578079Z"
    }
   },
   "id": "ee2893d471edd333"
  },
  {
   "cell_type": "code",
   "execution_count": 10,
   "outputs": [
    {
     "data": {
      "text/plain": "             DateTime Site_Name  Chloride_Water_EXO  \\\n0 2019-01-01 00:00:00   TS_East                 NaN   \n1 2019-01-01 01:00:00   TS_East                 NaN   \n2 2019-01-01 02:00:00   TS_East                 NaN   \n3 2019-01-01 03:00:00   TS_East                 NaN   \n4 2019-01-01 04:00:00   TS_East                 NaN   \n\n   Conductivity_Soil_HydraProbe  fDOM_Water_EXO  Moisture_Soil_HydraProbe  \\\n0                         0.004             NaN                     0.113   \n1                         0.003             NaN                     0.114   \n2                         0.003             NaN                     0.114   \n3                         0.004             NaN                     0.113   \n4                         0.004             NaN                     0.113   \n\n   pH_Water_EXO  SpCond_Water_EXO  Stage_Water_CS451  \\\n0          7.33           211.458              1.124   \n1           NaN           211.564              1.151   \n2           NaN           210.988              1.206   \n3           NaN           209.240              1.320   \n4           NaN           197.804              1.463   \n\n   Temperature_Soil_HydraProbe  ...  Flow_Water_SL  Level_Water_SL  \\\n0                        1.697  ...            NaN             NaN   \n1                        1.698  ...            NaN             NaN   \n2                        1.693  ...            NaN             NaN   \n3                        1.698  ...            NaN             NaN   \n4                        1.698  ...            NaN             NaN   \n\n   PC_Water_EXO  Temperature_Water_SL  Conductivity-46cm_Soil_HydraProbe  \\\n0           NaN                   NaN                                NaN   \n1           NaN                   NaN                                NaN   \n2           NaN                   NaN                                NaN   \n3           NaN                   NaN                                NaN   \n4           NaN                   NaN                                NaN   \n\n   Moisture-46cm_Soil_HydraProbe  Temperature-46cm_Soil_HydraProbe  \\\n0                            NaN                               NaN   \n1                            NaN                               NaN   \n2                            NaN                               NaN   \n3                            NaN                               NaN   \n4                            NaN                               NaN   \n\n   Flow_Water_IQ  Stage_Water_IQ  Temperature_Water_IQ  \n0            NaN             NaN                   NaN  \n1            NaN             NaN                   NaN  \n2            NaN             NaN                   NaN  \n3            NaN             NaN                   NaN  \n4            NaN             NaN                   NaN  \n\n[5 rows x 26 columns]",
      "text/html": "<div>\n<style scoped>\n    .dataframe tbody tr th:only-of-type {\n        vertical-align: middle;\n    }\n\n    .dataframe tbody tr th {\n        vertical-align: top;\n    }\n\n    .dataframe thead th {\n        text-align: right;\n    }\n</style>\n<table border=\"1\" class=\"dataframe\">\n  <thead>\n    <tr style=\"text-align: right;\">\n      <th></th>\n      <th>DateTime</th>\n      <th>Site_Name</th>\n      <th>Chloride_Water_EXO</th>\n      <th>Conductivity_Soil_HydraProbe</th>\n      <th>fDOM_Water_EXO</th>\n      <th>Moisture_Soil_HydraProbe</th>\n      <th>pH_Water_EXO</th>\n      <th>SpCond_Water_EXO</th>\n      <th>Stage_Water_CS451</th>\n      <th>Temperature_Soil_HydraProbe</th>\n      <th>...</th>\n      <th>Flow_Water_SL</th>\n      <th>Level_Water_SL</th>\n      <th>PC_Water_EXO</th>\n      <th>Temperature_Water_SL</th>\n      <th>Conductivity-46cm_Soil_HydraProbe</th>\n      <th>Moisture-46cm_Soil_HydraProbe</th>\n      <th>Temperature-46cm_Soil_HydraProbe</th>\n      <th>Flow_Water_IQ</th>\n      <th>Stage_Water_IQ</th>\n      <th>Temperature_Water_IQ</th>\n    </tr>\n  </thead>\n  <tbody>\n    <tr>\n      <th>0</th>\n      <td>2019-01-01 00:00:00</td>\n      <td>TS_East</td>\n      <td>NaN</td>\n      <td>0.004</td>\n      <td>NaN</td>\n      <td>0.113</td>\n      <td>7.33</td>\n      <td>211.458</td>\n      <td>1.124</td>\n      <td>1.697</td>\n      <td>...</td>\n      <td>NaN</td>\n      <td>NaN</td>\n      <td>NaN</td>\n      <td>NaN</td>\n      <td>NaN</td>\n      <td>NaN</td>\n      <td>NaN</td>\n      <td>NaN</td>\n      <td>NaN</td>\n      <td>NaN</td>\n    </tr>\n    <tr>\n      <th>1</th>\n      <td>2019-01-01 01:00:00</td>\n      <td>TS_East</td>\n      <td>NaN</td>\n      <td>0.003</td>\n      <td>NaN</td>\n      <td>0.114</td>\n      <td>NaN</td>\n      <td>211.564</td>\n      <td>1.151</td>\n      <td>1.698</td>\n      <td>...</td>\n      <td>NaN</td>\n      <td>NaN</td>\n      <td>NaN</td>\n      <td>NaN</td>\n      <td>NaN</td>\n      <td>NaN</td>\n      <td>NaN</td>\n      <td>NaN</td>\n      <td>NaN</td>\n      <td>NaN</td>\n    </tr>\n    <tr>\n      <th>2</th>\n      <td>2019-01-01 02:00:00</td>\n      <td>TS_East</td>\n      <td>NaN</td>\n      <td>0.003</td>\n      <td>NaN</td>\n      <td>0.114</td>\n      <td>NaN</td>\n      <td>210.988</td>\n      <td>1.206</td>\n      <td>1.693</td>\n      <td>...</td>\n      <td>NaN</td>\n      <td>NaN</td>\n      <td>NaN</td>\n      <td>NaN</td>\n      <td>NaN</td>\n      <td>NaN</td>\n      <td>NaN</td>\n      <td>NaN</td>\n      <td>NaN</td>\n      <td>NaN</td>\n    </tr>\n    <tr>\n      <th>3</th>\n      <td>2019-01-01 03:00:00</td>\n      <td>TS_East</td>\n      <td>NaN</td>\n      <td>0.004</td>\n      <td>NaN</td>\n      <td>0.113</td>\n      <td>NaN</td>\n      <td>209.240</td>\n      <td>1.320</td>\n      <td>1.698</td>\n      <td>...</td>\n      <td>NaN</td>\n      <td>NaN</td>\n      <td>NaN</td>\n      <td>NaN</td>\n      <td>NaN</td>\n      <td>NaN</td>\n      <td>NaN</td>\n      <td>NaN</td>\n      <td>NaN</td>\n      <td>NaN</td>\n    </tr>\n    <tr>\n      <th>4</th>\n      <td>2019-01-01 04:00:00</td>\n      <td>TS_East</td>\n      <td>NaN</td>\n      <td>0.004</td>\n      <td>NaN</td>\n      <td>0.113</td>\n      <td>NaN</td>\n      <td>197.804</td>\n      <td>1.463</td>\n      <td>1.698</td>\n      <td>...</td>\n      <td>NaN</td>\n      <td>NaN</td>\n      <td>NaN</td>\n      <td>NaN</td>\n      <td>NaN</td>\n      <td>NaN</td>\n      <td>NaN</td>\n      <td>NaN</td>\n      <td>NaN</td>\n      <td>NaN</td>\n    </tr>\n  </tbody>\n</table>\n<p>5 rows × 26 columns</p>\n</div>"
     },
     "execution_count": 10,
     "metadata": {},
     "output_type": "execute_result"
    }
   ],
   "source": [
    "df_ts_19.head()"
   ],
   "metadata": {
    "collapsed": false,
    "ExecuteTime": {
     "end_time": "2023-11-14T02:37:54.792923Z",
     "start_time": "2023-11-14T02:37:54.761657Z"
    }
   },
   "id": "f6dac770f267a943"
  },
  {
   "cell_type": "code",
   "execution_count": 11,
   "outputs": [],
   "source": [
    "df_ts_20 = pd.read_csv('../../data/2020_JP_TS_Level4.csv', parse_dates=['DateTime'], )"
   ],
   "metadata": {
    "collapsed": false,
    "ExecuteTime": {
     "end_time": "2023-11-14T02:38:18.555349Z",
     "start_time": "2023-11-14T02:38:18.248209Z"
    }
   },
   "id": "60646d639acd743d"
  },
  {
   "cell_type": "code",
   "execution_count": 12,
   "outputs": [
    {
     "data": {
      "text/plain": "             DateTime Site_Name  Chloride_Water_EXO  \\\n0 2020-01-01 00:00:00   TS_East              66.557   \n1 2020-01-01 01:00:00   TS_East              67.324   \n2 2020-01-01 02:00:00   TS_East              67.751   \n3 2020-01-01 03:00:00   TS_East              68.062   \n4 2020-01-01 04:00:00   TS_East              67.939   \n\n   Conductivity_Soil_HydraProbe  fDOM_Water_EXO  Moisture_Soil_HydraProbe  \\\n0                         0.006             NaN                     0.146   \n1                         0.006             NaN                     0.146   \n2                         0.006             NaN                     0.146   \n3                         0.006             NaN                     0.146   \n4                         0.006             NaN                     0.146   \n\n   pH_Water_EXO  SpCond_Water_EXO  Stage_Water_CS451  \\\n0         7.580           352.255              1.052   \n1         7.580           353.128              1.052   \n2         7.580           354.048              1.050   \n3         7.580           355.088              1.047   \n4         7.589           357.188              1.043   \n\n   Temperature_Soil_HydraProbe  ...  Flow_Water_SL  Level_Water_SL  \\\n0                        2.098  ...            NaN             NaN   \n1                        2.098  ...            NaN             NaN   \n2                        2.097  ...            NaN             NaN   \n3                        2.100  ...            NaN             NaN   \n4                        2.100  ...            NaN             NaN   \n\n   PC_Water_EXO  Temperature_Water_SL  Conductivity-46cm_Soil_HydraProbe  \\\n0           NaN                   NaN                                NaN   \n1           NaN                   NaN                                NaN   \n2           NaN                   NaN                                NaN   \n3           NaN                   NaN                                NaN   \n4           NaN                   NaN                                NaN   \n\n   Moisture-46cm_Soil_HydraProbe  Temperature-46cm_Soil_HydraProbe  \\\n0                            NaN                               NaN   \n1                            NaN                               NaN   \n2                            NaN                               NaN   \n3                            NaN                               NaN   \n4                            NaN                               NaN   \n\n   Flow_Water_IQ  Stage_Water_IQ  Temperature_Water_IQ  \n0            NaN             NaN                   NaN  \n1            NaN             NaN                   NaN  \n2            NaN             NaN                   NaN  \n3            NaN             NaN                   NaN  \n4            NaN             NaN                   NaN  \n\n[5 rows x 26 columns]",
      "text/html": "<div>\n<style scoped>\n    .dataframe tbody tr th:only-of-type {\n        vertical-align: middle;\n    }\n\n    .dataframe tbody tr th {\n        vertical-align: top;\n    }\n\n    .dataframe thead th {\n        text-align: right;\n    }\n</style>\n<table border=\"1\" class=\"dataframe\">\n  <thead>\n    <tr style=\"text-align: right;\">\n      <th></th>\n      <th>DateTime</th>\n      <th>Site_Name</th>\n      <th>Chloride_Water_EXO</th>\n      <th>Conductivity_Soil_HydraProbe</th>\n      <th>fDOM_Water_EXO</th>\n      <th>Moisture_Soil_HydraProbe</th>\n      <th>pH_Water_EXO</th>\n      <th>SpCond_Water_EXO</th>\n      <th>Stage_Water_CS451</th>\n      <th>Temperature_Soil_HydraProbe</th>\n      <th>...</th>\n      <th>Flow_Water_SL</th>\n      <th>Level_Water_SL</th>\n      <th>PC_Water_EXO</th>\n      <th>Temperature_Water_SL</th>\n      <th>Conductivity-46cm_Soil_HydraProbe</th>\n      <th>Moisture-46cm_Soil_HydraProbe</th>\n      <th>Temperature-46cm_Soil_HydraProbe</th>\n      <th>Flow_Water_IQ</th>\n      <th>Stage_Water_IQ</th>\n      <th>Temperature_Water_IQ</th>\n    </tr>\n  </thead>\n  <tbody>\n    <tr>\n      <th>0</th>\n      <td>2020-01-01 00:00:00</td>\n      <td>TS_East</td>\n      <td>66.557</td>\n      <td>0.006</td>\n      <td>NaN</td>\n      <td>0.146</td>\n      <td>7.580</td>\n      <td>352.255</td>\n      <td>1.052</td>\n      <td>2.098</td>\n      <td>...</td>\n      <td>NaN</td>\n      <td>NaN</td>\n      <td>NaN</td>\n      <td>NaN</td>\n      <td>NaN</td>\n      <td>NaN</td>\n      <td>NaN</td>\n      <td>NaN</td>\n      <td>NaN</td>\n      <td>NaN</td>\n    </tr>\n    <tr>\n      <th>1</th>\n      <td>2020-01-01 01:00:00</td>\n      <td>TS_East</td>\n      <td>67.324</td>\n      <td>0.006</td>\n      <td>NaN</td>\n      <td>0.146</td>\n      <td>7.580</td>\n      <td>353.128</td>\n      <td>1.052</td>\n      <td>2.098</td>\n      <td>...</td>\n      <td>NaN</td>\n      <td>NaN</td>\n      <td>NaN</td>\n      <td>NaN</td>\n      <td>NaN</td>\n      <td>NaN</td>\n      <td>NaN</td>\n      <td>NaN</td>\n      <td>NaN</td>\n      <td>NaN</td>\n    </tr>\n    <tr>\n      <th>2</th>\n      <td>2020-01-01 02:00:00</td>\n      <td>TS_East</td>\n      <td>67.751</td>\n      <td>0.006</td>\n      <td>NaN</td>\n      <td>0.146</td>\n      <td>7.580</td>\n      <td>354.048</td>\n      <td>1.050</td>\n      <td>2.097</td>\n      <td>...</td>\n      <td>NaN</td>\n      <td>NaN</td>\n      <td>NaN</td>\n      <td>NaN</td>\n      <td>NaN</td>\n      <td>NaN</td>\n      <td>NaN</td>\n      <td>NaN</td>\n      <td>NaN</td>\n      <td>NaN</td>\n    </tr>\n    <tr>\n      <th>3</th>\n      <td>2020-01-01 03:00:00</td>\n      <td>TS_East</td>\n      <td>68.062</td>\n      <td>0.006</td>\n      <td>NaN</td>\n      <td>0.146</td>\n      <td>7.580</td>\n      <td>355.088</td>\n      <td>1.047</td>\n      <td>2.100</td>\n      <td>...</td>\n      <td>NaN</td>\n      <td>NaN</td>\n      <td>NaN</td>\n      <td>NaN</td>\n      <td>NaN</td>\n      <td>NaN</td>\n      <td>NaN</td>\n      <td>NaN</td>\n      <td>NaN</td>\n      <td>NaN</td>\n    </tr>\n    <tr>\n      <th>4</th>\n      <td>2020-01-01 04:00:00</td>\n      <td>TS_East</td>\n      <td>67.939</td>\n      <td>0.006</td>\n      <td>NaN</td>\n      <td>0.146</td>\n      <td>7.589</td>\n      <td>357.188</td>\n      <td>1.043</td>\n      <td>2.100</td>\n      <td>...</td>\n      <td>NaN</td>\n      <td>NaN</td>\n      <td>NaN</td>\n      <td>NaN</td>\n      <td>NaN</td>\n      <td>NaN</td>\n      <td>NaN</td>\n      <td>NaN</td>\n      <td>NaN</td>\n      <td>NaN</td>\n    </tr>\n  </tbody>\n</table>\n<p>5 rows × 26 columns</p>\n</div>"
     },
     "execution_count": 12,
     "metadata": {},
     "output_type": "execute_result"
    }
   ],
   "source": [
    "df_ts_20.head()"
   ],
   "metadata": {
    "collapsed": false,
    "ExecuteTime": {
     "end_time": "2023-11-14T02:38:24.039562Z",
     "start_time": "2023-11-14T02:38:24.004380Z"
    }
   },
   "id": "f30299359d0fa4ca"
  },
  {
   "cell_type": "code",
   "execution_count": 13,
   "outputs": [],
   "source": [
    "df1 = pd.DataFrame({'age':[20,30,40]})\n",
    "df2 = pd.DataFrame({'age':[50,30,60]})"
   ],
   "metadata": {
    "collapsed": false,
    "ExecuteTime": {
     "end_time": "2023-11-14T02:39:18.528392Z",
     "start_time": "2023-11-14T02:39:18.516632Z"
    }
   },
   "id": "9878fd7e3dbfe892"
  },
  {
   "cell_type": "code",
   "execution_count": 18,
   "outputs": [],
   "source": [
    "# concatenate the tables into one.\n",
    "df = pd.concat([df_ts_17, df_ts_18, df_ts_19, df_ts_20], axis=0, ignore_index=True)"
   ],
   "metadata": {
    "collapsed": false,
    "ExecuteTime": {
     "end_time": "2023-11-14T02:40:50.681151Z",
     "start_time": "2023-11-14T02:40:50.679720Z"
    }
   },
   "id": "b6d2ed9e70e57827"
  },
  {
   "cell_type": "code",
   "execution_count": null,
   "outputs": [],
   "source": [],
   "metadata": {
    "collapsed": false
   },
   "id": "84c1582165098984"
  }
 ],
 "metadata": {
  "kernelspec": {
   "display_name": "Python 3",
   "language": "python",
   "name": "python3"
  },
  "language_info": {
   "codemirror_mode": {
    "name": "ipython",
    "version": 2
   },
   "file_extension": ".py",
   "mimetype": "text/x-python",
   "name": "python",
   "nbconvert_exporter": "python",
   "pygments_lexer": "ipython2",
   "version": "2.7.6"
  }
 },
 "nbformat": 4,
 "nbformat_minor": 5
}
