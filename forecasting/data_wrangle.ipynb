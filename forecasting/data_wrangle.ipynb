{
 "cells": [
  {
   "cell_type": "code",
   "execution_count": 3,
   "id": "initial_id",
   "metadata": {
    "collapsed": true,
    "ExecuteTime": {
     "end_time": "2023-11-14T02:34:51.271378Z",
     "start_time": "2023-11-14T02:34:49.903150Z"
    }
   },
   "outputs": [],
   "source": [
    "import pandas as pd"
   ]
  },
  {
   "cell_type": "code",
   "execution_count": 31,
   "outputs": [],
   "source": [
    "cols = ['DateTime','rel_fl','SpCond_Water_EXO', 'Temperature_Water_EXO','Chla_Water_EXO', 'DO_Water_EXO','pH_Water_EXO','SensorDepth_Water_EXO','NO3','SolarRad_Air_LiCor','TSP', 'TN']"
   ],
   "metadata": {
    "collapsed": false,
    "ExecuteTime": {
     "end_time": "2023-11-14T22:10:47.469708Z",
     "start_time": "2023-11-14T22:10:47.458283Z"
    }
   },
   "id": "83156207b0c3bae3"
  },
  {
   "cell_type": "code",
   "execution_count": 43,
   "outputs": [],
   "source": [
    "df = pd.read_csv('../../data/pc_data_2017_to_2019_2.csv', parse_dates=['DateTime'])"
   ],
   "metadata": {
    "collapsed": false,
    "ExecuteTime": {
     "end_time": "2023-11-14T23:03:23.841142Z",
     "start_time": "2023-11-14T23:03:22.137289Z"
    }
   },
   "id": "6ce7c4ce2e3bd9ae"
  },
  {
   "cell_type": "code",
   "execution_count": 44,
   "outputs": [
    {
     "data": {
      "text/plain": "    DateTime  SensorDepth_Water_EXO  PC_Water_EXO  Chla_Water_EXO  \\\n0 2017-10-01                   1.01        0.1556        0.358058   \n1 2017-10-01                   1.03        0.1520        0.544445   \n2 2017-10-01                   1.05        0.1304        0.843708   \n3 2017-10-01                   1.07        0.1592        0.939807   \n4 2017-10-01                   1.09        0.1340        0.797623   \n\n   DO_Water_EXO  DO-Sat_Water_EXO  SpCond_Water_EXO  Temperature_Water_EXO  \\\n0          9.17        101.610000        139.810000              20.380000   \n1          9.18        101.776667        139.786667              20.386667   \n2          9.16        101.230000        139.660000              20.220000   \n3          9.16        101.590000        139.780000              20.410000   \n4          9.15        101.490000        139.750000              20.420000   \n\n   pH_Water_EXO  rel_fl  ...         TP       TSP       SRP        TN    NO3  \\\n0      8.010344   0.880  ...  25.691678  9.009938  5.594708  0.498284  0.191   \n1      8.027139   0.862  ...  25.691678  9.009938  5.594708  0.498284  0.191   \n2      8.019958   0.844  ...  25.691678  9.009938  5.594708  0.498284  0.191   \n3      8.038803   0.826  ...  25.691678  9.009938  5.594708  0.498284  0.191   \n4      8.024188   0.835  ...  25.691678  9.009938  5.594708  0.498284  0.191   \n\n     NH4         PP  PRECTOTCORR  ALLSKY_SFC_SW_DWN  ALLSKY_SFC_LW_DWN  \n0  0.005  16.681741     4.319851           2.424178         310.373726  \n1  0.005  16.681741     4.319851           2.424178         310.373726  \n2  0.005  16.681741     4.319851           2.424178         310.373726  \n3  0.005  16.681741     4.319851           2.424178         310.373726  \n4  0.005  16.681741     4.319851           2.424178         310.373726  \n\n[5 rows x 24 columns]",
      "text/html": "<div>\n<style scoped>\n    .dataframe tbody tr th:only-of-type {\n        vertical-align: middle;\n    }\n\n    .dataframe tbody tr th {\n        vertical-align: top;\n    }\n\n    .dataframe thead th {\n        text-align: right;\n    }\n</style>\n<table border=\"1\" class=\"dataframe\">\n  <thead>\n    <tr style=\"text-align: right;\">\n      <th></th>\n      <th>DateTime</th>\n      <th>SensorDepth_Water_EXO</th>\n      <th>PC_Water_EXO</th>\n      <th>Chla_Water_EXO</th>\n      <th>DO_Water_EXO</th>\n      <th>DO-Sat_Water_EXO</th>\n      <th>SpCond_Water_EXO</th>\n      <th>Temperature_Water_EXO</th>\n      <th>pH_Water_EXO</th>\n      <th>rel_fl</th>\n      <th>...</th>\n      <th>TP</th>\n      <th>TSP</th>\n      <th>SRP</th>\n      <th>TN</th>\n      <th>NO3</th>\n      <th>NH4</th>\n      <th>PP</th>\n      <th>PRECTOTCORR</th>\n      <th>ALLSKY_SFC_SW_DWN</th>\n      <th>ALLSKY_SFC_LW_DWN</th>\n    </tr>\n  </thead>\n  <tbody>\n    <tr>\n      <th>0</th>\n      <td>2017-10-01</td>\n      <td>1.01</td>\n      <td>0.1556</td>\n      <td>0.358058</td>\n      <td>9.17</td>\n      <td>101.610000</td>\n      <td>139.810000</td>\n      <td>20.380000</td>\n      <td>8.010344</td>\n      <td>0.880</td>\n      <td>...</td>\n      <td>25.691678</td>\n      <td>9.009938</td>\n      <td>5.594708</td>\n      <td>0.498284</td>\n      <td>0.191</td>\n      <td>0.005</td>\n      <td>16.681741</td>\n      <td>4.319851</td>\n      <td>2.424178</td>\n      <td>310.373726</td>\n    </tr>\n    <tr>\n      <th>1</th>\n      <td>2017-10-01</td>\n      <td>1.03</td>\n      <td>0.1520</td>\n      <td>0.544445</td>\n      <td>9.18</td>\n      <td>101.776667</td>\n      <td>139.786667</td>\n      <td>20.386667</td>\n      <td>8.027139</td>\n      <td>0.862</td>\n      <td>...</td>\n      <td>25.691678</td>\n      <td>9.009938</td>\n      <td>5.594708</td>\n      <td>0.498284</td>\n      <td>0.191</td>\n      <td>0.005</td>\n      <td>16.681741</td>\n      <td>4.319851</td>\n      <td>2.424178</td>\n      <td>310.373726</td>\n    </tr>\n    <tr>\n      <th>2</th>\n      <td>2017-10-01</td>\n      <td>1.05</td>\n      <td>0.1304</td>\n      <td>0.843708</td>\n      <td>9.16</td>\n      <td>101.230000</td>\n      <td>139.660000</td>\n      <td>20.220000</td>\n      <td>8.019958</td>\n      <td>0.844</td>\n      <td>...</td>\n      <td>25.691678</td>\n      <td>9.009938</td>\n      <td>5.594708</td>\n      <td>0.498284</td>\n      <td>0.191</td>\n      <td>0.005</td>\n      <td>16.681741</td>\n      <td>4.319851</td>\n      <td>2.424178</td>\n      <td>310.373726</td>\n    </tr>\n    <tr>\n      <th>3</th>\n      <td>2017-10-01</td>\n      <td>1.07</td>\n      <td>0.1592</td>\n      <td>0.939807</td>\n      <td>9.16</td>\n      <td>101.590000</td>\n      <td>139.780000</td>\n      <td>20.410000</td>\n      <td>8.038803</td>\n      <td>0.826</td>\n      <td>...</td>\n      <td>25.691678</td>\n      <td>9.009938</td>\n      <td>5.594708</td>\n      <td>0.498284</td>\n      <td>0.191</td>\n      <td>0.005</td>\n      <td>16.681741</td>\n      <td>4.319851</td>\n      <td>2.424178</td>\n      <td>310.373726</td>\n    </tr>\n    <tr>\n      <th>4</th>\n      <td>2017-10-01</td>\n      <td>1.09</td>\n      <td>0.1340</td>\n      <td>0.797623</td>\n      <td>9.15</td>\n      <td>101.490000</td>\n      <td>139.750000</td>\n      <td>20.420000</td>\n      <td>8.024188</td>\n      <td>0.835</td>\n      <td>...</td>\n      <td>25.691678</td>\n      <td>9.009938</td>\n      <td>5.594708</td>\n      <td>0.498284</td>\n      <td>0.191</td>\n      <td>0.005</td>\n      <td>16.681741</td>\n      <td>4.319851</td>\n      <td>2.424178</td>\n      <td>310.373726</td>\n    </tr>\n  </tbody>\n</table>\n<p>5 rows × 24 columns</p>\n</div>"
     },
     "execution_count": 44,
     "metadata": {},
     "output_type": "execute_result"
    }
   ],
   "source": [
    "df.head()"
   ],
   "metadata": {
    "collapsed": false,
    "ExecuteTime": {
     "end_time": "2023-11-14T23:12:46.738166Z",
     "start_time": "2023-11-14T23:12:46.672815Z"
    }
   },
   "id": "45cc4a3235d61f76"
  },
  {
   "cell_type": "code",
   "execution_count": null,
   "outputs": [],
   "source": [],
   "metadata": {
    "collapsed": false
   },
   "id": "6db60220579c87b6"
  }
 ],
 "metadata": {
  "kernelspec": {
   "display_name": "Python 3",
   "language": "python",
   "name": "python3"
  },
  "language_info": {
   "codemirror_mode": {
    "name": "ipython",
    "version": 2
   },
   "file_extension": ".py",
   "mimetype": "text/x-python",
   "name": "python",
   "nbconvert_exporter": "python",
   "pygments_lexer": "ipython2",
   "version": "2.7.6"
  }
 },
 "nbformat": 4,
 "nbformat_minor": 5
}
