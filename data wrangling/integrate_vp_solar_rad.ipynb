{
 "cells": [
  {
   "cell_type": "code",
   "execution_count": 6,
   "metadata": {
    "collapsed": true
   },
   "outputs": [],
   "source": [
    "import pandas as pd"
   ]
  },
  {
   "cell_type": "code",
   "execution_count": 7,
   "outputs": [],
   "source": [
    "data_path = '/home/achara/data/achara/'"
   ],
   "metadata": {
    "collapsed": false
   }
  },
  {
   "cell_type": "code",
   "execution_count": 8,
   "outputs": [],
   "source": [
    "vp = pd.read_csv(data_path + 'VP_Data.csv')\n",
    "solar = pd.read_csv(data_path + 'WS_2017_to_2019_SolarRad.csv')"
   ],
   "metadata": {
    "collapsed": false
   }
  },
  {
   "cell_type": "code",
   "execution_count": 9,
   "outputs": [
    {
     "data": {
      "text/plain": "   SensorDepth_Water_EXO  PC_Water_EXO  Chla_Water_EXO  DO_Water_EXO  \\\n0                   1.01        0.1556        0.358058          9.17   \n1                   1.03        0.1520        0.544445          9.18   \n2                   1.05        0.1304        0.843708          9.16   \n3                   1.07        0.1592        0.939807          9.16   \n4                   1.09        0.1340        0.797623          9.15   \n\n   DO-Sat_Water_EXO  SpCond_Water_EXO  Temperature_Water_EXO  pH_Water_EXO  \\\n0        101.610000        139.810000              20.380000      8.010344   \n1        101.776667        139.786667              20.386667      8.027139   \n2        101.230000        139.660000              20.220000      8.019958   \n3        101.590000        139.780000              20.410000      8.038803   \n4        101.490000        139.750000              20.420000      8.024188   \n\n   rel_fl  month  day  year  \n0   0.880     10    1  2017  \n1   0.862     10    1  2017  \n2   0.844     10    1  2017  \n3   0.826     10    1  2017  \n4   0.835     10    1  2017  ",
      "text/html": "<div>\n<style scoped>\n    .dataframe tbody tr th:only-of-type {\n        vertical-align: middle;\n    }\n\n    .dataframe tbody tr th {\n        vertical-align: top;\n    }\n\n    .dataframe thead th {\n        text-align: right;\n    }\n</style>\n<table border=\"1\" class=\"dataframe\">\n  <thead>\n    <tr style=\"text-align: right;\">\n      <th></th>\n      <th>SensorDepth_Water_EXO</th>\n      <th>PC_Water_EXO</th>\n      <th>Chla_Water_EXO</th>\n      <th>DO_Water_EXO</th>\n      <th>DO-Sat_Water_EXO</th>\n      <th>SpCond_Water_EXO</th>\n      <th>Temperature_Water_EXO</th>\n      <th>pH_Water_EXO</th>\n      <th>rel_fl</th>\n      <th>month</th>\n      <th>day</th>\n      <th>year</th>\n    </tr>\n  </thead>\n  <tbody>\n    <tr>\n      <th>0</th>\n      <td>1.01</td>\n      <td>0.1556</td>\n      <td>0.358058</td>\n      <td>9.17</td>\n      <td>101.610000</td>\n      <td>139.810000</td>\n      <td>20.380000</td>\n      <td>8.010344</td>\n      <td>0.880</td>\n      <td>10</td>\n      <td>1</td>\n      <td>2017</td>\n    </tr>\n    <tr>\n      <th>1</th>\n      <td>1.03</td>\n      <td>0.1520</td>\n      <td>0.544445</td>\n      <td>9.18</td>\n      <td>101.776667</td>\n      <td>139.786667</td>\n      <td>20.386667</td>\n      <td>8.027139</td>\n      <td>0.862</td>\n      <td>10</td>\n      <td>1</td>\n      <td>2017</td>\n    </tr>\n    <tr>\n      <th>2</th>\n      <td>1.05</td>\n      <td>0.1304</td>\n      <td>0.843708</td>\n      <td>9.16</td>\n      <td>101.230000</td>\n      <td>139.660000</td>\n      <td>20.220000</td>\n      <td>8.019958</td>\n      <td>0.844</td>\n      <td>10</td>\n      <td>1</td>\n      <td>2017</td>\n    </tr>\n    <tr>\n      <th>3</th>\n      <td>1.07</td>\n      <td>0.1592</td>\n      <td>0.939807</td>\n      <td>9.16</td>\n      <td>101.590000</td>\n      <td>139.780000</td>\n      <td>20.410000</td>\n      <td>8.038803</td>\n      <td>0.826</td>\n      <td>10</td>\n      <td>1</td>\n      <td>2017</td>\n    </tr>\n    <tr>\n      <th>4</th>\n      <td>1.09</td>\n      <td>0.1340</td>\n      <td>0.797623</td>\n      <td>9.15</td>\n      <td>101.490000</td>\n      <td>139.750000</td>\n      <td>20.420000</td>\n      <td>8.024188</td>\n      <td>0.835</td>\n      <td>10</td>\n      <td>1</td>\n      <td>2017</td>\n    </tr>\n  </tbody>\n</table>\n</div>"
     },
     "execution_count": 9,
     "metadata": {},
     "output_type": "execute_result"
    }
   ],
   "source": [
    "vp.head()"
   ],
   "metadata": {
    "collapsed": false
   }
  },
  {
   "cell_type": "code",
   "execution_count": 10,
   "outputs": [
    {
     "data": {
      "text/plain": "   SolarRad_Air_LiCor  month  day  year\n0                 0.0      1    1  2017\n1                 0.0      1    1  2017\n2                 0.0      1    1  2017\n3                 0.0      1    1  2017\n4                 0.0      1    1  2017",
      "text/html": "<div>\n<style scoped>\n    .dataframe tbody tr th:only-of-type {\n        vertical-align: middle;\n    }\n\n    .dataframe tbody tr th {\n        vertical-align: top;\n    }\n\n    .dataframe thead th {\n        text-align: right;\n    }\n</style>\n<table border=\"1\" class=\"dataframe\">\n  <thead>\n    <tr style=\"text-align: right;\">\n      <th></th>\n      <th>SolarRad_Air_LiCor</th>\n      <th>month</th>\n      <th>day</th>\n      <th>year</th>\n    </tr>\n  </thead>\n  <tbody>\n    <tr>\n      <th>0</th>\n      <td>0.0</td>\n      <td>1</td>\n      <td>1</td>\n      <td>2017</td>\n    </tr>\n    <tr>\n      <th>1</th>\n      <td>0.0</td>\n      <td>1</td>\n      <td>1</td>\n      <td>2017</td>\n    </tr>\n    <tr>\n      <th>2</th>\n      <td>0.0</td>\n      <td>1</td>\n      <td>1</td>\n      <td>2017</td>\n    </tr>\n    <tr>\n      <th>3</th>\n      <td>0.0</td>\n      <td>1</td>\n      <td>1</td>\n      <td>2017</td>\n    </tr>\n    <tr>\n      <th>4</th>\n      <td>0.0</td>\n      <td>1</td>\n      <td>1</td>\n      <td>2017</td>\n    </tr>\n  </tbody>\n</table>\n</div>"
     },
     "execution_count": 10,
     "metadata": {},
     "output_type": "execute_result"
    }
   ],
   "source": [
    "solar.head()"
   ],
   "metadata": {
    "collapsed": false
   }
  },
  {
   "cell_type": "markdown",
   "source": [
    "## Integrating the Vertical profiler data and the solar radiation data.\n",
    "\n",
    "Grouping solar radiation data by Month & Year resulting in adjusted solar radiation data\n"
   ],
   "metadata": {
    "collapsed": false
   }
  },
  {
   "cell_type": "code",
   "execution_count": 19,
   "outputs": [],
   "source": [
    "solar_my = solar.drop(columns=['day']).groupby(['month','year']).mean(['SolarRad_Air_LiCor'])"
   ],
   "metadata": {
    "collapsed": false
   }
  },
  {
   "cell_type": "code",
   "execution_count": 20,
   "outputs": [
    {
     "data": {
      "text/plain": "            SolarRad_Air_LiCor\nmonth year                    \n1     2017           54.840760\n      2018           61.201152\n      2019           67.961974\n2     2017           85.338879\n      2018           79.086870\n      2019           93.664088\n3     2017          139.103607\n      2018          133.403402\n      2019          153.531139\n4     2017          166.843384\n      2018          145.782570\n      2019          160.870845\n5     2017          193.163431\n      2018          220.689446\n      2019          189.663682\n6     2017          251.278843\n      2018          238.614035\n      2019          233.197763\n7     2017          251.347183\n      2018          252.554194\n      2019          250.008501\n8     2017          241.386904\n      2018          196.145697\n      2019          221.467216\n9     2017          196.187232\n      2018          148.804706\n      2019          170.110621\n10    2017          127.389410\n      2018           84.766848\n      2019           94.694470\n11    2017           73.462999\n      2018           51.881097\n      2019           64.323151\n12    2017           47.665465\n      2018           46.351381\n      2019           46.125946",
      "text/html": "<div>\n<style scoped>\n    .dataframe tbody tr th:only-of-type {\n        vertical-align: middle;\n    }\n\n    .dataframe tbody tr th {\n        vertical-align: top;\n    }\n\n    .dataframe thead th {\n        text-align: right;\n    }\n</style>\n<table border=\"1\" class=\"dataframe\">\n  <thead>\n    <tr style=\"text-align: right;\">\n      <th></th>\n      <th></th>\n      <th>SolarRad_Air_LiCor</th>\n    </tr>\n    <tr>\n      <th>month</th>\n      <th>year</th>\n      <th></th>\n    </tr>\n  </thead>\n  <tbody>\n    <tr>\n      <th rowspan=\"3\" valign=\"top\">1</th>\n      <th>2017</th>\n      <td>54.840760</td>\n    </tr>\n    <tr>\n      <th>2018</th>\n      <td>61.201152</td>\n    </tr>\n    <tr>\n      <th>2019</th>\n      <td>67.961974</td>\n    </tr>\n    <tr>\n      <th rowspan=\"3\" valign=\"top\">2</th>\n      <th>2017</th>\n      <td>85.338879</td>\n    </tr>\n    <tr>\n      <th>2018</th>\n      <td>79.086870</td>\n    </tr>\n    <tr>\n      <th>2019</th>\n      <td>93.664088</td>\n    </tr>\n    <tr>\n      <th rowspan=\"3\" valign=\"top\">3</th>\n      <th>2017</th>\n      <td>139.103607</td>\n    </tr>\n    <tr>\n      <th>2018</th>\n      <td>133.403402</td>\n    </tr>\n    <tr>\n      <th>2019</th>\n      <td>153.531139</td>\n    </tr>\n    <tr>\n      <th rowspan=\"3\" valign=\"top\">4</th>\n      <th>2017</th>\n      <td>166.843384</td>\n    </tr>\n    <tr>\n      <th>2018</th>\n      <td>145.782570</td>\n    </tr>\n    <tr>\n      <th>2019</th>\n      <td>160.870845</td>\n    </tr>\n    <tr>\n      <th rowspan=\"3\" valign=\"top\">5</th>\n      <th>2017</th>\n      <td>193.163431</td>\n    </tr>\n    <tr>\n      <th>2018</th>\n      <td>220.689446</td>\n    </tr>\n    <tr>\n      <th>2019</th>\n      <td>189.663682</td>\n    </tr>\n    <tr>\n      <th rowspan=\"3\" valign=\"top\">6</th>\n      <th>2017</th>\n      <td>251.278843</td>\n    </tr>\n    <tr>\n      <th>2018</th>\n      <td>238.614035</td>\n    </tr>\n    <tr>\n      <th>2019</th>\n      <td>233.197763</td>\n    </tr>\n    <tr>\n      <th rowspan=\"3\" valign=\"top\">7</th>\n      <th>2017</th>\n      <td>251.347183</td>\n    </tr>\n    <tr>\n      <th>2018</th>\n      <td>252.554194</td>\n    </tr>\n    <tr>\n      <th>2019</th>\n      <td>250.008501</td>\n    </tr>\n    <tr>\n      <th rowspan=\"3\" valign=\"top\">8</th>\n      <th>2017</th>\n      <td>241.386904</td>\n    </tr>\n    <tr>\n      <th>2018</th>\n      <td>196.145697</td>\n    </tr>\n    <tr>\n      <th>2019</th>\n      <td>221.467216</td>\n    </tr>\n    <tr>\n      <th rowspan=\"3\" valign=\"top\">9</th>\n      <th>2017</th>\n      <td>196.187232</td>\n    </tr>\n    <tr>\n      <th>2018</th>\n      <td>148.804706</td>\n    </tr>\n    <tr>\n      <th>2019</th>\n      <td>170.110621</td>\n    </tr>\n    <tr>\n      <th rowspan=\"3\" valign=\"top\">10</th>\n      <th>2017</th>\n      <td>127.389410</td>\n    </tr>\n    <tr>\n      <th>2018</th>\n      <td>84.766848</td>\n    </tr>\n    <tr>\n      <th>2019</th>\n      <td>94.694470</td>\n    </tr>\n    <tr>\n      <th rowspan=\"3\" valign=\"top\">11</th>\n      <th>2017</th>\n      <td>73.462999</td>\n    </tr>\n    <tr>\n      <th>2018</th>\n      <td>51.881097</td>\n    </tr>\n    <tr>\n      <th>2019</th>\n      <td>64.323151</td>\n    </tr>\n    <tr>\n      <th rowspan=\"3\" valign=\"top\">12</th>\n      <th>2017</th>\n      <td>47.665465</td>\n    </tr>\n    <tr>\n      <th>2018</th>\n      <td>46.351381</td>\n    </tr>\n    <tr>\n      <th>2019</th>\n      <td>46.125946</td>\n    </tr>\n  </tbody>\n</table>\n</div>"
     },
     "execution_count": 20,
     "metadata": {},
     "output_type": "execute_result"
    }
   ],
   "source": [
    "solar_my"
   ],
   "metadata": {
    "collapsed": false
   }
  },
  {
   "cell_type": "code",
   "execution_count": 22,
   "outputs": [],
   "source": [
    "vp_solar_df = vp.merge(solar_my, on=['month', 'year'], how='left')"
   ],
   "metadata": {
    "collapsed": false
   }
  },
  {
   "cell_type": "code",
   "execution_count": 23,
   "outputs": [
    {
     "data": {
      "text/plain": "0"
     },
     "execution_count": 23,
     "metadata": {},
     "output_type": "execute_result"
    }
   ],
   "source": [
    "len(vp_solar_df[vp_solar_df.SolarRad_Air_LiCor.isna()])"
   ],
   "metadata": {
    "collapsed": false
   }
  },
  {
   "cell_type": "code",
   "execution_count": 24,
   "outputs": [
    {
     "data": {
      "text/plain": "   SensorDepth_Water_EXO  PC_Water_EXO  Chla_Water_EXO  DO_Water_EXO  \\\n0                   1.01        0.1556        0.358058          9.17   \n1                   1.03        0.1520        0.544445          9.18   \n2                   1.05        0.1304        0.843708          9.16   \n3                   1.07        0.1592        0.939807          9.16   \n4                   1.09        0.1340        0.797623          9.15   \n\n   DO-Sat_Water_EXO  SpCond_Water_EXO  Temperature_Water_EXO  pH_Water_EXO  \\\n0        101.610000        139.810000              20.380000      8.010344   \n1        101.776667        139.786667              20.386667      8.027139   \n2        101.230000        139.660000              20.220000      8.019958   \n3        101.590000        139.780000              20.410000      8.038803   \n4        101.490000        139.750000              20.420000      8.024188   \n\n   rel_fl  month  day  year  SolarRad_Air_LiCor  \n0   0.880     10    1  2017           127.38941  \n1   0.862     10    1  2017           127.38941  \n2   0.844     10    1  2017           127.38941  \n3   0.826     10    1  2017           127.38941  \n4   0.835     10    1  2017           127.38941  ",
      "text/html": "<div>\n<style scoped>\n    .dataframe tbody tr th:only-of-type {\n        vertical-align: middle;\n    }\n\n    .dataframe tbody tr th {\n        vertical-align: top;\n    }\n\n    .dataframe thead th {\n        text-align: right;\n    }\n</style>\n<table border=\"1\" class=\"dataframe\">\n  <thead>\n    <tr style=\"text-align: right;\">\n      <th></th>\n      <th>SensorDepth_Water_EXO</th>\n      <th>PC_Water_EXO</th>\n      <th>Chla_Water_EXO</th>\n      <th>DO_Water_EXO</th>\n      <th>DO-Sat_Water_EXO</th>\n      <th>SpCond_Water_EXO</th>\n      <th>Temperature_Water_EXO</th>\n      <th>pH_Water_EXO</th>\n      <th>rel_fl</th>\n      <th>month</th>\n      <th>day</th>\n      <th>year</th>\n      <th>SolarRad_Air_LiCor</th>\n    </tr>\n  </thead>\n  <tbody>\n    <tr>\n      <th>0</th>\n      <td>1.01</td>\n      <td>0.1556</td>\n      <td>0.358058</td>\n      <td>9.17</td>\n      <td>101.610000</td>\n      <td>139.810000</td>\n      <td>20.380000</td>\n      <td>8.010344</td>\n      <td>0.880</td>\n      <td>10</td>\n      <td>1</td>\n      <td>2017</td>\n      <td>127.38941</td>\n    </tr>\n    <tr>\n      <th>1</th>\n      <td>1.03</td>\n      <td>0.1520</td>\n      <td>0.544445</td>\n      <td>9.18</td>\n      <td>101.776667</td>\n      <td>139.786667</td>\n      <td>20.386667</td>\n      <td>8.027139</td>\n      <td>0.862</td>\n      <td>10</td>\n      <td>1</td>\n      <td>2017</td>\n      <td>127.38941</td>\n    </tr>\n    <tr>\n      <th>2</th>\n      <td>1.05</td>\n      <td>0.1304</td>\n      <td>0.843708</td>\n      <td>9.16</td>\n      <td>101.230000</td>\n      <td>139.660000</td>\n      <td>20.220000</td>\n      <td>8.019958</td>\n      <td>0.844</td>\n      <td>10</td>\n      <td>1</td>\n      <td>2017</td>\n      <td>127.38941</td>\n    </tr>\n    <tr>\n      <th>3</th>\n      <td>1.07</td>\n      <td>0.1592</td>\n      <td>0.939807</td>\n      <td>9.16</td>\n      <td>101.590000</td>\n      <td>139.780000</td>\n      <td>20.410000</td>\n      <td>8.038803</td>\n      <td>0.826</td>\n      <td>10</td>\n      <td>1</td>\n      <td>2017</td>\n      <td>127.38941</td>\n    </tr>\n    <tr>\n      <th>4</th>\n      <td>1.09</td>\n      <td>0.1340</td>\n      <td>0.797623</td>\n      <td>9.15</td>\n      <td>101.490000</td>\n      <td>139.750000</td>\n      <td>20.420000</td>\n      <td>8.024188</td>\n      <td>0.835</td>\n      <td>10</td>\n      <td>1</td>\n      <td>2017</td>\n      <td>127.38941</td>\n    </tr>\n  </tbody>\n</table>\n</div>"
     },
     "execution_count": 24,
     "metadata": {},
     "output_type": "execute_result"
    }
   ],
   "source": [
    "vp_solar_df.head()"
   ],
   "metadata": {
    "collapsed": false
   }
  },
  {
   "cell_type": "code",
   "execution_count": 25,
   "outputs": [
    {
     "data": {
      "text/plain": "331496"
     },
     "execution_count": 25,
     "metadata": {},
     "output_type": "execute_result"
    }
   ],
   "source": [
    "len(vp_solar_df)"
   ],
   "metadata": {
    "collapsed": false
   }
  },
  {
   "cell_type": "code",
   "execution_count": 26,
   "outputs": [
    {
     "data": {
      "text/plain": "<bound method NDFrame.describe of 0         2017\n1         2017\n2         2017\n3         2017\n4         2017\n          ... \n331491    2019\n331492    2019\n331493    2019\n331494    2019\n331495    2019\nName: year, Length: 331496, dtype: int64>"
     },
     "execution_count": 26,
     "metadata": {},
     "output_type": "execute_result"
    }
   ],
   "source": [
    "vp_solar_df.year.describe"
   ],
   "metadata": {
    "collapsed": false
   }
  },
  {
   "cell_type": "code",
   "execution_count": 28,
   "outputs": [],
   "source": [
    "vp_solar_df.to_csv(data_path + '/final_vp_data_2017_to_2019.csv', index=False)"
   ],
   "metadata": {
    "collapsed": false
   }
  },
  {
   "cell_type": "code",
   "execution_count": null,
   "outputs": [],
   "source": [],
   "metadata": {
    "collapsed": false
   }
  }
 ],
 "metadata": {
  "kernelspec": {
   "display_name": "Python 3",
   "language": "python",
   "name": "python3"
  },
  "language_info": {
   "codemirror_mode": {
    "name": "ipython",
    "version": 2
   },
   "file_extension": ".py",
   "mimetype": "text/x-python",
   "name": "python",
   "nbconvert_exporter": "python",
   "pygments_lexer": "ipython2",
   "version": "2.7.6"
  }
 },
 "nbformat": 4,
 "nbformat_minor": 0
}
