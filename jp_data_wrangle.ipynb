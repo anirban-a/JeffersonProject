{
 "cells": [
  {
   "cell_type": "code",
   "execution_count": 73,
   "metadata": {
    "collapsed": true
   },
   "outputs": [],
   "source": [
    "import pandas as pd"
   ]
  },
  {
   "cell_type": "code",
   "execution_count": 74,
   "outputs": [],
   "source": [
    "data_path = '/home/achara/data/achara/'"
   ],
   "metadata": {
    "collapsed": false
   }
  },
  {
   "cell_type": "code",
   "execution_count": 75,
   "outputs": [],
   "source": [
    "vp_17 = pd.read_csv(data_path + '2017_JP_VP.csv')\n",
    "vp_18 = pd.read_csv(data_path + '2018_JP_VP_Level4.csv')\n",
    "vp_19 = pd.read_csv(data_path + '2019_JP_VP_Level4.csv')"
   ],
   "metadata": {
    "collapsed": false
   }
  },
  {
   "cell_type": "code",
   "execution_count": 76,
   "outputs": [
    {
     "data": {
      "text/plain": "   PC_Water_EXO  Chla_Water_EXO  SensorDepth_Water_EXO         DateTime  \\\n0           NaN             NaN                    NaN  5/18/2017 18:32   \n1           NaN             NaN                    NaN  5/18/2017 18:42   \n2           NaN             NaN                    NaN  5/18/2017 18:52   \n3           NaN             NaN                    NaN  5/18/2017 19:02   \n4           NaN             NaN                    NaN  5/18/2017 19:12   \n\n   DO_Water_EXO  DO-Sat_Water_EXO  Pressure_Water_EXO  SpCond_Water_EXO  \\\n0           NaN               NaN                 NaN               NaN   \n1           NaN               NaN                 NaN               NaN   \n2           NaN               NaN                 NaN               NaN   \n3           NaN               NaN                 NaN               NaN   \n4           NaN               NaN                 NaN               NaN   \n\n   Temperature_Water_EXO  fDOM_Water_EXO  pH_Water_EXO  PC-TC_Water_EXO  \\\n0                    NaN             NaN           NaN              NaN   \n1                    NaN             NaN           NaN              NaN   \n2                    NaN             NaN           NaN              NaN   \n3                    NaN             NaN           NaN              NaN   \n4                    NaN             NaN           NaN              NaN   \n\n   fDOM-TC_Water_EXO  CalibrationChange_System_EXO         Sitename  \n0                NaN                           NaN  VP_AnthonysNose  \n1                NaN                           NaN  VP_AnthonysNose  \n2                NaN                           NaN  VP_AnthonysNose  \n3                NaN                           NaN  VP_AnthonysNose  \n4                NaN                           NaN  VP_AnthonysNose  ",
      "text/html": "<div>\n<style scoped>\n    .dataframe tbody tr th:only-of-type {\n        vertical-align: middle;\n    }\n\n    .dataframe tbody tr th {\n        vertical-align: top;\n    }\n\n    .dataframe thead th {\n        text-align: right;\n    }\n</style>\n<table border=\"1\" class=\"dataframe\">\n  <thead>\n    <tr style=\"text-align: right;\">\n      <th></th>\n      <th>PC_Water_EXO</th>\n      <th>Chla_Water_EXO</th>\n      <th>SensorDepth_Water_EXO</th>\n      <th>DateTime</th>\n      <th>DO_Water_EXO</th>\n      <th>DO-Sat_Water_EXO</th>\n      <th>Pressure_Water_EXO</th>\n      <th>SpCond_Water_EXO</th>\n      <th>Temperature_Water_EXO</th>\n      <th>fDOM_Water_EXO</th>\n      <th>pH_Water_EXO</th>\n      <th>PC-TC_Water_EXO</th>\n      <th>fDOM-TC_Water_EXO</th>\n      <th>CalibrationChange_System_EXO</th>\n      <th>Sitename</th>\n    </tr>\n  </thead>\n  <tbody>\n    <tr>\n      <th>0</th>\n      <td>NaN</td>\n      <td>NaN</td>\n      <td>NaN</td>\n      <td>5/18/2017 18:32</td>\n      <td>NaN</td>\n      <td>NaN</td>\n      <td>NaN</td>\n      <td>NaN</td>\n      <td>NaN</td>\n      <td>NaN</td>\n      <td>NaN</td>\n      <td>NaN</td>\n      <td>NaN</td>\n      <td>NaN</td>\n      <td>VP_AnthonysNose</td>\n    </tr>\n    <tr>\n      <th>1</th>\n      <td>NaN</td>\n      <td>NaN</td>\n      <td>NaN</td>\n      <td>5/18/2017 18:42</td>\n      <td>NaN</td>\n      <td>NaN</td>\n      <td>NaN</td>\n      <td>NaN</td>\n      <td>NaN</td>\n      <td>NaN</td>\n      <td>NaN</td>\n      <td>NaN</td>\n      <td>NaN</td>\n      <td>NaN</td>\n      <td>VP_AnthonysNose</td>\n    </tr>\n    <tr>\n      <th>2</th>\n      <td>NaN</td>\n      <td>NaN</td>\n      <td>NaN</td>\n      <td>5/18/2017 18:52</td>\n      <td>NaN</td>\n      <td>NaN</td>\n      <td>NaN</td>\n      <td>NaN</td>\n      <td>NaN</td>\n      <td>NaN</td>\n      <td>NaN</td>\n      <td>NaN</td>\n      <td>NaN</td>\n      <td>NaN</td>\n      <td>VP_AnthonysNose</td>\n    </tr>\n    <tr>\n      <th>3</th>\n      <td>NaN</td>\n      <td>NaN</td>\n      <td>NaN</td>\n      <td>5/18/2017 19:02</td>\n      <td>NaN</td>\n      <td>NaN</td>\n      <td>NaN</td>\n      <td>NaN</td>\n      <td>NaN</td>\n      <td>NaN</td>\n      <td>NaN</td>\n      <td>NaN</td>\n      <td>NaN</td>\n      <td>NaN</td>\n      <td>VP_AnthonysNose</td>\n    </tr>\n    <tr>\n      <th>4</th>\n      <td>NaN</td>\n      <td>NaN</td>\n      <td>NaN</td>\n      <td>5/18/2017 19:12</td>\n      <td>NaN</td>\n      <td>NaN</td>\n      <td>NaN</td>\n      <td>NaN</td>\n      <td>NaN</td>\n      <td>NaN</td>\n      <td>NaN</td>\n      <td>NaN</td>\n      <td>NaN</td>\n      <td>NaN</td>\n      <td>VP_AnthonysNose</td>\n    </tr>\n  </tbody>\n</table>\n</div>"
     },
     "execution_count": 76,
     "metadata": {},
     "output_type": "execute_result"
    }
   ],
   "source": [
    "vp_17.head()"
   ],
   "metadata": {
    "collapsed": false
   }
  },
  {
   "cell_type": "code",
   "execution_count": 77,
   "outputs": [
    {
     "data": {
      "text/plain": "              DateTime        Site_Name  Chla_Water_EXO  \\\n0  2018-05-09 23:12:00  VP_AnthonysNose             NaN   \n1  2018-05-09 23:22:00  VP_AnthonysNose             NaN   \n2  2018-05-09 23:32:00  VP_AnthonysNose             NaN   \n3  2018-05-09 23:42:00  VP_AnthonysNose             NaN   \n4  2018-05-09 23:52:00  VP_AnthonysNose             NaN   \n\n   SensorDepth_Water_EXO  DO_Water_EXO  DO-Sat_Water_EXO  SpCond_Water_EXO  \\\n0                    NaN           NaN               NaN               NaN   \n1                    NaN           NaN               NaN               NaN   \n2                    NaN           NaN               NaN               NaN   \n3                    NaN           NaN               NaN               NaN   \n4                    NaN           NaN               NaN               NaN   \n\n   Temperature_Water_EXO  Turbidity_Water_EXO  pH_Water_EXO  PC_Water_EXO  \\\n0                    NaN                  NaN           NaN           NaN   \n1                    NaN                  NaN           NaN           NaN   \n2                    NaN                  NaN           NaN           NaN   \n3                    NaN                  NaN           NaN           NaN   \n4                    NaN                  NaN           NaN           NaN   \n\n   fDOM_Water_EXO  \n0             NaN  \n1             NaN  \n2             NaN  \n3             NaN  \n4             NaN  ",
      "text/html": "<div>\n<style scoped>\n    .dataframe tbody tr th:only-of-type {\n        vertical-align: middle;\n    }\n\n    .dataframe tbody tr th {\n        vertical-align: top;\n    }\n\n    .dataframe thead th {\n        text-align: right;\n    }\n</style>\n<table border=\"1\" class=\"dataframe\">\n  <thead>\n    <tr style=\"text-align: right;\">\n      <th></th>\n      <th>DateTime</th>\n      <th>Site_Name</th>\n      <th>Chla_Water_EXO</th>\n      <th>SensorDepth_Water_EXO</th>\n      <th>DO_Water_EXO</th>\n      <th>DO-Sat_Water_EXO</th>\n      <th>SpCond_Water_EXO</th>\n      <th>Temperature_Water_EXO</th>\n      <th>Turbidity_Water_EXO</th>\n      <th>pH_Water_EXO</th>\n      <th>PC_Water_EXO</th>\n      <th>fDOM_Water_EXO</th>\n    </tr>\n  </thead>\n  <tbody>\n    <tr>\n      <th>0</th>\n      <td>2018-05-09 23:12:00</td>\n      <td>VP_AnthonysNose</td>\n      <td>NaN</td>\n      <td>NaN</td>\n      <td>NaN</td>\n      <td>NaN</td>\n      <td>NaN</td>\n      <td>NaN</td>\n      <td>NaN</td>\n      <td>NaN</td>\n      <td>NaN</td>\n      <td>NaN</td>\n    </tr>\n    <tr>\n      <th>1</th>\n      <td>2018-05-09 23:22:00</td>\n      <td>VP_AnthonysNose</td>\n      <td>NaN</td>\n      <td>NaN</td>\n      <td>NaN</td>\n      <td>NaN</td>\n      <td>NaN</td>\n      <td>NaN</td>\n      <td>NaN</td>\n      <td>NaN</td>\n      <td>NaN</td>\n      <td>NaN</td>\n    </tr>\n    <tr>\n      <th>2</th>\n      <td>2018-05-09 23:32:00</td>\n      <td>VP_AnthonysNose</td>\n      <td>NaN</td>\n      <td>NaN</td>\n      <td>NaN</td>\n      <td>NaN</td>\n      <td>NaN</td>\n      <td>NaN</td>\n      <td>NaN</td>\n      <td>NaN</td>\n      <td>NaN</td>\n      <td>NaN</td>\n    </tr>\n    <tr>\n      <th>3</th>\n      <td>2018-05-09 23:42:00</td>\n      <td>VP_AnthonysNose</td>\n      <td>NaN</td>\n      <td>NaN</td>\n      <td>NaN</td>\n      <td>NaN</td>\n      <td>NaN</td>\n      <td>NaN</td>\n      <td>NaN</td>\n      <td>NaN</td>\n      <td>NaN</td>\n      <td>NaN</td>\n    </tr>\n    <tr>\n      <th>4</th>\n      <td>2018-05-09 23:52:00</td>\n      <td>VP_AnthonysNose</td>\n      <td>NaN</td>\n      <td>NaN</td>\n      <td>NaN</td>\n      <td>NaN</td>\n      <td>NaN</td>\n      <td>NaN</td>\n      <td>NaN</td>\n      <td>NaN</td>\n      <td>NaN</td>\n      <td>NaN</td>\n    </tr>\n  </tbody>\n</table>\n</div>"
     },
     "execution_count": 77,
     "metadata": {},
     "output_type": "execute_result"
    }
   ],
   "source": [
    "vp_18.head()"
   ],
   "metadata": {
    "collapsed": false
   }
  },
  {
   "cell_type": "code",
   "execution_count": 78,
   "outputs": [
    {
     "data": {
      "text/plain": "              DateTime        Site_Name  Chla_Water_EXO  \\\n0  2019-05-02 18:22:00  VP_AnthonysNose             NaN   \n1  2019-05-02 18:32:00  VP_AnthonysNose             NaN   \n2  2019-05-02 18:42:00  VP_AnthonysNose             NaN   \n3  2019-05-06 19:41:33  VP_AnthonysNose             NaN   \n4  2019-05-06 19:42:00  VP_AnthonysNose             NaN   \n\n   SensorDepth_Water_EXO  DO_Water_EXO  DO-Sat_Water_EXO  SpCond_Water_EXO  \\\n0                    NaN           NaN               NaN               NaN   \n1                    NaN           NaN               NaN               NaN   \n2                    NaN           NaN               NaN               NaN   \n3                   1.04        11.934            103.17               NaN   \n4                    NaN           NaN               NaN               NaN   \n\n   Temperature_Water_EXO  Turbidity_Water_EXO  pH_Water_EXO  PC_Water_EXO  \\\n0                    NaN                  NaN           NaN           NaN   \n1                    NaN                  NaN           NaN           NaN   \n2                    NaN                  NaN           NaN           NaN   \n3                   8.46                 0.54          7.46      0.174836   \n4                    NaN                  NaN           NaN           NaN   \n\n   fDOM_Water_EXO  VerticalPosition_Water_EXO  \n0             NaN                         NaN  \n1             NaN                         NaN  \n2             NaN                         NaN  \n3        0.998942                         NaN  \n4             NaN                         NaN  ",
      "text/html": "<div>\n<style scoped>\n    .dataframe tbody tr th:only-of-type {\n        vertical-align: middle;\n    }\n\n    .dataframe tbody tr th {\n        vertical-align: top;\n    }\n\n    .dataframe thead th {\n        text-align: right;\n    }\n</style>\n<table border=\"1\" class=\"dataframe\">\n  <thead>\n    <tr style=\"text-align: right;\">\n      <th></th>\n      <th>DateTime</th>\n      <th>Site_Name</th>\n      <th>Chla_Water_EXO</th>\n      <th>SensorDepth_Water_EXO</th>\n      <th>DO_Water_EXO</th>\n      <th>DO-Sat_Water_EXO</th>\n      <th>SpCond_Water_EXO</th>\n      <th>Temperature_Water_EXO</th>\n      <th>Turbidity_Water_EXO</th>\n      <th>pH_Water_EXO</th>\n      <th>PC_Water_EXO</th>\n      <th>fDOM_Water_EXO</th>\n      <th>VerticalPosition_Water_EXO</th>\n    </tr>\n  </thead>\n  <tbody>\n    <tr>\n      <th>0</th>\n      <td>2019-05-02 18:22:00</td>\n      <td>VP_AnthonysNose</td>\n      <td>NaN</td>\n      <td>NaN</td>\n      <td>NaN</td>\n      <td>NaN</td>\n      <td>NaN</td>\n      <td>NaN</td>\n      <td>NaN</td>\n      <td>NaN</td>\n      <td>NaN</td>\n      <td>NaN</td>\n      <td>NaN</td>\n    </tr>\n    <tr>\n      <th>1</th>\n      <td>2019-05-02 18:32:00</td>\n      <td>VP_AnthonysNose</td>\n      <td>NaN</td>\n      <td>NaN</td>\n      <td>NaN</td>\n      <td>NaN</td>\n      <td>NaN</td>\n      <td>NaN</td>\n      <td>NaN</td>\n      <td>NaN</td>\n      <td>NaN</td>\n      <td>NaN</td>\n      <td>NaN</td>\n    </tr>\n    <tr>\n      <th>2</th>\n      <td>2019-05-02 18:42:00</td>\n      <td>VP_AnthonysNose</td>\n      <td>NaN</td>\n      <td>NaN</td>\n      <td>NaN</td>\n      <td>NaN</td>\n      <td>NaN</td>\n      <td>NaN</td>\n      <td>NaN</td>\n      <td>NaN</td>\n      <td>NaN</td>\n      <td>NaN</td>\n      <td>NaN</td>\n    </tr>\n    <tr>\n      <th>3</th>\n      <td>2019-05-06 19:41:33</td>\n      <td>VP_AnthonysNose</td>\n      <td>NaN</td>\n      <td>1.04</td>\n      <td>11.934</td>\n      <td>103.17</td>\n      <td>NaN</td>\n      <td>8.46</td>\n      <td>0.54</td>\n      <td>7.46</td>\n      <td>0.174836</td>\n      <td>0.998942</td>\n      <td>NaN</td>\n    </tr>\n    <tr>\n      <th>4</th>\n      <td>2019-05-06 19:42:00</td>\n      <td>VP_AnthonysNose</td>\n      <td>NaN</td>\n      <td>NaN</td>\n      <td>NaN</td>\n      <td>NaN</td>\n      <td>NaN</td>\n      <td>NaN</td>\n      <td>NaN</td>\n      <td>NaN</td>\n      <td>NaN</td>\n      <td>NaN</td>\n      <td>NaN</td>\n    </tr>\n  </tbody>\n</table>\n</div>"
     },
     "execution_count": 78,
     "metadata": {},
     "output_type": "execute_result"
    }
   ],
   "source": [
    "vp_19.head()"
   ],
   "metadata": {
    "collapsed": false
   }
  },
  {
   "cell_type": "code",
   "execution_count": 79,
   "outputs": [],
   "source": [
    "def remove_time(datetime:str)->str:\n",
    "    return datetime.split(' ')[0]"
   ],
   "metadata": {
    "collapsed": false
   }
  },
  {
   "cell_type": "markdown",
   "source": [
    "## Remove time from date time"
   ],
   "metadata": {
    "collapsed": false
   }
  },
  {
   "cell_type": "code",
   "execution_count": 80,
   "outputs": [],
   "source": [
    "vp_17.DateTime = vp_17.DateTime.map(remove_time)\n",
    "vp_18.DateTime = vp_18.DateTime.map(remove_time)\n",
    "vp_19.DateTime = vp_19.DateTime.map(remove_time)"
   ],
   "metadata": {
    "collapsed": false
   }
  },
  {
   "cell_type": "markdown",
   "source": [
    "## Date formats are not same across the 3 data sets, so we need to fix them"
   ],
   "metadata": {
    "collapsed": false
   }
  },
  {
   "cell_type": "code",
   "execution_count": 81,
   "outputs": [],
   "source": [
    "def convert_date_format(date:str)->str:\n",
    "    parts = date.split('-')\n",
    "    parts.append(parts.pop(0))\n",
    "    standardize = list(map(int, parts))\n",
    "    return '/'.join(list(map(str, standardize)))"
   ],
   "metadata": {
    "collapsed": false
   }
  },
  {
   "cell_type": "code",
   "execution_count": 82,
   "outputs": [],
   "source": [
    "vp_18.DateTime = vp_18.DateTime.map(convert_date_format)\n",
    "vp_19.DateTime = vp_19.DateTime.map(convert_date_format)"
   ],
   "metadata": {
    "collapsed": false
   }
  },
  {
   "cell_type": "markdown",
   "source": [
    "## Rename column to suitable name"
   ],
   "metadata": {
    "collapsed": false
   }
  },
  {
   "cell_type": "code",
   "execution_count": 83,
   "outputs": [],
   "source": [
    "vp_17 = vp_17.rename(columns={'fDOM_Water_EXO':'rel_fl'})\n",
    "vp_18 = vp_18.rename(columns={'fDOM_Water_EXO':'rel_fl'})\n",
    "vp_19 = vp_19.rename(columns={'fDOM_Water_EXO':'rel_fl'})"
   ],
   "metadata": {
    "collapsed": false
   }
  },
  {
   "cell_type": "markdown",
   "source": [
    "## Group by DateTime keeping the sensor depth information"
   ],
   "metadata": {
    "collapsed": false
   }
  },
  {
   "cell_type": "code",
   "execution_count": 84,
   "outputs": [],
   "source": [
    "vp_17_mean = vp_17.groupby(['DateTime','SensorDepth_Water_EXO'])[[\n",
    "    'PC_Water_EXO',\n",
    "    'Chla_Water_EXO',\n",
    "    'DO_Water_EXO',\n",
    "    'DO-Sat_Water_EXO',\n",
    "    'SpCond_Water_EXO',\n",
    "    'Temperature_Water_EXO',\n",
    "    'pH_Water_EXO',\n",
    "    'rel_fl'\n",
    "]].mean()"
   ],
   "metadata": {
    "collapsed": false
   }
  },
  {
   "cell_type": "code",
   "execution_count": 85,
   "outputs": [],
   "source": [
    "vp_18_mean = vp_18.groupby(['DateTime','SensorDepth_Water_EXO'])[[\n",
    "    'PC_Water_EXO',\n",
    "    'Chla_Water_EXO',\n",
    "    'DO_Water_EXO',\n",
    "    'DO-Sat_Water_EXO',\n",
    "    'SpCond_Water_EXO',\n",
    "    'Temperature_Water_EXO',\n",
    "    'pH_Water_EXO',\n",
    "    'rel_fl'\n",
    "]].mean()"
   ],
   "metadata": {
    "collapsed": false
   }
  },
  {
   "cell_type": "code",
   "execution_count": 86,
   "outputs": [],
   "source": [
    "vp_19_mean = vp_19.groupby(['DateTime','SensorDepth_Water_EXO'])[[\n",
    "    'PC_Water_EXO',\n",
    "    'Chla_Water_EXO',\n",
    "    'DO_Water_EXO',\n",
    "    'DO-Sat_Water_EXO',\n",
    "    'SpCond_Water_EXO',\n",
    "    'Temperature_Water_EXO',\n",
    "    'pH_Water_EXO',\n",
    "    'rel_fl'\n",
    "]].mean()"
   ],
   "metadata": {
    "collapsed": false
   }
  },
  {
   "cell_type": "code",
   "execution_count": 87,
   "outputs": [],
   "source": [
    "vp_df = vp_17_mean.append(vp_18_mean)"
   ],
   "metadata": {
    "collapsed": false
   }
  },
  {
   "cell_type": "code",
   "execution_count": 88,
   "outputs": [],
   "source": [
    "vp_df = vp_df.append(vp_19_mean)"
   ],
   "metadata": {
    "collapsed": false
   }
  },
  {
   "cell_type": "code",
   "execution_count": 88,
   "outputs": [],
   "source": [],
   "metadata": {
    "collapsed": false
   }
  }
 ],
 "metadata": {
  "kernelspec": {
   "display_name": "Python 3",
   "language": "python",
   "name": "python3"
  },
  "language_info": {
   "codemirror_mode": {
    "name": "ipython",
    "version": 2
   },
   "file_extension": ".py",
   "mimetype": "text/x-python",
   "name": "python",
   "nbconvert_exporter": "python",
   "pygments_lexer": "ipython2",
   "version": "2.7.6"
  }
 },
 "nbformat": 4,
 "nbformat_minor": 0
}
