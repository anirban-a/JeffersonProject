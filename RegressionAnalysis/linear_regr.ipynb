{
 "cells": [
  {
   "cell_type": "code",
   "execution_count": 174,
   "outputs": [],
   "source": [
    "\n",
    "import pandas as pd\n",
    "from sklearn.model_selection import train_test_split"
   ],
   "metadata": {
    "collapsed": false
   }
  },
  {
   "cell_type": "code",
   "execution_count": 175,
   "outputs": [],
   "source": [
    "pd.set_option(\"max_rows\", 25)"
   ],
   "metadata": {
    "collapsed": false
   }
  },
  {
   "cell_type": "code",
   "execution_count": 176,
   "outputs": [],
   "source": [
    "data_path = '/home/achara/data/achara/'\n",
    "df = pd.read_csv(data_path + 'pc_data_2017_to_2019_2.csv')"
   ],
   "metadata": {
    "collapsed": false
   }
  },
  {
   "cell_type": "code",
   "execution_count": 177,
   "outputs": [
    {
     "data": {
      "text/plain": "    DateTime  SensorDepth_Water_EXO  PC_Water_EXO  Chla_Water_EXO  \\\n0  10/1/2017                   1.01        0.1556        0.358058   \n1  10/1/2017                   1.03        0.1520        0.544445   \n2  10/1/2017                   1.05        0.1304        0.843708   \n3  10/1/2017                   1.07        0.1592        0.939807   \n4  10/1/2017                   1.09        0.1340        0.797623   \n\n   DO_Water_EXO  DO-Sat_Water_EXO  SpCond_Water_EXO  Temperature_Water_EXO  \\\n0          9.17        101.610000        139.810000              20.380000   \n1          9.18        101.776667        139.786667              20.386667   \n2          9.16        101.230000        139.660000              20.220000   \n3          9.16        101.590000        139.780000              20.410000   \n4          9.15        101.490000        139.750000              20.420000   \n\n   pH_Water_EXO  rel_fl  ...         TP       TSP       SRP        TN    NO3  \\\n0      8.010344   0.880  ...  25.691678  9.009938  5.594708  0.498284  0.191   \n1      8.027139   0.862  ...  25.691678  9.009938  5.594708  0.498284  0.191   \n2      8.019958   0.844  ...  25.691678  9.009938  5.594708  0.498284  0.191   \n3      8.038803   0.826  ...  25.691678  9.009938  5.594708  0.498284  0.191   \n4      8.024188   0.835  ...  25.691678  9.009938  5.594708  0.498284  0.191   \n\n     NH4         PP  PRECTOTCORR  ALLSKY_SFC_SW_DWN  ALLSKY_SFC_LW_DWN  \n0  0.005  16.681741     4.319851           2.424178         310.373726  \n1  0.005  16.681741     4.319851           2.424178         310.373726  \n2  0.005  16.681741     4.319851           2.424178         310.373726  \n3  0.005  16.681741     4.319851           2.424178         310.373726  \n4  0.005  16.681741     4.319851           2.424178         310.373726  \n\n[5 rows x 24 columns]",
      "text/html": "<div>\n<style scoped>\n    .dataframe tbody tr th:only-of-type {\n        vertical-align: middle;\n    }\n\n    .dataframe tbody tr th {\n        vertical-align: top;\n    }\n\n    .dataframe thead th {\n        text-align: right;\n    }\n</style>\n<table border=\"1\" class=\"dataframe\">\n  <thead>\n    <tr style=\"text-align: right;\">\n      <th></th>\n      <th>DateTime</th>\n      <th>SensorDepth_Water_EXO</th>\n      <th>PC_Water_EXO</th>\n      <th>Chla_Water_EXO</th>\n      <th>DO_Water_EXO</th>\n      <th>DO-Sat_Water_EXO</th>\n      <th>SpCond_Water_EXO</th>\n      <th>Temperature_Water_EXO</th>\n      <th>pH_Water_EXO</th>\n      <th>rel_fl</th>\n      <th>...</th>\n      <th>TP</th>\n      <th>TSP</th>\n      <th>SRP</th>\n      <th>TN</th>\n      <th>NO3</th>\n      <th>NH4</th>\n      <th>PP</th>\n      <th>PRECTOTCORR</th>\n      <th>ALLSKY_SFC_SW_DWN</th>\n      <th>ALLSKY_SFC_LW_DWN</th>\n    </tr>\n  </thead>\n  <tbody>\n    <tr>\n      <th>0</th>\n      <td>10/1/2017</td>\n      <td>1.01</td>\n      <td>0.1556</td>\n      <td>0.358058</td>\n      <td>9.17</td>\n      <td>101.610000</td>\n      <td>139.810000</td>\n      <td>20.380000</td>\n      <td>8.010344</td>\n      <td>0.880</td>\n      <td>...</td>\n      <td>25.691678</td>\n      <td>9.009938</td>\n      <td>5.594708</td>\n      <td>0.498284</td>\n      <td>0.191</td>\n      <td>0.005</td>\n      <td>16.681741</td>\n      <td>4.319851</td>\n      <td>2.424178</td>\n      <td>310.373726</td>\n    </tr>\n    <tr>\n      <th>1</th>\n      <td>10/1/2017</td>\n      <td>1.03</td>\n      <td>0.1520</td>\n      <td>0.544445</td>\n      <td>9.18</td>\n      <td>101.776667</td>\n      <td>139.786667</td>\n      <td>20.386667</td>\n      <td>8.027139</td>\n      <td>0.862</td>\n      <td>...</td>\n      <td>25.691678</td>\n      <td>9.009938</td>\n      <td>5.594708</td>\n      <td>0.498284</td>\n      <td>0.191</td>\n      <td>0.005</td>\n      <td>16.681741</td>\n      <td>4.319851</td>\n      <td>2.424178</td>\n      <td>310.373726</td>\n    </tr>\n    <tr>\n      <th>2</th>\n      <td>10/1/2017</td>\n      <td>1.05</td>\n      <td>0.1304</td>\n      <td>0.843708</td>\n      <td>9.16</td>\n      <td>101.230000</td>\n      <td>139.660000</td>\n      <td>20.220000</td>\n      <td>8.019958</td>\n      <td>0.844</td>\n      <td>...</td>\n      <td>25.691678</td>\n      <td>9.009938</td>\n      <td>5.594708</td>\n      <td>0.498284</td>\n      <td>0.191</td>\n      <td>0.005</td>\n      <td>16.681741</td>\n      <td>4.319851</td>\n      <td>2.424178</td>\n      <td>310.373726</td>\n    </tr>\n    <tr>\n      <th>3</th>\n      <td>10/1/2017</td>\n      <td>1.07</td>\n      <td>0.1592</td>\n      <td>0.939807</td>\n      <td>9.16</td>\n      <td>101.590000</td>\n      <td>139.780000</td>\n      <td>20.410000</td>\n      <td>8.038803</td>\n      <td>0.826</td>\n      <td>...</td>\n      <td>25.691678</td>\n      <td>9.009938</td>\n      <td>5.594708</td>\n      <td>0.498284</td>\n      <td>0.191</td>\n      <td>0.005</td>\n      <td>16.681741</td>\n      <td>4.319851</td>\n      <td>2.424178</td>\n      <td>310.373726</td>\n    </tr>\n    <tr>\n      <th>4</th>\n      <td>10/1/2017</td>\n      <td>1.09</td>\n      <td>0.1340</td>\n      <td>0.797623</td>\n      <td>9.15</td>\n      <td>101.490000</td>\n      <td>139.750000</td>\n      <td>20.420000</td>\n      <td>8.024188</td>\n      <td>0.835</td>\n      <td>...</td>\n      <td>25.691678</td>\n      <td>9.009938</td>\n      <td>5.594708</td>\n      <td>0.498284</td>\n      <td>0.191</td>\n      <td>0.005</td>\n      <td>16.681741</td>\n      <td>4.319851</td>\n      <td>2.424178</td>\n      <td>310.373726</td>\n    </tr>\n  </tbody>\n</table>\n<p>5 rows × 24 columns</p>\n</div>"
     },
     "execution_count": 177,
     "metadata": {},
     "output_type": "execute_result"
    }
   ],
   "source": [
    "df.head()"
   ],
   "metadata": {
    "collapsed": false
   }
  },
  {
   "cell_type": "markdown",
   "source": [
    "## Feature scaling and Linear model building"
   ],
   "metadata": {
    "collapsed": false
   }
  },
  {
   "cell_type": "code",
   "execution_count": 178,
   "outputs": [],
   "source": [
    "from sklearn.linear_model import LinearRegression\n",
    "from sklearn.preprocessing import MinMaxScaler"
   ],
   "metadata": {
    "collapsed": false
   }
  },
  {
   "cell_type": "code",
   "execution_count": 179,
   "outputs": [
    {
     "data": {
      "text/plain": "Index(['DateTime', 'SensorDepth_Water_EXO', 'PC_Water_EXO', 'Chla_Water_EXO',\n       'DO_Water_EXO', 'DO-Sat_Water_EXO', 'SpCond_Water_EXO',\n       'Temperature_Water_EXO', 'pH_Water_EXO', 'rel_fl', 'month', 'day',\n       'year', 'SolarRad_Air_LiCor', 'TP', 'TSP', 'SRP', 'TN', 'NO3', 'NH4',\n       'PP', 'PRECTOTCORR', 'ALLSKY_SFC_SW_DWN', 'ALLSKY_SFC_LW_DWN'],\n      dtype='object')"
     },
     "execution_count": 179,
     "metadata": {},
     "output_type": "execute_result"
    }
   ],
   "source": [
    "df.columns"
   ],
   "metadata": {
    "collapsed": false
   }
  },
  {
   "cell_type": "code",
   "execution_count": 180,
   "outputs": [],
   "source": [
    "features = [\n",
    "    # 'DO-Sat_Water_EXO',\n",
    "    'SensorDepth_Water_EXO',  #\n",
    "    'SolarRad_Air_LiCor',\n",
    "    'DO_Water_EXO',\n",
    "    # 'SpCond_Water_EXO', #\n",
    "    'Temperature_Water_EXO',  #\n",
    "    'pH_Water_EXO',  #\n",
    "    # 'PRECTOTCORR',\n",
    "    'rel_fl',\n",
    "    'Chla_Water_EXO',\n",
    "    'NO3',\n",
    "    'NH4',  #\n",
    "    'ALLSKY_SFC_LW_DWN']"
   ],
   "metadata": {
    "collapsed": false
   }
  },
  {
   "cell_type": "markdown",
   "source": [
    "### Feature scaling"
   ],
   "metadata": {
    "collapsed": false
   }
  },
  {
   "cell_type": "code",
   "execution_count": 181,
   "outputs": [],
   "source": [
    "n_rows = len(df)\n",
    "train_size_percent = 0.8\n",
    "train_size = round(train_size_percent * n_rows)\n",
    "test_size = n_rows - train_size"
   ],
   "metadata": {
    "collapsed": false
   }
  },
  {
   "cell_type": "code",
   "execution_count": 182,
   "outputs": [],
   "source": [
    "train_df, test_df = train_test_split(df, train_size=train_size, test_size=test_size)"
   ],
   "metadata": {
    "collapsed": false
   }
  },
  {
   "cell_type": "code",
   "execution_count": 183,
   "outputs": [],
   "source": [
    "train_x = train_df[features]\n",
    "train_y = train_df.PC_Water_EXO\n",
    "\n",
    "test_x = test_df[features]\n",
    "test_y = test_df.PC_Water_EXO"
   ],
   "metadata": {
    "collapsed": false
   }
  },
  {
   "cell_type": "code",
   "execution_count": 184,
   "outputs": [],
   "source": [
    "train_x_scaled = pd.DataFrame(MinMaxScaler().fit_transform(train_x), columns=features)\n",
    "test_x_scaled = pd.DataFrame(MinMaxScaler().fit_transform(test_x), columns=features)"
   ],
   "metadata": {
    "collapsed": false
   }
  },
  {
   "cell_type": "markdown",
   "source": [
    "### Model building"
   ],
   "metadata": {
    "collapsed": false
   }
  },
  {
   "cell_type": "code",
   "execution_count": 185,
   "outputs": [],
   "source": [
    "def adjusted_r2_score(data_frame, r2_score):\n",
    "    n = data_frame.shape[0]\n",
    "    k = data_frame.shape[1]\n",
    "    return 1 - ((1 - r2_score) * (n - 1) / (n - k - 1))"
   ],
   "metadata": {
    "collapsed": false
   }
  },
  {
   "cell_type": "code",
   "execution_count": 186,
   "outputs": [],
   "source": [
    "lm = LinearRegression()"
   ],
   "metadata": {
    "collapsed": false
   }
  },
  {
   "cell_type": "code",
   "execution_count": 187,
   "outputs": [
    {
     "data": {
      "text/plain": "LinearRegression()"
     },
     "execution_count": 187,
     "metadata": {},
     "output_type": "execute_result"
    }
   ],
   "source": [
    "lm.fit(train_x_scaled, train_y)"
   ],
   "metadata": {
    "collapsed": false
   }
  },
  {
   "cell_type": "code",
   "execution_count": 188,
   "outputs": [
    {
     "data": {
      "text/plain": "0.5909151563050371"
     },
     "execution_count": 188,
     "metadata": {},
     "output_type": "execute_result"
    }
   ],
   "source": [
    "lm.score(train_x_scaled, train_y)"
   ],
   "metadata": {
    "collapsed": false
   }
  },
  {
   "cell_type": "code",
   "execution_count": 189,
   "outputs": [],
   "source": [
    "y_pred = lm.predict(test_x)"
   ],
   "metadata": {
    "collapsed": false
   }
  },
  {
   "cell_type": "code",
   "execution_count": 190,
   "outputs": [
    {
     "name": "stdout",
     "output_type": "stream",
     "text": [
      "0.42947316027671745\n"
     ]
    }
   ],
   "source": [
    "r2 = lm.score(test_x_scaled, test_y)\n",
    "print(r2)"
   ],
   "metadata": {
    "collapsed": false
   }
  },
  {
   "cell_type": "code",
   "execution_count": 191,
   "outputs": [],
   "source": [
    "n = test_x.shape[0]\n",
    "k = test_x.shape[1]\n",
    "\n",
    "adjusted_r2 = 1 - ((1 - r2) * (n - 1) / (n - k - 1))"
   ],
   "metadata": {
    "collapsed": false
   }
  },
  {
   "cell_type": "code",
   "execution_count": 192,
   "outputs": [
    {
     "name": "stdout",
     "output_type": "stream",
     "text": [
      "Adjusted R2:  0.4293870923851347\n"
     ]
    }
   ],
   "source": [
    "print(\"Adjusted R2: \", adjusted_r2_score(test_x, r2))"
   ],
   "metadata": {
    "collapsed": false
   }
  },
  {
   "cell_type": "code",
   "execution_count": 193,
   "outputs": [],
   "source": [
    "import statsmodels.api as sm"
   ],
   "metadata": {
    "collapsed": false
   }
  },
  {
   "cell_type": "code",
   "execution_count": 194,
   "outputs": [],
   "source": [
    "x2 = sm.add_constant(test_x)"
   ],
   "metadata": {
    "collapsed": false
   }
  },
  {
   "cell_type": "code",
   "execution_count": 195,
   "outputs": [],
   "source": [
    "est = sm.OLS(test_y, x2)"
   ],
   "metadata": {
    "collapsed": false
   }
  },
  {
   "cell_type": "code",
   "execution_count": 196,
   "outputs": [],
   "source": [
    "est_fit = est.fit()"
   ],
   "metadata": {
    "collapsed": false
   }
  },
  {
   "cell_type": "code",
   "execution_count": 197,
   "outputs": [
    {
     "data": {
      "text/plain": "<class 'statsmodels.iolib.summary.Summary'>\n\"\"\"\n                            OLS Regression Results                            \n==============================================================================\nDep. Variable:           PC_Water_EXO   R-squared:                       0.594\nModel:                            OLS   Adj. R-squared:                  0.594\nMethod:                 Least Squares   F-statistic:                     9696.\nDate:                Sat, 22 Apr 2023   Prob (F-statistic):               0.00\nTime:                        14:04:13   Log-Likelihood:                 60613.\nNo. Observations:               66299   AIC:                        -1.212e+05\nDf Residuals:                   66288   BIC:                        -1.211e+05\nDf Model:                          10                                         \nCovariance Type:            nonrobust                                         \n=========================================================================================\n                            coef    std err          t      P>|t|      [0.025      0.975]\n-----------------------------------------------------------------------------------------\nconst                    -0.1267      0.019     -6.639      0.000      -0.164      -0.089\nSensorDepth_Water_EXO     0.0021   5.87e-05     36.250      0.000       0.002       0.002\nSolarRad_Air_LiCor       -0.0003   9.85e-06    -28.368      0.000      -0.000      -0.000\nDO_Water_EXO              0.0185      0.001     34.939      0.000       0.017       0.020\nTemperature_Water_EXO     0.0040      0.000     20.949      0.000       0.004       0.004\npH_Water_EXO             -0.0279      0.003    -10.303      0.000      -0.033      -0.023\nrel_fl                    0.1778      0.001    239.979      0.000       0.176       0.179\nChla_Water_EXO            0.0212      0.000     59.087      0.000       0.020       0.022\nNO3                       0.1470      0.004     34.136      0.000       0.139       0.155\nNH4                       1.6678      0.083     20.006      0.000       1.504       1.831\nALLSKY_SFC_LW_DWN      9.833e-05   1.42e-05      6.941      0.000    7.06e-05       0.000\n==============================================================================\nOmnibus:                       26.641   Durbin-Watson:                   2.000\nProb(Omnibus):                  0.000   Jarque-Bera (JB):               26.664\nSkew:                           0.048   Prob(JB):                     1.62e-06\nKurtosis:                       2.977   Cond. No.                     8.78e+04\n==============================================================================\n\nNotes:\n[1] Standard Errors assume that the covariance matrix of the errors is correctly specified.\n[2] The condition number is large, 8.78e+04. This might indicate that there are\nstrong multicollinearity or other numerical problems.\n\"\"\"",
      "text/html": "<table class=\"simpletable\">\n<caption>OLS Regression Results</caption>\n<tr>\n  <th>Dep. Variable:</th>      <td>PC_Water_EXO</td>   <th>  R-squared:         </th>  <td>   0.594</td> \n</tr>\n<tr>\n  <th>Model:</th>                   <td>OLS</td>       <th>  Adj. R-squared:    </th>  <td>   0.594</td> \n</tr>\n<tr>\n  <th>Method:</th>             <td>Least Squares</td>  <th>  F-statistic:       </th>  <td>   9696.</td> \n</tr>\n<tr>\n  <th>Date:</th>             <td>Sat, 22 Apr 2023</td> <th>  Prob (F-statistic):</th>   <td>  0.00</td>  \n</tr>\n<tr>\n  <th>Time:</th>                 <td>14:04:13</td>     <th>  Log-Likelihood:    </th>  <td>  60613.</td> \n</tr>\n<tr>\n  <th>No. Observations:</th>      <td> 66299</td>      <th>  AIC:               </th> <td>-1.212e+05</td>\n</tr>\n<tr>\n  <th>Df Residuals:</th>          <td> 66288</td>      <th>  BIC:               </th> <td>-1.211e+05</td>\n</tr>\n<tr>\n  <th>Df Model:</th>              <td>    10</td>      <th>                     </th>      <td> </td>    \n</tr>\n<tr>\n  <th>Covariance Type:</th>      <td>nonrobust</td>    <th>                     </th>      <td> </td>    \n</tr>\n</table>\n<table class=\"simpletable\">\n<tr>\n            <td></td>               <th>coef</th>     <th>std err</th>      <th>t</th>      <th>P>|t|</th>  <th>[0.025</th>    <th>0.975]</th>  \n</tr>\n<tr>\n  <th>const</th>                 <td>   -0.1267</td> <td>    0.019</td> <td>   -6.639</td> <td> 0.000</td> <td>   -0.164</td> <td>   -0.089</td>\n</tr>\n<tr>\n  <th>SensorDepth_Water_EXO</th> <td>    0.0021</td> <td> 5.87e-05</td> <td>   36.250</td> <td> 0.000</td> <td>    0.002</td> <td>    0.002</td>\n</tr>\n<tr>\n  <th>SolarRad_Air_LiCor</th>    <td>   -0.0003</td> <td> 9.85e-06</td> <td>  -28.368</td> <td> 0.000</td> <td>   -0.000</td> <td>   -0.000</td>\n</tr>\n<tr>\n  <th>DO_Water_EXO</th>          <td>    0.0185</td> <td>    0.001</td> <td>   34.939</td> <td> 0.000</td> <td>    0.017</td> <td>    0.020</td>\n</tr>\n<tr>\n  <th>Temperature_Water_EXO</th> <td>    0.0040</td> <td>    0.000</td> <td>   20.949</td> <td> 0.000</td> <td>    0.004</td> <td>    0.004</td>\n</tr>\n<tr>\n  <th>pH_Water_EXO</th>          <td>   -0.0279</td> <td>    0.003</td> <td>  -10.303</td> <td> 0.000</td> <td>   -0.033</td> <td>   -0.023</td>\n</tr>\n<tr>\n  <th>rel_fl</th>                <td>    0.1778</td> <td>    0.001</td> <td>  239.979</td> <td> 0.000</td> <td>    0.176</td> <td>    0.179</td>\n</tr>\n<tr>\n  <th>Chla_Water_EXO</th>        <td>    0.0212</td> <td>    0.000</td> <td>   59.087</td> <td> 0.000</td> <td>    0.020</td> <td>    0.022</td>\n</tr>\n<tr>\n  <th>NO3</th>                   <td>    0.1470</td> <td>    0.004</td> <td>   34.136</td> <td> 0.000</td> <td>    0.139</td> <td>    0.155</td>\n</tr>\n<tr>\n  <th>NH4</th>                   <td>    1.6678</td> <td>    0.083</td> <td>   20.006</td> <td> 0.000</td> <td>    1.504</td> <td>    1.831</td>\n</tr>\n<tr>\n  <th>ALLSKY_SFC_LW_DWN</th>     <td> 9.833e-05</td> <td> 1.42e-05</td> <td>    6.941</td> <td> 0.000</td> <td> 7.06e-05</td> <td>    0.000</td>\n</tr>\n</table>\n<table class=\"simpletable\">\n<tr>\n  <th>Omnibus:</th>       <td>26.641</td> <th>  Durbin-Watson:     </th> <td>   2.000</td>\n</tr>\n<tr>\n  <th>Prob(Omnibus):</th> <td> 0.000</td> <th>  Jarque-Bera (JB):  </th> <td>  26.664</td>\n</tr>\n<tr>\n  <th>Skew:</th>          <td> 0.048</td> <th>  Prob(JB):          </th> <td>1.62e-06</td>\n</tr>\n<tr>\n  <th>Kurtosis:</th>      <td> 2.977</td> <th>  Cond. No.          </th> <td>8.78e+04</td>\n</tr>\n</table><br/><br/>Notes:<br/>[1] Standard Errors assume that the covariance matrix of the errors is correctly specified.<br/>[2] The condition number is large, 8.78e+04. This might indicate that there are<br/>strong multicollinearity or other numerical problems."
     },
     "execution_count": 197,
     "metadata": {},
     "output_type": "execute_result"
    }
   ],
   "source": [
    "est_fit.summary()"
   ],
   "metadata": {
    "collapsed": false
   }
  },
  {
   "cell_type": "code",
   "execution_count": 198,
   "outputs": [
    {
     "data": {
      "text/plain": "0.0"
     },
     "execution_count": 198,
     "metadata": {},
     "output_type": "execute_result"
    }
   ],
   "source": [
    "est_fit.f_pvalue"
   ],
   "metadata": {
    "collapsed": false
   }
  },
  {
   "cell_type": "code",
   "execution_count": 198,
   "outputs": [],
   "source": [],
   "metadata": {
    "collapsed": false
   }
  }
 ],
 "metadata": {
  "kernelspec": {
   "display_name": "Python 3",
   "language": "python",
   "name": "python3"
  },
  "language_info": {
   "codemirror_mode": {
    "name": "ipython",
    "version": 2
   },
   "file_extension": ".py",
   "mimetype": "text/x-python",
   "name": "python",
   "nbconvert_exporter": "python",
   "pygments_lexer": "ipython2",
   "version": "2.7.6"
  }
 },
 "nbformat": 4,
 "nbformat_minor": 0
}
