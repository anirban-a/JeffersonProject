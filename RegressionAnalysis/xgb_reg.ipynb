{
 "cells": [
  {
   "cell_type": "code",
   "execution_count": 1,
   "metadata": {
    "collapsed": true
   },
   "outputs": [],
   "source": [
    "import pandas as pd\n",
    "import seaborn as sns\n",
    "from sklearn.ensemble import RandomForestRegressor\n",
    "from sklearn.model_selection import train_test_split\n",
    "from sklearn.preprocessing import MinMaxScaler"
   ]
  },
  {
   "cell_type": "code",
   "execution_count": 42,
   "outputs": [],
   "source": [
    "from sklearn.model_selection import RandomizedSearchCV as RSCV\n",
    "import xgboost as xgb"
   ],
   "metadata": {
    "collapsed": false
   }
  },
  {
   "cell_type": "code",
   "execution_count": 2,
   "outputs": [],
   "source": [
    "pd.set_option(\"max_rows\", 25)\n",
    "# Apply the default theme\n",
    "sns.set_theme()\n",
    "sns.set_style(\"whitegrid\")"
   ],
   "metadata": {
    "collapsed": false
   }
  },
  {
   "cell_type": "code",
   "execution_count": 3,
   "outputs": [],
   "source": [
    "data_path = '/home/achara/data/achara/'\n",
    "df = pd.read_csv(data_path + 'pc_data_2017_to_2019_2.csv')"
   ],
   "metadata": {
    "collapsed": false
   }
  },
  {
   "cell_type": "markdown",
   "source": [
    "## Feature scaling"
   ],
   "metadata": {
    "collapsed": false
   }
  },
  {
   "cell_type": "code",
   "execution_count": 4,
   "outputs": [
    {
     "data": {
      "text/plain": "Index(['DateTime', 'SensorDepth_Water_EXO', 'PC_Water_EXO', 'Chla_Water_EXO',\n       'DO_Water_EXO', 'DO-Sat_Water_EXO', 'SpCond_Water_EXO',\n       'Temperature_Water_EXO', 'pH_Water_EXO', 'rel_fl', 'month', 'day',\n       'year', 'SolarRad_Air_LiCor', 'TP', 'TSP', 'SRP', 'TN', 'NO3', 'NH4',\n       'PP', 'PRECTOTCORR', 'ALLSKY_SFC_SW_DWN', 'ALLSKY_SFC_LW_DWN'],\n      dtype='object')"
     },
     "execution_count": 4,
     "metadata": {},
     "output_type": "execute_result"
    }
   ],
   "source": [
    "df.columns"
   ],
   "metadata": {
    "collapsed": false
   }
  },
  {
   "cell_type": "code",
   "execution_count": 5,
   "outputs": [],
   "source": [
    "variables = ['SensorDepth_Water_EXO', 'PC_Water_EXO', 'Chla_Water_EXO',\n",
    "             'DO_Water_EXO', 'DO-Sat_Water_EXO', 'SpCond_Water_EXO',\n",
    "             'Temperature_Water_EXO', 'pH_Water_EXO', 'rel_fl', 'SolarRad_Air_LiCor', 'TP', 'TSP', 'SRP', 'TN', 'NO3',\n",
    "             'NH4',\n",
    "             'PP', 'PRECTOTCORR', 'ALLSKY_SFC_SW_DWN', 'ALLSKY_SFC_LW_DWN']"
   ],
   "metadata": {
    "collapsed": false
   }
  },
  {
   "cell_type": "code",
   "execution_count": 6,
   "outputs": [],
   "source": [
    "df_filtered = df[variables]"
   ],
   "metadata": {
    "collapsed": false
   }
  },
  {
   "cell_type": "code",
   "execution_count": 7,
   "outputs": [],
   "source": [
    "features = ['SensorDepth_Water_EXO', 'Chla_Water_EXO',\n",
    "            'DO_Water_EXO', 'DO-Sat_Water_EXO', 'SpCond_Water_EXO',\n",
    "            'Temperature_Water_EXO', 'pH_Water_EXO', 'rel_fl', 'SolarRad_Air_LiCor', 'TP', 'TSP', 'SRP', 'TN', 'NO3',\n",
    "            'NH4',\n",
    "            'PP', 'PRECTOTCORR', 'ALLSKY_SFC_SW_DWN', 'ALLSKY_SFC_LW_DWN']"
   ],
   "metadata": {
    "collapsed": false
   }
  },
  {
   "cell_type": "markdown",
   "source": [
    "## Splitting into train and test data"
   ],
   "metadata": {
    "collapsed": false
   }
  },
  {
   "cell_type": "code",
   "execution_count": 8,
   "outputs": [],
   "source": [
    "n_rows = len(df)\n",
    "train_size_percent = 0.8\n",
    "train_size = round(train_size_percent * n_rows)\n",
    "test_size = n_rows - train_size"
   ],
   "metadata": {
    "collapsed": false
   }
  },
  {
   "cell_type": "code",
   "execution_count": 9,
   "outputs": [],
   "source": [
    "train_df, test_df = train_test_split(df, train_size=train_size, test_size=test_size)"
   ],
   "metadata": {
    "collapsed": false
   }
  },
  {
   "cell_type": "code",
   "execution_count": 10,
   "outputs": [],
   "source": [
    "train_x = train_df[features]\n",
    "train_y = train_df.PC_Water_EXO\n",
    "\n",
    "test_x = test_df[features]\n",
    "test_y = test_df.PC_Water_EXO"
   ],
   "metadata": {
    "collapsed": false
   }
  },
  {
   "cell_type": "markdown",
   "source": [
    "## Feature selection using Recursive Feature Extraction:"
   ],
   "metadata": {
    "collapsed": false
   }
  },
  {
   "cell_type": "code",
   "execution_count": 11,
   "outputs": [],
   "source": [
    "from sklearn.feature_selection import RFE"
   ],
   "metadata": {
    "collapsed": false
   }
  },
  {
   "cell_type": "code",
   "execution_count": 49,
   "outputs": [],
   "source": [
    "from operator import itemgetter\n",
    "from sklearn.metrics import mean_absolute_error"
   ],
   "metadata": {
    "collapsed": false
   }
  },
  {
   "cell_type": "code",
   "execution_count": 12,
   "outputs": [],
   "source": [
    "rf = RandomForestRegressor(max_depth=9, max_features=0.8, max_samples=0.5,\n",
    "                           n_estimators=185)"
   ],
   "metadata": {
    "collapsed": false
   }
  },
  {
   "cell_type": "code",
   "execution_count": 13,
   "outputs": [],
   "source": [
    "rfe = RFE(estimator=rf, n_features_to_select=1)"
   ],
   "metadata": {
    "collapsed": false
   }
  },
  {
   "cell_type": "code",
   "execution_count": 14,
   "outputs": [
    {
     "data": {
      "text/plain": "RFE(estimator=RandomForestRegressor(max_depth=9, max_features=0.8,\n                                    max_samples=0.5, n_estimators=185),\n    n_features_to_select=1)"
     },
     "execution_count": 14,
     "metadata": {},
     "output_type": "execute_result"
    }
   ],
   "source": [
    "rfe.fit(train_x, train_y)"
   ],
   "metadata": {
    "collapsed": false
   }
  },
  {
   "cell_type": "code",
   "execution_count": 16,
   "outputs": [
    {
     "name": "stdout",
     "output_type": "stream",
     "text": [
      "1 rel_fl\n",
      "2 SpCond_Water_EXO\n",
      "3 Temperature_Water_EXO\n",
      "4 NO3\n",
      "5 SolarRad_Air_LiCor\n",
      "6 TSP\n",
      "7 DO_Water_EXO\n",
      "8 SRP\n",
      "9 SensorDepth_Water_EXO\n",
      "10 Chla_Water_EXO\n",
      "11 pH_Water_EXO\n",
      "12 TN\n",
      "13 TP\n",
      "14 DO-Sat_Water_EXO\n",
      "15 PP\n",
      "16 NH4\n",
      "17 ALLSKY_SFC_SW_DWN\n",
      "18 ALLSKY_SFC_LW_DWN\n",
      "19 PRECTOTCORR\n"
     ]
    }
   ],
   "source": [
    "for x, y in (sorted(zip(rfe.ranking_, features), key=itemgetter(0))):\n",
    "    print(x, y)"
   ],
   "metadata": {
    "collapsed": false
   }
  },
  {
   "cell_type": "code",
   "execution_count": 17,
   "outputs": [],
   "source": [
    "train_x_scaled = MinMaxScaler().fit_transform(train_x)"
   ],
   "metadata": {
    "collapsed": false
   }
  },
  {
   "cell_type": "code",
   "execution_count": 18,
   "outputs": [
    {
     "data": {
      "text/plain": "RFE(estimator=RandomForestRegressor(max_depth=9, max_features=0.8,\n                                    max_samples=0.5, n_estimators=185),\n    n_features_to_select=1)"
     },
     "execution_count": 18,
     "metadata": {},
     "output_type": "execute_result"
    }
   ],
   "source": [
    "rfe.fit(train_x_scaled, train_y)"
   ],
   "metadata": {
    "collapsed": false
   }
  },
  {
   "cell_type": "code",
   "execution_count": 19,
   "outputs": [
    {
     "name": "stdout",
     "output_type": "stream",
     "text": [
      "1 rel_fl\n",
      "2 SpCond_Water_EXO\n",
      "3 Temperature_Water_EXO\n",
      "4 NO3\n",
      "5 SolarRad_Air_LiCor\n",
      "6 TSP\n",
      "7 DO_Water_EXO\n",
      "8 TN\n",
      "9 pH_Water_EXO\n",
      "10 Chla_Water_EXO\n",
      "11 SensorDepth_Water_EXO\n",
      "12 SRP\n",
      "13 TP\n",
      "14 DO-Sat_Water_EXO\n",
      "15 PP\n",
      "16 NH4\n",
      "17 ALLSKY_SFC_SW_DWN\n",
      "18 ALLSKY_SFC_LW_DWN\n",
      "19 PRECTOTCORR\n"
     ]
    }
   ],
   "source": [
    "for x, y in (sorted(zip(rfe.ranking_, features), key=itemgetter(0))):\n",
    "    print(x, y)"
   ],
   "metadata": {
    "collapsed": false
   }
  },
  {
   "cell_type": "code",
   "execution_count": 30,
   "outputs": [],
   "source": [
    "best_features = [y for x, y in list(sorted(zip(rfe.ranking_, features), key=itemgetter(0))) if x <= 11]"
   ],
   "metadata": {
    "collapsed": false
   }
  },
  {
   "cell_type": "code",
   "execution_count": 31,
   "outputs": [
    {
     "data": {
      "text/plain": "['rel_fl',\n 'SpCond_Water_EXO',\n 'Temperature_Water_EXO',\n 'NO3',\n 'SolarRad_Air_LiCor',\n 'TSP',\n 'DO_Water_EXO',\n 'TN',\n 'pH_Water_EXO',\n 'Chla_Water_EXO',\n 'SensorDepth_Water_EXO']"
     },
     "execution_count": 31,
     "metadata": {},
     "output_type": "execute_result"
    }
   ],
   "source": [
    "best_features"
   ],
   "metadata": {
    "collapsed": false
   }
  },
  {
   "cell_type": "code",
   "execution_count": 34,
   "outputs": [],
   "source": [
    "xgb_reg = xgb.XGBRegressor(eval_metric='rmsle')"
   ],
   "metadata": {
    "collapsed": false
   }
  },
  {
   "cell_type": "code",
   "execution_count": 35,
   "outputs": [],
   "source": [
    "param_grid = {\"max_depth\": [5, 7, 9],\n",
    "              \"n_estimators\": [500, 600, 700],\n",
    "              \"learning_rate\": [0.01, 0.015, 0.1]}"
   ],
   "metadata": {
    "collapsed": false
   }
  },
  {
   "cell_type": "code",
   "execution_count": 39,
   "outputs": [],
   "source": [
    "train_x_scaled_filtered = MinMaxScaler().fit_transform(train_x[best_features])"
   ],
   "metadata": {
    "collapsed": false
   }
  },
  {
   "cell_type": "code",
   "execution_count": 43,
   "outputs": [],
   "source": [
    "search = RSCV(xgb_reg, param_grid, cv=5).fit(train_x_scaled_filtered, train_y)"
   ],
   "metadata": {
    "collapsed": false
   }
  },
  {
   "cell_type": "code",
   "execution_count": 44,
   "outputs": [
    {
     "data": {
      "text/plain": "0.9705627225177761"
     },
     "execution_count": 44,
     "metadata": {},
     "output_type": "execute_result"
    }
   ],
   "source": [
    "search.best_score_"
   ],
   "metadata": {
    "collapsed": false
   }
  },
  {
   "cell_type": "code",
   "execution_count": 45,
   "outputs": [
    {
     "data": {
      "text/plain": "XGBRegressor(base_score=0.5, booster='gbtree', colsample_bylevel=1,\n             colsample_bynode=1, colsample_bytree=1, enable_categorical=False,\n             eval_metric='rmsle', gamma=0, gpu_id=-1, importance_type=None,\n             interaction_constraints='', learning_rate=0.1, max_delta_step=0,\n             max_depth=9, min_child_weight=1, missing=nan,\n             monotone_constraints='()', n_estimators=600, n_jobs=16,\n             num_parallel_tree=1, predictor='auto', random_state=0, reg_alpha=0,\n             reg_lambda=1, scale_pos_weight=1, subsample=1, tree_method='exact',\n             validate_parameters=1, verbosity=None)"
     },
     "execution_count": 45,
     "metadata": {},
     "output_type": "execute_result"
    }
   ],
   "source": [
    "search.best_estimator_"
   ],
   "metadata": {
    "collapsed": false
   }
  },
  {
   "cell_type": "code",
   "execution_count": 46,
   "outputs": [],
   "source": [
    "test_x_scaled_filtered = MinMaxScaler().fit_transform(test_x[best_features])"
   ],
   "metadata": {
    "collapsed": false
   }
  },
  {
   "cell_type": "code",
   "execution_count": 47,
   "outputs": [],
   "source": [
    "best_rgb = search.best_estimator_"
   ],
   "metadata": {
    "collapsed": false
   }
  },
  {
   "cell_type": "code",
   "execution_count": 48,
   "outputs": [],
   "source": [
    "y_pred = best_rgb.predict(test_x_scaled_filtered)"
   ],
   "metadata": {
    "collapsed": false
   }
  },
  {
   "cell_type": "code",
   "execution_count": 53,
   "outputs": [
    {
     "name": "stdout",
     "output_type": "stream",
     "text": [
      "0.05741217398438248\n"
     ]
    }
   ],
   "source": [
    "mae = mean_absolute_error(test_y, y_pred)\n",
    "print(mae)"
   ],
   "metadata": {
    "collapsed": false
   }
  },
  {
   "cell_type": "code",
   "execution_count": 52,
   "outputs": [
    {
     "data": {
      "text/plain": "0.9425878260156175"
     },
     "execution_count": 52,
     "metadata": {},
     "output_type": "execute_result"
    }
   ],
   "source": [
    "1 - mae"
   ],
   "metadata": {
    "collapsed": false
   }
  },
  {
   "cell_type": "code",
   "execution_count": 55,
   "outputs": [],
   "source": [
    "from xgboost import plot_importance\n",
    "import matplotlib.pyplot as plt\n",
    "plt.style.use('fivethirtyeight')\n",
    "plt.rcParams.update({'font.size': 16})"
   ],
   "metadata": {
    "collapsed": false
   }
  },
  {
   "cell_type": "code",
   "execution_count": 58,
   "outputs": [
    {
     "data": {
      "text/plain": "<Figure size 864x432 with 1 Axes>",
      "image/png": "[encoded data removed]"
     },
     "metadata": {},
     "output_type": "display_data"
    }
   ],
   "source": [
    "fig, ax = plt.subplots(figsize=(12,6))\n",
    "plot_importance(best_rgb, ax=ax)\n",
    "plt.show();"
   ],
   "metadata": {
    "collapsed": false
   }
  },
  {
   "cell_type": "code",
   "execution_count": 59,
   "outputs": [],
   "source": [
    "feature_ranks = [0,1,2,9,6,8,10,3,4,5,7]"
   ],
   "metadata": {
    "collapsed": false
   }
  },
  {
   "cell_type": "code",
   "execution_count": 63,
   "outputs": [
    {
     "name": "stdout",
     "output_type": "stream",
     "text": [
      "1 rel_fl\n",
      "2 SpCond_Water_EXO\n",
      "3 Temperature_Water_EXO\n",
      "4 Chla_Water_EXO\n",
      "5 DO_Water_EXO\n",
      "6 pH_Water_EXO\n",
      "7 SensorDepth_Water_EXO\n",
      "8 NO3\n",
      "9 SolarRad_Air_LiCor\n",
      "10 TSP\n",
      "11 TN\n"
     ]
    }
   ],
   "source": [
    "ranked_best_features = [best_features[i] for i in feature_ranks]\n",
    "rank = 1\n",
    "for i in ranked_best_features:\n",
    "    print(rank, i)\n",
    "    rank+=1"
   ],
   "metadata": {
    "collapsed": false
   }
  },
  {
   "cell_type": "markdown",
   "source": [
    "## Conclusion\n",
    "\n",
    "The best score was achieved using Extreme Gradient Boosting on the following features:\n",
    "\n",
    "\n",
    "1 rel_fl\n",
    "2 SpCond_Water_EXO\n",
    "3 Temperature_Water_EXO\n",
    "4 Chla_Water_EXO\n",
    "5 DO_Water_EXO\n",
    "6 pH_Water_EXO\n",
    "7 SensorDepth_Water_EXO\n",
    "8 NO3\n",
    "9 SolarRad_Air_LiCor\n",
    "10 TSP\n",
    "11 TN"
   ],
   "metadata": {
    "collapsed": false
   }
  },
  {
   "cell_type": "code",
   "execution_count": null,
   "outputs": [],
   "source": [],
   "metadata": {
    "collapsed": false
   }
  }
 ],
 "metadata": {
  "kernelspec": {
   "display_name": "Python 3",
   "language": "python",
   "name": "python3"
  },
  "language_info": {
   "codemirror_mode": {
    "name": "ipython",
    "version": 2
   },
   "file_extension": ".py",
   "mimetype": "text/x-python",
   "name": "python",
   "nbconvert_exporter": "python",
   "pygments_lexer": "ipython2",
   "version": "2.7.6"
  }
 },
 "nbformat": 4,
 "nbformat_minor": 0
}
