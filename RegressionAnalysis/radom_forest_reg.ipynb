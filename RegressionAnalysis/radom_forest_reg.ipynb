{
 "cells": [
  {
   "cell_type": "code",
   "execution_count": 51,
   "metadata": {
    "collapsed": true
   },
   "outputs": [],
   "source": [
    "import numpy as np\n",
    "import pandas as pd\n",
    "import seaborn as sns\n",
    "from sklearn.model_selection import train_test_split\n",
    "from sklearn.preprocessing import MinMaxScaler"
   ]
  },
  {
   "cell_type": "code",
   "execution_count": 52,
   "outputs": [],
   "source": [
    "pd.set_option(\"max_rows\", 25)"
   ],
   "metadata": {
    "collapsed": false
   }
  },
  {
   "cell_type": "code",
   "execution_count": 53,
   "outputs": [],
   "source": [
    "# Apply the default theme\n",
    "sns.set_theme()\n",
    "sns.set_style(\"whitegrid\")"
   ],
   "metadata": {
    "collapsed": false
   }
  },
  {
   "cell_type": "code",
   "execution_count": 54,
   "outputs": [],
   "source": [
    "data_path = '/home/achara/data/achara/'\n",
    "df = pd.read_csv(data_path + 'pc_data_2017_to_2019_2.csv')"
   ],
   "metadata": {
    "collapsed": false
   }
  },
  {
   "cell_type": "code",
   "execution_count": 55,
   "outputs": [],
   "source": [
    "features = ['DO-Sat_Water_EXO',\n",
    "            'PP',\n",
    "            'SolarRad_Air_LiCor',\n",
    "            'DO_Water_EXO',\n",
    "            'PRECTOTCORR',\n",
    "            'rel_fl',\n",
    "            'Chla_Water_EXO',\n",
    "            'NO3',\n",
    "            'rel_fl',\n",
    "            'ALLSKY_SFC_LW_DWN',\n",
    "            'Chla_Water_EXO']\n",
    "\n",
    "y = df.PC_Water_EXO"
   ],
   "metadata": {
    "collapsed": false
   }
  },
  {
   "cell_type": "code",
   "execution_count": 56,
   "outputs": [],
   "source": [
    "df = df[['PC_Water_EXO', 'DO-Sat_Water_EXO',\n",
    "         'PP',\n",
    "         'SolarRad_Air_LiCor',\n",
    "         'DO_Water_EXO',\n",
    "         'PRECTOTCORR',\n",
    "         'rel_fl',\n",
    "         'Chla_Water_EXO',\n",
    "         'NO3',\n",
    "         'rel_fl',\n",
    "         'ALLSKY_SFC_LW_DWN',\n",
    "         'Chla_Water_EXO']]"
   ],
   "metadata": {
    "collapsed": false
   }
  },
  {
   "cell_type": "code",
   "execution_count": 57,
   "outputs": [
    {
     "data": {
      "text/plain": "   PC_Water_EXO  DO-Sat_Water_EXO         PP  SolarRad_Air_LiCor  \\\n0        0.1556        101.610000  16.681741           127.38941   \n1        0.1520        101.776667  16.681741           127.38941   \n2        0.1304        101.230000  16.681741           127.38941   \n3        0.1592        101.590000  16.681741           127.38941   \n4        0.1340        101.490000  16.681741           127.38941   \n\n   DO_Water_EXO  PRECTOTCORR  rel_fl  Chla_Water_EXO    NO3  rel_fl  \\\n0          9.17     4.319851   0.880        0.358058  0.191   0.880   \n1          9.18     4.319851   0.862        0.544445  0.191   0.862   \n2          9.16     4.319851   0.844        0.843708  0.191   0.844   \n3          9.16     4.319851   0.826        0.939807  0.191   0.826   \n4          9.15     4.319851   0.835        0.797623  0.191   0.835   \n\n   ALLSKY_SFC_LW_DWN  Chla_Water_EXO  \n0         310.373726        0.358058  \n1         310.373726        0.544445  \n2         310.373726        0.843708  \n3         310.373726        0.939807  \n4         310.373726        0.797623  ",
      "text/html": "<div>\n<style scoped>\n    .dataframe tbody tr th:only-of-type {\n        vertical-align: middle;\n    }\n\n    .dataframe tbody tr th {\n        vertical-align: top;\n    }\n\n    .dataframe thead th {\n        text-align: right;\n    }\n</style>\n<table border=\"1\" class=\"dataframe\">\n  <thead>\n    <tr style=\"text-align: right;\">\n      <th></th>\n      <th>PC_Water_EXO</th>\n      <th>DO-Sat_Water_EXO</th>\n      <th>PP</th>\n      <th>SolarRad_Air_LiCor</th>\n      <th>DO_Water_EXO</th>\n      <th>PRECTOTCORR</th>\n      <th>rel_fl</th>\n      <th>Chla_Water_EXO</th>\n      <th>NO3</th>\n      <th>rel_fl</th>\n      <th>ALLSKY_SFC_LW_DWN</th>\n      <th>Chla_Water_EXO</th>\n    </tr>\n  </thead>\n  <tbody>\n    <tr>\n      <th>0</th>\n      <td>0.1556</td>\n      <td>101.610000</td>\n      <td>16.681741</td>\n      <td>127.38941</td>\n      <td>9.17</td>\n      <td>4.319851</td>\n      <td>0.880</td>\n      <td>0.358058</td>\n      <td>0.191</td>\n      <td>0.880</td>\n      <td>310.373726</td>\n      <td>0.358058</td>\n    </tr>\n    <tr>\n      <th>1</th>\n      <td>0.1520</td>\n      <td>101.776667</td>\n      <td>16.681741</td>\n      <td>127.38941</td>\n      <td>9.18</td>\n      <td>4.319851</td>\n      <td>0.862</td>\n      <td>0.544445</td>\n      <td>0.191</td>\n      <td>0.862</td>\n      <td>310.373726</td>\n      <td>0.544445</td>\n    </tr>\n    <tr>\n      <th>2</th>\n      <td>0.1304</td>\n      <td>101.230000</td>\n      <td>16.681741</td>\n      <td>127.38941</td>\n      <td>9.16</td>\n      <td>4.319851</td>\n      <td>0.844</td>\n      <td>0.843708</td>\n      <td>0.191</td>\n      <td>0.844</td>\n      <td>310.373726</td>\n      <td>0.843708</td>\n    </tr>\n    <tr>\n      <th>3</th>\n      <td>0.1592</td>\n      <td>101.590000</td>\n      <td>16.681741</td>\n      <td>127.38941</td>\n      <td>9.16</td>\n      <td>4.319851</td>\n      <td>0.826</td>\n      <td>0.939807</td>\n      <td>0.191</td>\n      <td>0.826</td>\n      <td>310.373726</td>\n      <td>0.939807</td>\n    </tr>\n    <tr>\n      <th>4</th>\n      <td>0.1340</td>\n      <td>101.490000</td>\n      <td>16.681741</td>\n      <td>127.38941</td>\n      <td>9.15</td>\n      <td>4.319851</td>\n      <td>0.835</td>\n      <td>0.797623</td>\n      <td>0.191</td>\n      <td>0.835</td>\n      <td>310.373726</td>\n      <td>0.797623</td>\n    </tr>\n  </tbody>\n</table>\n</div>"
     },
     "execution_count": 57,
     "metadata": {},
     "output_type": "execute_result"
    }
   ],
   "source": [
    "df.head()"
   ],
   "metadata": {
    "collapsed": false
   }
  },
  {
   "cell_type": "markdown",
   "source": [
    "## Splitting the data into train and test"
   ],
   "metadata": {
    "collapsed": false
   }
  },
  {
   "cell_type": "code",
   "execution_count": 58,
   "outputs": [],
   "source": [
    "n_rows = len(df)\n",
    "train_size_percent = 0.8\n",
    "train_size = round(train_size_percent * n_rows)\n",
    "test_size = n_rows - train_size"
   ],
   "metadata": {
    "collapsed": false
   }
  },
  {
   "cell_type": "code",
   "execution_count": 59,
   "outputs": [],
   "source": [
    "train_df, test_df = train_test_split(df, train_size=train_size, test_size=test_size)"
   ],
   "metadata": {
    "collapsed": false
   }
  },
  {
   "cell_type": "code",
   "execution_count": 60,
   "outputs": [],
   "source": [
    "train_x = train_df[features]\n",
    "train_y = train_df.PC_Water_EXO\n",
    "\n",
    "test_x = test_df[features]\n",
    "test_y = test_df.PC_Water_EXO"
   ],
   "metadata": {
    "collapsed": false
   }
  },
  {
   "cell_type": "code",
   "execution_count": 61,
   "outputs": [],
   "source": [
    "ms = MinMaxScaler()"
   ],
   "metadata": {
    "collapsed": false
   }
  },
  {
   "cell_type": "code",
   "execution_count": 62,
   "outputs": [],
   "source": [
    "train_x_scaled = ms.fit_transform(train_x)\n",
    "test_x_scaled = ms.fit_transform(test_x)"
   ],
   "metadata": {
    "collapsed": false
   }
  },
  {
   "cell_type": "markdown",
   "source": [
    "## Regression model"
   ],
   "metadata": {
    "collapsed": false
   }
  },
  {
   "cell_type": "code",
   "execution_count": 63,
   "outputs": [],
   "source": [
    "from sklearn.ensemble import RandomForestRegressor\n",
    "from sklearn.metrics import mean_absolute_error\n",
    "from sklearn.model_selection import RandomizedSearchCV as RSCV"
   ],
   "metadata": {
    "collapsed": false
   }
  },
  {
   "cell_type": "code",
   "execution_count": 64,
   "outputs": [],
   "source": [
    "rf = RandomForestRegressor()"
   ],
   "metadata": {
    "collapsed": false
   }
  },
  {
   "cell_type": "code",
   "execution_count": 65,
   "outputs": [],
   "source": [
    "param_grid = {'n_estimators': np.arange(50, 200, 15),\n",
    "              'max_features': np.arange(0.1, 1, 0.1),\n",
    "              'max_depth': [3, 5, 7, 9],\n",
    "              'max_samples': [0.3, 0.5, 0.8]}"
   ],
   "metadata": {
    "collapsed": false
   }
  },
  {
   "cell_type": "code",
   "execution_count": 66,
   "outputs": [],
   "source": [
    "model = RSCV(RandomForestRegressor(), param_grid, n_iter=15).fit(train_x, train_y)"
   ],
   "metadata": {
    "collapsed": false
   }
  },
  {
   "cell_type": "code",
   "execution_count": 67,
   "outputs": [
    {
     "data": {
      "text/plain": "{'n_estimators': 170,\n 'max_samples': 0.3,\n 'max_features': 0.7000000000000001,\n 'max_depth': 9}"
     },
     "execution_count": 67,
     "metadata": {},
     "output_type": "execute_result"
    }
   ],
   "source": [
    "model.best_params_"
   ],
   "metadata": {
    "collapsed": false
   }
  },
  {
   "cell_type": "code",
   "execution_count": 68,
   "outputs": [
    {
     "data": {
      "text/plain": "RandomForestRegressor(max_depth=9, max_features=0.7000000000000001,\n                      max_samples=0.3, n_estimators=170)"
     },
     "execution_count": 68,
     "metadata": {},
     "output_type": "execute_result"
    }
   ],
   "source": [
    "model.best_estimator_"
   ],
   "metadata": {
    "collapsed": false
   }
  },
  {
   "cell_type": "markdown",
   "source": [
    "## Score of the model"
   ],
   "metadata": {
    "collapsed": false
   }
  },
  {
   "cell_type": "code",
   "execution_count": 69,
   "outputs": [
    {
     "data": {
      "text/plain": "0.8603318646967428"
     },
     "execution_count": 69,
     "metadata": {},
     "output_type": "execute_result"
    }
   ],
   "source": [
    "model.best_score_"
   ],
   "metadata": {
    "collapsed": false
   }
  },
  {
   "cell_type": "code",
   "execution_count": 70,
   "outputs": [],
   "source": [
    "y_pred = model.best_estimator_.predict(test_x)"
   ],
   "metadata": {
    "collapsed": false
   }
  },
  {
   "cell_type": "code",
   "execution_count": 71,
   "outputs": [],
   "source": [
    "score = 1 - mean_absolute_error(test_y, y_pred)"
   ],
   "metadata": {
    "collapsed": false
   }
  },
  {
   "cell_type": "code",
   "execution_count": 72,
   "outputs": [
    {
     "data": {
      "text/plain": "96.15962960929379"
     },
     "execution_count": 72,
     "metadata": {},
     "output_type": "execute_result"
    }
   ],
   "source": [
    "score * 100"
   ],
   "metadata": {
    "collapsed": false
   }
  },
  {
   "cell_type": "markdown",
   "source": [
    "## Build a new model on scaled data"
   ],
   "metadata": {
    "collapsed": false
   }
  },
  {
   "cell_type": "code",
   "execution_count": 73,
   "outputs": [],
   "source": [
    "model2 = RSCV(RandomForestRegressor(), param_grid, n_iter=15).fit(train_x_scaled, train_y)"
   ],
   "metadata": {
    "collapsed": false
   }
  },
  {
   "cell_type": "code",
   "execution_count": 74,
   "outputs": [
    {
     "data": {
      "text/plain": "0.8587836384725522"
     },
     "execution_count": 74,
     "metadata": {},
     "output_type": "execute_result"
    }
   ],
   "source": [
    "model2.best_score_"
   ],
   "metadata": {
    "collapsed": false
   }
  },
  {
   "cell_type": "code",
   "execution_count": 75,
   "outputs": [
    {
     "data": {
      "text/plain": "RandomForestRegressor(max_depth=9, max_features=0.6, max_samples=0.5,\n                      n_estimators=80)"
     },
     "execution_count": 75,
     "metadata": {},
     "output_type": "execute_result"
    }
   ],
   "source": [
    "model2.best_estimator_"
   ],
   "metadata": {
    "collapsed": false
   }
  },
  {
   "cell_type": "code",
   "execution_count": 76,
   "outputs": [
    {
     "data": {
      "text/plain": "{'n_estimators': 80, 'max_samples': 0.5, 'max_features': 0.6, 'max_depth': 9}"
     },
     "execution_count": 76,
     "metadata": {},
     "output_type": "execute_result"
    }
   ],
   "source": [
    "model2.best_params_"
   ],
   "metadata": {
    "collapsed": false
   }
  },
  {
   "cell_type": "code",
   "execution_count": 77,
   "outputs": [],
   "source": [
    "y_pred2 = model2.best_estimator_.predict(test_x_scaled)"
   ],
   "metadata": {
    "collapsed": false
   }
  },
  {
   "cell_type": "code",
   "execution_count": 78,
   "outputs": [
    {
     "data": {
      "text/plain": "0.9341962227831088"
     },
     "execution_count": 78,
     "metadata": {},
     "output_type": "execute_result"
    }
   ],
   "source": [
    "1 - mean_absolute_error(test_y, y_pred2)"
   ],
   "metadata": {
    "collapsed": false
   }
  },
  {
   "cell_type": "code",
   "execution_count": 78,
   "outputs": [],
   "source": [],
   "metadata": {
    "collapsed": false
   }
  }
 ],
 "metadata": {
  "kernelspec": {
   "display_name": "Python 3",
   "language": "python",
   "name": "python3"
  },
  "language_info": {
   "codemirror_mode": {
    "name": "ipython",
    "version": 2
   },
   "file_extension": ".py",
   "mimetype": "text/x-python",
   "name": "python",
   "nbconvert_exporter": "python",
   "pygments_lexer": "ipython2",
   "version": "2.7.6"
  }
 },
 "nbformat": 4,
 "nbformat_minor": 0
}
