{
 "cells": [
  {
   "cell_type": "code",
   "execution_count": 20,
   "metadata": {
    "collapsed": true
   },
   "outputs": [],
   "source": [
    "import matplotlib.pyplot as plt\n",
    "import numpy as np\n",
    "import pandas as pd\n",
    "import seaborn as sns"
   ]
  },
  {
   "cell_type": "code",
   "execution_count": 21,
   "outputs": [],
   "source": [
    "from sklearn.preprocessing import StandardScaler"
   ],
   "metadata": {
    "collapsed": false
   }
  },
  {
   "cell_type": "code",
   "execution_count": 22,
   "outputs": [],
   "source": [
    "from sklearn.decomposition import PCA"
   ],
   "metadata": {
    "collapsed": false
   }
  },
  {
   "cell_type": "code",
   "execution_count": 23,
   "outputs": [],
   "source": [
    "pd.set_option(\"max_rows\", 25)"
   ],
   "metadata": {
    "collapsed": false
   }
  },
  {
   "cell_type": "code",
   "execution_count": 24,
   "outputs": [],
   "source": [
    "# Apply the default theme\n",
    "sns.set_theme()\n",
    "sns.set_style(\"whitegrid\")"
   ],
   "metadata": {
    "collapsed": false
   }
  },
  {
   "cell_type": "code",
   "execution_count": 25,
   "outputs": [],
   "source": [
    "data_path = '/home/achara/data/achara/'\n",
    "df = pd.read_csv(data_path + 'pc_data_2017_to_2019_2.csv')"
   ],
   "metadata": {
    "collapsed": false
   }
  },
  {
   "cell_type": "code",
   "execution_count": 26,
   "outputs": [
    {
     "data": {
      "text/plain": "Index(['DateTime', 'SensorDepth_Water_EXO', 'PC_Water_EXO', 'Chla_Water_EXO',\n       'DO_Water_EXO', 'DO-Sat_Water_EXO', 'SpCond_Water_EXO',\n       'Temperature_Water_EXO', 'pH_Water_EXO', 'rel_fl', 'month', 'day',\n       'year', 'SolarRad_Air_LiCor', 'TP', 'TSP', 'SRP', 'TN', 'NO3', 'NH4',\n       'PP', 'PRECTOTCORR', 'ALLSKY_SFC_SW_DWN', 'ALLSKY_SFC_LW_DWN'],\n      dtype='object')"
     },
     "execution_count": 7,
     "metadata": {},
     "output_type": "execute_result"
    },
    {
     "data": {
      "text/plain": "Index(['DateTime', 'SensorDepth_Water_EXO', 'PC_Water_EXO', 'Chla_Water_EXO',\n       'DO_Water_EXO', 'DO-Sat_Water_EXO', 'SpCond_Water_EXO',\n       'Temperature_Water_EXO', 'pH_Water_EXO', 'rel_fl', 'month', 'day',\n       'year', 'SolarRad_Air_LiCor', 'TP', 'TSP', 'SRP', 'TN', 'NO3', 'NH4',\n       'PP', 'PRECTOTCORR', 'ALLSKY_SFC_SW_DWN', 'ALLSKY_SFC_LW_DWN'],\n      dtype='object')"
     },
     "execution_count": 26,
     "metadata": {},
     "output_type": "execute_result"
    }
   ],
   "source": [
    "df.columns"
   ],
   "metadata": {
    "collapsed": false
   }
  },
  {
   "cell_type": "code",
   "execution_count": 27,
   "outputs": [],
   "source": [
    "x=df[df.columns[~df.columns.isin(['DateTime', 'PC_Water_EXO', 'month', 'day', 'year'])]]\n",
    "y=df['PC_Water_EXO']"
   ],
   "metadata": {
    "collapsed": false
   }
  },
  {
   "cell_type": "code",
   "execution_count": 28,
   "outputs": [],
   "source": [
    "x_scaled = pd.DataFrame(StandardScaler().fit_transform(x), columns=list(x.columns.values))"
   ],
   "metadata": {
    "collapsed": false
   }
  },
  {
   "cell_type": "code",
   "execution_count": 29,
   "outputs": [],
   "source": [
    "pca = PCA(n_components=11)\n",
    "pca_features = pca.fit_transform(X=x_scaled, y=y)"
   ],
   "metadata": {
    "collapsed": false
   }
  },
  {
   "cell_type": "code",
   "execution_count": 30,
   "outputs": [
    {
     "data": {
      "text/plain": "array([[ 0.31019089, -0.20296571, -0.17811315, -0.3962395 , -0.18367748,\n        -0.28110823, -0.29952655,  0.20177508, -0.26900942,  0.21901006,\n        -0.11540695, -0.23682136,  0.00897754, -0.23815258,  0.20461687,\n         0.24111065,  0.05839189, -0.21900974, -0.18099385],\n       [-0.26116813,  0.0942659 ,  0.12898821,  0.26520257,  0.14387207,\n         0.19743304,  0.3085453 , -0.04188005, -0.00736478,  0.41872083,\n         0.02045831, -0.22745255,  0.05557025, -0.29474601,  0.41713761,\n         0.42819578,  0.04129364,  0.02092857, -0.04801293],\n       [-0.24450459,  0.05822568, -0.17959488, -0.01126421,  0.11108349,\n         0.19899452,  0.23176944, -0.16174414, -0.42069456, -0.22029575,\n        -0.37415399, -0.27659354, -0.2694425 , -0.03474735, -0.17132326,\n        -0.17587648,  0.03699458, -0.33103075, -0.29253951],\n       [ 0.14745354,  0.34253462,  0.49890779,  0.14625173, -0.02025079,\n        -0.37453705, -0.07072139,  0.13560128,  0.11965865, -0.10751085,\n        -0.30323591, -0.32800825, -0.37193302, -0.02519594,  0.06031975,\n        -0.06943182, -0.09335535,  0.20674802, -0.04738347],\n       [ 0.03801519,  0.06402016,  0.1383859 ,  0.07732245, -0.12166545,\n        -0.05903996,  0.01140895, -0.06037861,  0.03942869,  0.00663311,\n         0.03213302,  0.00636665, -0.15003425, -0.06712711, -0.06713475,\n         0.00245868,  0.76139792, -0.37200829,  0.44152556],\n       [-0.11337814, -0.07543688, -0.28045148, -0.09708902,  0.4960613 ,\n         0.20259472, -0.14589584,  0.5720001 ,  0.19100148, -0.06863973,\n        -0.10580955, -0.10474461, -0.21274891, -0.20966566, -0.03033124,\n        -0.0562637 ,  0.05989672,  0.14618218,  0.27597087],\n       [-0.0496532 ,  0.61752255,  0.06242467, -0.11040678,  0.44585883,\n        -0.17559819, -0.17014845,  0.11797592, -0.20592976,  0.03489339,\n         0.30483811,  0.21136095,  0.18755415,  0.01317636, -0.02409725,\n        -0.00552904,  0.07647082, -0.22499994, -0.23229683],\n       [-0.06072169,  0.0418062 , -0.01059435,  0.02495013,  0.05138842,\n         0.0218547 , -0.03410049,  0.18332474,  0.03738119, -0.06671527,\n        -0.43503013, -0.19457508,  0.54481943,  0.5660964 ,  0.27048444,\n        -0.00952423,  0.15772055, -0.05470246,  0.06758829],\n       [ 0.26343746, -0.15624792, -0.02772083, -0.15801365,  0.59375194,\n        -0.13373982, -0.08810855, -0.65273511,  0.07462547,  0.01748906,\n        -0.13464337, -0.09251927, -0.000974  ,  0.01049368,  0.08121426,\n         0.03630621,  0.05139895,  0.12628112,  0.13045832],\n       [ 0.01687807, -0.35136262,  0.12305117,  0.07045199,  0.13863516,\n        -0.0469077 ,  0.08647499,  0.13400354,  0.08291813, -0.03908346,\n         0.15862635,  0.00207107, -0.03385546,  0.09749388, -0.03743401,\n        -0.06179327,  0.5248416 ,  0.29488671, -0.63043007],\n       [-0.06321592,  0.46993712, -0.42024283, -0.21165255, -0.27046453,\n         0.18551664, -0.16553909, -0.20453012,  0.191367  ,  0.1233102 ,\n        -0.13145936,  0.04673901, -0.22876174,  0.1314307 ,  0.05436739,\n         0.14479195,  0.24211611,  0.36767335, -0.1354088 ]])"
     },
     "execution_count": 11,
     "metadata": {},
     "output_type": "execute_result"
    },
    {
     "data": {
      "text/plain": "array([[ 0.31019089, -0.20296571, -0.17811315, -0.3962395 , -0.18367748,\n        -0.28110823, -0.29952655,  0.20177508, -0.26900942,  0.21901006,\n        -0.11540695, -0.23682136,  0.00897754, -0.23815258,  0.20461687,\n         0.24111065,  0.05839189, -0.21900974, -0.18099385],\n       [-0.26116813,  0.0942659 ,  0.12898821,  0.26520257,  0.14387207,\n         0.19743304,  0.3085453 , -0.04188005, -0.00736478,  0.41872083,\n         0.02045831, -0.22745255,  0.05557025, -0.29474601,  0.41713761,\n         0.42819578,  0.04129364,  0.02092857, -0.04801293],\n       [-0.24450459,  0.05822568, -0.17959488, -0.01126421,  0.11108349,\n         0.19899452,  0.23176944, -0.16174414, -0.42069456, -0.22029575,\n        -0.37415399, -0.27659354, -0.2694425 , -0.03474735, -0.17132326,\n        -0.17587648,  0.03699458, -0.33103075, -0.29253951],\n       [ 0.14745354,  0.34253462,  0.49890779,  0.14625173, -0.02025079,\n        -0.37453705, -0.07072139,  0.13560128,  0.11965865, -0.10751085,\n        -0.30323591, -0.32800825, -0.37193302, -0.02519594,  0.06031975,\n        -0.06943182, -0.09335535,  0.20674802, -0.04738347],\n       [ 0.03801519,  0.06402016,  0.1383859 ,  0.07732245, -0.12166545,\n        -0.05903996,  0.01140895, -0.06037861,  0.03942869,  0.00663311,\n         0.03213302,  0.00636665, -0.15003425, -0.06712711, -0.06713475,\n         0.00245868,  0.76139792, -0.37200829,  0.44152556],\n       [-0.11337814, -0.07543688, -0.28045148, -0.09708902,  0.4960613 ,\n         0.20259472, -0.14589584,  0.5720001 ,  0.19100148, -0.06863973,\n        -0.10580955, -0.10474461, -0.21274891, -0.20966566, -0.03033124,\n        -0.0562637 ,  0.05989672,  0.14618218,  0.27597087],\n       [-0.0496532 ,  0.61752255,  0.06242467, -0.11040678,  0.44585883,\n        -0.17559819, -0.17014845,  0.11797592, -0.20592976,  0.03489339,\n         0.30483811,  0.21136095,  0.18755415,  0.01317636, -0.02409725,\n        -0.00552904,  0.07647082, -0.22499994, -0.23229683],\n       [-0.06072169,  0.0418062 , -0.01059435,  0.02495013,  0.05138842,\n         0.0218547 , -0.03410049,  0.18332474,  0.03738119, -0.06671527,\n        -0.43503013, -0.19457508,  0.54481943,  0.5660964 ,  0.27048444,\n        -0.00952423,  0.15772055, -0.05470246,  0.06758829],\n       [ 0.26343746, -0.15624792, -0.02772083, -0.15801365,  0.59375194,\n        -0.13373982, -0.08810855, -0.65273511,  0.07462547,  0.01748906,\n        -0.13464337, -0.09251927, -0.000974  ,  0.01049368,  0.08121426,\n         0.03630621,  0.05139895,  0.12628112,  0.13045832],\n       [ 0.01687807, -0.35136262,  0.12305117,  0.07045199,  0.13863516,\n        -0.0469077 ,  0.08647499,  0.13400354,  0.08291813, -0.03908346,\n         0.15862635,  0.00207107, -0.03385546,  0.09749388, -0.03743401,\n        -0.06179327,  0.5248416 ,  0.29488671, -0.63043007],\n       [-0.06321592,  0.46993712, -0.42024283, -0.21165255, -0.27046453,\n         0.18551664, -0.16553909, -0.20453012,  0.191367  ,  0.1233102 ,\n        -0.13145936,  0.04673901, -0.22876174,  0.1314307 ,  0.05436739,\n         0.14479195,  0.24211611,  0.36767335, -0.1354088 ]])"
     },
     "execution_count": 30,
     "metadata": {},
     "output_type": "execute_result"
    }
   ],
   "source": [
    "pca.components_"
   ],
   "metadata": {
    "collapsed": false
   }
  },
  {
   "cell_type": "code",
   "execution_count": 31,
   "outputs": [],
   "source": [
    "cols = list(x_scaled.columns.values)\n",
    "\n",
    "n_pca = pca.components_.shape[0]"
   ],
   "metadata": {
    "collapsed": false
   }
  },
  {
   "cell_type": "code",
   "execution_count": 32,
   "outputs": [],
   "source": [
    "important_idx = [np.abs(pca.components_[i]).argmax() for i in range(n_pca)]"
   ],
   "metadata": {
    "collapsed": false
   }
  },
  {
   "cell_type": "code",
   "execution_count": 33,
   "outputs": [],
   "source": [
    "important_features = [cols[i] for i in important_idx]"
   ],
   "metadata": {
    "collapsed": false
   }
  },
  {
   "cell_type": "code",
   "execution_count": 34,
   "outputs": [
    {
     "data": {
      "text/plain": "['DO-Sat_Water_EXO',\n 'PP',\n 'SolarRad_Air_LiCor',\n 'DO_Water_EXO',\n 'PRECTOTCORR',\n 'rel_fl',\n 'Chla_Water_EXO',\n 'NO3',\n 'rel_fl',\n 'ALLSKY_SFC_LW_DWN',\n 'Chla_Water_EXO']"
     },
     "execution_count": 15,
     "metadata": {},
     "output_type": "execute_result"
    },
    {
     "data": {
      "text/plain": "['DO-Sat_Water_EXO',\n 'PP',\n 'SolarRad_Air_LiCor',\n 'DO_Water_EXO',\n 'PRECTOTCORR',\n 'rel_fl',\n 'Chla_Water_EXO',\n 'NO3',\n 'rel_fl',\n 'ALLSKY_SFC_LW_DWN',\n 'Chla_Water_EXO']"
     },
     "execution_count": 34,
     "metadata": {},
     "output_type": "execute_result"
    }
   ],
   "source": [
    "important_features"
   ],
   "metadata": {
    "collapsed": false
   }
  },
  {
   "cell_type": "code",
   "execution_count": 35,
   "outputs": [
    {
     "data": {
      "text/plain": "array([0.21012144, 0.17728297, 0.15455385, 0.10945989, 0.07126188,\n       0.06539909, 0.05348147, 0.05000186, 0.02852251, 0.02155591,\n       0.01730013])"
     },
     "execution_count": 16,
     "metadata": {},
     "output_type": "execute_result"
    },
    {
     "data": {
      "text/plain": "array([0.21012144, 0.17728297, 0.15455385, 0.10945989, 0.07126188,\n       0.06539909, 0.05348147, 0.05000186, 0.02852251, 0.02155591,\n       0.01730013])"
     },
     "execution_count": 35,
     "metadata": {},
     "output_type": "execute_result"
    }
   ],
   "source": [
    "pca.explained_variance_ratio_"
   ],
   "metadata": {
    "collapsed": false
   }
  },
  {
   "cell_type": "code",
   "execution_count": 36,
   "outputs": [
    {
     "data": {
      "text/plain": "0.9589409946526267"
     },
     "execution_count": 17,
     "metadata": {},
     "output_type": "execute_result"
    },
    {
     "data": {
      "text/plain": "0.9589409946526262"
     },
     "execution_count": 36,
     "metadata": {},
     "output_type": "execute_result"
    }
   ],
   "source": [
    "sum(pca.explained_variance_ratio_)"
   ],
   "metadata": {
    "collapsed": false
   }
  },
  {
   "cell_type": "code",
   "execution_count": 37,
   "outputs": [],
   "source": [
    "n_pcas = [i for i in range(len(x_scaled.columns))]\n",
    "def get_value(n):\n",
    "    p = PCA(n_components=n)\n",
    "    p.fit_transform(x_scaled)\n",
    "    return sum(p.explained_variance_ratio_)\n",
    "\n",
    "total_explained = [get_value(i) for i in n_pcas]"
   ],
   "metadata": {
    "collapsed": false
   }
  },
  {
   "cell_type": "code",
   "execution_count": 38,
   "outputs": [
    {
     "data": {
      "text/plain": "<AxesSubplot:>"
     },
     "execution_count": 19,
     "metadata": {},
     "output_type": "execute_result"
    },
    {
     "data": {
      "text/plain": "<Figure size 432x288 with 1 Axes>",
      "image/png": "[encoded data removed]"
     },
     "metadata": {},
     "output_type": "display_data"
    },
    {
     "data": {
      "text/plain": "<AxesSubplot:>"
     },
     "execution_count": 38,
     "metadata": {},
     "output_type": "execute_result"
    },
    {
     "data": {
      "text/plain": "<Figure size 432x288 with 1 Axes>",
      "image/png": "[encoded data removed]"
     },
     "metadata": {},
     "output_type": "display_data"
    }
   ],
   "source": [
    "sns.lineplot(x=n_pcas, y=total_explained)"
   ],
   "metadata": {
    "collapsed": false
   }
  },
  {
   "cell_type": "markdown",
   "source": [
    "with 11 principal components we can explain ~96% of the data and the important features are:\n",
    "\n",
    "```\n",
    "['DO-Sat_Water_EXO',\n",
    "'PP',\n",
    " 'SolarRad_Air_LiCor',\n",
    " 'DO_Water_EXO',\n",
    " 'PRECTOTCORR',\n",
    " 'rel_fl',\n",
    " 'Chla_Water_EXO',\n",
    " 'NO3',\n",
    " 'ALLSKY_SFC_LW_DWN',\n",
    " 'Chla_Water_EXO']\n",
    " ```\n"
   ],
   "metadata": {
    "collapsed": false
   }
  },
  {
   "cell_type": "code",
   "execution_count": 40,
   "outputs": [],
   "source": [
    "df_new = df[['NH4', 'DO-Sat_Water_EXO',\n",
    " 'PP',\n",
    " 'SolarRad_Air_LiCor',\n",
    " 'DO_Water_EXO',\n",
    " 'PRECTOTCORR',\n",
    " 'rel_fl',\n",
    " 'Chla_Water_EXO',\n",
    " 'NO3',\n",
    " 'rel_fl',\n",
    " 'ALLSKY_SFC_LW_DWN',\n",
    " 'Chla_Water_EXO']]"
   ],
   "metadata": {
    "collapsed": false
   }
  },
  {
   "cell_type": "code",
   "execution_count": 41,
   "outputs": [
    {
     "data": {
      "text/plain": "     NH4  DO-Sat_Water_EXO         PP  SolarRad_Air_LiCor  DO_Water_EXO  \\\n0  0.005        101.610000  16.681741           127.38941          9.17   \n1  0.005        101.776667  16.681741           127.38941          9.18   \n2  0.005        101.230000  16.681741           127.38941          9.16   \n3  0.005        101.590000  16.681741           127.38941          9.16   \n4  0.005        101.490000  16.681741           127.38941          9.15   \n\n   PRECTOTCORR  rel_fl  Chla_Water_EXO    NO3  rel_fl  ALLSKY_SFC_LW_DWN  \\\n0     4.319851   0.880        0.358058  0.191   0.880         310.373726   \n1     4.319851   0.862        0.544445  0.191   0.862         310.373726   \n2     4.319851   0.844        0.843708  0.191   0.844         310.373726   \n3     4.319851   0.826        0.939807  0.191   0.826         310.373726   \n4     4.319851   0.835        0.797623  0.191   0.835         310.373726   \n\n   Chla_Water_EXO  \n0        0.358058  \n1        0.544445  \n2        0.843708  \n3        0.939807  \n4        0.797623  ",
      "text/html": "<div>\n<style scoped>\n    .dataframe tbody tr th:only-of-type {\n        vertical-align: middle;\n    }\n\n    .dataframe tbody tr th {\n        vertical-align: top;\n    }\n\n    .dataframe thead th {\n        text-align: right;\n    }\n</style>\n<table border=\"1\" class=\"dataframe\">\n  <thead>\n    <tr style=\"text-align: right;\">\n      <th></th>\n      <th>NH4</th>\n      <th>DO-Sat_Water_EXO</th>\n      <th>PP</th>\n      <th>SolarRad_Air_LiCor</th>\n      <th>DO_Water_EXO</th>\n      <th>PRECTOTCORR</th>\n      <th>rel_fl</th>\n      <th>Chla_Water_EXO</th>\n      <th>NO3</th>\n      <th>rel_fl</th>\n      <th>ALLSKY_SFC_LW_DWN</th>\n      <th>Chla_Water_EXO</th>\n    </tr>\n  </thead>\n  <tbody>\n    <tr>\n      <th>0</th>\n      <td>0.005</td>\n      <td>101.610000</td>\n      <td>16.681741</td>\n      <td>127.38941</td>\n      <td>9.17</td>\n      <td>4.319851</td>\n      <td>0.880</td>\n      <td>0.358058</td>\n      <td>0.191</td>\n      <td>0.880</td>\n      <td>310.373726</td>\n      <td>0.358058</td>\n    </tr>\n    <tr>\n      <th>1</th>\n      <td>0.005</td>\n      <td>101.776667</td>\n      <td>16.681741</td>\n      <td>127.38941</td>\n      <td>9.18</td>\n      <td>4.319851</td>\n      <td>0.862</td>\n      <td>0.544445</td>\n      <td>0.191</td>\n      <td>0.862</td>\n      <td>310.373726</td>\n      <td>0.544445</td>\n    </tr>\n    <tr>\n      <th>2</th>\n      <td>0.005</td>\n      <td>101.230000</td>\n      <td>16.681741</td>\n      <td>127.38941</td>\n      <td>9.16</td>\n      <td>4.319851</td>\n      <td>0.844</td>\n      <td>0.843708</td>\n      <td>0.191</td>\n      <td>0.844</td>\n      <td>310.373726</td>\n      <td>0.843708</td>\n    </tr>\n    <tr>\n      <th>3</th>\n      <td>0.005</td>\n      <td>101.590000</td>\n      <td>16.681741</td>\n      <td>127.38941</td>\n      <td>9.16</td>\n      <td>4.319851</td>\n      <td>0.826</td>\n      <td>0.939807</td>\n      <td>0.191</td>\n      <td>0.826</td>\n      <td>310.373726</td>\n      <td>0.939807</td>\n    </tr>\n    <tr>\n      <th>4</th>\n      <td>0.005</td>\n      <td>101.490000</td>\n      <td>16.681741</td>\n      <td>127.38941</td>\n      <td>9.15</td>\n      <td>4.319851</td>\n      <td>0.835</td>\n      <td>0.797623</td>\n      <td>0.191</td>\n      <td>0.835</td>\n      <td>310.373726</td>\n      <td>0.797623</td>\n    </tr>\n  </tbody>\n</table>\n</div>"
     },
     "execution_count": 41,
     "metadata": {},
     "output_type": "execute_result"
    }
   ],
   "source": [
    "df_new.head()"
   ],
   "metadata": {
    "collapsed": false
   }
  },
  {
   "cell_type": "code",
   "execution_count": null,
   "outputs": [],
   "source": [],
   "metadata": {
    "collapsed": false
   }
  }
 ],
 "metadata": {
  "kernelspec": {
   "display_name": "Python 3",
   "language": "python",
   "name": "python3"
  },
  "language_info": {
   "codemirror_mode": {
    "name": "ipython",
    "version": 2
   },
   "file_extension": ".py",
   "mimetype": "text/x-python",
   "name": "python",
   "nbconvert_exporter": "python",
   "pygments_lexer": "ipython2",
   "version": "2.7.6"
  }
 },
 "nbformat": 4,
 "nbformat_minor": 0
}
