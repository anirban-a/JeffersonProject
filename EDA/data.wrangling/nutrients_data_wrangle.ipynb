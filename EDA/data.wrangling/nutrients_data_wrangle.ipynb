{
 "cells": [
  {
   "cell_type": "code",
   "execution_count": 1,
   "metadata": {
    "collapsed": true
   },
   "outputs": [],
   "source": [
    "from functools import partial\n",
    "\n",
    "import pandas as pd"
   ]
  },
  {
   "cell_type": "code",
   "execution_count": 2,
   "outputs": [],
   "source": [
    "data_path = '/home/achara/data/achara/'"
   ],
   "metadata": {
    "collapsed": false
   }
  },
  {
   "cell_type": "code",
   "execution_count": 3,
   "outputs": [],
   "source": [
    "df = pd.read_csv(data_path + 'SINC_input_data_EDI.csv')"
   ],
   "metadata": {
    "collapsed": false
   }
  },
  {
   "cell_type": "code",
   "execution_count": 4,
   "outputs": [
    {
     "data": {
      "text/plain": "Index(['Site', 'Datetime', 'Sample_Type', 'TP', 'TSP', 'SRP', 'TN', 'NO3',\n       'NH4', 'PP', 'EXO_SpCond_1h_median', 'EXO_Temp_1h_median',\n       'EXO_Turb_1h_median', 'EXO_pH_1h_median', 'EXO_fDOM_1h_median',\n       'Press_kpa_1h_median', 'SoilMoisture_1h_median', 'EXO_SpCond_1h_lag',\n       'EXO_Temp_1h_lag', 'EXO_Turb_1h_lag', 'EXO_pH_1h_lag',\n       'EXO_fDOM_1h_lag', 'Press_kpa_1h_lag', 'SoilMoisture_1h_lag',\n       'EXO_SpCond_1delta', 'EXO_Temp_1delta', 'EXO_Turb_1delta',\n       'EXO_pH_1delta', 'EXO_fDOM_1delta', 'Press_kpa_1delta',\n       'SoilMoisture_1delta', 'EXO_SpCond_5h_lag', 'EXO_Temp_5h_lag',\n       'EXO_Turb_5h_lag', 'EXO_pH_5h_lag', 'EXO_fDOM_5h_lag',\n       'Press_kpa_5h_lag', 'SoilMoisture_5h_lag', 'EXO_SpCond_5delta',\n       'EXO_Temp_5delta', 'EXO_Turb_5delta', 'EXO_pH_5delta',\n       'EXO_fDOM_5delta', 'Press_kpa_5delta', 'SoilMoisture_5delta',\n       'EXO_SpCond_24h_lag', 'EXO_Temp_24h_lag', 'EXO_Turb_24h_lag',\n       'EXO_pH_24h_lag', 'EXO_fDOM_24h_lag', 'Press_kpa_24h_lag',\n       'SoilMoisture_24h_lag', 'EXO_SpCond_24delta', 'EXO_Temp_24delta',\n       'EXO_Turb_24delta', 'EXO_pH_24delta', 'EXO_fDOM_24delta',\n       'Press_kpa_24delta', 'SoilMoisture_24delta', 'EXO_SpCond_120h_lag',\n       'EXO_Temp_120h_lag', 'EXO_Turb_120h_lag', 'EXO_pH_120h_lag',\n       'EXO_fDOM_120h_lag', 'Press_kpa_120h_lag', 'SoilMoisture_120h_lag',\n       'EXO_SpCond_120delta', 'EXO_Temp_120delta', 'EXO_Turb_120delta',\n       'EXO_pH_120delta', 'EXO_fDOM_120delta', 'Press_kpa_120delta',\n       'SoilMoisture_120delta'],\n      dtype='object')"
     },
     "execution_count": 4,
     "metadata": {},
     "output_type": "execute_result"
    }
   ],
   "source": [
    "df.columns"
   ],
   "metadata": {
    "collapsed": false
   }
  },
  {
   "cell_type": "code",
   "execution_count": 5,
   "outputs": [
    {
     "data": {
      "text/plain": "      Site             Datetime  Sample_Type       TP     TSP     SRP      TN  \\\n0  TS_East  2018-01-22 16:35:00     Baseflow   5.6920  3.5179  2.7809  0.5512   \n1  TS_East  2018-02-28 15:10:00     Baseflow   7.0481  3.1527  1.9507  0.3439   \n2  TS_East  2018-03-20 14:10:00     Baseflow  12.4426  2.7000  0.5000  0.6172   \n3  TS_East  2018-04-04 14:00:00  Storm Event  10.8230  3.2835  1.4783  0.4033   \n4  TS_East  2018-04-04 18:00:00  Storm Event  30.3826  4.7192  2.0857  0.4653   \n\n     NO3     NH4       PP  ...  EXO_fDOM_120h_lag  Press_kpa_120h_lag  \\\n0  0.552  0.0050   2.1741  ...                NaN                 NaN   \n1  0.362  0.0185   3.8954  ...           4.988937                 NaN   \n2  0.587  0.0050   9.7426  ...           3.308868             2.04100   \n3  0.248  0.0050   7.5395  ...          11.785599             3.18525   \n4  0.195  0.0050  25.6634  ...          11.587968             3.25025   \n\n   SoilMoisture_120h_lag  EXO_SpCond_120delta  EXO_Temp_120delta  \\\n0                 0.1115                  NaN                NaN   \n1                 0.1350             24.75075            1.31850   \n2                 0.1220             61.96175           -2.02375   \n3                 0.1280             83.58150            0.60375   \n4                 0.1245             47.61350            0.35300   \n\n   EXO_Turb_120delta  EXO_pH_120delta  EXO_fDOM_120delta  Press_kpa_120delta  \\\n0                NaN              NaN                NaN                 NaN   \n1           -0.76750          0.01000          -0.233648                 NaN   \n2           -1.65325          0.02150          -0.647593             -0.2125   \n3           -8.77200          0.09775          -2.180811             -0.8195   \n4            1.25850          0.02350           0.785274             -0.1790   \n\n   SoilMoisture_120delta  \n0                 0.0125  \n1                 0.0080  \n2                 0.0045  \n3                -0.0200  \n4                -0.0025  \n\n[5 rows x 73 columns]",
      "text/html": "<div>\n<style scoped>\n    .dataframe tbody tr th:only-of-type {\n        vertical-align: middle;\n    }\n\n    .dataframe tbody tr th {\n        vertical-align: top;\n    }\n\n    .dataframe thead th {\n        text-align: right;\n    }\n</style>\n<table border=\"1\" class=\"dataframe\">\n  <thead>\n    <tr style=\"text-align: right;\">\n      <th></th>\n      <th>Site</th>\n      <th>Datetime</th>\n      <th>Sample_Type</th>\n      <th>TP</th>\n      <th>TSP</th>\n      <th>SRP</th>\n      <th>TN</th>\n      <th>NO3</th>\n      <th>NH4</th>\n      <th>PP</th>\n      <th>...</th>\n      <th>EXO_fDOM_120h_lag</th>\n      <th>Press_kpa_120h_lag</th>\n      <th>SoilMoisture_120h_lag</th>\n      <th>EXO_SpCond_120delta</th>\n      <th>EXO_Temp_120delta</th>\n      <th>EXO_Turb_120delta</th>\n      <th>EXO_pH_120delta</th>\n      <th>EXO_fDOM_120delta</th>\n      <th>Press_kpa_120delta</th>\n      <th>SoilMoisture_120delta</th>\n    </tr>\n  </thead>\n  <tbody>\n    <tr>\n      <th>0</th>\n      <td>TS_East</td>\n      <td>2018-01-22 16:35:00</td>\n      <td>Baseflow</td>\n      <td>5.6920</td>\n      <td>3.5179</td>\n      <td>2.7809</td>\n      <td>0.5512</td>\n      <td>0.552</td>\n      <td>0.0050</td>\n      <td>2.1741</td>\n      <td>...</td>\n      <td>NaN</td>\n      <td>NaN</td>\n      <td>0.1115</td>\n      <td>NaN</td>\n      <td>NaN</td>\n      <td>NaN</td>\n      <td>NaN</td>\n      <td>NaN</td>\n      <td>NaN</td>\n      <td>0.0125</td>\n    </tr>\n    <tr>\n      <th>1</th>\n      <td>TS_East</td>\n      <td>2018-02-28 15:10:00</td>\n      <td>Baseflow</td>\n      <td>7.0481</td>\n      <td>3.1527</td>\n      <td>1.9507</td>\n      <td>0.3439</td>\n      <td>0.362</td>\n      <td>0.0185</td>\n      <td>3.8954</td>\n      <td>...</td>\n      <td>4.988937</td>\n      <td>NaN</td>\n      <td>0.1350</td>\n      <td>24.75075</td>\n      <td>1.31850</td>\n      <td>-0.76750</td>\n      <td>0.01000</td>\n      <td>-0.233648</td>\n      <td>NaN</td>\n      <td>0.0080</td>\n    </tr>\n    <tr>\n      <th>2</th>\n      <td>TS_East</td>\n      <td>2018-03-20 14:10:00</td>\n      <td>Baseflow</td>\n      <td>12.4426</td>\n      <td>2.7000</td>\n      <td>0.5000</td>\n      <td>0.6172</td>\n      <td>0.587</td>\n      <td>0.0050</td>\n      <td>9.7426</td>\n      <td>...</td>\n      <td>3.308868</td>\n      <td>2.04100</td>\n      <td>0.1220</td>\n      <td>61.96175</td>\n      <td>-2.02375</td>\n      <td>-1.65325</td>\n      <td>0.02150</td>\n      <td>-0.647593</td>\n      <td>-0.2125</td>\n      <td>0.0045</td>\n    </tr>\n    <tr>\n      <th>3</th>\n      <td>TS_East</td>\n      <td>2018-04-04 14:00:00</td>\n      <td>Storm Event</td>\n      <td>10.8230</td>\n      <td>3.2835</td>\n      <td>1.4783</td>\n      <td>0.4033</td>\n      <td>0.248</td>\n      <td>0.0050</td>\n      <td>7.5395</td>\n      <td>...</td>\n      <td>11.785599</td>\n      <td>3.18525</td>\n      <td>0.1280</td>\n      <td>83.58150</td>\n      <td>0.60375</td>\n      <td>-8.77200</td>\n      <td>0.09775</td>\n      <td>-2.180811</td>\n      <td>-0.8195</td>\n      <td>-0.0200</td>\n    </tr>\n    <tr>\n      <th>4</th>\n      <td>TS_East</td>\n      <td>2018-04-04 18:00:00</td>\n      <td>Storm Event</td>\n      <td>30.3826</td>\n      <td>4.7192</td>\n      <td>2.0857</td>\n      <td>0.4653</td>\n      <td>0.195</td>\n      <td>0.0050</td>\n      <td>25.6634</td>\n      <td>...</td>\n      <td>11.587968</td>\n      <td>3.25025</td>\n      <td>0.1245</td>\n      <td>47.61350</td>\n      <td>0.35300</td>\n      <td>1.25850</td>\n      <td>0.02350</td>\n      <td>0.785274</td>\n      <td>-0.1790</td>\n      <td>-0.0025</td>\n    </tr>\n  </tbody>\n</table>\n<p>5 rows × 73 columns</p>\n</div>"
     },
     "execution_count": 5,
     "metadata": {},
     "output_type": "execute_result"
    }
   ],
   "source": [
    "df.head()"
   ],
   "metadata": {
    "collapsed": false
   }
  },
  {
   "cell_type": "code",
   "execution_count": 6,
   "outputs": [],
   "source": [
    "def convert_date_format(date: str) -> str:\n",
    "    parts = date.split('-')\n",
    "    parts.append(parts.pop(0))\n",
    "    standardize = list(map(int, parts))\n",
    "    return '/'.join(list(map(str, standardize)))"
   ],
   "metadata": {
    "collapsed": false
   }
  },
  {
   "cell_type": "code",
   "execution_count": 7,
   "outputs": [],
   "source": [
    "df.Datetime = df.Datetime.map(lambda x: x.split(' ')[0]).map(convert_date_format)"
   ],
   "metadata": {
    "collapsed": false
   }
  },
  {
   "cell_type": "code",
   "execution_count": 8,
   "outputs": [
    {
     "data": {
      "text/plain": "      Site   Datetime  Sample_Type       TP     TSP     SRP      TN    NO3  \\\n0  TS_East  1/22/2018     Baseflow   5.6920  3.5179  2.7809  0.5512  0.552   \n1  TS_East  2/28/2018     Baseflow   7.0481  3.1527  1.9507  0.3439  0.362   \n2  TS_East  3/20/2018     Baseflow  12.4426  2.7000  0.5000  0.6172  0.587   \n3  TS_East   4/4/2018  Storm Event  10.8230  3.2835  1.4783  0.4033  0.248   \n4  TS_East   4/4/2018  Storm Event  30.3826  4.7192  2.0857  0.4653  0.195   \n\n      NH4       PP  ...  EXO_fDOM_120h_lag  Press_kpa_120h_lag  \\\n0  0.0050   2.1741  ...                NaN                 NaN   \n1  0.0185   3.8954  ...           4.988937                 NaN   \n2  0.0050   9.7426  ...           3.308868             2.04100   \n3  0.0050   7.5395  ...          11.785599             3.18525   \n4  0.0050  25.6634  ...          11.587968             3.25025   \n\n   SoilMoisture_120h_lag  EXO_SpCond_120delta  EXO_Temp_120delta  \\\n0                 0.1115                  NaN                NaN   \n1                 0.1350             24.75075            1.31850   \n2                 0.1220             61.96175           -2.02375   \n3                 0.1280             83.58150            0.60375   \n4                 0.1245             47.61350            0.35300   \n\n   EXO_Turb_120delta  EXO_pH_120delta  EXO_fDOM_120delta  Press_kpa_120delta  \\\n0                NaN              NaN                NaN                 NaN   \n1           -0.76750          0.01000          -0.233648                 NaN   \n2           -1.65325          0.02150          -0.647593             -0.2125   \n3           -8.77200          0.09775          -2.180811             -0.8195   \n4            1.25850          0.02350           0.785274             -0.1790   \n\n   SoilMoisture_120delta  \n0                 0.0125  \n1                 0.0080  \n2                 0.0045  \n3                -0.0200  \n4                -0.0025  \n\n[5 rows x 73 columns]",
      "text/html": "<div>\n<style scoped>\n    .dataframe tbody tr th:only-of-type {\n        vertical-align: middle;\n    }\n\n    .dataframe tbody tr th {\n        vertical-align: top;\n    }\n\n    .dataframe thead th {\n        text-align: right;\n    }\n</style>\n<table border=\"1\" class=\"dataframe\">\n  <thead>\n    <tr style=\"text-align: right;\">\n      <th></th>\n      <th>Site</th>\n      <th>Datetime</th>\n      <th>Sample_Type</th>\n      <th>TP</th>\n      <th>TSP</th>\n      <th>SRP</th>\n      <th>TN</th>\n      <th>NO3</th>\n      <th>NH4</th>\n      <th>PP</th>\n      <th>...</th>\n      <th>EXO_fDOM_120h_lag</th>\n      <th>Press_kpa_120h_lag</th>\n      <th>SoilMoisture_120h_lag</th>\n      <th>EXO_SpCond_120delta</th>\n      <th>EXO_Temp_120delta</th>\n      <th>EXO_Turb_120delta</th>\n      <th>EXO_pH_120delta</th>\n      <th>EXO_fDOM_120delta</th>\n      <th>Press_kpa_120delta</th>\n      <th>SoilMoisture_120delta</th>\n    </tr>\n  </thead>\n  <tbody>\n    <tr>\n      <th>0</th>\n      <td>TS_East</td>\n      <td>1/22/2018</td>\n      <td>Baseflow</td>\n      <td>5.6920</td>\n      <td>3.5179</td>\n      <td>2.7809</td>\n      <td>0.5512</td>\n      <td>0.552</td>\n      <td>0.0050</td>\n      <td>2.1741</td>\n      <td>...</td>\n      <td>NaN</td>\n      <td>NaN</td>\n      <td>0.1115</td>\n      <td>NaN</td>\n      <td>NaN</td>\n      <td>NaN</td>\n      <td>NaN</td>\n      <td>NaN</td>\n      <td>NaN</td>\n      <td>0.0125</td>\n    </tr>\n    <tr>\n      <th>1</th>\n      <td>TS_East</td>\n      <td>2/28/2018</td>\n      <td>Baseflow</td>\n      <td>7.0481</td>\n      <td>3.1527</td>\n      <td>1.9507</td>\n      <td>0.3439</td>\n      <td>0.362</td>\n      <td>0.0185</td>\n      <td>3.8954</td>\n      <td>...</td>\n      <td>4.988937</td>\n      <td>NaN</td>\n      <td>0.1350</td>\n      <td>24.75075</td>\n      <td>1.31850</td>\n      <td>-0.76750</td>\n      <td>0.01000</td>\n      <td>-0.233648</td>\n      <td>NaN</td>\n      <td>0.0080</td>\n    </tr>\n    <tr>\n      <th>2</th>\n      <td>TS_East</td>\n      <td>3/20/2018</td>\n      <td>Baseflow</td>\n      <td>12.4426</td>\n      <td>2.7000</td>\n      <td>0.5000</td>\n      <td>0.6172</td>\n      <td>0.587</td>\n      <td>0.0050</td>\n      <td>9.7426</td>\n      <td>...</td>\n      <td>3.308868</td>\n      <td>2.04100</td>\n      <td>0.1220</td>\n      <td>61.96175</td>\n      <td>-2.02375</td>\n      <td>-1.65325</td>\n      <td>0.02150</td>\n      <td>-0.647593</td>\n      <td>-0.2125</td>\n      <td>0.0045</td>\n    </tr>\n    <tr>\n      <th>3</th>\n      <td>TS_East</td>\n      <td>4/4/2018</td>\n      <td>Storm Event</td>\n      <td>10.8230</td>\n      <td>3.2835</td>\n      <td>1.4783</td>\n      <td>0.4033</td>\n      <td>0.248</td>\n      <td>0.0050</td>\n      <td>7.5395</td>\n      <td>...</td>\n      <td>11.785599</td>\n      <td>3.18525</td>\n      <td>0.1280</td>\n      <td>83.58150</td>\n      <td>0.60375</td>\n      <td>-8.77200</td>\n      <td>0.09775</td>\n      <td>-2.180811</td>\n      <td>-0.8195</td>\n      <td>-0.0200</td>\n    </tr>\n    <tr>\n      <th>4</th>\n      <td>TS_East</td>\n      <td>4/4/2018</td>\n      <td>Storm Event</td>\n      <td>30.3826</td>\n      <td>4.7192</td>\n      <td>2.0857</td>\n      <td>0.4653</td>\n      <td>0.195</td>\n      <td>0.0050</td>\n      <td>25.6634</td>\n      <td>...</td>\n      <td>11.587968</td>\n      <td>3.25025</td>\n      <td>0.1245</td>\n      <td>47.61350</td>\n      <td>0.35300</td>\n      <td>1.25850</td>\n      <td>0.02350</td>\n      <td>0.785274</td>\n      <td>-0.1790</td>\n      <td>-0.0025</td>\n    </tr>\n  </tbody>\n</table>\n<p>5 rows × 73 columns</p>\n</div>"
     },
     "execution_count": 8,
     "metadata": {},
     "output_type": "execute_result"
    }
   ],
   "source": [
    "df.head()"
   ],
   "metadata": {
    "collapsed": false
   }
  },
  {
   "cell_type": "code",
   "execution_count": 9,
   "outputs": [
    {
     "data": {
      "text/plain": "      Site   Datetime  Sample_Type       TP     TSP     SRP      TN    NO3  \\\n0  TS_East  1/22/2018     Baseflow   5.6920  3.5179  2.7809  0.5512  0.552   \n1  TS_East  2/28/2018     Baseflow   7.0481  3.1527  1.9507  0.3439  0.362   \n2  TS_East  3/20/2018     Baseflow  12.4426  2.7000  0.5000  0.6172  0.587   \n3  TS_East   4/4/2018  Storm Event  10.8230  3.2835  1.4783  0.4033  0.248   \n4  TS_East   4/4/2018  Storm Event  30.3826  4.7192  2.0857  0.4653  0.195   \n5  TS_East   4/4/2018  Storm Event  23.9219  3.4630  1.6302  0.3605  0.182   \n6  TS_East   4/4/2018  Storm Event  17.9996  4.7192  1.9339  0.3366  0.176   \n7  TS_East   4/5/2018  Storm Event  12.9746  4.3603  2.0857  0.3081  0.158   \n8  TS_East  4/23/2018     Baseflow   6.9788  3.4689  2.6403  0.4030  0.335   \n9  TS_East  5/30/2018     Baseflow  10.1217  4.1274  3.2719  0.5991  0.489   \n\n      NH4       PP  ...  EXO_fDOM_120h_lag  Press_kpa_120h_lag  \\\n0  0.0050   2.1741  ...                NaN                 NaN   \n1  0.0185   3.8954  ...           4.988937                 NaN   \n2  0.0050   9.7426  ...           3.308868             2.04100   \n3  0.0050   7.5395  ...          11.785599             3.18525   \n4  0.0050  25.6634  ...          11.587968             3.25025   \n5  0.0050  20.4589  ...          11.433604             3.23925   \n6  0.0050  13.2804  ...          11.391538             3.17975   \n7  0.0050   8.6143  ...          10.923362             3.05875   \n8  0.0050   3.5099  ...                NaN             2.12675   \n9  0.0050   5.9943  ...           3.130951             1.24375   \n\n   SoilMoisture_120h_lag  EXO_SpCond_120delta  EXO_Temp_120delta  \\\n0                0.11150                  NaN                NaN   \n1                0.13500             24.75075            1.31850   \n2                0.12200             61.96175           -2.02375   \n3                0.12800             83.58150            0.60375   \n4                0.12450             47.61350            0.35300   \n5                0.12550             29.57425            0.95500   \n6                0.12375             16.99575            0.83350   \n7                0.12400             10.97050            0.44275   \n8                0.12425                  NaN                NaN   \n9                0.08400             43.58425            0.16150   \n\n   EXO_Turb_120delta  EXO_pH_120delta  EXO_fDOM_120delta  Press_kpa_120delta  \\\n0                NaN              NaN                NaN                 NaN   \n1           -0.76750          0.01000          -0.233648                 NaN   \n2           -1.65325          0.02150          -0.647593            -0.21250   \n3           -8.77200          0.09775          -2.180811            -0.81950   \n4            1.25850          0.02350           0.785274            -0.17900   \n5           -0.27550          0.02000           0.637826            -0.12950   \n6           -2.98300          0.02000           0.419123            -0.11800   \n7           -0.86600          0.02000           0.512785            -0.11425   \n8                NaN              NaN                NaN            -0.75125   \n9           -5.96075          0.04000           0.685822            -0.01125   \n\n   SoilMoisture_120delta  \n0                0.01250  \n1                0.00800  \n2                0.00450  \n3               -0.02000  \n4               -0.00250  \n5               -0.00250  \n6               -0.00025  \n7               -0.00125  \n8               -0.02325  \n9               -0.00500  \n\n[10 rows x 73 columns]",
      "text/html": "<div>\n<style scoped>\n    .dataframe tbody tr th:only-of-type {\n        vertical-align: middle;\n    }\n\n    .dataframe tbody tr th {\n        vertical-align: top;\n    }\n\n    .dataframe thead th {\n        text-align: right;\n    }\n</style>\n<table border=\"1\" class=\"dataframe\">\n  <thead>\n    <tr style=\"text-align: right;\">\n      <th></th>\n      <th>Site</th>\n      <th>Datetime</th>\n      <th>Sample_Type</th>\n      <th>TP</th>\n      <th>TSP</th>\n      <th>SRP</th>\n      <th>TN</th>\n      <th>NO3</th>\n      <th>NH4</th>\n      <th>PP</th>\n      <th>...</th>\n      <th>EXO_fDOM_120h_lag</th>\n      <th>Press_kpa_120h_lag</th>\n      <th>SoilMoisture_120h_lag</th>\n      <th>EXO_SpCond_120delta</th>\n      <th>EXO_Temp_120delta</th>\n      <th>EXO_Turb_120delta</th>\n      <th>EXO_pH_120delta</th>\n      <th>EXO_fDOM_120delta</th>\n      <th>Press_kpa_120delta</th>\n      <th>SoilMoisture_120delta</th>\n    </tr>\n  </thead>\n  <tbody>\n    <tr>\n      <th>0</th>\n      <td>TS_East</td>\n      <td>1/22/2018</td>\n      <td>Baseflow</td>\n      <td>5.6920</td>\n      <td>3.5179</td>\n      <td>2.7809</td>\n      <td>0.5512</td>\n      <td>0.552</td>\n      <td>0.0050</td>\n      <td>2.1741</td>\n      <td>...</td>\n      <td>NaN</td>\n      <td>NaN</td>\n      <td>0.11150</td>\n      <td>NaN</td>\n      <td>NaN</td>\n      <td>NaN</td>\n      <td>NaN</td>\n      <td>NaN</td>\n      <td>NaN</td>\n      <td>0.01250</td>\n    </tr>\n    <tr>\n      <th>1</th>\n      <td>TS_East</td>\n      <td>2/28/2018</td>\n      <td>Baseflow</td>\n      <td>7.0481</td>\n      <td>3.1527</td>\n      <td>1.9507</td>\n      <td>0.3439</td>\n      <td>0.362</td>\n      <td>0.0185</td>\n      <td>3.8954</td>\n      <td>...</td>\n      <td>4.988937</td>\n      <td>NaN</td>\n      <td>0.13500</td>\n      <td>24.75075</td>\n      <td>1.31850</td>\n      <td>-0.76750</td>\n      <td>0.01000</td>\n      <td>-0.233648</td>\n      <td>NaN</td>\n      <td>0.00800</td>\n    </tr>\n    <tr>\n      <th>2</th>\n      <td>TS_East</td>\n      <td>3/20/2018</td>\n      <td>Baseflow</td>\n      <td>12.4426</td>\n      <td>2.7000</td>\n      <td>0.5000</td>\n      <td>0.6172</td>\n      <td>0.587</td>\n      <td>0.0050</td>\n      <td>9.7426</td>\n      <td>...</td>\n      <td>3.308868</td>\n      <td>2.04100</td>\n      <td>0.12200</td>\n      <td>61.96175</td>\n      <td>-2.02375</td>\n      <td>-1.65325</td>\n      <td>0.02150</td>\n      <td>-0.647593</td>\n      <td>-0.21250</td>\n      <td>0.00450</td>\n    </tr>\n    <tr>\n      <th>3</th>\n      <td>TS_East</td>\n      <td>4/4/2018</td>\n      <td>Storm Event</td>\n      <td>10.8230</td>\n      <td>3.2835</td>\n      <td>1.4783</td>\n      <td>0.4033</td>\n      <td>0.248</td>\n      <td>0.0050</td>\n      <td>7.5395</td>\n      <td>...</td>\n      <td>11.785599</td>\n      <td>3.18525</td>\n      <td>0.12800</td>\n      <td>83.58150</td>\n      <td>0.60375</td>\n      <td>-8.77200</td>\n      <td>0.09775</td>\n      <td>-2.180811</td>\n      <td>-0.81950</td>\n      <td>-0.02000</td>\n    </tr>\n    <tr>\n      <th>4</th>\n      <td>TS_East</td>\n      <td>4/4/2018</td>\n      <td>Storm Event</td>\n      <td>30.3826</td>\n      <td>4.7192</td>\n      <td>2.0857</td>\n      <td>0.4653</td>\n      <td>0.195</td>\n      <td>0.0050</td>\n      <td>25.6634</td>\n      <td>...</td>\n      <td>11.587968</td>\n      <td>3.25025</td>\n      <td>0.12450</td>\n      <td>47.61350</td>\n      <td>0.35300</td>\n      <td>1.25850</td>\n      <td>0.02350</td>\n      <td>0.785274</td>\n      <td>-0.17900</td>\n      <td>-0.00250</td>\n    </tr>\n    <tr>\n      <th>5</th>\n      <td>TS_East</td>\n      <td>4/4/2018</td>\n      <td>Storm Event</td>\n      <td>23.9219</td>\n      <td>3.4630</td>\n      <td>1.6302</td>\n      <td>0.3605</td>\n      <td>0.182</td>\n      <td>0.0050</td>\n      <td>20.4589</td>\n      <td>...</td>\n      <td>11.433604</td>\n      <td>3.23925</td>\n      <td>0.12550</td>\n      <td>29.57425</td>\n      <td>0.95500</td>\n      <td>-0.27550</td>\n      <td>0.02000</td>\n      <td>0.637826</td>\n      <td>-0.12950</td>\n      <td>-0.00250</td>\n    </tr>\n    <tr>\n      <th>6</th>\n      <td>TS_East</td>\n      <td>4/4/2018</td>\n      <td>Storm Event</td>\n      <td>17.9996</td>\n      <td>4.7192</td>\n      <td>1.9339</td>\n      <td>0.3366</td>\n      <td>0.176</td>\n      <td>0.0050</td>\n      <td>13.2804</td>\n      <td>...</td>\n      <td>11.391538</td>\n      <td>3.17975</td>\n      <td>0.12375</td>\n      <td>16.99575</td>\n      <td>0.83350</td>\n      <td>-2.98300</td>\n      <td>0.02000</td>\n      <td>0.419123</td>\n      <td>-0.11800</td>\n      <td>-0.00025</td>\n    </tr>\n    <tr>\n      <th>7</th>\n      <td>TS_East</td>\n      <td>4/5/2018</td>\n      <td>Storm Event</td>\n      <td>12.9746</td>\n      <td>4.3603</td>\n      <td>2.0857</td>\n      <td>0.3081</td>\n      <td>0.158</td>\n      <td>0.0050</td>\n      <td>8.6143</td>\n      <td>...</td>\n      <td>10.923362</td>\n      <td>3.05875</td>\n      <td>0.12400</td>\n      <td>10.97050</td>\n      <td>0.44275</td>\n      <td>-0.86600</td>\n      <td>0.02000</td>\n      <td>0.512785</td>\n      <td>-0.11425</td>\n      <td>-0.00125</td>\n    </tr>\n    <tr>\n      <th>8</th>\n      <td>TS_East</td>\n      <td>4/23/2018</td>\n      <td>Baseflow</td>\n      <td>6.9788</td>\n      <td>3.4689</td>\n      <td>2.6403</td>\n      <td>0.4030</td>\n      <td>0.335</td>\n      <td>0.0050</td>\n      <td>3.5099</td>\n      <td>...</td>\n      <td>NaN</td>\n      <td>2.12675</td>\n      <td>0.12425</td>\n      <td>NaN</td>\n      <td>NaN</td>\n      <td>NaN</td>\n      <td>NaN</td>\n      <td>NaN</td>\n      <td>-0.75125</td>\n      <td>-0.02325</td>\n    </tr>\n    <tr>\n      <th>9</th>\n      <td>TS_East</td>\n      <td>5/30/2018</td>\n      <td>Baseflow</td>\n      <td>10.1217</td>\n      <td>4.1274</td>\n      <td>3.2719</td>\n      <td>0.5991</td>\n      <td>0.489</td>\n      <td>0.0050</td>\n      <td>5.9943</td>\n      <td>...</td>\n      <td>3.130951</td>\n      <td>1.24375</td>\n      <td>0.08400</td>\n      <td>43.58425</td>\n      <td>0.16150</td>\n      <td>-5.96075</td>\n      <td>0.04000</td>\n      <td>0.685822</td>\n      <td>-0.01125</td>\n      <td>-0.00500</td>\n    </tr>\n  </tbody>\n</table>\n<p>10 rows × 73 columns</p>\n</div>"
     },
     "execution_count": 9,
     "metadata": {},
     "output_type": "execute_result"
    }
   ],
   "source": [
    "df.head(10)"
   ],
   "metadata": {
    "collapsed": false
   }
  },
  {
   "cell_type": "code",
   "execution_count": 10,
   "outputs": [],
   "source": [
    "keys = ['Datetime', 'Sample_Type', 'TP', 'TSP', 'SRP', 'TN', 'NO3',\n",
    "        'NH4', 'PP']\n",
    "df = df.loc[:, keys]"
   ],
   "metadata": {
    "collapsed": false
   }
  },
  {
   "cell_type": "code",
   "execution_count": 11,
   "outputs": [
    {
     "data": {
      "text/plain": "     Datetime  Sample_Type       TP      TSP      SRP      TN     NO3     NH4  \\\n0   1/22/2018     Baseflow   5.6920   3.5179   2.7809  0.5512  0.5520  0.0050   \n1   2/28/2018     Baseflow   7.0481   3.1527   1.9507  0.3439  0.3620  0.0185   \n2   3/20/2018     Baseflow  12.4426   2.7000   0.5000  0.6172  0.5870  0.0050   \n3    4/4/2018  Storm Event  10.8230   3.2835   1.4783  0.4033  0.2480  0.0050   \n4    4/4/2018  Storm Event  30.3826   4.7192   2.0857  0.4653  0.1950  0.0050   \n5    4/4/2018  Storm Event  23.9219   3.4630   1.6302  0.3605  0.1820  0.0050   \n6    4/4/2018  Storm Event  17.9996   4.7192   1.9339  0.3366  0.1760  0.0050   \n7    4/5/2018  Storm Event  12.9746   4.3603   2.0857  0.3081  0.1580  0.0050   \n8   4/23/2018     Baseflow   6.9788   3.4689   2.6403  0.4030  0.3350  0.0050   \n9   5/30/2018     Baseflow  10.1217   4.1274   3.2719  0.5991  0.4890  0.0050   \n10  6/27/2018     Baseflow  13.6233   5.1677   3.5361  0.7120  0.5390  0.0112   \n11  7/17/2018     Baseflow   8.0321   3.9552   3.5860  0.6472  0.5220  0.0050   \n12  8/20/2018     Baseflow   7.4704   5.0061   3.4777  0.5475  0.5050  0.0050   \n13  9/17/2018     Baseflow  20.4985  19.1008  19.0342  0.6073  0.0965  0.0119   \n14  9/18/2018  Storm Event   7.2202   2.3282   1.4120  0.6429  0.4580  0.0050   \n\n         PP  \n0    2.1741  \n1    3.8954  \n2    9.7426  \n3    7.5395  \n4   25.6634  \n5   20.4589  \n6   13.2804  \n7    8.6143  \n8    3.5099  \n9    5.9943  \n10   8.4556  \n11   4.0769  \n12   2.4643  \n13   1.3977  \n14   4.8920  ",
      "text/html": "<div>\n<style scoped>\n    .dataframe tbody tr th:only-of-type {\n        vertical-align: middle;\n    }\n\n    .dataframe tbody tr th {\n        vertical-align: top;\n    }\n\n    .dataframe thead th {\n        text-align: right;\n    }\n</style>\n<table border=\"1\" class=\"dataframe\">\n  <thead>\n    <tr style=\"text-align: right;\">\n      <th></th>\n      <th>Datetime</th>\n      <th>Sample_Type</th>\n      <th>TP</th>\n      <th>TSP</th>\n      <th>SRP</th>\n      <th>TN</th>\n      <th>NO3</th>\n      <th>NH4</th>\n      <th>PP</th>\n    </tr>\n  </thead>\n  <tbody>\n    <tr>\n      <th>0</th>\n      <td>1/22/2018</td>\n      <td>Baseflow</td>\n      <td>5.6920</td>\n      <td>3.5179</td>\n      <td>2.7809</td>\n      <td>0.5512</td>\n      <td>0.5520</td>\n      <td>0.0050</td>\n      <td>2.1741</td>\n    </tr>\n    <tr>\n      <th>1</th>\n      <td>2/28/2018</td>\n      <td>Baseflow</td>\n      <td>7.0481</td>\n      <td>3.1527</td>\n      <td>1.9507</td>\n      <td>0.3439</td>\n      <td>0.3620</td>\n      <td>0.0185</td>\n      <td>3.8954</td>\n    </tr>\n    <tr>\n      <th>2</th>\n      <td>3/20/2018</td>\n      <td>Baseflow</td>\n      <td>12.4426</td>\n      <td>2.7000</td>\n      <td>0.5000</td>\n      <td>0.6172</td>\n      <td>0.5870</td>\n      <td>0.0050</td>\n      <td>9.7426</td>\n    </tr>\n    <tr>\n      <th>3</th>\n      <td>4/4/2018</td>\n      <td>Storm Event</td>\n      <td>10.8230</td>\n      <td>3.2835</td>\n      <td>1.4783</td>\n      <td>0.4033</td>\n      <td>0.2480</td>\n      <td>0.0050</td>\n      <td>7.5395</td>\n    </tr>\n    <tr>\n      <th>4</th>\n      <td>4/4/2018</td>\n      <td>Storm Event</td>\n      <td>30.3826</td>\n      <td>4.7192</td>\n      <td>2.0857</td>\n      <td>0.4653</td>\n      <td>0.1950</td>\n      <td>0.0050</td>\n      <td>25.6634</td>\n    </tr>\n    <tr>\n      <th>5</th>\n      <td>4/4/2018</td>\n      <td>Storm Event</td>\n      <td>23.9219</td>\n      <td>3.4630</td>\n      <td>1.6302</td>\n      <td>0.3605</td>\n      <td>0.1820</td>\n      <td>0.0050</td>\n      <td>20.4589</td>\n    </tr>\n    <tr>\n      <th>6</th>\n      <td>4/4/2018</td>\n      <td>Storm Event</td>\n      <td>17.9996</td>\n      <td>4.7192</td>\n      <td>1.9339</td>\n      <td>0.3366</td>\n      <td>0.1760</td>\n      <td>0.0050</td>\n      <td>13.2804</td>\n    </tr>\n    <tr>\n      <th>7</th>\n      <td>4/5/2018</td>\n      <td>Storm Event</td>\n      <td>12.9746</td>\n      <td>4.3603</td>\n      <td>2.0857</td>\n      <td>0.3081</td>\n      <td>0.1580</td>\n      <td>0.0050</td>\n      <td>8.6143</td>\n    </tr>\n    <tr>\n      <th>8</th>\n      <td>4/23/2018</td>\n      <td>Baseflow</td>\n      <td>6.9788</td>\n      <td>3.4689</td>\n      <td>2.6403</td>\n      <td>0.4030</td>\n      <td>0.3350</td>\n      <td>0.0050</td>\n      <td>3.5099</td>\n    </tr>\n    <tr>\n      <th>9</th>\n      <td>5/30/2018</td>\n      <td>Baseflow</td>\n      <td>10.1217</td>\n      <td>4.1274</td>\n      <td>3.2719</td>\n      <td>0.5991</td>\n      <td>0.4890</td>\n      <td>0.0050</td>\n      <td>5.9943</td>\n    </tr>\n    <tr>\n      <th>10</th>\n      <td>6/27/2018</td>\n      <td>Baseflow</td>\n      <td>13.6233</td>\n      <td>5.1677</td>\n      <td>3.5361</td>\n      <td>0.7120</td>\n      <td>0.5390</td>\n      <td>0.0112</td>\n      <td>8.4556</td>\n    </tr>\n    <tr>\n      <th>11</th>\n      <td>7/17/2018</td>\n      <td>Baseflow</td>\n      <td>8.0321</td>\n      <td>3.9552</td>\n      <td>3.5860</td>\n      <td>0.6472</td>\n      <td>0.5220</td>\n      <td>0.0050</td>\n      <td>4.0769</td>\n    </tr>\n    <tr>\n      <th>12</th>\n      <td>8/20/2018</td>\n      <td>Baseflow</td>\n      <td>7.4704</td>\n      <td>5.0061</td>\n      <td>3.4777</td>\n      <td>0.5475</td>\n      <td>0.5050</td>\n      <td>0.0050</td>\n      <td>2.4643</td>\n    </tr>\n    <tr>\n      <th>13</th>\n      <td>9/17/2018</td>\n      <td>Baseflow</td>\n      <td>20.4985</td>\n      <td>19.1008</td>\n      <td>19.0342</td>\n      <td>0.6073</td>\n      <td>0.0965</td>\n      <td>0.0119</td>\n      <td>1.3977</td>\n    </tr>\n    <tr>\n      <th>14</th>\n      <td>9/18/2018</td>\n      <td>Storm Event</td>\n      <td>7.2202</td>\n      <td>2.3282</td>\n      <td>1.4120</td>\n      <td>0.6429</td>\n      <td>0.4580</td>\n      <td>0.0050</td>\n      <td>4.8920</td>\n    </tr>\n  </tbody>\n</table>\n</div>"
     },
     "execution_count": 11,
     "metadata": {},
     "output_type": "execute_result"
    }
   ],
   "source": [
    "df.head(15)"
   ],
   "metadata": {
    "collapsed": false
   }
  },
  {
   "cell_type": "code",
   "execution_count": 12,
   "outputs": [],
   "source": [
    "def transform_sample_type(sample: str) -> str:\n",
    "    if sample == 'baseflow':\n",
    "        return 'Baseflow'\n",
    "    return sample\n",
    "\n",
    "\n",
    "df.Sample_Type = df.Sample_Type.map(transform_sample_type)"
   ],
   "metadata": {
    "collapsed": false
   }
  },
  {
   "cell_type": "code",
   "execution_count": 13,
   "outputs": [
    {
     "name": "stderr",
     "output_type": "stream",
     "text": [
      "/home/achara/achara_env/lib/python3.6/site-packages/ipykernel_launcher.py:2: FutureWarning: Indexing with multiple keys (implicitly converted to a tuple of keys) will be deprecated, use a list instead.\n",
      "  \n"
     ]
    },
    {
     "data": {
      "text/plain": "      Datetime  Sample_Type         TP       TSP       SRP        TN  \\\n0    1/11/2016  Storm Event  29.628025  2.626150  0.500000  1.338425   \n1    1/12/2016  Storm Event  11.046900  4.209000  0.500000  0.991800   \n2    1/14/2019     Baseflow   5.777362  3.284037  1.696188  0.402687   \n3    1/15/2019     Baseflow   3.864500  2.545267  1.014433  0.173133   \n4    1/17/2017     Baseflow   5.469167  3.970033  3.024067  0.867933   \n..         ...          ...        ...       ...       ...       ...   \n146  9/21/2017     Baseflow   8.944350  6.733500  6.647950  1.149500   \n147  9/22/2016     Baseflow   8.952433  6.402000  4.945733  0.974467   \n148  9/24/2015     Baseflow  10.884400  8.619500  6.774600  0.468200   \n149  9/25/2018  Storm Event   8.104000  3.174950  1.756600  0.518300   \n150  9/26/2018  Storm Event  16.641800  3.497667  1.369067  0.397000   \n\n          NO3       NH4         PP  \n0    0.419500  0.698400  27.001875  \n1    0.824000  0.005000   6.837900  \n2    0.292063  0.006275   2.493325  \n3    0.116067  0.005000   1.319233  \n4    0.788333  0.010267   1.499133  \n..        ...       ...        ...  \n146  1.123200  0.005000   2.210850  \n147  0.864967  0.013667   2.550433  \n148  0.240000  0.008600   2.264900  \n149  0.295500  0.005000   4.929050  \n150  0.174333  0.005000  13.144133  \n\n[151 rows x 9 columns]",
      "text/html": "<div>\n<style scoped>\n    .dataframe tbody tr th:only-of-type {\n        vertical-align: middle;\n    }\n\n    .dataframe tbody tr th {\n        vertical-align: top;\n    }\n\n    .dataframe thead th {\n        text-align: right;\n    }\n</style>\n<table border=\"1\" class=\"dataframe\">\n  <thead>\n    <tr style=\"text-align: right;\">\n      <th></th>\n      <th>Datetime</th>\n      <th>Sample_Type</th>\n      <th>TP</th>\n      <th>TSP</th>\n      <th>SRP</th>\n      <th>TN</th>\n      <th>NO3</th>\n      <th>NH4</th>\n      <th>PP</th>\n    </tr>\n  </thead>\n  <tbody>\n    <tr>\n      <th>0</th>\n      <td>1/11/2016</td>\n      <td>Storm Event</td>\n      <td>29.628025</td>\n      <td>2.626150</td>\n      <td>0.500000</td>\n      <td>1.338425</td>\n      <td>0.419500</td>\n      <td>0.698400</td>\n      <td>27.001875</td>\n    </tr>\n    <tr>\n      <th>1</th>\n      <td>1/12/2016</td>\n      <td>Storm Event</td>\n      <td>11.046900</td>\n      <td>4.209000</td>\n      <td>0.500000</td>\n      <td>0.991800</td>\n      <td>0.824000</td>\n      <td>0.005000</td>\n      <td>6.837900</td>\n    </tr>\n    <tr>\n      <th>2</th>\n      <td>1/14/2019</td>\n      <td>Baseflow</td>\n      <td>5.777362</td>\n      <td>3.284037</td>\n      <td>1.696188</td>\n      <td>0.402687</td>\n      <td>0.292063</td>\n      <td>0.006275</td>\n      <td>2.493325</td>\n    </tr>\n    <tr>\n      <th>3</th>\n      <td>1/15/2019</td>\n      <td>Baseflow</td>\n      <td>3.864500</td>\n      <td>2.545267</td>\n      <td>1.014433</td>\n      <td>0.173133</td>\n      <td>0.116067</td>\n      <td>0.005000</td>\n      <td>1.319233</td>\n    </tr>\n    <tr>\n      <th>4</th>\n      <td>1/17/2017</td>\n      <td>Baseflow</td>\n      <td>5.469167</td>\n      <td>3.970033</td>\n      <td>3.024067</td>\n      <td>0.867933</td>\n      <td>0.788333</td>\n      <td>0.010267</td>\n      <td>1.499133</td>\n    </tr>\n    <tr>\n      <th>...</th>\n      <td>...</td>\n      <td>...</td>\n      <td>...</td>\n      <td>...</td>\n      <td>...</td>\n      <td>...</td>\n      <td>...</td>\n      <td>...</td>\n      <td>...</td>\n    </tr>\n    <tr>\n      <th>146</th>\n      <td>9/21/2017</td>\n      <td>Baseflow</td>\n      <td>8.944350</td>\n      <td>6.733500</td>\n      <td>6.647950</td>\n      <td>1.149500</td>\n      <td>1.123200</td>\n      <td>0.005000</td>\n      <td>2.210850</td>\n    </tr>\n    <tr>\n      <th>147</th>\n      <td>9/22/2016</td>\n      <td>Baseflow</td>\n      <td>8.952433</td>\n      <td>6.402000</td>\n      <td>4.945733</td>\n      <td>0.974467</td>\n      <td>0.864967</td>\n      <td>0.013667</td>\n      <td>2.550433</td>\n    </tr>\n    <tr>\n      <th>148</th>\n      <td>9/24/2015</td>\n      <td>Baseflow</td>\n      <td>10.884400</td>\n      <td>8.619500</td>\n      <td>6.774600</td>\n      <td>0.468200</td>\n      <td>0.240000</td>\n      <td>0.008600</td>\n      <td>2.264900</td>\n    </tr>\n    <tr>\n      <th>149</th>\n      <td>9/25/2018</td>\n      <td>Storm Event</td>\n      <td>8.104000</td>\n      <td>3.174950</td>\n      <td>1.756600</td>\n      <td>0.518300</td>\n      <td>0.295500</td>\n      <td>0.005000</td>\n      <td>4.929050</td>\n    </tr>\n    <tr>\n      <th>150</th>\n      <td>9/26/2018</td>\n      <td>Storm Event</td>\n      <td>16.641800</td>\n      <td>3.497667</td>\n      <td>1.369067</td>\n      <td>0.397000</td>\n      <td>0.174333</td>\n      <td>0.005000</td>\n      <td>13.144133</td>\n    </tr>\n  </tbody>\n</table>\n<p>151 rows × 9 columns</p>\n</div>"
     },
     "execution_count": 13,
     "metadata": {},
     "output_type": "execute_result"
    }
   ],
   "source": [
    "df.groupby(['Datetime', 'Sample_Type'], as_index=False)['TP', 'TSP', 'SRP', 'TN', 'NO3',\n",
    "'NH4', 'PP'].mean()"
   ],
   "metadata": {
    "collapsed": false
   }
  },
  {
   "cell_type": "code",
   "execution_count": 14,
   "outputs": [],
   "source": [
    "def get_part(idx: int, date: str) -> str:\n",
    "    return date.split('/')[idx]"
   ],
   "metadata": {
    "collapsed": false
   }
  },
  {
   "cell_type": "code",
   "execution_count": 15,
   "outputs": [],
   "source": [
    "df['month'] = df.Datetime.map(partial(get_part, 0)).map(int)\n",
    "df['day'] = df.Datetime.map(partial(get_part, 1)).map(int)\n",
    "df['year'] = df.Datetime.map(partial(get_part, 2)).map(int)"
   ],
   "metadata": {
    "collapsed": false
   }
  },
  {
   "cell_type": "code",
   "execution_count": 16,
   "outputs": [],
   "source": [
    "df = df.loc[:, df.columns != 'Datetime']"
   ],
   "metadata": {
    "collapsed": false
   }
  },
  {
   "cell_type": "markdown",
   "source": [
    "## Read the solar radiation & VP integrated data"
   ],
   "metadata": {
    "collapsed": false
   }
  },
  {
   "cell_type": "code",
   "execution_count": 17,
   "outputs": [],
   "source": [
    "vp_solar_df = pd.read_csv(data_path + 'vp_data_with_solar_2017_to_2019.csv')"
   ],
   "metadata": {
    "collapsed": false
   }
  },
  {
   "cell_type": "code",
   "execution_count": 18,
   "outputs": [
    {
     "data": {
      "text/plain": "Index(['Sample_Type', 'TP', 'TSP', 'SRP', 'TN', 'NO3', 'NH4', 'PP', 'month',\n       'day', 'year'],\n      dtype='object')"
     },
     "execution_count": 18,
     "metadata": {},
     "output_type": "execute_result"
    }
   ],
   "source": [
    "df.columns"
   ],
   "metadata": {
    "collapsed": false
   }
  },
  {
   "cell_type": "code",
   "execution_count": 19,
   "outputs": [
    {
     "name": "stderr",
     "output_type": "stream",
     "text": [
      "/home/achara/achara_env/lib/python3.6/site-packages/ipykernel_launcher.py:1: FutureWarning: Indexing with multiple keys (implicitly converted to a tuple of keys) will be deprecated, use a list instead.\n",
      "  \"\"\"Entry point for launching an IPython kernel.\n"
     ]
    }
   ],
   "source": [
    "df_mean = df.groupby(['year','month'], as_index=False)['Sample_Type', 'TP', 'TSP', 'SRP', 'TN', 'NO3', 'NH4', 'PP'].mean()"
   ],
   "metadata": {
    "collapsed": false
   }
  },
  {
   "cell_type": "code",
   "execution_count": 20,
   "outputs": [],
   "source": [
    "merged = vp_solar_df.merge(df_mean, on=['year','month' ], how='left')"
   ],
   "metadata": {
    "collapsed": false
   }
  },
  {
   "cell_type": "code",
   "execution_count": 21,
   "outputs": [
    {
     "data": {
      "text/plain": "    DateTime  SensorDepth_Water_EXO  PC_Water_EXO  Chla_Water_EXO  \\\n0  10/1/2017                   1.01        0.1556        0.358058   \n1  10/1/2017                   1.03        0.1520        0.544445   \n2  10/1/2017                   1.05        0.1304        0.843708   \n3  10/1/2017                   1.07        0.1592        0.939807   \n4  10/1/2017                   1.09        0.1340        0.797623   \n\n   DO_Water_EXO  DO-Sat_Water_EXO  SpCond_Water_EXO  Temperature_Water_EXO  \\\n0          9.17        101.610000        139.810000              20.380000   \n1          9.18        101.776667        139.786667              20.386667   \n2          9.16        101.230000        139.660000              20.220000   \n3          9.16        101.590000        139.780000              20.410000   \n4          9.15        101.490000        139.750000              20.420000   \n\n   pH_Water_EXO  rel_fl  ...  day  year  SolarRad_Air_LiCor         TP  \\\n0      8.010344   0.880  ...    1  2017           127.38941  25.691678   \n1      8.027139   0.862  ...    1  2017           127.38941  25.691678   \n2      8.019958   0.844  ...    1  2017           127.38941  25.691678   \n3      8.038803   0.826  ...    1  2017           127.38941  25.691678   \n4      8.024188   0.835  ...    1  2017           127.38941  25.691678   \n\n        TSP       SRP        TN    NO3    NH4         PP  \n0  9.009938  5.594708  0.498284  0.191  0.005  16.681741  \n1  9.009938  5.594708  0.498284  0.191  0.005  16.681741  \n2  9.009938  5.594708  0.498284  0.191  0.005  16.681741  \n3  9.009938  5.594708  0.498284  0.191  0.005  16.681741  \n4  9.009938  5.594708  0.498284  0.191  0.005  16.681741  \n\n[5 rows x 21 columns]",
      "text/html": "<div>\n<style scoped>\n    .dataframe tbody tr th:only-of-type {\n        vertical-align: middle;\n    }\n\n    .dataframe tbody tr th {\n        vertical-align: top;\n    }\n\n    .dataframe thead th {\n        text-align: right;\n    }\n</style>\n<table border=\"1\" class=\"dataframe\">\n  <thead>\n    <tr style=\"text-align: right;\">\n      <th></th>\n      <th>DateTime</th>\n      <th>SensorDepth_Water_EXO</th>\n      <th>PC_Water_EXO</th>\n      <th>Chla_Water_EXO</th>\n      <th>DO_Water_EXO</th>\n      <th>DO-Sat_Water_EXO</th>\n      <th>SpCond_Water_EXO</th>\n      <th>Temperature_Water_EXO</th>\n      <th>pH_Water_EXO</th>\n      <th>rel_fl</th>\n      <th>...</th>\n      <th>day</th>\n      <th>year</th>\n      <th>SolarRad_Air_LiCor</th>\n      <th>TP</th>\n      <th>TSP</th>\n      <th>SRP</th>\n      <th>TN</th>\n      <th>NO3</th>\n      <th>NH4</th>\n      <th>PP</th>\n    </tr>\n  </thead>\n  <tbody>\n    <tr>\n      <th>0</th>\n      <td>10/1/2017</td>\n      <td>1.01</td>\n      <td>0.1556</td>\n      <td>0.358058</td>\n      <td>9.17</td>\n      <td>101.610000</td>\n      <td>139.810000</td>\n      <td>20.380000</td>\n      <td>8.010344</td>\n      <td>0.880</td>\n      <td>...</td>\n      <td>1</td>\n      <td>2017</td>\n      <td>127.38941</td>\n      <td>25.691678</td>\n      <td>9.009938</td>\n      <td>5.594708</td>\n      <td>0.498284</td>\n      <td>0.191</td>\n      <td>0.005</td>\n      <td>16.681741</td>\n    </tr>\n    <tr>\n      <th>1</th>\n      <td>10/1/2017</td>\n      <td>1.03</td>\n      <td>0.1520</td>\n      <td>0.544445</td>\n      <td>9.18</td>\n      <td>101.776667</td>\n      <td>139.786667</td>\n      <td>20.386667</td>\n      <td>8.027139</td>\n      <td>0.862</td>\n      <td>...</td>\n      <td>1</td>\n      <td>2017</td>\n      <td>127.38941</td>\n      <td>25.691678</td>\n      <td>9.009938</td>\n      <td>5.594708</td>\n      <td>0.498284</td>\n      <td>0.191</td>\n      <td>0.005</td>\n      <td>16.681741</td>\n    </tr>\n    <tr>\n      <th>2</th>\n      <td>10/1/2017</td>\n      <td>1.05</td>\n      <td>0.1304</td>\n      <td>0.843708</td>\n      <td>9.16</td>\n      <td>101.230000</td>\n      <td>139.660000</td>\n      <td>20.220000</td>\n      <td>8.019958</td>\n      <td>0.844</td>\n      <td>...</td>\n      <td>1</td>\n      <td>2017</td>\n      <td>127.38941</td>\n      <td>25.691678</td>\n      <td>9.009938</td>\n      <td>5.594708</td>\n      <td>0.498284</td>\n      <td>0.191</td>\n      <td>0.005</td>\n      <td>16.681741</td>\n    </tr>\n    <tr>\n      <th>3</th>\n      <td>10/1/2017</td>\n      <td>1.07</td>\n      <td>0.1592</td>\n      <td>0.939807</td>\n      <td>9.16</td>\n      <td>101.590000</td>\n      <td>139.780000</td>\n      <td>20.410000</td>\n      <td>8.038803</td>\n      <td>0.826</td>\n      <td>...</td>\n      <td>1</td>\n      <td>2017</td>\n      <td>127.38941</td>\n      <td>25.691678</td>\n      <td>9.009938</td>\n      <td>5.594708</td>\n      <td>0.498284</td>\n      <td>0.191</td>\n      <td>0.005</td>\n      <td>16.681741</td>\n    </tr>\n    <tr>\n      <th>4</th>\n      <td>10/1/2017</td>\n      <td>1.09</td>\n      <td>0.1340</td>\n      <td>0.797623</td>\n      <td>9.15</td>\n      <td>101.490000</td>\n      <td>139.750000</td>\n      <td>20.420000</td>\n      <td>8.024188</td>\n      <td>0.835</td>\n      <td>...</td>\n      <td>1</td>\n      <td>2017</td>\n      <td>127.38941</td>\n      <td>25.691678</td>\n      <td>9.009938</td>\n      <td>5.594708</td>\n      <td>0.498284</td>\n      <td>0.191</td>\n      <td>0.005</td>\n      <td>16.681741</td>\n    </tr>\n  </tbody>\n</table>\n<p>5 rows × 21 columns</p>\n</div>"
     },
     "execution_count": 21,
     "metadata": {},
     "output_type": "execute_result"
    }
   ],
   "source": [
    "merged.head()"
   ],
   "metadata": {
    "collapsed": false
   }
  },
  {
   "cell_type": "code",
   "execution_count": 22,
   "outputs": [],
   "source": [
    "merged.to_csv(data_path + '/pc_data_2017_to_2019.csv', index=False)"
   ],
   "metadata": {
    "collapsed": false
   }
  },
  {
   "cell_type": "code",
   "execution_count": 22,
   "outputs": [],
   "source": [],
   "metadata": {
    "collapsed": false
   }
  }
 ],
 "metadata": {
  "kernelspec": {
   "display_name": "Python 3",
   "language": "python",
   "name": "python3"
  },
  "language_info": {
   "codemirror_mode": {
    "name": "ipython",
    "version": 2
   },
   "file_extension": ".py",
   "mimetype": "text/x-python",
   "name": "python",
   "nbconvert_exporter": "python",
   "pygments_lexer": "ipython2",
   "version": "2.7.6"
  }
 },
 "nbformat": 4,
 "nbformat_minor": 0
}
