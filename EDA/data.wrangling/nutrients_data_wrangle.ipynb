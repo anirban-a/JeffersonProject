{
 "cells": [
  {
   "cell_type": "code",
   "execution_count": 80,
   "metadata": {
    "collapsed": true
   },
   "outputs": [],
   "source": [
    "import pandas as pd"
   ]
  },
  {
   "cell_type": "code",
   "execution_count": 81,
   "outputs": [],
   "source": [
    "data_path = '/home/achara/data/achara/'"
   ],
   "metadata": {
    "collapsed": false
   }
  },
  {
   "cell_type": "code",
   "execution_count": 82,
   "outputs": [],
   "source": [
    "df = pd.read_csv(data_path + 'SINC_input_data_EDI.csv')"
   ],
   "metadata": {
    "collapsed": false
   }
  },
  {
   "cell_type": "code",
   "execution_count": 83,
   "outputs": [
    {
     "data": {
      "text/plain": "      Site             Datetime  Sample_Type       TP     TSP     SRP      TN  \\\n0  TS_East  2018-01-22 16:35:00     Baseflow   5.6920  3.5179  2.7809  0.5512   \n1  TS_East  2018-02-28 15:10:00     Baseflow   7.0481  3.1527  1.9507  0.3439   \n2  TS_East  2018-03-20 14:10:00     Baseflow  12.4426  2.7000  0.5000  0.6172   \n3  TS_East  2018-04-04 14:00:00  Storm Event  10.8230  3.2835  1.4783  0.4033   \n4  TS_East  2018-04-04 18:00:00  Storm Event  30.3826  4.7192  2.0857  0.4653   \n\n     NO3     NH4       PP  ...  EXO_fDOM_120h_lag  Press_kpa_120h_lag  \\\n0  0.552  0.0050   2.1741  ...                NaN                 NaN   \n1  0.362  0.0185   3.8954  ...           4.988937                 NaN   \n2  0.587  0.0050   9.7426  ...           3.308868             2.04100   \n3  0.248  0.0050   7.5395  ...          11.785599             3.18525   \n4  0.195  0.0050  25.6634  ...          11.587968             3.25025   \n\n   SoilMoisture_120h_lag  EXO_SpCond_120delta  EXO_Temp_120delta  \\\n0                 0.1115                  NaN                NaN   \n1                 0.1350             24.75075            1.31850   \n2                 0.1220             61.96175           -2.02375   \n3                 0.1280             83.58150            0.60375   \n4                 0.1245             47.61350            0.35300   \n\n   EXO_Turb_120delta  EXO_pH_120delta  EXO_fDOM_120delta  Press_kpa_120delta  \\\n0                NaN              NaN                NaN                 NaN   \n1           -0.76750          0.01000          -0.233648                 NaN   \n2           -1.65325          0.02150          -0.647593             -0.2125   \n3           -8.77200          0.09775          -2.180811             -0.8195   \n4            1.25850          0.02350           0.785274             -0.1790   \n\n   SoilMoisture_120delta  \n0                 0.0125  \n1                 0.0080  \n2                 0.0045  \n3                -0.0200  \n4                -0.0025  \n\n[5 rows x 73 columns]",
      "text/html": "<div>\n<style scoped>\n    .dataframe tbody tr th:only-of-type {\n        vertical-align: middle;\n    }\n\n    .dataframe tbody tr th {\n        vertical-align: top;\n    }\n\n    .dataframe thead th {\n        text-align: right;\n    }\n</style>\n<table border=\"1\" class=\"dataframe\">\n  <thead>\n    <tr style=\"text-align: right;\">\n      <th></th>\n      <th>Site</th>\n      <th>Datetime</th>\n      <th>Sample_Type</th>\n      <th>TP</th>\n      <th>TSP</th>\n      <th>SRP</th>\n      <th>TN</th>\n      <th>NO3</th>\n      <th>NH4</th>\n      <th>PP</th>\n      <th>...</th>\n      <th>EXO_fDOM_120h_lag</th>\n      <th>Press_kpa_120h_lag</th>\n      <th>SoilMoisture_120h_lag</th>\n      <th>EXO_SpCond_120delta</th>\n      <th>EXO_Temp_120delta</th>\n      <th>EXO_Turb_120delta</th>\n      <th>EXO_pH_120delta</th>\n      <th>EXO_fDOM_120delta</th>\n      <th>Press_kpa_120delta</th>\n      <th>SoilMoisture_120delta</th>\n    </tr>\n  </thead>\n  <tbody>\n    <tr>\n      <th>0</th>\n      <td>TS_East</td>\n      <td>2018-01-22 16:35:00</td>\n      <td>Baseflow</td>\n      <td>5.6920</td>\n      <td>3.5179</td>\n      <td>2.7809</td>\n      <td>0.5512</td>\n      <td>0.552</td>\n      <td>0.0050</td>\n      <td>2.1741</td>\n      <td>...</td>\n      <td>NaN</td>\n      <td>NaN</td>\n      <td>0.1115</td>\n      <td>NaN</td>\n      <td>NaN</td>\n      <td>NaN</td>\n      <td>NaN</td>\n      <td>NaN</td>\n      <td>NaN</td>\n      <td>0.0125</td>\n    </tr>\n    <tr>\n      <th>1</th>\n      <td>TS_East</td>\n      <td>2018-02-28 15:10:00</td>\n      <td>Baseflow</td>\n      <td>7.0481</td>\n      <td>3.1527</td>\n      <td>1.9507</td>\n      <td>0.3439</td>\n      <td>0.362</td>\n      <td>0.0185</td>\n      <td>3.8954</td>\n      <td>...</td>\n      <td>4.988937</td>\n      <td>NaN</td>\n      <td>0.1350</td>\n      <td>24.75075</td>\n      <td>1.31850</td>\n      <td>-0.76750</td>\n      <td>0.01000</td>\n      <td>-0.233648</td>\n      <td>NaN</td>\n      <td>0.0080</td>\n    </tr>\n    <tr>\n      <th>2</th>\n      <td>TS_East</td>\n      <td>2018-03-20 14:10:00</td>\n      <td>Baseflow</td>\n      <td>12.4426</td>\n      <td>2.7000</td>\n      <td>0.5000</td>\n      <td>0.6172</td>\n      <td>0.587</td>\n      <td>0.0050</td>\n      <td>9.7426</td>\n      <td>...</td>\n      <td>3.308868</td>\n      <td>2.04100</td>\n      <td>0.1220</td>\n      <td>61.96175</td>\n      <td>-2.02375</td>\n      <td>-1.65325</td>\n      <td>0.02150</td>\n      <td>-0.647593</td>\n      <td>-0.2125</td>\n      <td>0.0045</td>\n    </tr>\n    <tr>\n      <th>3</th>\n      <td>TS_East</td>\n      <td>2018-04-04 14:00:00</td>\n      <td>Storm Event</td>\n      <td>10.8230</td>\n      <td>3.2835</td>\n      <td>1.4783</td>\n      <td>0.4033</td>\n      <td>0.248</td>\n      <td>0.0050</td>\n      <td>7.5395</td>\n      <td>...</td>\n      <td>11.785599</td>\n      <td>3.18525</td>\n      <td>0.1280</td>\n      <td>83.58150</td>\n      <td>0.60375</td>\n      <td>-8.77200</td>\n      <td>0.09775</td>\n      <td>-2.180811</td>\n      <td>-0.8195</td>\n      <td>-0.0200</td>\n    </tr>\n    <tr>\n      <th>4</th>\n      <td>TS_East</td>\n      <td>2018-04-04 18:00:00</td>\n      <td>Storm Event</td>\n      <td>30.3826</td>\n      <td>4.7192</td>\n      <td>2.0857</td>\n      <td>0.4653</td>\n      <td>0.195</td>\n      <td>0.0050</td>\n      <td>25.6634</td>\n      <td>...</td>\n      <td>11.587968</td>\n      <td>3.25025</td>\n      <td>0.1245</td>\n      <td>47.61350</td>\n      <td>0.35300</td>\n      <td>1.25850</td>\n      <td>0.02350</td>\n      <td>0.785274</td>\n      <td>-0.1790</td>\n      <td>-0.0025</td>\n    </tr>\n  </tbody>\n</table>\n<p>5 rows × 73 columns</p>\n</div>"
     },
     "execution_count": 83,
     "metadata": {},
     "output_type": "execute_result"
    }
   ],
   "source": [
    "df.head()"
   ],
   "metadata": {
    "collapsed": false
   }
  },
  {
   "cell_type": "code",
   "execution_count": 84,
   "outputs": [],
   "source": [
    "def convert_date_format(date: str) -> str:\n",
    "    parts = date.split('-')\n",
    "    parts.append(parts.pop(0))\n",
    "    standardize = list(map(int, parts))\n",
    "    return '/'.join(list(map(str, standardize)))"
   ],
   "metadata": {
    "collapsed": false
   }
  },
  {
   "cell_type": "code",
   "execution_count": 85,
   "outputs": [],
   "source": [
    "df.Datetime = df.Datetime.map(lambda x:x.split(' ')[0]).map(convert_date_format)"
   ],
   "metadata": {
    "collapsed": false
   }
  },
  {
   "cell_type": "code",
   "execution_count": 86,
   "outputs": [
    {
     "data": {
      "text/plain": "      Site   Datetime  Sample_Type       TP     TSP     SRP      TN    NO3  \\\n0  TS_East  1/22/2018     Baseflow   5.6920  3.5179  2.7809  0.5512  0.552   \n1  TS_East  2/28/2018     Baseflow   7.0481  3.1527  1.9507  0.3439  0.362   \n2  TS_East  3/20/2018     Baseflow  12.4426  2.7000  0.5000  0.6172  0.587   \n3  TS_East   4/4/2018  Storm Event  10.8230  3.2835  1.4783  0.4033  0.248   \n4  TS_East   4/4/2018  Storm Event  30.3826  4.7192  2.0857  0.4653  0.195   \n\n      NH4       PP  ...  EXO_fDOM_120h_lag  Press_kpa_120h_lag  \\\n0  0.0050   2.1741  ...                NaN                 NaN   \n1  0.0185   3.8954  ...           4.988937                 NaN   \n2  0.0050   9.7426  ...           3.308868             2.04100   \n3  0.0050   7.5395  ...          11.785599             3.18525   \n4  0.0050  25.6634  ...          11.587968             3.25025   \n\n   SoilMoisture_120h_lag  EXO_SpCond_120delta  EXO_Temp_120delta  \\\n0                 0.1115                  NaN                NaN   \n1                 0.1350             24.75075            1.31850   \n2                 0.1220             61.96175           -2.02375   \n3                 0.1280             83.58150            0.60375   \n4                 0.1245             47.61350            0.35300   \n\n   EXO_Turb_120delta  EXO_pH_120delta  EXO_fDOM_120delta  Press_kpa_120delta  \\\n0                NaN              NaN                NaN                 NaN   \n1           -0.76750          0.01000          -0.233648                 NaN   \n2           -1.65325          0.02150          -0.647593             -0.2125   \n3           -8.77200          0.09775          -2.180811             -0.8195   \n4            1.25850          0.02350           0.785274             -0.1790   \n\n   SoilMoisture_120delta  \n0                 0.0125  \n1                 0.0080  \n2                 0.0045  \n3                -0.0200  \n4                -0.0025  \n\n[5 rows x 73 columns]",
      "text/html": "<div>\n<style scoped>\n    .dataframe tbody tr th:only-of-type {\n        vertical-align: middle;\n    }\n\n    .dataframe tbody tr th {\n        vertical-align: top;\n    }\n\n    .dataframe thead th {\n        text-align: right;\n    }\n</style>\n<table border=\"1\" class=\"dataframe\">\n  <thead>\n    <tr style=\"text-align: right;\">\n      <th></th>\n      <th>Site</th>\n      <th>Datetime</th>\n      <th>Sample_Type</th>\n      <th>TP</th>\n      <th>TSP</th>\n      <th>SRP</th>\n      <th>TN</th>\n      <th>NO3</th>\n      <th>NH4</th>\n      <th>PP</th>\n      <th>...</th>\n      <th>EXO_fDOM_120h_lag</th>\n      <th>Press_kpa_120h_lag</th>\n      <th>SoilMoisture_120h_lag</th>\n      <th>EXO_SpCond_120delta</th>\n      <th>EXO_Temp_120delta</th>\n      <th>EXO_Turb_120delta</th>\n      <th>EXO_pH_120delta</th>\n      <th>EXO_fDOM_120delta</th>\n      <th>Press_kpa_120delta</th>\n      <th>SoilMoisture_120delta</th>\n    </tr>\n  </thead>\n  <tbody>\n    <tr>\n      <th>0</th>\n      <td>TS_East</td>\n      <td>1/22/2018</td>\n      <td>Baseflow</td>\n      <td>5.6920</td>\n      <td>3.5179</td>\n      <td>2.7809</td>\n      <td>0.5512</td>\n      <td>0.552</td>\n      <td>0.0050</td>\n      <td>2.1741</td>\n      <td>...</td>\n      <td>NaN</td>\n      <td>NaN</td>\n      <td>0.1115</td>\n      <td>NaN</td>\n      <td>NaN</td>\n      <td>NaN</td>\n      <td>NaN</td>\n      <td>NaN</td>\n      <td>NaN</td>\n      <td>0.0125</td>\n    </tr>\n    <tr>\n      <th>1</th>\n      <td>TS_East</td>\n      <td>2/28/2018</td>\n      <td>Baseflow</td>\n      <td>7.0481</td>\n      <td>3.1527</td>\n      <td>1.9507</td>\n      <td>0.3439</td>\n      <td>0.362</td>\n      <td>0.0185</td>\n      <td>3.8954</td>\n      <td>...</td>\n      <td>4.988937</td>\n      <td>NaN</td>\n      <td>0.1350</td>\n      <td>24.75075</td>\n      <td>1.31850</td>\n      <td>-0.76750</td>\n      <td>0.01000</td>\n      <td>-0.233648</td>\n      <td>NaN</td>\n      <td>0.0080</td>\n    </tr>\n    <tr>\n      <th>2</th>\n      <td>TS_East</td>\n      <td>3/20/2018</td>\n      <td>Baseflow</td>\n      <td>12.4426</td>\n      <td>2.7000</td>\n      <td>0.5000</td>\n      <td>0.6172</td>\n      <td>0.587</td>\n      <td>0.0050</td>\n      <td>9.7426</td>\n      <td>...</td>\n      <td>3.308868</td>\n      <td>2.04100</td>\n      <td>0.1220</td>\n      <td>61.96175</td>\n      <td>-2.02375</td>\n      <td>-1.65325</td>\n      <td>0.02150</td>\n      <td>-0.647593</td>\n      <td>-0.2125</td>\n      <td>0.0045</td>\n    </tr>\n    <tr>\n      <th>3</th>\n      <td>TS_East</td>\n      <td>4/4/2018</td>\n      <td>Storm Event</td>\n      <td>10.8230</td>\n      <td>3.2835</td>\n      <td>1.4783</td>\n      <td>0.4033</td>\n      <td>0.248</td>\n      <td>0.0050</td>\n      <td>7.5395</td>\n      <td>...</td>\n      <td>11.785599</td>\n      <td>3.18525</td>\n      <td>0.1280</td>\n      <td>83.58150</td>\n      <td>0.60375</td>\n      <td>-8.77200</td>\n      <td>0.09775</td>\n      <td>-2.180811</td>\n      <td>-0.8195</td>\n      <td>-0.0200</td>\n    </tr>\n    <tr>\n      <th>4</th>\n      <td>TS_East</td>\n      <td>4/4/2018</td>\n      <td>Storm Event</td>\n      <td>30.3826</td>\n      <td>4.7192</td>\n      <td>2.0857</td>\n      <td>0.4653</td>\n      <td>0.195</td>\n      <td>0.0050</td>\n      <td>25.6634</td>\n      <td>...</td>\n      <td>11.587968</td>\n      <td>3.25025</td>\n      <td>0.1245</td>\n      <td>47.61350</td>\n      <td>0.35300</td>\n      <td>1.25850</td>\n      <td>0.02350</td>\n      <td>0.785274</td>\n      <td>-0.1790</td>\n      <td>-0.0025</td>\n    </tr>\n  </tbody>\n</table>\n<p>5 rows × 73 columns</p>\n</div>"
     },
     "execution_count": 86,
     "metadata": {},
     "output_type": "execute_result"
    }
   ],
   "source": [
    "df.head()"
   ],
   "metadata": {
    "collapsed": false
   }
  },
  {
   "cell_type": "code",
   "execution_count": 87,
   "outputs": [
    {
     "data": {
      "text/plain": "      Site   Datetime  Sample_Type       TP     TSP     SRP      TN    NO3  \\\n0  TS_East  1/22/2018     Baseflow   5.6920  3.5179  2.7809  0.5512  0.552   \n1  TS_East  2/28/2018     Baseflow   7.0481  3.1527  1.9507  0.3439  0.362   \n2  TS_East  3/20/2018     Baseflow  12.4426  2.7000  0.5000  0.6172  0.587   \n3  TS_East   4/4/2018  Storm Event  10.8230  3.2835  1.4783  0.4033  0.248   \n4  TS_East   4/4/2018  Storm Event  30.3826  4.7192  2.0857  0.4653  0.195   \n5  TS_East   4/4/2018  Storm Event  23.9219  3.4630  1.6302  0.3605  0.182   \n6  TS_East   4/4/2018  Storm Event  17.9996  4.7192  1.9339  0.3366  0.176   \n7  TS_East   4/5/2018  Storm Event  12.9746  4.3603  2.0857  0.3081  0.158   \n8  TS_East  4/23/2018     Baseflow   6.9788  3.4689  2.6403  0.4030  0.335   \n9  TS_East  5/30/2018     Baseflow  10.1217  4.1274  3.2719  0.5991  0.489   \n\n      NH4       PP  ...  EXO_fDOM_120h_lag  Press_kpa_120h_lag  \\\n0  0.0050   2.1741  ...                NaN                 NaN   \n1  0.0185   3.8954  ...           4.988937                 NaN   \n2  0.0050   9.7426  ...           3.308868             2.04100   \n3  0.0050   7.5395  ...          11.785599             3.18525   \n4  0.0050  25.6634  ...          11.587968             3.25025   \n5  0.0050  20.4589  ...          11.433604             3.23925   \n6  0.0050  13.2804  ...          11.391538             3.17975   \n7  0.0050   8.6143  ...          10.923362             3.05875   \n8  0.0050   3.5099  ...                NaN             2.12675   \n9  0.0050   5.9943  ...           3.130951             1.24375   \n\n   SoilMoisture_120h_lag  EXO_SpCond_120delta  EXO_Temp_120delta  \\\n0                0.11150                  NaN                NaN   \n1                0.13500             24.75075            1.31850   \n2                0.12200             61.96175           -2.02375   \n3                0.12800             83.58150            0.60375   \n4                0.12450             47.61350            0.35300   \n5                0.12550             29.57425            0.95500   \n6                0.12375             16.99575            0.83350   \n7                0.12400             10.97050            0.44275   \n8                0.12425                  NaN                NaN   \n9                0.08400             43.58425            0.16150   \n\n   EXO_Turb_120delta  EXO_pH_120delta  EXO_fDOM_120delta  Press_kpa_120delta  \\\n0                NaN              NaN                NaN                 NaN   \n1           -0.76750          0.01000          -0.233648                 NaN   \n2           -1.65325          0.02150          -0.647593            -0.21250   \n3           -8.77200          0.09775          -2.180811            -0.81950   \n4            1.25850          0.02350           0.785274            -0.17900   \n5           -0.27550          0.02000           0.637826            -0.12950   \n6           -2.98300          0.02000           0.419123            -0.11800   \n7           -0.86600          0.02000           0.512785            -0.11425   \n8                NaN              NaN                NaN            -0.75125   \n9           -5.96075          0.04000           0.685822            -0.01125   \n\n   SoilMoisture_120delta  \n0                0.01250  \n1                0.00800  \n2                0.00450  \n3               -0.02000  \n4               -0.00250  \n5               -0.00250  \n6               -0.00025  \n7               -0.00125  \n8               -0.02325  \n9               -0.00500  \n\n[10 rows x 73 columns]",
      "text/html": "<div>\n<style scoped>\n    .dataframe tbody tr th:only-of-type {\n        vertical-align: middle;\n    }\n\n    .dataframe tbody tr th {\n        vertical-align: top;\n    }\n\n    .dataframe thead th {\n        text-align: right;\n    }\n</style>\n<table border=\"1\" class=\"dataframe\">\n  <thead>\n    <tr style=\"text-align: right;\">\n      <th></th>\n      <th>Site</th>\n      <th>Datetime</th>\n      <th>Sample_Type</th>\n      <th>TP</th>\n      <th>TSP</th>\n      <th>SRP</th>\n      <th>TN</th>\n      <th>NO3</th>\n      <th>NH4</th>\n      <th>PP</th>\n      <th>...</th>\n      <th>EXO_fDOM_120h_lag</th>\n      <th>Press_kpa_120h_lag</th>\n      <th>SoilMoisture_120h_lag</th>\n      <th>EXO_SpCond_120delta</th>\n      <th>EXO_Temp_120delta</th>\n      <th>EXO_Turb_120delta</th>\n      <th>EXO_pH_120delta</th>\n      <th>EXO_fDOM_120delta</th>\n      <th>Press_kpa_120delta</th>\n      <th>SoilMoisture_120delta</th>\n    </tr>\n  </thead>\n  <tbody>\n    <tr>\n      <th>0</th>\n      <td>TS_East</td>\n      <td>1/22/2018</td>\n      <td>Baseflow</td>\n      <td>5.6920</td>\n      <td>3.5179</td>\n      <td>2.7809</td>\n      <td>0.5512</td>\n      <td>0.552</td>\n      <td>0.0050</td>\n      <td>2.1741</td>\n      <td>...</td>\n      <td>NaN</td>\n      <td>NaN</td>\n      <td>0.11150</td>\n      <td>NaN</td>\n      <td>NaN</td>\n      <td>NaN</td>\n      <td>NaN</td>\n      <td>NaN</td>\n      <td>NaN</td>\n      <td>0.01250</td>\n    </tr>\n    <tr>\n      <th>1</th>\n      <td>TS_East</td>\n      <td>2/28/2018</td>\n      <td>Baseflow</td>\n      <td>7.0481</td>\n      <td>3.1527</td>\n      <td>1.9507</td>\n      <td>0.3439</td>\n      <td>0.362</td>\n      <td>0.0185</td>\n      <td>3.8954</td>\n      <td>...</td>\n      <td>4.988937</td>\n      <td>NaN</td>\n      <td>0.13500</td>\n      <td>24.75075</td>\n      <td>1.31850</td>\n      <td>-0.76750</td>\n      <td>0.01000</td>\n      <td>-0.233648</td>\n      <td>NaN</td>\n      <td>0.00800</td>\n    </tr>\n    <tr>\n      <th>2</th>\n      <td>TS_East</td>\n      <td>3/20/2018</td>\n      <td>Baseflow</td>\n      <td>12.4426</td>\n      <td>2.7000</td>\n      <td>0.5000</td>\n      <td>0.6172</td>\n      <td>0.587</td>\n      <td>0.0050</td>\n      <td>9.7426</td>\n      <td>...</td>\n      <td>3.308868</td>\n      <td>2.04100</td>\n      <td>0.12200</td>\n      <td>61.96175</td>\n      <td>-2.02375</td>\n      <td>-1.65325</td>\n      <td>0.02150</td>\n      <td>-0.647593</td>\n      <td>-0.21250</td>\n      <td>0.00450</td>\n    </tr>\n    <tr>\n      <th>3</th>\n      <td>TS_East</td>\n      <td>4/4/2018</td>\n      <td>Storm Event</td>\n      <td>10.8230</td>\n      <td>3.2835</td>\n      <td>1.4783</td>\n      <td>0.4033</td>\n      <td>0.248</td>\n      <td>0.0050</td>\n      <td>7.5395</td>\n      <td>...</td>\n      <td>11.785599</td>\n      <td>3.18525</td>\n      <td>0.12800</td>\n      <td>83.58150</td>\n      <td>0.60375</td>\n      <td>-8.77200</td>\n      <td>0.09775</td>\n      <td>-2.180811</td>\n      <td>-0.81950</td>\n      <td>-0.02000</td>\n    </tr>\n    <tr>\n      <th>4</th>\n      <td>TS_East</td>\n      <td>4/4/2018</td>\n      <td>Storm Event</td>\n      <td>30.3826</td>\n      <td>4.7192</td>\n      <td>2.0857</td>\n      <td>0.4653</td>\n      <td>0.195</td>\n      <td>0.0050</td>\n      <td>25.6634</td>\n      <td>...</td>\n      <td>11.587968</td>\n      <td>3.25025</td>\n      <td>0.12450</td>\n      <td>47.61350</td>\n      <td>0.35300</td>\n      <td>1.25850</td>\n      <td>0.02350</td>\n      <td>0.785274</td>\n      <td>-0.17900</td>\n      <td>-0.00250</td>\n    </tr>\n    <tr>\n      <th>5</th>\n      <td>TS_East</td>\n      <td>4/4/2018</td>\n      <td>Storm Event</td>\n      <td>23.9219</td>\n      <td>3.4630</td>\n      <td>1.6302</td>\n      <td>0.3605</td>\n      <td>0.182</td>\n      <td>0.0050</td>\n      <td>20.4589</td>\n      <td>...</td>\n      <td>11.433604</td>\n      <td>3.23925</td>\n      <td>0.12550</td>\n      <td>29.57425</td>\n      <td>0.95500</td>\n      <td>-0.27550</td>\n      <td>0.02000</td>\n      <td>0.637826</td>\n      <td>-0.12950</td>\n      <td>-0.00250</td>\n    </tr>\n    <tr>\n      <th>6</th>\n      <td>TS_East</td>\n      <td>4/4/2018</td>\n      <td>Storm Event</td>\n      <td>17.9996</td>\n      <td>4.7192</td>\n      <td>1.9339</td>\n      <td>0.3366</td>\n      <td>0.176</td>\n      <td>0.0050</td>\n      <td>13.2804</td>\n      <td>...</td>\n      <td>11.391538</td>\n      <td>3.17975</td>\n      <td>0.12375</td>\n      <td>16.99575</td>\n      <td>0.83350</td>\n      <td>-2.98300</td>\n      <td>0.02000</td>\n      <td>0.419123</td>\n      <td>-0.11800</td>\n      <td>-0.00025</td>\n    </tr>\n    <tr>\n      <th>7</th>\n      <td>TS_East</td>\n      <td>4/5/2018</td>\n      <td>Storm Event</td>\n      <td>12.9746</td>\n      <td>4.3603</td>\n      <td>2.0857</td>\n      <td>0.3081</td>\n      <td>0.158</td>\n      <td>0.0050</td>\n      <td>8.6143</td>\n      <td>...</td>\n      <td>10.923362</td>\n      <td>3.05875</td>\n      <td>0.12400</td>\n      <td>10.97050</td>\n      <td>0.44275</td>\n      <td>-0.86600</td>\n      <td>0.02000</td>\n      <td>0.512785</td>\n      <td>-0.11425</td>\n      <td>-0.00125</td>\n    </tr>\n    <tr>\n      <th>8</th>\n      <td>TS_East</td>\n      <td>4/23/2018</td>\n      <td>Baseflow</td>\n      <td>6.9788</td>\n      <td>3.4689</td>\n      <td>2.6403</td>\n      <td>0.4030</td>\n      <td>0.335</td>\n      <td>0.0050</td>\n      <td>3.5099</td>\n      <td>...</td>\n      <td>NaN</td>\n      <td>2.12675</td>\n      <td>0.12425</td>\n      <td>NaN</td>\n      <td>NaN</td>\n      <td>NaN</td>\n      <td>NaN</td>\n      <td>NaN</td>\n      <td>-0.75125</td>\n      <td>-0.02325</td>\n    </tr>\n    <tr>\n      <th>9</th>\n      <td>TS_East</td>\n      <td>5/30/2018</td>\n      <td>Baseflow</td>\n      <td>10.1217</td>\n      <td>4.1274</td>\n      <td>3.2719</td>\n      <td>0.5991</td>\n      <td>0.489</td>\n      <td>0.0050</td>\n      <td>5.9943</td>\n      <td>...</td>\n      <td>3.130951</td>\n      <td>1.24375</td>\n      <td>0.08400</td>\n      <td>43.58425</td>\n      <td>0.16150</td>\n      <td>-5.96075</td>\n      <td>0.04000</td>\n      <td>0.685822</td>\n      <td>-0.01125</td>\n      <td>-0.00500</td>\n    </tr>\n  </tbody>\n</table>\n<p>10 rows × 73 columns</p>\n</div>"
     },
     "execution_count": 87,
     "metadata": {},
     "output_type": "execute_result"
    }
   ],
   "source": [
    "df.head(10)"
   ],
   "metadata": {
    "collapsed": false
   }
  },
  {
   "cell_type": "code",
   "execution_count": 99,
   "outputs": [],
   "source": [
    "keys=['Datetime', 'Sample_Type', 'TP', 'TSP', 'SRP', 'TN', 'NO3',\n",
    "       'NH4', 'PP']\n",
    "df = df.loc[:,keys]"
   ],
   "metadata": {
    "collapsed": false
   }
  },
  {
   "cell_type": "code",
   "execution_count": 100,
   "outputs": [
    {
     "data": {
      "text/plain": "    Datetime  Sample_Type       TP     TSP     SRP      TN    NO3     NH4  \\\n0  1/22/2018     Baseflow   5.6920  3.5179  2.7809  0.5512  0.552  0.0050   \n1  2/28/2018     Baseflow   7.0481  3.1527  1.9507  0.3439  0.362  0.0185   \n2  3/20/2018     Baseflow  12.4426  2.7000  0.5000  0.6172  0.587  0.0050   \n3   4/4/2018  Storm Event  10.8230  3.2835  1.4783  0.4033  0.248  0.0050   \n4   4/4/2018  Storm Event  30.3826  4.7192  2.0857  0.4653  0.195  0.0050   \n\n        PP  \n0   2.1741  \n1   3.8954  \n2   9.7426  \n3   7.5395  \n4  25.6634  ",
      "text/html": "<div>\n<style scoped>\n    .dataframe tbody tr th:only-of-type {\n        vertical-align: middle;\n    }\n\n    .dataframe tbody tr th {\n        vertical-align: top;\n    }\n\n    .dataframe thead th {\n        text-align: right;\n    }\n</style>\n<table border=\"1\" class=\"dataframe\">\n  <thead>\n    <tr style=\"text-align: right;\">\n      <th></th>\n      <th>Datetime</th>\n      <th>Sample_Type</th>\n      <th>TP</th>\n      <th>TSP</th>\n      <th>SRP</th>\n      <th>TN</th>\n      <th>NO3</th>\n      <th>NH4</th>\n      <th>PP</th>\n    </tr>\n  </thead>\n  <tbody>\n    <tr>\n      <th>0</th>\n      <td>1/22/2018</td>\n      <td>Baseflow</td>\n      <td>5.6920</td>\n      <td>3.5179</td>\n      <td>2.7809</td>\n      <td>0.5512</td>\n      <td>0.552</td>\n      <td>0.0050</td>\n      <td>2.1741</td>\n    </tr>\n    <tr>\n      <th>1</th>\n      <td>2/28/2018</td>\n      <td>Baseflow</td>\n      <td>7.0481</td>\n      <td>3.1527</td>\n      <td>1.9507</td>\n      <td>0.3439</td>\n      <td>0.362</td>\n      <td>0.0185</td>\n      <td>3.8954</td>\n    </tr>\n    <tr>\n      <th>2</th>\n      <td>3/20/2018</td>\n      <td>Baseflow</td>\n      <td>12.4426</td>\n      <td>2.7000</td>\n      <td>0.5000</td>\n      <td>0.6172</td>\n      <td>0.587</td>\n      <td>0.0050</td>\n      <td>9.7426</td>\n    </tr>\n    <tr>\n      <th>3</th>\n      <td>4/4/2018</td>\n      <td>Storm Event</td>\n      <td>10.8230</td>\n      <td>3.2835</td>\n      <td>1.4783</td>\n      <td>0.4033</td>\n      <td>0.248</td>\n      <td>0.0050</td>\n      <td>7.5395</td>\n    </tr>\n    <tr>\n      <th>4</th>\n      <td>4/4/2018</td>\n      <td>Storm Event</td>\n      <td>30.3826</td>\n      <td>4.7192</td>\n      <td>2.0857</td>\n      <td>0.4653</td>\n      <td>0.195</td>\n      <td>0.0050</td>\n      <td>25.6634</td>\n    </tr>\n  </tbody>\n</table>\n</div>"
     },
     "execution_count": 100,
     "metadata": {},
     "output_type": "execute_result"
    }
   ],
   "source": [
    "df.head()"
   ],
   "metadata": {
    "collapsed": false
   }
  },
  {
   "cell_type": "code",
   "execution_count": null,
   "outputs": [],
   "source": [],
   "metadata": {
    "collapsed": false
   }
  }
 ],
 "metadata": {
  "kernelspec": {
   "display_name": "Python 3",
   "language": "python",
   "name": "python3"
  },
  "language_info": {
   "codemirror_mode": {
    "name": "ipython",
    "version": 2
   },
   "file_extension": ".py",
   "mimetype": "text/x-python",
   "name": "python",
   "nbconvert_exporter": "python",
   "pygments_lexer": "ipython2",
   "version": "2.7.6"
  }
 },
 "nbformat": 4,
 "nbformat_minor": 0
}
