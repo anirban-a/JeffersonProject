{
 "cells": [
  {
   "cell_type": "code",
   "execution_count": 68,
   "metadata": {
    "collapsed": true
   },
   "outputs": [],
   "source": [
    "import pandas as pd"
   ]
  },
  {
   "cell_type": "code",
   "execution_count": 69,
   "outputs": [],
   "source": [
    "data_path = '/home/achara/data/achara/'"
   ],
   "metadata": {
    "collapsed": false
   }
  },
  {
   "cell_type": "code",
   "execution_count": 70,
   "outputs": [],
   "source": [
    "df = pd.read_csv(data_path + 'SINC_input_data_EDI.csv')"
   ],
   "metadata": {
    "collapsed": false
   }
  },
  {
   "cell_type": "code",
   "execution_count": 71,
   "outputs": [
    {
     "data": {
      "text/plain": "      Site             Datetime  Sample_Type       TP     TSP     SRP      TN  \\\n0  TS_East  2018-01-22 16:35:00     Baseflow   5.6920  3.5179  2.7809  0.5512   \n1  TS_East  2018-02-28 15:10:00     Baseflow   7.0481  3.1527  1.9507  0.3439   \n2  TS_East  2018-03-20 14:10:00     Baseflow  12.4426  2.7000  0.5000  0.6172   \n3  TS_East  2018-04-04 14:00:00  Storm Event  10.8230  3.2835  1.4783  0.4033   \n4  TS_East  2018-04-04 18:00:00  Storm Event  30.3826  4.7192  2.0857  0.4653   \n\n     NO3     NH4       PP  ...  EXO_fDOM_120h_lag  Press_kpa_120h_lag  \\\n0  0.552  0.0050   2.1741  ...                NaN                 NaN   \n1  0.362  0.0185   3.8954  ...           4.988937                 NaN   \n2  0.587  0.0050   9.7426  ...           3.308868             2.04100   \n3  0.248  0.0050   7.5395  ...          11.785599             3.18525   \n4  0.195  0.0050  25.6634  ...          11.587968             3.25025   \n\n   SoilMoisture_120h_lag  EXO_SpCond_120delta  EXO_Temp_120delta  \\\n0                 0.1115                  NaN                NaN   \n1                 0.1350             24.75075            1.31850   \n2                 0.1220             61.96175           -2.02375   \n3                 0.1280             83.58150            0.60375   \n4                 0.1245             47.61350            0.35300   \n\n   EXO_Turb_120delta  EXO_pH_120delta  EXO_fDOM_120delta  Press_kpa_120delta  \\\n0                NaN              NaN                NaN                 NaN   \n1           -0.76750          0.01000          -0.233648                 NaN   \n2           -1.65325          0.02150          -0.647593             -0.2125   \n3           -8.77200          0.09775          -2.180811             -0.8195   \n4            1.25850          0.02350           0.785274             -0.1790   \n\n   SoilMoisture_120delta  \n0                 0.0125  \n1                 0.0080  \n2                 0.0045  \n3                -0.0200  \n4                -0.0025  \n\n[5 rows x 73 columns]",
      "text/html": "<div>\n<style scoped>\n    .dataframe tbody tr th:only-of-type {\n        vertical-align: middle;\n    }\n\n    .dataframe tbody tr th {\n        vertical-align: top;\n    }\n\n    .dataframe thead th {\n        text-align: right;\n    }\n</style>\n<table border=\"1\" class=\"dataframe\">\n  <thead>\n    <tr style=\"text-align: right;\">\n      <th></th>\n      <th>Site</th>\n      <th>Datetime</th>\n      <th>Sample_Type</th>\n      <th>TP</th>\n      <th>TSP</th>\n      <th>SRP</th>\n      <th>TN</th>\n      <th>NO3</th>\n      <th>NH4</th>\n      <th>PP</th>\n      <th>...</th>\n      <th>EXO_fDOM_120h_lag</th>\n      <th>Press_kpa_120h_lag</th>\n      <th>SoilMoisture_120h_lag</th>\n      <th>EXO_SpCond_120delta</th>\n      <th>EXO_Temp_120delta</th>\n      <th>EXO_Turb_120delta</th>\n      <th>EXO_pH_120delta</th>\n      <th>EXO_fDOM_120delta</th>\n      <th>Press_kpa_120delta</th>\n      <th>SoilMoisture_120delta</th>\n    </tr>\n  </thead>\n  <tbody>\n    <tr>\n      <th>0</th>\n      <td>TS_East</td>\n      <td>2018-01-22 16:35:00</td>\n      <td>Baseflow</td>\n      <td>5.6920</td>\n      <td>3.5179</td>\n      <td>2.7809</td>\n      <td>0.5512</td>\n      <td>0.552</td>\n      <td>0.0050</td>\n      <td>2.1741</td>\n      <td>...</td>\n      <td>NaN</td>\n      <td>NaN</td>\n      <td>0.1115</td>\n      <td>NaN</td>\n      <td>NaN</td>\n      <td>NaN</td>\n      <td>NaN</td>\n      <td>NaN</td>\n      <td>NaN</td>\n      <td>0.0125</td>\n    </tr>\n    <tr>\n      <th>1</th>\n      <td>TS_East</td>\n      <td>2018-02-28 15:10:00</td>\n      <td>Baseflow</td>\n      <td>7.0481</td>\n      <td>3.1527</td>\n      <td>1.9507</td>\n      <td>0.3439</td>\n      <td>0.362</td>\n      <td>0.0185</td>\n      <td>3.8954</td>\n      <td>...</td>\n      <td>4.988937</td>\n      <td>NaN</td>\n      <td>0.1350</td>\n      <td>24.75075</td>\n      <td>1.31850</td>\n      <td>-0.76750</td>\n      <td>0.01000</td>\n      <td>-0.233648</td>\n      <td>NaN</td>\n      <td>0.0080</td>\n    </tr>\n    <tr>\n      <th>2</th>\n      <td>TS_East</td>\n      <td>2018-03-20 14:10:00</td>\n      <td>Baseflow</td>\n      <td>12.4426</td>\n      <td>2.7000</td>\n      <td>0.5000</td>\n      <td>0.6172</td>\n      <td>0.587</td>\n      <td>0.0050</td>\n      <td>9.7426</td>\n      <td>...</td>\n      <td>3.308868</td>\n      <td>2.04100</td>\n      <td>0.1220</td>\n      <td>61.96175</td>\n      <td>-2.02375</td>\n      <td>-1.65325</td>\n      <td>0.02150</td>\n      <td>-0.647593</td>\n      <td>-0.2125</td>\n      <td>0.0045</td>\n    </tr>\n    <tr>\n      <th>3</th>\n      <td>TS_East</td>\n      <td>2018-04-04 14:00:00</td>\n      <td>Storm Event</td>\n      <td>10.8230</td>\n      <td>3.2835</td>\n      <td>1.4783</td>\n      <td>0.4033</td>\n      <td>0.248</td>\n      <td>0.0050</td>\n      <td>7.5395</td>\n      <td>...</td>\n      <td>11.785599</td>\n      <td>3.18525</td>\n      <td>0.1280</td>\n      <td>83.58150</td>\n      <td>0.60375</td>\n      <td>-8.77200</td>\n      <td>0.09775</td>\n      <td>-2.180811</td>\n      <td>-0.8195</td>\n      <td>-0.0200</td>\n    </tr>\n    <tr>\n      <th>4</th>\n      <td>TS_East</td>\n      <td>2018-04-04 18:00:00</td>\n      <td>Storm Event</td>\n      <td>30.3826</td>\n      <td>4.7192</td>\n      <td>2.0857</td>\n      <td>0.4653</td>\n      <td>0.195</td>\n      <td>0.0050</td>\n      <td>25.6634</td>\n      <td>...</td>\n      <td>11.587968</td>\n      <td>3.25025</td>\n      <td>0.1245</td>\n      <td>47.61350</td>\n      <td>0.35300</td>\n      <td>1.25850</td>\n      <td>0.02350</td>\n      <td>0.785274</td>\n      <td>-0.1790</td>\n      <td>-0.0025</td>\n    </tr>\n  </tbody>\n</table>\n<p>5 rows × 73 columns</p>\n</div>"
     },
     "execution_count": 71,
     "metadata": {},
     "output_type": "execute_result"
    }
   ],
   "source": [
    "df.head()"
   ],
   "metadata": {
    "collapsed": false
   }
  },
  {
   "cell_type": "code",
   "execution_count": 72,
   "outputs": [],
   "source": [
    "def convert_date_format(date: str) -> str:\n",
    "    parts = date.split('-')\n",
    "    parts.append(parts.pop(0))\n",
    "    standardize = list(map(int, parts))\n",
    "    return '/'.join(list(map(str, standardize)))"
   ],
   "metadata": {
    "collapsed": false
   }
  },
  {
   "cell_type": "code",
   "execution_count": 73,
   "outputs": [],
   "source": [
    "df.Datetime = df.Datetime.map(lambda x:x.split(' ')[0]).map(convert_date_format)"
   ],
   "metadata": {
    "collapsed": false
   }
  },
  {
   "cell_type": "code",
   "execution_count": 74,
   "outputs": [
    {
     "data": {
      "text/plain": "      Site   Datetime  Sample_Type       TP     TSP     SRP      TN    NO3  \\\n0  TS_East  1/22/2018     Baseflow   5.6920  3.5179  2.7809  0.5512  0.552   \n1  TS_East  2/28/2018     Baseflow   7.0481  3.1527  1.9507  0.3439  0.362   \n2  TS_East  3/20/2018     Baseflow  12.4426  2.7000  0.5000  0.6172  0.587   \n3  TS_East   4/4/2018  Storm Event  10.8230  3.2835  1.4783  0.4033  0.248   \n4  TS_East   4/4/2018  Storm Event  30.3826  4.7192  2.0857  0.4653  0.195   \n\n      NH4       PP  ...  EXO_fDOM_120h_lag  Press_kpa_120h_lag  \\\n0  0.0050   2.1741  ...                NaN                 NaN   \n1  0.0185   3.8954  ...           4.988937                 NaN   \n2  0.0050   9.7426  ...           3.308868             2.04100   \n3  0.0050   7.5395  ...          11.785599             3.18525   \n4  0.0050  25.6634  ...          11.587968             3.25025   \n\n   SoilMoisture_120h_lag  EXO_SpCond_120delta  EXO_Temp_120delta  \\\n0                 0.1115                  NaN                NaN   \n1                 0.1350             24.75075            1.31850   \n2                 0.1220             61.96175           -2.02375   \n3                 0.1280             83.58150            0.60375   \n4                 0.1245             47.61350            0.35300   \n\n   EXO_Turb_120delta  EXO_pH_120delta  EXO_fDOM_120delta  Press_kpa_120delta  \\\n0                NaN              NaN                NaN                 NaN   \n1           -0.76750          0.01000          -0.233648                 NaN   \n2           -1.65325          0.02150          -0.647593             -0.2125   \n3           -8.77200          0.09775          -2.180811             -0.8195   \n4            1.25850          0.02350           0.785274             -0.1790   \n\n   SoilMoisture_120delta  \n0                 0.0125  \n1                 0.0080  \n2                 0.0045  \n3                -0.0200  \n4                -0.0025  \n\n[5 rows x 73 columns]",
      "text/html": "<div>\n<style scoped>\n    .dataframe tbody tr th:only-of-type {\n        vertical-align: middle;\n    }\n\n    .dataframe tbody tr th {\n        vertical-align: top;\n    }\n\n    .dataframe thead th {\n        text-align: right;\n    }\n</style>\n<table border=\"1\" class=\"dataframe\">\n  <thead>\n    <tr style=\"text-align: right;\">\n      <th></th>\n      <th>Site</th>\n      <th>Datetime</th>\n      <th>Sample_Type</th>\n      <th>TP</th>\n      <th>TSP</th>\n      <th>SRP</th>\n      <th>TN</th>\n      <th>NO3</th>\n      <th>NH4</th>\n      <th>PP</th>\n      <th>...</th>\n      <th>EXO_fDOM_120h_lag</th>\n      <th>Press_kpa_120h_lag</th>\n      <th>SoilMoisture_120h_lag</th>\n      <th>EXO_SpCond_120delta</th>\n      <th>EXO_Temp_120delta</th>\n      <th>EXO_Turb_120delta</th>\n      <th>EXO_pH_120delta</th>\n      <th>EXO_fDOM_120delta</th>\n      <th>Press_kpa_120delta</th>\n      <th>SoilMoisture_120delta</th>\n    </tr>\n  </thead>\n  <tbody>\n    <tr>\n      <th>0</th>\n      <td>TS_East</td>\n      <td>1/22/2018</td>\n      <td>Baseflow</td>\n      <td>5.6920</td>\n      <td>3.5179</td>\n      <td>2.7809</td>\n      <td>0.5512</td>\n      <td>0.552</td>\n      <td>0.0050</td>\n      <td>2.1741</td>\n      <td>...</td>\n      <td>NaN</td>\n      <td>NaN</td>\n      <td>0.1115</td>\n      <td>NaN</td>\n      <td>NaN</td>\n      <td>NaN</td>\n      <td>NaN</td>\n      <td>NaN</td>\n      <td>NaN</td>\n      <td>0.0125</td>\n    </tr>\n    <tr>\n      <th>1</th>\n      <td>TS_East</td>\n      <td>2/28/2018</td>\n      <td>Baseflow</td>\n      <td>7.0481</td>\n      <td>3.1527</td>\n      <td>1.9507</td>\n      <td>0.3439</td>\n      <td>0.362</td>\n      <td>0.0185</td>\n      <td>3.8954</td>\n      <td>...</td>\n      <td>4.988937</td>\n      <td>NaN</td>\n      <td>0.1350</td>\n      <td>24.75075</td>\n      <td>1.31850</td>\n      <td>-0.76750</td>\n      <td>0.01000</td>\n      <td>-0.233648</td>\n      <td>NaN</td>\n      <td>0.0080</td>\n    </tr>\n    <tr>\n      <th>2</th>\n      <td>TS_East</td>\n      <td>3/20/2018</td>\n      <td>Baseflow</td>\n      <td>12.4426</td>\n      <td>2.7000</td>\n      <td>0.5000</td>\n      <td>0.6172</td>\n      <td>0.587</td>\n      <td>0.0050</td>\n      <td>9.7426</td>\n      <td>...</td>\n      <td>3.308868</td>\n      <td>2.04100</td>\n      <td>0.1220</td>\n      <td>61.96175</td>\n      <td>-2.02375</td>\n      <td>-1.65325</td>\n      <td>0.02150</td>\n      <td>-0.647593</td>\n      <td>-0.2125</td>\n      <td>0.0045</td>\n    </tr>\n    <tr>\n      <th>3</th>\n      <td>TS_East</td>\n      <td>4/4/2018</td>\n      <td>Storm Event</td>\n      <td>10.8230</td>\n      <td>3.2835</td>\n      <td>1.4783</td>\n      <td>0.4033</td>\n      <td>0.248</td>\n      <td>0.0050</td>\n      <td>7.5395</td>\n      <td>...</td>\n      <td>11.785599</td>\n      <td>3.18525</td>\n      <td>0.1280</td>\n      <td>83.58150</td>\n      <td>0.60375</td>\n      <td>-8.77200</td>\n      <td>0.09775</td>\n      <td>-2.180811</td>\n      <td>-0.8195</td>\n      <td>-0.0200</td>\n    </tr>\n    <tr>\n      <th>4</th>\n      <td>TS_East</td>\n      <td>4/4/2018</td>\n      <td>Storm Event</td>\n      <td>30.3826</td>\n      <td>4.7192</td>\n      <td>2.0857</td>\n      <td>0.4653</td>\n      <td>0.195</td>\n      <td>0.0050</td>\n      <td>25.6634</td>\n      <td>...</td>\n      <td>11.587968</td>\n      <td>3.25025</td>\n      <td>0.1245</td>\n      <td>47.61350</td>\n      <td>0.35300</td>\n      <td>1.25850</td>\n      <td>0.02350</td>\n      <td>0.785274</td>\n      <td>-0.1790</td>\n      <td>-0.0025</td>\n    </tr>\n  </tbody>\n</table>\n<p>5 rows × 73 columns</p>\n</div>"
     },
     "execution_count": 74,
     "metadata": {},
     "output_type": "execute_result"
    }
   ],
   "source": [
    "df.head()"
   ],
   "metadata": {
    "collapsed": false
   }
  },
  {
   "cell_type": "code",
   "execution_count": 75,
   "outputs": [],
   "source": [
    "df.sort_values(by=['Datetime'], inplace=True, ignore_index=True)"
   ],
   "metadata": {
    "collapsed": false
   }
  },
  {
   "cell_type": "code",
   "execution_count": 76,
   "outputs": [
    {
     "data": {
      "text/plain": "      Site   Datetime  Sample_Type       TP     TSP  SRP      TN    NO3  \\\n0  TS_West  1/11/2016  Storm Event  38.4589  1.9297  0.5  2.5426  0.557   \n1  TS_West  1/11/2016  Storm Event  32.3808  2.4362  0.5  1.0603  0.371   \n2  TS_West  1/11/2016  Storm Event  31.8137  2.6895  0.5  0.9553  0.345   \n3  TS_West  1/11/2016  Storm Event  15.8587  3.4492  0.5  0.7955  0.405   \n4  TS_West  1/12/2016  Storm Event  11.0469  4.2090  0.5  0.9918  0.824   \n\n      NH4       PP  ...  EXO_fDOM_120h_lag  Press_kpa_120h_lag  \\\n0  1.7105  36.5292  ...                NaN                 NaN   \n1  0.4575  29.9446  ...                NaN                 NaN   \n2  0.3943  29.1242  ...                NaN                 NaN   \n3  0.2313  12.4095  ...                NaN                 NaN   \n4  0.0050   6.8379  ...                0.0                 NaN   \n\n   SoilMoisture_120h_lag  EXO_SpCond_120delta  EXO_Temp_120delta  \\\n0                    NaN              169.500                NaN   \n1                    NaN              141.010                NaN   \n2                    NaN              128.515                NaN   \n3                    NaN                0.395                NaN   \n4                    NaN                0.040             -0.255   \n\n   EXO_Turb_120delta  EXO_pH_120delta  EXO_fDOM_120delta  Press_kpa_120delta  \\\n0              1.765            0.735                NaN                 NaN   \n1              0.335            0.720                NaN                 NaN   \n2             -0.190            0.735                NaN                 NaN   \n3             -1.435            0.770                NaN                 NaN   \n4              1.070            0.080                0.0                 NaN   \n\n   SoilMoisture_120delta  \n0                    NaN  \n1                    NaN  \n2                    NaN  \n3                    NaN  \n4                    NaN  \n\n[5 rows x 73 columns]",
      "text/html": "<div>\n<style scoped>\n    .dataframe tbody tr th:only-of-type {\n        vertical-align: middle;\n    }\n\n    .dataframe tbody tr th {\n        vertical-align: top;\n    }\n\n    .dataframe thead th {\n        text-align: right;\n    }\n</style>\n<table border=\"1\" class=\"dataframe\">\n  <thead>\n    <tr style=\"text-align: right;\">\n      <th></th>\n      <th>Site</th>\n      <th>Datetime</th>\n      <th>Sample_Type</th>\n      <th>TP</th>\n      <th>TSP</th>\n      <th>SRP</th>\n      <th>TN</th>\n      <th>NO3</th>\n      <th>NH4</th>\n      <th>PP</th>\n      <th>...</th>\n      <th>EXO_fDOM_120h_lag</th>\n      <th>Press_kpa_120h_lag</th>\n      <th>SoilMoisture_120h_lag</th>\n      <th>EXO_SpCond_120delta</th>\n      <th>EXO_Temp_120delta</th>\n      <th>EXO_Turb_120delta</th>\n      <th>EXO_pH_120delta</th>\n      <th>EXO_fDOM_120delta</th>\n      <th>Press_kpa_120delta</th>\n      <th>SoilMoisture_120delta</th>\n    </tr>\n  </thead>\n  <tbody>\n    <tr>\n      <th>0</th>\n      <td>TS_West</td>\n      <td>1/11/2016</td>\n      <td>Storm Event</td>\n      <td>38.4589</td>\n      <td>1.9297</td>\n      <td>0.5</td>\n      <td>2.5426</td>\n      <td>0.557</td>\n      <td>1.7105</td>\n      <td>36.5292</td>\n      <td>...</td>\n      <td>NaN</td>\n      <td>NaN</td>\n      <td>NaN</td>\n      <td>169.500</td>\n      <td>NaN</td>\n      <td>1.765</td>\n      <td>0.735</td>\n      <td>NaN</td>\n      <td>NaN</td>\n      <td>NaN</td>\n    </tr>\n    <tr>\n      <th>1</th>\n      <td>TS_West</td>\n      <td>1/11/2016</td>\n      <td>Storm Event</td>\n      <td>32.3808</td>\n      <td>2.4362</td>\n      <td>0.5</td>\n      <td>1.0603</td>\n      <td>0.371</td>\n      <td>0.4575</td>\n      <td>29.9446</td>\n      <td>...</td>\n      <td>NaN</td>\n      <td>NaN</td>\n      <td>NaN</td>\n      <td>141.010</td>\n      <td>NaN</td>\n      <td>0.335</td>\n      <td>0.720</td>\n      <td>NaN</td>\n      <td>NaN</td>\n      <td>NaN</td>\n    </tr>\n    <tr>\n      <th>2</th>\n      <td>TS_West</td>\n      <td>1/11/2016</td>\n      <td>Storm Event</td>\n      <td>31.8137</td>\n      <td>2.6895</td>\n      <td>0.5</td>\n      <td>0.9553</td>\n      <td>0.345</td>\n      <td>0.3943</td>\n      <td>29.1242</td>\n      <td>...</td>\n      <td>NaN</td>\n      <td>NaN</td>\n      <td>NaN</td>\n      <td>128.515</td>\n      <td>NaN</td>\n      <td>-0.190</td>\n      <td>0.735</td>\n      <td>NaN</td>\n      <td>NaN</td>\n      <td>NaN</td>\n    </tr>\n    <tr>\n      <th>3</th>\n      <td>TS_West</td>\n      <td>1/11/2016</td>\n      <td>Storm Event</td>\n      <td>15.8587</td>\n      <td>3.4492</td>\n      <td>0.5</td>\n      <td>0.7955</td>\n      <td>0.405</td>\n      <td>0.2313</td>\n      <td>12.4095</td>\n      <td>...</td>\n      <td>NaN</td>\n      <td>NaN</td>\n      <td>NaN</td>\n      <td>0.395</td>\n      <td>NaN</td>\n      <td>-1.435</td>\n      <td>0.770</td>\n      <td>NaN</td>\n      <td>NaN</td>\n      <td>NaN</td>\n    </tr>\n    <tr>\n      <th>4</th>\n      <td>TS_West</td>\n      <td>1/12/2016</td>\n      <td>Storm Event</td>\n      <td>11.0469</td>\n      <td>4.2090</td>\n      <td>0.5</td>\n      <td>0.9918</td>\n      <td>0.824</td>\n      <td>0.0050</td>\n      <td>6.8379</td>\n      <td>...</td>\n      <td>0.0</td>\n      <td>NaN</td>\n      <td>NaN</td>\n      <td>0.040</td>\n      <td>-0.255</td>\n      <td>1.070</td>\n      <td>0.080</td>\n      <td>0.0</td>\n      <td>NaN</td>\n      <td>NaN</td>\n    </tr>\n  </tbody>\n</table>\n<p>5 rows × 73 columns</p>\n</div>"
     },
     "execution_count": 76,
     "metadata": {},
     "output_type": "execute_result"
    }
   ],
   "source": [
    "df.head()"
   ],
   "metadata": {
    "collapsed": false
   }
  },
  {
   "cell_type": "code",
   "execution_count": 76,
   "outputs": [],
   "source": [],
   "metadata": {
    "collapsed": false
   }
  }
 ],
 "metadata": {
  "kernelspec": {
   "display_name": "Python 3",
   "language": "python",
   "name": "python3"
  },
  "language_info": {
   "codemirror_mode": {
    "name": "ipython",
    "version": 2
   },
   "file_extension": ".py",
   "mimetype": "text/x-python",
   "name": "python",
   "nbconvert_exporter": "python",
   "pygments_lexer": "ipython2",
   "version": "2.7.6"
  }
 },
 "nbformat": 4,
 "nbformat_minor": 0
}
