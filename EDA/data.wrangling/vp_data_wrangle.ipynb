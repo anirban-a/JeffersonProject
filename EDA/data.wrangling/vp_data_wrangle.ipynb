{
 "cells": [
  {
   "cell_type": "code",
   "execution_count": 1,
   "metadata": {
    "collapsed": true
   },
   "outputs": [],
   "source": [
    "import pandas as pd"
   ]
  },
  {
   "cell_type": "code",
   "execution_count": 2,
   "outputs": [],
   "source": [
    "data_path = '/home/achara/data/achara/'"
   ],
   "metadata": {
    "collapsed": false
   }
  },
  {
   "cell_type": "code",
   "execution_count": 3,
   "outputs": [],
   "source": [
    "vp_17 = pd.read_csv(data_path + '2017_JP_VP.csv')\n",
    "vp_18 = pd.read_csv(data_path + '2018_JP_VP_Level4.csv')\n",
    "vp_19 = pd.read_csv(data_path + '2019_JP_VP_Level4.csv')"
   ],
   "metadata": {
    "collapsed": false
   }
  },
  {
   "cell_type": "code",
   "execution_count": 4,
   "outputs": [
    {
     "data": {
      "text/plain": "   PC_Water_EXO  Chla_Water_EXO  SensorDepth_Water_EXO         DateTime  \\\n0           NaN             NaN                    NaN  5/18/2017 18:32   \n1           NaN             NaN                    NaN  5/18/2017 18:42   \n2           NaN             NaN                    NaN  5/18/2017 18:52   \n3           NaN             NaN                    NaN  5/18/2017 19:02   \n4           NaN             NaN                    NaN  5/18/2017 19:12   \n\n   DO_Water_EXO  DO-Sat_Water_EXO  Pressure_Water_EXO  SpCond_Water_EXO  \\\n0           NaN               NaN                 NaN               NaN   \n1           NaN               NaN                 NaN               NaN   \n2           NaN               NaN                 NaN               NaN   \n3           NaN               NaN                 NaN               NaN   \n4           NaN               NaN                 NaN               NaN   \n\n   Temperature_Water_EXO  fDOM_Water_EXO  pH_Water_EXO  PC-TC_Water_EXO  \\\n0                    NaN             NaN           NaN              NaN   \n1                    NaN             NaN           NaN              NaN   \n2                    NaN             NaN           NaN              NaN   \n3                    NaN             NaN           NaN              NaN   \n4                    NaN             NaN           NaN              NaN   \n\n   fDOM-TC_Water_EXO  CalibrationChange_System_EXO         Sitename  \n0                NaN                           NaN  VP_AnthonysNose  \n1                NaN                           NaN  VP_AnthonysNose  \n2                NaN                           NaN  VP_AnthonysNose  \n3                NaN                           NaN  VP_AnthonysNose  \n4                NaN                           NaN  VP_AnthonysNose  ",
      "text/html": "<div>\n<style scoped>\n    .dataframe tbody tr th:only-of-type {\n        vertical-align: middle;\n    }\n\n    .dataframe tbody tr th {\n        vertical-align: top;\n    }\n\n    .dataframe thead th {\n        text-align: right;\n    }\n</style>\n<table border=\"1\" class=\"dataframe\">\n  <thead>\n    <tr style=\"text-align: right;\">\n      <th></th>\n      <th>PC_Water_EXO</th>\n      <th>Chla_Water_EXO</th>\n      <th>SensorDepth_Water_EXO</th>\n      <th>DateTime</th>\n      <th>DO_Water_EXO</th>\n      <th>DO-Sat_Water_EXO</th>\n      <th>Pressure_Water_EXO</th>\n      <th>SpCond_Water_EXO</th>\n      <th>Temperature_Water_EXO</th>\n      <th>fDOM_Water_EXO</th>\n      <th>pH_Water_EXO</th>\n      <th>PC-TC_Water_EXO</th>\n      <th>fDOM-TC_Water_EXO</th>\n      <th>CalibrationChange_System_EXO</th>\n      <th>Sitename</th>\n    </tr>\n  </thead>\n  <tbody>\n    <tr>\n      <th>0</th>\n      <td>NaN</td>\n      <td>NaN</td>\n      <td>NaN</td>\n      <td>5/18/2017 18:32</td>\n      <td>NaN</td>\n      <td>NaN</td>\n      <td>NaN</td>\n      <td>NaN</td>\n      <td>NaN</td>\n      <td>NaN</td>\n      <td>NaN</td>\n      <td>NaN</td>\n      <td>NaN</td>\n      <td>NaN</td>\n      <td>VP_AnthonysNose</td>\n    </tr>\n    <tr>\n      <th>1</th>\n      <td>NaN</td>\n      <td>NaN</td>\n      <td>NaN</td>\n      <td>5/18/2017 18:42</td>\n      <td>NaN</td>\n      <td>NaN</td>\n      <td>NaN</td>\n      <td>NaN</td>\n      <td>NaN</td>\n      <td>NaN</td>\n      <td>NaN</td>\n      <td>NaN</td>\n      <td>NaN</td>\n      <td>NaN</td>\n      <td>VP_AnthonysNose</td>\n    </tr>\n    <tr>\n      <th>2</th>\n      <td>NaN</td>\n      <td>NaN</td>\n      <td>NaN</td>\n      <td>5/18/2017 18:52</td>\n      <td>NaN</td>\n      <td>NaN</td>\n      <td>NaN</td>\n      <td>NaN</td>\n      <td>NaN</td>\n      <td>NaN</td>\n      <td>NaN</td>\n      <td>NaN</td>\n      <td>NaN</td>\n      <td>NaN</td>\n      <td>VP_AnthonysNose</td>\n    </tr>\n    <tr>\n      <th>3</th>\n      <td>NaN</td>\n      <td>NaN</td>\n      <td>NaN</td>\n      <td>5/18/2017 19:02</td>\n      <td>NaN</td>\n      <td>NaN</td>\n      <td>NaN</td>\n      <td>NaN</td>\n      <td>NaN</td>\n      <td>NaN</td>\n      <td>NaN</td>\n      <td>NaN</td>\n      <td>NaN</td>\n      <td>NaN</td>\n      <td>VP_AnthonysNose</td>\n    </tr>\n    <tr>\n      <th>4</th>\n      <td>NaN</td>\n      <td>NaN</td>\n      <td>NaN</td>\n      <td>5/18/2017 19:12</td>\n      <td>NaN</td>\n      <td>NaN</td>\n      <td>NaN</td>\n      <td>NaN</td>\n      <td>NaN</td>\n      <td>NaN</td>\n      <td>NaN</td>\n      <td>NaN</td>\n      <td>NaN</td>\n      <td>NaN</td>\n      <td>VP_AnthonysNose</td>\n    </tr>\n  </tbody>\n</table>\n</div>"
     },
     "execution_count": 4,
     "metadata": {},
     "output_type": "execute_result"
    }
   ],
   "source": [
    "vp_17.head()"
   ],
   "metadata": {
    "collapsed": false
   }
  },
  {
   "cell_type": "code",
   "execution_count": 5,
   "outputs": [
    {
     "data": {
      "text/plain": "              DateTime        Site_Name  Chla_Water_EXO  \\\n0  2018-05-09 23:12:00  VP_AnthonysNose             NaN   \n1  2018-05-09 23:22:00  VP_AnthonysNose             NaN   \n2  2018-05-09 23:32:00  VP_AnthonysNose             NaN   \n3  2018-05-09 23:42:00  VP_AnthonysNose             NaN   \n4  2018-05-09 23:52:00  VP_AnthonysNose             NaN   \n\n   SensorDepth_Water_EXO  DO_Water_EXO  DO-Sat_Water_EXO  SpCond_Water_EXO  \\\n0                    NaN           NaN               NaN               NaN   \n1                    NaN           NaN               NaN               NaN   \n2                    NaN           NaN               NaN               NaN   \n3                    NaN           NaN               NaN               NaN   \n4                    NaN           NaN               NaN               NaN   \n\n   Temperature_Water_EXO  Turbidity_Water_EXO  pH_Water_EXO  PC_Water_EXO  \\\n0                    NaN                  NaN           NaN           NaN   \n1                    NaN                  NaN           NaN           NaN   \n2                    NaN                  NaN           NaN           NaN   \n3                    NaN                  NaN           NaN           NaN   \n4                    NaN                  NaN           NaN           NaN   \n\n   fDOM_Water_EXO  \n0             NaN  \n1             NaN  \n2             NaN  \n3             NaN  \n4             NaN  ",
      "text/html": "<div>\n<style scoped>\n    .dataframe tbody tr th:only-of-type {\n        vertical-align: middle;\n    }\n\n    .dataframe tbody tr th {\n        vertical-align: top;\n    }\n\n    .dataframe thead th {\n        text-align: right;\n    }\n</style>\n<table border=\"1\" class=\"dataframe\">\n  <thead>\n    <tr style=\"text-align: right;\">\n      <th></th>\n      <th>DateTime</th>\n      <th>Site_Name</th>\n      <th>Chla_Water_EXO</th>\n      <th>SensorDepth_Water_EXO</th>\n      <th>DO_Water_EXO</th>\n      <th>DO-Sat_Water_EXO</th>\n      <th>SpCond_Water_EXO</th>\n      <th>Temperature_Water_EXO</th>\n      <th>Turbidity_Water_EXO</th>\n      <th>pH_Water_EXO</th>\n      <th>PC_Water_EXO</th>\n      <th>fDOM_Water_EXO</th>\n    </tr>\n  </thead>\n  <tbody>\n    <tr>\n      <th>0</th>\n      <td>2018-05-09 23:12:00</td>\n      <td>VP_AnthonysNose</td>\n      <td>NaN</td>\n      <td>NaN</td>\n      <td>NaN</td>\n      <td>NaN</td>\n      <td>NaN</td>\n      <td>NaN</td>\n      <td>NaN</td>\n      <td>NaN</td>\n      <td>NaN</td>\n      <td>NaN</td>\n    </tr>\n    <tr>\n      <th>1</th>\n      <td>2018-05-09 23:22:00</td>\n      <td>VP_AnthonysNose</td>\n      <td>NaN</td>\n      <td>NaN</td>\n      <td>NaN</td>\n      <td>NaN</td>\n      <td>NaN</td>\n      <td>NaN</td>\n      <td>NaN</td>\n      <td>NaN</td>\n      <td>NaN</td>\n      <td>NaN</td>\n    </tr>\n    <tr>\n      <th>2</th>\n      <td>2018-05-09 23:32:00</td>\n      <td>VP_AnthonysNose</td>\n      <td>NaN</td>\n      <td>NaN</td>\n      <td>NaN</td>\n      <td>NaN</td>\n      <td>NaN</td>\n      <td>NaN</td>\n      <td>NaN</td>\n      <td>NaN</td>\n      <td>NaN</td>\n      <td>NaN</td>\n    </tr>\n    <tr>\n      <th>3</th>\n      <td>2018-05-09 23:42:00</td>\n      <td>VP_AnthonysNose</td>\n      <td>NaN</td>\n      <td>NaN</td>\n      <td>NaN</td>\n      <td>NaN</td>\n      <td>NaN</td>\n      <td>NaN</td>\n      <td>NaN</td>\n      <td>NaN</td>\n      <td>NaN</td>\n      <td>NaN</td>\n    </tr>\n    <tr>\n      <th>4</th>\n      <td>2018-05-09 23:52:00</td>\n      <td>VP_AnthonysNose</td>\n      <td>NaN</td>\n      <td>NaN</td>\n      <td>NaN</td>\n      <td>NaN</td>\n      <td>NaN</td>\n      <td>NaN</td>\n      <td>NaN</td>\n      <td>NaN</td>\n      <td>NaN</td>\n      <td>NaN</td>\n    </tr>\n  </tbody>\n</table>\n</div>"
     },
     "execution_count": 5,
     "metadata": {},
     "output_type": "execute_result"
    }
   ],
   "source": [
    "vp_18.head()"
   ],
   "metadata": {
    "collapsed": false
   }
  },
  {
   "cell_type": "code",
   "execution_count": 6,
   "outputs": [
    {
     "data": {
      "text/plain": "              DateTime        Site_Name  Chla_Water_EXO  \\\n0  2019-05-02 18:22:00  VP_AnthonysNose             NaN   \n1  2019-05-02 18:32:00  VP_AnthonysNose             NaN   \n2  2019-05-02 18:42:00  VP_AnthonysNose             NaN   \n3  2019-05-06 19:41:33  VP_AnthonysNose             NaN   \n4  2019-05-06 19:42:00  VP_AnthonysNose             NaN   \n\n   SensorDepth_Water_EXO  DO_Water_EXO  DO-Sat_Water_EXO  SpCond_Water_EXO  \\\n0                    NaN           NaN               NaN               NaN   \n1                    NaN           NaN               NaN               NaN   \n2                    NaN           NaN               NaN               NaN   \n3                   1.04        11.934            103.17               NaN   \n4                    NaN           NaN               NaN               NaN   \n\n   Temperature_Water_EXO  Turbidity_Water_EXO  pH_Water_EXO  PC_Water_EXO  \\\n0                    NaN                  NaN           NaN           NaN   \n1                    NaN                  NaN           NaN           NaN   \n2                    NaN                  NaN           NaN           NaN   \n3                   8.46                 0.54          7.46      0.174836   \n4                    NaN                  NaN           NaN           NaN   \n\n   fDOM_Water_EXO  VerticalPosition_Water_EXO  \n0             NaN                         NaN  \n1             NaN                         NaN  \n2             NaN                         NaN  \n3        0.998942                         NaN  \n4             NaN                         NaN  ",
      "text/html": "<div>\n<style scoped>\n    .dataframe tbody tr th:only-of-type {\n        vertical-align: middle;\n    }\n\n    .dataframe tbody tr th {\n        vertical-align: top;\n    }\n\n    .dataframe thead th {\n        text-align: right;\n    }\n</style>\n<table border=\"1\" class=\"dataframe\">\n  <thead>\n    <tr style=\"text-align: right;\">\n      <th></th>\n      <th>DateTime</th>\n      <th>Site_Name</th>\n      <th>Chla_Water_EXO</th>\n      <th>SensorDepth_Water_EXO</th>\n      <th>DO_Water_EXO</th>\n      <th>DO-Sat_Water_EXO</th>\n      <th>SpCond_Water_EXO</th>\n      <th>Temperature_Water_EXO</th>\n      <th>Turbidity_Water_EXO</th>\n      <th>pH_Water_EXO</th>\n      <th>PC_Water_EXO</th>\n      <th>fDOM_Water_EXO</th>\n      <th>VerticalPosition_Water_EXO</th>\n    </tr>\n  </thead>\n  <tbody>\n    <tr>\n      <th>0</th>\n      <td>2019-05-02 18:22:00</td>\n      <td>VP_AnthonysNose</td>\n      <td>NaN</td>\n      <td>NaN</td>\n      <td>NaN</td>\n      <td>NaN</td>\n      <td>NaN</td>\n      <td>NaN</td>\n      <td>NaN</td>\n      <td>NaN</td>\n      <td>NaN</td>\n      <td>NaN</td>\n      <td>NaN</td>\n    </tr>\n    <tr>\n      <th>1</th>\n      <td>2019-05-02 18:32:00</td>\n      <td>VP_AnthonysNose</td>\n      <td>NaN</td>\n      <td>NaN</td>\n      <td>NaN</td>\n      <td>NaN</td>\n      <td>NaN</td>\n      <td>NaN</td>\n      <td>NaN</td>\n      <td>NaN</td>\n      <td>NaN</td>\n      <td>NaN</td>\n      <td>NaN</td>\n    </tr>\n    <tr>\n      <th>2</th>\n      <td>2019-05-02 18:42:00</td>\n      <td>VP_AnthonysNose</td>\n      <td>NaN</td>\n      <td>NaN</td>\n      <td>NaN</td>\n      <td>NaN</td>\n      <td>NaN</td>\n      <td>NaN</td>\n      <td>NaN</td>\n      <td>NaN</td>\n      <td>NaN</td>\n      <td>NaN</td>\n      <td>NaN</td>\n    </tr>\n    <tr>\n      <th>3</th>\n      <td>2019-05-06 19:41:33</td>\n      <td>VP_AnthonysNose</td>\n      <td>NaN</td>\n      <td>1.04</td>\n      <td>11.934</td>\n      <td>103.17</td>\n      <td>NaN</td>\n      <td>8.46</td>\n      <td>0.54</td>\n      <td>7.46</td>\n      <td>0.174836</td>\n      <td>0.998942</td>\n      <td>NaN</td>\n    </tr>\n    <tr>\n      <th>4</th>\n      <td>2019-05-06 19:42:00</td>\n      <td>VP_AnthonysNose</td>\n      <td>NaN</td>\n      <td>NaN</td>\n      <td>NaN</td>\n      <td>NaN</td>\n      <td>NaN</td>\n      <td>NaN</td>\n      <td>NaN</td>\n      <td>NaN</td>\n      <td>NaN</td>\n      <td>NaN</td>\n      <td>NaN</td>\n    </tr>\n  </tbody>\n</table>\n</div>"
     },
     "execution_count": 6,
     "metadata": {},
     "output_type": "execute_result"
    }
   ],
   "source": [
    "vp_19.head()"
   ],
   "metadata": {
    "collapsed": false
   }
  },
  {
   "cell_type": "code",
   "execution_count": 7,
   "outputs": [],
   "source": [
    "def remove_time(datetime: str) -> str:\n",
    "    return datetime.split(' ')[0]"
   ],
   "metadata": {
    "collapsed": false
   }
  },
  {
   "cell_type": "markdown",
   "source": [
    "## Remove time from date time"
   ],
   "metadata": {
    "collapsed": false
   }
  },
  {
   "cell_type": "code",
   "execution_count": 8,
   "outputs": [],
   "source": [
    "vp_17.DateTime = vp_17.DateTime.map(remove_time)\n",
    "vp_18.DateTime = vp_18.DateTime.map(remove_time)\n",
    "vp_19.DateTime = vp_19.DateTime.map(remove_time)"
   ],
   "metadata": {
    "collapsed": false
   }
  },
  {
   "cell_type": "markdown",
   "source": [
    "## Date formats are not same across the 3 data sets, so we need to fix them"
   ],
   "metadata": {
    "collapsed": false
   }
  },
  {
   "cell_type": "code",
   "execution_count": 9,
   "outputs": [],
   "source": [
    "def convert_date_format(date: str) -> str:\n",
    "    parts = date.split('-')\n",
    "    parts.append(parts.pop(0))\n",
    "    standardize = list(map(int, parts))\n",
    "    return '/'.join(list(map(str, standardize)))"
   ],
   "metadata": {
    "collapsed": false
   }
  },
  {
   "cell_type": "code",
   "execution_count": 10,
   "outputs": [],
   "source": [
    "vp_18.DateTime = vp_18.DateTime.map(convert_date_format)\n",
    "vp_19.DateTime = vp_19.DateTime.map(convert_date_format)"
   ],
   "metadata": {
    "collapsed": false
   }
  },
  {
   "cell_type": "markdown",
   "source": [
    "## Rename column to suitable name"
   ],
   "metadata": {
    "collapsed": false
   }
  },
  {
   "cell_type": "code",
   "execution_count": 11,
   "outputs": [],
   "source": [
    "vp_17 = vp_17.rename(columns={'fDOM_Water_EXO': 'rel_fl'})\n",
    "vp_18 = vp_18.rename(columns={'fDOM_Water_EXO': 'rel_fl'})\n",
    "vp_19 = vp_19.rename(columns={'fDOM_Water_EXO': 'rel_fl'})"
   ],
   "metadata": {
    "collapsed": false
   }
  },
  {
   "cell_type": "markdown",
   "source": [
    "## Group by DateTime keeping the sensor depth information"
   ],
   "metadata": {
    "collapsed": false
   }
  },
  {
   "cell_type": "code",
   "execution_count": 12,
   "outputs": [],
   "source": [
    "vp_17_mean = vp_17.groupby(['DateTime', 'SensorDepth_Water_EXO'])[[\n",
    "    'PC_Water_EXO',\n",
    "    'Chla_Water_EXO',\n",
    "    'DO_Water_EXO',\n",
    "    'DO-Sat_Water_EXO',\n",
    "    'SpCond_Water_EXO',\n",
    "    'Temperature_Water_EXO',\n",
    "    'pH_Water_EXO',\n",
    "    'rel_fl'\n",
    "]].mean().reset_index()"
   ],
   "metadata": {
    "collapsed": false
   }
  },
  {
   "cell_type": "code",
   "execution_count": 13,
   "outputs": [],
   "source": [
    "vp_18_mean = vp_18.groupby(['DateTime', 'SensorDepth_Water_EXO'])[[\n",
    "    'PC_Water_EXO',\n",
    "    'Chla_Water_EXO',\n",
    "    'DO_Water_EXO',\n",
    "    'DO-Sat_Water_EXO',\n",
    "    'SpCond_Water_EXO',\n",
    "    'Temperature_Water_EXO',\n",
    "    'pH_Water_EXO',\n",
    "    'rel_fl'\n",
    "]].mean().reset_index()"
   ],
   "metadata": {
    "collapsed": false
   }
  },
  {
   "cell_type": "code",
   "execution_count": 14,
   "outputs": [],
   "source": [
    "vp_19_mean = vp_19.groupby(['DateTime', 'SensorDepth_Water_EXO'])[[\n",
    "    'PC_Water_EXO',\n",
    "    'Chla_Water_EXO',\n",
    "    'DO_Water_EXO',\n",
    "    'DO-Sat_Water_EXO',\n",
    "    'SpCond_Water_EXO',\n",
    "    'Temperature_Water_EXO',\n",
    "    'pH_Water_EXO',\n",
    "    'rel_fl'\n",
    "]].mean().reset_index()"
   ],
   "metadata": {
    "collapsed": false
   }
  },
  {
   "cell_type": "code",
   "execution_count": 15,
   "outputs": [],
   "source": [
    "vp_df = vp_17_mean.append(vp_18_mean)"
   ],
   "metadata": {
    "collapsed": false
   }
  },
  {
   "cell_type": "code",
   "execution_count": 16,
   "outputs": [],
   "source": [
    "vp_df = vp_df.append(vp_19_mean)"
   ],
   "metadata": {
    "collapsed": false
   }
  },
  {
   "cell_type": "markdown",
   "source": [
    "## Split DateTime into Day, Month & Year for combining other data sets"
   ],
   "metadata": {
    "collapsed": false
   }
  },
  {
   "cell_type": "code",
   "execution_count": 17,
   "outputs": [
    {
     "data": {
      "text/plain": "    DateTime  SensorDepth_Water_EXO  PC_Water_EXO  Chla_Water_EXO  \\\n0  10/1/2017                   1.01        0.1556        0.358058   \n1  10/1/2017                   1.03        0.1520        0.544445   \n2  10/1/2017                   1.05        0.1304        0.843708   \n3  10/1/2017                   1.07        0.1592        0.939807   \n4  10/1/2017                   1.09        0.1340        0.797623   \n\n   DO_Water_EXO  DO-Sat_Water_EXO  SpCond_Water_EXO  Temperature_Water_EXO  \\\n0          9.17        101.610000        139.810000              20.380000   \n1          9.18        101.776667        139.786667              20.386667   \n2          9.16        101.230000        139.660000              20.220000   \n3          9.16        101.590000        139.780000              20.410000   \n4          9.15        101.490000        139.750000              20.420000   \n\n   pH_Water_EXO  rel_fl  \n0      8.010344   0.880  \n1      8.027139   0.862  \n2      8.019958   0.844  \n3      8.038803   0.826  \n4      8.024188   0.835  ",
      "text/html": "<div>\n<style scoped>\n    .dataframe tbody tr th:only-of-type {\n        vertical-align: middle;\n    }\n\n    .dataframe tbody tr th {\n        vertical-align: top;\n    }\n\n    .dataframe thead th {\n        text-align: right;\n    }\n</style>\n<table border=\"1\" class=\"dataframe\">\n  <thead>\n    <tr style=\"text-align: right;\">\n      <th></th>\n      <th>DateTime</th>\n      <th>SensorDepth_Water_EXO</th>\n      <th>PC_Water_EXO</th>\n      <th>Chla_Water_EXO</th>\n      <th>DO_Water_EXO</th>\n      <th>DO-Sat_Water_EXO</th>\n      <th>SpCond_Water_EXO</th>\n      <th>Temperature_Water_EXO</th>\n      <th>pH_Water_EXO</th>\n      <th>rel_fl</th>\n    </tr>\n  </thead>\n  <tbody>\n    <tr>\n      <th>0</th>\n      <td>10/1/2017</td>\n      <td>1.01</td>\n      <td>0.1556</td>\n      <td>0.358058</td>\n      <td>9.17</td>\n      <td>101.610000</td>\n      <td>139.810000</td>\n      <td>20.380000</td>\n      <td>8.010344</td>\n      <td>0.880</td>\n    </tr>\n    <tr>\n      <th>1</th>\n      <td>10/1/2017</td>\n      <td>1.03</td>\n      <td>0.1520</td>\n      <td>0.544445</td>\n      <td>9.18</td>\n      <td>101.776667</td>\n      <td>139.786667</td>\n      <td>20.386667</td>\n      <td>8.027139</td>\n      <td>0.862</td>\n    </tr>\n    <tr>\n      <th>2</th>\n      <td>10/1/2017</td>\n      <td>1.05</td>\n      <td>0.1304</td>\n      <td>0.843708</td>\n      <td>9.16</td>\n      <td>101.230000</td>\n      <td>139.660000</td>\n      <td>20.220000</td>\n      <td>8.019958</td>\n      <td>0.844</td>\n    </tr>\n    <tr>\n      <th>3</th>\n      <td>10/1/2017</td>\n      <td>1.07</td>\n      <td>0.1592</td>\n      <td>0.939807</td>\n      <td>9.16</td>\n      <td>101.590000</td>\n      <td>139.780000</td>\n      <td>20.410000</td>\n      <td>8.038803</td>\n      <td>0.826</td>\n    </tr>\n    <tr>\n      <th>4</th>\n      <td>10/1/2017</td>\n      <td>1.09</td>\n      <td>0.1340</td>\n      <td>0.797623</td>\n      <td>9.15</td>\n      <td>101.490000</td>\n      <td>139.750000</td>\n      <td>20.420000</td>\n      <td>8.024188</td>\n      <td>0.835</td>\n    </tr>\n  </tbody>\n</table>\n</div>"
     },
     "execution_count": 17,
     "metadata": {},
     "output_type": "execute_result"
    }
   ],
   "source": [
    "vp_df.head()"
   ],
   "metadata": {
    "collapsed": false
   }
  },
  {
   "cell_type": "code",
   "execution_count": 18,
   "outputs": [],
   "source": [
    "def get_month(date: str) -> str:\n",
    "    return date.split('/')[0]\n",
    "\n",
    "\n",
    "def get_day(date: str) -> str:\n",
    "    return date.split('/')[1]\n",
    "\n",
    "\n",
    "def get_year(date: str) -> str:\n",
    "    return date.split('/')[2]"
   ],
   "metadata": {
    "collapsed": false
   }
  },
  {
   "cell_type": "code",
   "execution_count": 19,
   "outputs": [],
   "source": [
    "vp_df['month'] = vp_df.DateTime.map(get_month)\n",
    "vp_df['day'] = vp_df.DateTime.map(get_day)\n",
    "vp_df['year'] = vp_df.DateTime.map(get_year)"
   ],
   "metadata": {
    "collapsed": false
   }
  },
  {
   "cell_type": "code",
   "execution_count": 20,
   "outputs": [
    {
     "data": {
      "text/plain": "    DateTime  SensorDepth_Water_EXO  PC_Water_EXO  Chla_Water_EXO  \\\n0  10/1/2017                   1.01        0.1556        0.358058   \n1  10/1/2017                   1.03        0.1520        0.544445   \n2  10/1/2017                   1.05        0.1304        0.843708   \n3  10/1/2017                   1.07        0.1592        0.939807   \n4  10/1/2017                   1.09        0.1340        0.797623   \n\n   DO_Water_EXO  DO-Sat_Water_EXO  SpCond_Water_EXO  Temperature_Water_EXO  \\\n0          9.17        101.610000        139.810000              20.380000   \n1          9.18        101.776667        139.786667              20.386667   \n2          9.16        101.230000        139.660000              20.220000   \n3          9.16        101.590000        139.780000              20.410000   \n4          9.15        101.490000        139.750000              20.420000   \n\n   pH_Water_EXO  rel_fl month day  year  \n0      8.010344   0.880    10   1  2017  \n1      8.027139   0.862    10   1  2017  \n2      8.019958   0.844    10   1  2017  \n3      8.038803   0.826    10   1  2017  \n4      8.024188   0.835    10   1  2017  ",
      "text/html": "<div>\n<style scoped>\n    .dataframe tbody tr th:only-of-type {\n        vertical-align: middle;\n    }\n\n    .dataframe tbody tr th {\n        vertical-align: top;\n    }\n\n    .dataframe thead th {\n        text-align: right;\n    }\n</style>\n<table border=\"1\" class=\"dataframe\">\n  <thead>\n    <tr style=\"text-align: right;\">\n      <th></th>\n      <th>DateTime</th>\n      <th>SensorDepth_Water_EXO</th>\n      <th>PC_Water_EXO</th>\n      <th>Chla_Water_EXO</th>\n      <th>DO_Water_EXO</th>\n      <th>DO-Sat_Water_EXO</th>\n      <th>SpCond_Water_EXO</th>\n      <th>Temperature_Water_EXO</th>\n      <th>pH_Water_EXO</th>\n      <th>rel_fl</th>\n      <th>month</th>\n      <th>day</th>\n      <th>year</th>\n    </tr>\n  </thead>\n  <tbody>\n    <tr>\n      <th>0</th>\n      <td>10/1/2017</td>\n      <td>1.01</td>\n      <td>0.1556</td>\n      <td>0.358058</td>\n      <td>9.17</td>\n      <td>101.610000</td>\n      <td>139.810000</td>\n      <td>20.380000</td>\n      <td>8.010344</td>\n      <td>0.880</td>\n      <td>10</td>\n      <td>1</td>\n      <td>2017</td>\n    </tr>\n    <tr>\n      <th>1</th>\n      <td>10/1/2017</td>\n      <td>1.03</td>\n      <td>0.1520</td>\n      <td>0.544445</td>\n      <td>9.18</td>\n      <td>101.776667</td>\n      <td>139.786667</td>\n      <td>20.386667</td>\n      <td>8.027139</td>\n      <td>0.862</td>\n      <td>10</td>\n      <td>1</td>\n      <td>2017</td>\n    </tr>\n    <tr>\n      <th>2</th>\n      <td>10/1/2017</td>\n      <td>1.05</td>\n      <td>0.1304</td>\n      <td>0.843708</td>\n      <td>9.16</td>\n      <td>101.230000</td>\n      <td>139.660000</td>\n      <td>20.220000</td>\n      <td>8.019958</td>\n      <td>0.844</td>\n      <td>10</td>\n      <td>1</td>\n      <td>2017</td>\n    </tr>\n    <tr>\n      <th>3</th>\n      <td>10/1/2017</td>\n      <td>1.07</td>\n      <td>0.1592</td>\n      <td>0.939807</td>\n      <td>9.16</td>\n      <td>101.590000</td>\n      <td>139.780000</td>\n      <td>20.410000</td>\n      <td>8.038803</td>\n      <td>0.826</td>\n      <td>10</td>\n      <td>1</td>\n      <td>2017</td>\n    </tr>\n    <tr>\n      <th>4</th>\n      <td>10/1/2017</td>\n      <td>1.09</td>\n      <td>0.1340</td>\n      <td>0.797623</td>\n      <td>9.15</td>\n      <td>101.490000</td>\n      <td>139.750000</td>\n      <td>20.420000</td>\n      <td>8.024188</td>\n      <td>0.835</td>\n      <td>10</td>\n      <td>1</td>\n      <td>2017</td>\n    </tr>\n  </tbody>\n</table>\n</div>"
     },
     "execution_count": 20,
     "metadata": {},
     "output_type": "execute_result"
    }
   ],
   "source": [
    "vp_df.head()"
   ],
   "metadata": {
    "collapsed": false
   }
  },
  {
   "cell_type": "code",
   "execution_count": 21,
   "outputs": [
    {
     "data": {
      "text/plain": "DateTime                     0\nSensorDepth_Water_EXO        0\nPC_Water_EXO              1536\nChla_Water_EXO            1371\nDO_Water_EXO              4722\nDO-Sat_Water_EXO          4684\nSpCond_Water_EXO          2652\nTemperature_Water_EXO      228\npH_Water_EXO             11546\nrel_fl                     517\nmonth                        0\nday                          0\nyear                         0\ndtype: int64"
     },
     "execution_count": 21,
     "metadata": {},
     "output_type": "execute_result"
    }
   ],
   "source": [
    "vp_df.isnull().sum()"
   ],
   "metadata": {
    "collapsed": false
   }
  },
  {
   "cell_type": "markdown",
   "source": [
    "## Removing NA values\n",
    "\n",
    "Replace NA values by their mean value of that particular month in that particular year."
   ],
   "metadata": {
    "collapsed": false
   }
  },
  {
   "cell_type": "code",
   "execution_count": 22,
   "outputs": [],
   "source": [
    "mean_pc = vp_df.groupby(['DateTime'])['PC_Water_EXO'].mean()\n",
    "mean_chl_a = vp_df.groupby(['DateTime'])['Chla_Water_EXO'].mean()\n",
    "mean_do = vp_df.groupby(['DateTime'])['DO_Water_EXO'].mean()\n",
    "mean_do_sat = vp_df.groupby(['DateTime'])['DO-Sat_Water_EXO'].mean()\n",
    "mean_sp_c = vp_df.groupby(['DateTime'])['SpCond_Water_EXO'].mean()\n",
    "mean_water_temp = vp_df.groupby(['DateTime'])['Temperature_Water_EXO'].mean()\n",
    "mean_ph = vp_df.groupby(['DateTime'])['pH_Water_EXO'].mean()\n",
    "mean_fl = vp_df.groupby(['DateTime'])['rel_fl'].mean()"
   ],
   "metadata": {
    "collapsed": false
   }
  },
  {
   "cell_type": "code",
   "execution_count": 23,
   "outputs": [],
   "source": [
    "vp_df.PC_Water_EXO = vp_df.PC_Water_EXO.fillna(vp_df.DateTime.map(lambda d: mean_pc.loc[d]))"
   ],
   "metadata": {
    "collapsed": false
   }
  },
  {
   "cell_type": "code",
   "execution_count": 24,
   "outputs": [],
   "source": [
    "vp_df.Chla_Water_EXO = vp_df.Chla_Water_EXO.fillna(vp_df.DateTime.map(lambda d: mean_chl_a.loc[d]))"
   ],
   "metadata": {
    "collapsed": false
   }
  },
  {
   "cell_type": "code",
   "execution_count": 25,
   "outputs": [],
   "source": [
    "vp_df.DO_Water_EXO = vp_df.DO_Water_EXO.fillna(vp_df.DateTime.map(lambda d: mean_do.loc[d]))"
   ],
   "metadata": {
    "collapsed": false
   }
  },
  {
   "cell_type": "code",
   "execution_count": 26,
   "outputs": [],
   "source": [
    "vp_df['DO-Sat_Water_EXO'] = vp_df['DO-Sat_Water_EXO'].fillna(vp_df.DateTime.map(lambda d: mean_do_sat.loc[d]))"
   ],
   "metadata": {
    "collapsed": false
   }
  },
  {
   "cell_type": "code",
   "execution_count": 27,
   "outputs": [],
   "source": [
    "vp_df.SpCond_Water_EXO = vp_df.SpCond_Water_EXO.fillna(vp_df.DateTime.map(lambda d: mean_sp_c.loc[d]))"
   ],
   "metadata": {
    "collapsed": false
   }
  },
  {
   "cell_type": "code",
   "execution_count": 28,
   "outputs": [],
   "source": [
    "vp_df.Temperature_Water_EXO = vp_df.Temperature_Water_EXO.fillna(vp_df.DateTime.map(lambda d: mean_water_temp.loc[d]))"
   ],
   "metadata": {
    "collapsed": false
   }
  },
  {
   "cell_type": "code",
   "execution_count": 29,
   "outputs": [],
   "source": [
    "vp_df.pH_Water_EXO = vp_df.pH_Water_EXO.fillna(vp_df.DateTime.map(lambda d: mean_ph.loc[d]))\n",
    "vp_df.rel_fl = vp_df.rel_fl.fillna(vp_df.DateTime.map(lambda d: mean_fl.loc[d]))"
   ],
   "metadata": {
    "collapsed": false
   }
  },
  {
   "cell_type": "code",
   "execution_count": 30,
   "outputs": [
    {
     "data": {
      "text/plain": "DateTime                 0\nSensorDepth_Water_EXO    0\nPC_Water_EXO             0\nChla_Water_EXO           0\nDO_Water_EXO             0\nDO-Sat_Water_EXO         0\nSpCond_Water_EXO         0\nTemperature_Water_EXO    0\npH_Water_EXO             0\nrel_fl                   0\nmonth                    0\nday                      0\nyear                     0\ndtype: int64"
     },
     "execution_count": 30,
     "metadata": {},
     "output_type": "execute_result"
    }
   ],
   "source": [
    "vp_df.isnull().sum()"
   ],
   "metadata": {
    "collapsed": false
   }
  },
  {
   "cell_type": "code",
   "execution_count": 31,
   "outputs": [],
   "source": [
    "vp_df.to_csv(data_path + '/VP_Data.csv', index=False)"
   ],
   "metadata": {
    "collapsed": false
   }
  }
 ],
 "metadata": {
  "kernelspec": {
   "display_name": "Python 3",
   "language": "python",
   "name": "python3"
  },
  "language_info": {
   "codemirror_mode": {
    "name": "ipython",
    "version": 2
   },
   "file_extension": ".py",
   "mimetype": "text/x-python",
   "name": "python",
   "nbconvert_exporter": "python",
   "pygments_lexer": "ipython2",
   "version": "2.7.6"
  }
 },
 "nbformat": 4,
 "nbformat_minor": 0
}
