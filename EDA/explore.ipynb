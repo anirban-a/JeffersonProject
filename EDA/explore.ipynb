{
 "cells": [
  {
   "cell_type": "code",
   "execution_count": 45,
   "outputs": [],
   "source": [
    "import seaborn as sns\n",
    "import pandas as pd"
   ],
   "metadata": {
    "collapsed": false
   }
  },
  {
   "cell_type": "code",
   "execution_count": 46,
   "outputs": [],
   "source": [
    "pd.set_option(\"max_rows\", 25)"
   ],
   "metadata": {
    "collapsed": false
   }
  },
  {
   "cell_type": "code",
   "execution_count": 47,
   "outputs": [],
   "source": [
    "# Apply the default theme\n",
    "sns.set_theme()\n",
    "sns.set_style(\"whitegrid\")"
   ],
   "metadata": {
    "collapsed": false
   }
  },
  {
   "cell_type": "code",
   "execution_count": 48,
   "outputs": [],
   "source": [
    "data_path = '/home/achara/data/achara/'"
   ],
   "metadata": {
    "collapsed": false
   }
  },
  {
   "cell_type": "code",
   "execution_count": 49,
   "outputs": [],
   "source": [
    "df = pd.read_csv(data_path + 'final_vp_data_2017_to_2019.csv')"
   ],
   "metadata": {
    "collapsed": false
   }
  },
  {
   "cell_type": "code",
   "execution_count": 50,
   "outputs": [
    {
     "data": {
      "text/plain": "    DateTime  SensorDepth_Water_EXO  PC_Water_EXO  Chla_Water_EXO  \\\n0  10/1/2017                   1.01        0.1556        0.358058   \n1  10/1/2017                   1.03        0.1520        0.544445   \n2  10/1/2017                   1.05        0.1304        0.843708   \n3  10/1/2017                   1.07        0.1592        0.939807   \n4  10/1/2017                   1.09        0.1340        0.797623   \n\n   DO_Water_EXO  DO-Sat_Water_EXO  SpCond_Water_EXO  Temperature_Water_EXO  \\\n0          9.17        101.610000        139.810000              20.380000   \n1          9.18        101.776667        139.786667              20.386667   \n2          9.16        101.230000        139.660000              20.220000   \n3          9.16        101.590000        139.780000              20.410000   \n4          9.15        101.490000        139.750000              20.420000   \n\n   pH_Water_EXO  rel_fl  month  day  year  SolarRad_Air_LiCor  \n0      8.010344   0.880     10    1  2017           127.38941  \n1      8.027139   0.862     10    1  2017           127.38941  \n2      8.019958   0.844     10    1  2017           127.38941  \n3      8.038803   0.826     10    1  2017           127.38941  \n4      8.024188   0.835     10    1  2017           127.38941  ",
      "text/html": "<div>\n<style scoped>\n    .dataframe tbody tr th:only-of-type {\n        vertical-align: middle;\n    }\n\n    .dataframe tbody tr th {\n        vertical-align: top;\n    }\n\n    .dataframe thead th {\n        text-align: right;\n    }\n</style>\n<table border=\"1\" class=\"dataframe\">\n  <thead>\n    <tr style=\"text-align: right;\">\n      <th></th>\n      <th>DateTime</th>\n      <th>SensorDepth_Water_EXO</th>\n      <th>PC_Water_EXO</th>\n      <th>Chla_Water_EXO</th>\n      <th>DO_Water_EXO</th>\n      <th>DO-Sat_Water_EXO</th>\n      <th>SpCond_Water_EXO</th>\n      <th>Temperature_Water_EXO</th>\n      <th>pH_Water_EXO</th>\n      <th>rel_fl</th>\n      <th>month</th>\n      <th>day</th>\n      <th>year</th>\n      <th>SolarRad_Air_LiCor</th>\n    </tr>\n  </thead>\n  <tbody>\n    <tr>\n      <th>0</th>\n      <td>10/1/2017</td>\n      <td>1.01</td>\n      <td>0.1556</td>\n      <td>0.358058</td>\n      <td>9.17</td>\n      <td>101.610000</td>\n      <td>139.810000</td>\n      <td>20.380000</td>\n      <td>8.010344</td>\n      <td>0.880</td>\n      <td>10</td>\n      <td>1</td>\n      <td>2017</td>\n      <td>127.38941</td>\n    </tr>\n    <tr>\n      <th>1</th>\n      <td>10/1/2017</td>\n      <td>1.03</td>\n      <td>0.1520</td>\n      <td>0.544445</td>\n      <td>9.18</td>\n      <td>101.776667</td>\n      <td>139.786667</td>\n      <td>20.386667</td>\n      <td>8.027139</td>\n      <td>0.862</td>\n      <td>10</td>\n      <td>1</td>\n      <td>2017</td>\n      <td>127.38941</td>\n    </tr>\n    <tr>\n      <th>2</th>\n      <td>10/1/2017</td>\n      <td>1.05</td>\n      <td>0.1304</td>\n      <td>0.843708</td>\n      <td>9.16</td>\n      <td>101.230000</td>\n      <td>139.660000</td>\n      <td>20.220000</td>\n      <td>8.019958</td>\n      <td>0.844</td>\n      <td>10</td>\n      <td>1</td>\n      <td>2017</td>\n      <td>127.38941</td>\n    </tr>\n    <tr>\n      <th>3</th>\n      <td>10/1/2017</td>\n      <td>1.07</td>\n      <td>0.1592</td>\n      <td>0.939807</td>\n      <td>9.16</td>\n      <td>101.590000</td>\n      <td>139.780000</td>\n      <td>20.410000</td>\n      <td>8.038803</td>\n      <td>0.826</td>\n      <td>10</td>\n      <td>1</td>\n      <td>2017</td>\n      <td>127.38941</td>\n    </tr>\n    <tr>\n      <th>4</th>\n      <td>10/1/2017</td>\n      <td>1.09</td>\n      <td>0.1340</td>\n      <td>0.797623</td>\n      <td>9.15</td>\n      <td>101.490000</td>\n      <td>139.750000</td>\n      <td>20.420000</td>\n      <td>8.024188</td>\n      <td>0.835</td>\n      <td>10</td>\n      <td>1</td>\n      <td>2017</td>\n      <td>127.38941</td>\n    </tr>\n  </tbody>\n</table>\n</div>"
     },
     "execution_count": 50,
     "metadata": {},
     "output_type": "execute_result"
    }
   ],
   "source": [
    "df.head()"
   ],
   "metadata": {
    "collapsed": false
   }
  },
  {
   "cell_type": "markdown",
   "source": [
    "## Exploring the correlations"
   ],
   "metadata": {
    "collapsed": false
   }
  },
  {
   "cell_type": "code",
   "execution_count": 51,
   "outputs": [
    {
     "data": {
      "text/plain": "                       SensorDepth_Water_EXO  PC_Water_EXO  Chla_Water_EXO  \\\nSensorDepth_Water_EXO               1.000000      0.254268       -0.298426   \nPC_Water_EXO                        0.254268      1.000000        0.143790   \nChla_Water_EXO                     -0.298426      0.143790        1.000000   \nDO_Water_EXO                       -0.020135      0.110390        0.498635   \nDO-Sat_Water_EXO                   -0.648007     -0.159781        0.425593   \nSpCond_Water_EXO                   -0.446515     -0.042877        0.307687   \nTemperature_Water_EXO              -0.786662     -0.316365       -0.021891   \npH_Water_EXO                       -0.757792     -0.372949        0.226029   \nrel_fl                              0.273434      0.720790       -0.079344   \nmonth                               0.022866     -0.096888       -0.348574   \nday                                 0.002084      0.028319        0.025128   \nyear                                0.036855      0.273159       -0.119410   \nSolarRad_Air_LiCor                  0.003089      0.102463        0.101340   \n\n                       DO_Water_EXO  DO-Sat_Water_EXO  SpCond_Water_EXO  \\\nSensorDepth_Water_EXO     -0.020135         -0.648007         -0.446515   \nPC_Water_EXO               0.110390         -0.159781         -0.042877   \nChla_Water_EXO             0.498635          0.425593          0.307687   \nDO_Water_EXO               1.000000          0.631111         -0.017961   \nDO-Sat_Water_EXO           0.631111          1.000000          0.262092   \nSpCond_Water_EXO          -0.017961          0.262092          1.000000   \nTemperature_Water_EXO     -0.323045          0.505459          0.377314   \npH_Water_EXO               0.200452          0.756692          0.269798   \nrel_fl                    -0.098678         -0.320016          0.018280   \nmonth                     -0.680608         -0.534086         -0.176334   \nday                       -0.025899         -0.018838          0.006035   \nyear                       0.009214         -0.008785          0.203379   \nSolarRad_Air_LiCor         0.428063          0.448523          0.081412   \n\n                       Temperature_Water_EXO  pH_Water_EXO    rel_fl  \\\nSensorDepth_Water_EXO              -0.786662     -0.757792  0.273434   \nPC_Water_EXO                       -0.316365     -0.372949  0.720790   \nChla_Water_EXO                     -0.021891      0.226029 -0.079344   \nDO_Water_EXO                       -0.323045      0.200452 -0.098678   \nDO-Sat_Water_EXO                    0.505459      0.756692 -0.320016   \nSpCond_Water_EXO                    0.377314      0.269798  0.018280   \nTemperature_Water_EXO               1.000000      0.708730 -0.288063   \npH_Water_EXO                        0.708730      1.000000 -0.483351   \nrel_fl                             -0.288063     -0.483351  1.000000   \nmonth                               0.100904     -0.102535 -0.001458   \nday                                 0.007146      0.007123  0.026246   \nyear                                0.024586     -0.061580  0.514343   \nSolarRad_Air_LiCor                  0.038679      0.011473  0.094075   \n\n                          month       day      year  SolarRad_Air_LiCor  \nSensorDepth_Water_EXO  0.022866  0.002084  0.036855            0.003089  \nPC_Water_EXO          -0.096888  0.028319  0.273159            0.102463  \nChla_Water_EXO        -0.348574  0.025128 -0.119410            0.101340  \nDO_Water_EXO          -0.680608 -0.025899  0.009214            0.428063  \nDO-Sat_Water_EXO      -0.534086 -0.018838 -0.008785            0.448523  \nSpCond_Water_EXO      -0.176334  0.006035  0.203379            0.081412  \nTemperature_Water_EXO  0.100904  0.007146  0.024586            0.038679  \npH_Water_EXO          -0.102535  0.007123 -0.061580            0.011473  \nrel_fl                -0.001458  0.026246  0.514343            0.094075  \nmonth                  1.000000 -0.143811 -0.149814           -0.817839  \nday                   -0.143811  1.000000  0.020026            0.073439  \nyear                  -0.149814  0.020026  1.000000            0.105298  \nSolarRad_Air_LiCor    -0.817839  0.073439  0.105298            1.000000  ",
      "text/html": "<div>\n<style scoped>\n    .dataframe tbody tr th:only-of-type {\n        vertical-align: middle;\n    }\n\n    .dataframe tbody tr th {\n        vertical-align: top;\n    }\n\n    .dataframe thead th {\n        text-align: right;\n    }\n</style>\n<table border=\"1\" class=\"dataframe\">\n  <thead>\n    <tr style=\"text-align: right;\">\n      <th></th>\n      <th>SensorDepth_Water_EXO</th>\n      <th>PC_Water_EXO</th>\n      <th>Chla_Water_EXO</th>\n      <th>DO_Water_EXO</th>\n      <th>DO-Sat_Water_EXO</th>\n      <th>SpCond_Water_EXO</th>\n      <th>Temperature_Water_EXO</th>\n      <th>pH_Water_EXO</th>\n      <th>rel_fl</th>\n      <th>month</th>\n      <th>day</th>\n      <th>year</th>\n      <th>SolarRad_Air_LiCor</th>\n    </tr>\n  </thead>\n  <tbody>\n    <tr>\n      <th>SensorDepth_Water_EXO</th>\n      <td>1.000000</td>\n      <td>0.254268</td>\n      <td>-0.298426</td>\n      <td>-0.020135</td>\n      <td>-0.648007</td>\n      <td>-0.446515</td>\n      <td>-0.786662</td>\n      <td>-0.757792</td>\n      <td>0.273434</td>\n      <td>0.022866</td>\n      <td>0.002084</td>\n      <td>0.036855</td>\n      <td>0.003089</td>\n    </tr>\n    <tr>\n      <th>PC_Water_EXO</th>\n      <td>0.254268</td>\n      <td>1.000000</td>\n      <td>0.143790</td>\n      <td>0.110390</td>\n      <td>-0.159781</td>\n      <td>-0.042877</td>\n      <td>-0.316365</td>\n      <td>-0.372949</td>\n      <td>0.720790</td>\n      <td>-0.096888</td>\n      <td>0.028319</td>\n      <td>0.273159</td>\n      <td>0.102463</td>\n    </tr>\n    <tr>\n      <th>Chla_Water_EXO</th>\n      <td>-0.298426</td>\n      <td>0.143790</td>\n      <td>1.000000</td>\n      <td>0.498635</td>\n      <td>0.425593</td>\n      <td>0.307687</td>\n      <td>-0.021891</td>\n      <td>0.226029</td>\n      <td>-0.079344</td>\n      <td>-0.348574</td>\n      <td>0.025128</td>\n      <td>-0.119410</td>\n      <td>0.101340</td>\n    </tr>\n    <tr>\n      <th>DO_Water_EXO</th>\n      <td>-0.020135</td>\n      <td>0.110390</td>\n      <td>0.498635</td>\n      <td>1.000000</td>\n      <td>0.631111</td>\n      <td>-0.017961</td>\n      <td>-0.323045</td>\n      <td>0.200452</td>\n      <td>-0.098678</td>\n      <td>-0.680608</td>\n      <td>-0.025899</td>\n      <td>0.009214</td>\n      <td>0.428063</td>\n    </tr>\n    <tr>\n      <th>DO-Sat_Water_EXO</th>\n      <td>-0.648007</td>\n      <td>-0.159781</td>\n      <td>0.425593</td>\n      <td>0.631111</td>\n      <td>1.000000</td>\n      <td>0.262092</td>\n      <td>0.505459</td>\n      <td>0.756692</td>\n      <td>-0.320016</td>\n      <td>-0.534086</td>\n      <td>-0.018838</td>\n      <td>-0.008785</td>\n      <td>0.448523</td>\n    </tr>\n    <tr>\n      <th>SpCond_Water_EXO</th>\n      <td>-0.446515</td>\n      <td>-0.042877</td>\n      <td>0.307687</td>\n      <td>-0.017961</td>\n      <td>0.262092</td>\n      <td>1.000000</td>\n      <td>0.377314</td>\n      <td>0.269798</td>\n      <td>0.018280</td>\n      <td>-0.176334</td>\n      <td>0.006035</td>\n      <td>0.203379</td>\n      <td>0.081412</td>\n    </tr>\n    <tr>\n      <th>Temperature_Water_EXO</th>\n      <td>-0.786662</td>\n      <td>-0.316365</td>\n      <td>-0.021891</td>\n      <td>-0.323045</td>\n      <td>0.505459</td>\n      <td>0.377314</td>\n      <td>1.000000</td>\n      <td>0.708730</td>\n      <td>-0.288063</td>\n      <td>0.100904</td>\n      <td>0.007146</td>\n      <td>0.024586</td>\n      <td>0.038679</td>\n    </tr>\n    <tr>\n      <th>pH_Water_EXO</th>\n      <td>-0.757792</td>\n      <td>-0.372949</td>\n      <td>0.226029</td>\n      <td>0.200452</td>\n      <td>0.756692</td>\n      <td>0.269798</td>\n      <td>0.708730</td>\n      <td>1.000000</td>\n      <td>-0.483351</td>\n      <td>-0.102535</td>\n      <td>0.007123</td>\n      <td>-0.061580</td>\n      <td>0.011473</td>\n    </tr>\n    <tr>\n      <th>rel_fl</th>\n      <td>0.273434</td>\n      <td>0.720790</td>\n      <td>-0.079344</td>\n      <td>-0.098678</td>\n      <td>-0.320016</td>\n      <td>0.018280</td>\n      <td>-0.288063</td>\n      <td>-0.483351</td>\n      <td>1.000000</td>\n      <td>-0.001458</td>\n      <td>0.026246</td>\n      <td>0.514343</td>\n      <td>0.094075</td>\n    </tr>\n    <tr>\n      <th>month</th>\n      <td>0.022866</td>\n      <td>-0.096888</td>\n      <td>-0.348574</td>\n      <td>-0.680608</td>\n      <td>-0.534086</td>\n      <td>-0.176334</td>\n      <td>0.100904</td>\n      <td>-0.102535</td>\n      <td>-0.001458</td>\n      <td>1.000000</td>\n      <td>-0.143811</td>\n      <td>-0.149814</td>\n      <td>-0.817839</td>\n    </tr>\n    <tr>\n      <th>day</th>\n      <td>0.002084</td>\n      <td>0.028319</td>\n      <td>0.025128</td>\n      <td>-0.025899</td>\n      <td>-0.018838</td>\n      <td>0.006035</td>\n      <td>0.007146</td>\n      <td>0.007123</td>\n      <td>0.026246</td>\n      <td>-0.143811</td>\n      <td>1.000000</td>\n      <td>0.020026</td>\n      <td>0.073439</td>\n    </tr>\n    <tr>\n      <th>year</th>\n      <td>0.036855</td>\n      <td>0.273159</td>\n      <td>-0.119410</td>\n      <td>0.009214</td>\n      <td>-0.008785</td>\n      <td>0.203379</td>\n      <td>0.024586</td>\n      <td>-0.061580</td>\n      <td>0.514343</td>\n      <td>-0.149814</td>\n      <td>0.020026</td>\n      <td>1.000000</td>\n      <td>0.105298</td>\n    </tr>\n    <tr>\n      <th>SolarRad_Air_LiCor</th>\n      <td>0.003089</td>\n      <td>0.102463</td>\n      <td>0.101340</td>\n      <td>0.428063</td>\n      <td>0.448523</td>\n      <td>0.081412</td>\n      <td>0.038679</td>\n      <td>0.011473</td>\n      <td>0.094075</td>\n      <td>-0.817839</td>\n      <td>0.073439</td>\n      <td>0.105298</td>\n      <td>1.000000</td>\n    </tr>\n  </tbody>\n</table>\n</div>"
     },
     "execution_count": 51,
     "metadata": {},
     "output_type": "execute_result"
    }
   ],
   "source": [
    "df.corr()"
   ],
   "metadata": {
    "collapsed": false
   }
  },
  {
   "cell_type": "code",
   "execution_count": 52,
   "outputs": [
    {
     "data": {
      "text/plain": "DateTime                 0\nSensorDepth_Water_EXO    0\nPC_Water_EXO             0\nChla_Water_EXO           0\nDO_Water_EXO             0\nDO-Sat_Water_EXO         0\nSpCond_Water_EXO         0\nTemperature_Water_EXO    0\npH_Water_EXO             0\nrel_fl                   0\nmonth                    0\nday                      0\nyear                     0\nSolarRad_Air_LiCor       0\ndtype: int64"
     },
     "execution_count": 52,
     "metadata": {},
     "output_type": "execute_result"
    }
   ],
   "source": [
    "df.isnull().sum()"
   ],
   "metadata": {
    "collapsed": false
   }
  },
  {
   "cell_type": "code",
   "execution_count": 52,
   "outputs": [],
   "source": [],
   "metadata": {
    "collapsed": false
   }
  }
 ],
 "metadata": {
  "kernelspec": {
   "display_name": "Python 3",
   "language": "python",
   "name": "python3"
  },
  "language_info": {
   "codemirror_mode": {
    "name": "ipython",
    "version": 2
   },
   "file_extension": ".py",
   "mimetype": "text/x-python",
   "name": "python",
   "nbconvert_exporter": "python",
   "pygments_lexer": "ipython2",
   "version": "2.7.6"
  }
 },
 "nbformat": 4,
 "nbformat_minor": 0
}
