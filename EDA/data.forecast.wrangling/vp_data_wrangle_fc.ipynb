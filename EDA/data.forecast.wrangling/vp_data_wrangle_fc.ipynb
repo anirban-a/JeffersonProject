{
 "cells": [
  {
   "cell_type": "code",
   "execution_count": 84,
   "metadata": {},
   "outputs": [],
   "source": [
    "import pandas as pd"
   ]
  },
  {
   "cell_type": "code",
   "execution_count": 85,
   "metadata": {},
   "outputs": [],
   "source": [
    "data_path = '/home/achara/data/achara/'\n",
    "vp_17 = pd.read_csv(data_path + '2017_JP_VP.csv')\n",
    "vp_18 = pd.read_csv(data_path + '2018_JP_VP_Level4.csv')\n",
    "vp_19 = pd.read_csv(data_path + '2019_JP_VP_Level4.csv')"
   ]
  },
  {
   "cell_type": "code",
   "execution_count": 86,
   "metadata": {},
   "outputs": [],
   "source": [
    "def remove_time(datetime: str) -> str:\n",
    "    return datetime.split(' ')[0]"
   ]
  },
  {
   "cell_type": "code",
   "execution_count": 87,
   "metadata": {},
   "outputs": [],
   "source": [
    "def get_time(datetime: str) -> str:\n",
    "    return datetime.split(' ')[1]"
   ]
  },
  {
   "cell_type": "code",
   "execution_count": 88,
   "metadata": {},
   "outputs": [],
   "source": [
    "vp_17.DateTime = vp_17.DateTime.map(lambda datetime: datetime.replace('/', '-'))"
   ]
  },
  {
   "cell_type": "code",
   "execution_count": 89,
   "metadata": {},
   "outputs": [
    {
     "data": {
      "text/plain": "0    2018-05-09 23:12:00\n1    2018-05-09 23:22:00\n2    2018-05-09 23:32:00\n3    2018-05-09 23:42:00\n4    2018-05-09 23:52:00\nName: DateTime, dtype: object"
     },
     "execution_count": 89,
     "metadata": {},
     "output_type": "execute_result"
    }
   ],
   "source": [
    "vp_18.DateTime.head()"
   ]
  },
  {
   "cell_type": "markdown",
   "metadata": {},
   "source": [
    "## The date format differs"
   ]
  },
  {
   "cell_type": "code",
   "execution_count": 90,
   "metadata": {},
   "outputs": [],
   "source": [
    "def convert_date_format(date: str) -> str:\n",
    "    parts = date.split('-')\n",
    "    parts.append(parts.pop(0))\n",
    "    standardize = list(map(int, parts))\n",
    "    return '-'.join(list(map(str, standardize)))"
   ]
  },
  {
   "cell_type": "markdown",
   "metadata": {},
   "source": [
    "## Split date and time for initial data processing and merging"
   ]
  },
  {
   "cell_type": "code",
   "execution_count": 91,
   "metadata": {},
   "outputs": [],
   "source": [
    "vp_17['time'] = vp_17.DateTime.map(get_time)\n",
    "vp_18['time'] = vp_18.DateTime.map(get_time)\n",
    "vp_19['time'] = vp_19.DateTime.map(get_time)"
   ]
  },
  {
   "cell_type": "code",
   "execution_count": 92,
   "metadata": {},
   "outputs": [],
   "source": [
    "vp_17.DateTime = vp_17.DateTime.map(remove_time)\n",
    "vp_18.DateTime = vp_18.DateTime.map(remove_time)\n",
    "vp_19.DateTime = vp_19.DateTime.map(remove_time)"
   ]
  },
  {
   "cell_type": "code",
   "execution_count": 93,
   "metadata": {},
   "outputs": [],
   "source": [
    "vp_18.DateTime = vp_18.DateTime.map(convert_date_format)\n",
    "vp_19.DateTime = vp_19.DateTime.map(convert_date_format)"
   ]
  },
  {
   "cell_type": "code",
   "execution_count": 94,
   "metadata": {},
   "outputs": [],
   "source": [
    "def get_month(date: str) -> str:\n",
    "    return date.split('-')[0]\n",
    "\n",
    "\n",
    "def get_day(date: str) -> str:\n",
    "    return date.split('-')[1]\n",
    "\n",
    "\n",
    "def get_year(date: str) -> str:\n",
    "    return date.split('-')[2]"
   ]
  },
  {
   "cell_type": "code",
   "execution_count": 95,
   "metadata": {},
   "outputs": [],
   "source": [
    "vp_17 = vp_17.rename(columns={'fDOM_Water_EXO': 'rel_fl'})\n",
    "vp_18 = vp_18.rename(columns={'fDOM_Water_EXO': 'rel_fl'})\n",
    "vp_19 = vp_19.rename(columns={'fDOM_Water_EXO': 'rel_fl'})"
   ]
  },
  {
   "cell_type": "markdown",
   "metadata": {},
   "source": [
    "## Group by `DateTime`, `time` and `SensorDepth_Water_EXO` keeping the sensor depth information"
   ]
  },
  {
   "cell_type": "code",
   "execution_count": 96,
   "metadata": {},
   "outputs": [],
   "source": [
    "vp_17_mean = vp_17.groupby(['DateTime', 'time', 'SensorDepth_Water_EXO'])[[\n",
    "    'PC_Water_EXO',\n",
    "    'Chla_Water_EXO',\n",
    "    'DO_Water_EXO',\n",
    "    'DO-Sat_Water_EXO',\n",
    "    'SpCond_Water_EXO',\n",
    "    'Temperature_Water_EXO',\n",
    "    'pH_Water_EXO',\n",
    "    'rel_fl'\n",
    "]].mean().reset_index()"
   ]
  },
  {
   "cell_type": "code",
   "execution_count": 97,
   "metadata": {},
   "outputs": [
    {
     "data": {
      "text/plain": "    DateTime  time  SensorDepth_Water_EXO  PC_Water_EXO  Chla_Water_EXO  \\\n0  10-1-2017  0:01                   1.09        0.1448        0.800312   \n1  10-1-2017  0:03                   1.85        0.1340        0.553970   \n2  10-1-2017  0:04                   2.94        0.1232        0.553919   \n3  10-1-2017  0:05                   3.93        0.1124        0.437228   \n4  10-1-2017  0:07                   4.93        0.1160        0.489017   \n\n   DO_Water_EXO  DO-Sat_Water_EXO  SpCond_Water_EXO  Temperature_Water_EXO  \\\n0          9.14            101.82            139.74                  20.62   \n1          9.13            101.74            139.98                  20.62   \n2          9.13            101.67            139.80                  20.63   \n3          9.12            101.57            139.90                  20.63   \n4          9.11            101.50            139.92                  20.62   \n\n   pH_Water_EXO  rel_fl  \n0      8.038610   0.844  \n1      8.038617   0.826  \n2      8.038620   0.826  \n3      8.038623   0.826  \n4      8.038627   0.844  ",
      "text/html": "<div>\n<style scoped>\n    .dataframe tbody tr th:only-of-type {\n        vertical-align: middle;\n    }\n\n    .dataframe tbody tr th {\n        vertical-align: top;\n    }\n\n    .dataframe thead th {\n        text-align: right;\n    }\n</style>\n<table border=\"1\" class=\"dataframe\">\n  <thead>\n    <tr style=\"text-align: right;\">\n      <th></th>\n      <th>DateTime</th>\n      <th>time</th>\n      <th>SensorDepth_Water_EXO</th>\n      <th>PC_Water_EXO</th>\n      <th>Chla_Water_EXO</th>\n      <th>DO_Water_EXO</th>\n      <th>DO-Sat_Water_EXO</th>\n      <th>SpCond_Water_EXO</th>\n      <th>Temperature_Water_EXO</th>\n      <th>pH_Water_EXO</th>\n      <th>rel_fl</th>\n    </tr>\n  </thead>\n  <tbody>\n    <tr>\n      <th>0</th>\n      <td>10-1-2017</td>\n      <td>0:01</td>\n      <td>1.09</td>\n      <td>0.1448</td>\n      <td>0.800312</td>\n      <td>9.14</td>\n      <td>101.82</td>\n      <td>139.74</td>\n      <td>20.62</td>\n      <td>8.038610</td>\n      <td>0.844</td>\n    </tr>\n    <tr>\n      <th>1</th>\n      <td>10-1-2017</td>\n      <td>0:03</td>\n      <td>1.85</td>\n      <td>0.1340</td>\n      <td>0.553970</td>\n      <td>9.13</td>\n      <td>101.74</td>\n      <td>139.98</td>\n      <td>20.62</td>\n      <td>8.038617</td>\n      <td>0.826</td>\n    </tr>\n    <tr>\n      <th>2</th>\n      <td>10-1-2017</td>\n      <td>0:04</td>\n      <td>2.94</td>\n      <td>0.1232</td>\n      <td>0.553919</td>\n      <td>9.13</td>\n      <td>101.67</td>\n      <td>139.80</td>\n      <td>20.63</td>\n      <td>8.038620</td>\n      <td>0.826</td>\n    </tr>\n    <tr>\n      <th>3</th>\n      <td>10-1-2017</td>\n      <td>0:05</td>\n      <td>3.93</td>\n      <td>0.1124</td>\n      <td>0.437228</td>\n      <td>9.12</td>\n      <td>101.57</td>\n      <td>139.90</td>\n      <td>20.63</td>\n      <td>8.038623</td>\n      <td>0.826</td>\n    </tr>\n    <tr>\n      <th>4</th>\n      <td>10-1-2017</td>\n      <td>0:07</td>\n      <td>4.93</td>\n      <td>0.1160</td>\n      <td>0.489017</td>\n      <td>9.11</td>\n      <td>101.50</td>\n      <td>139.92</td>\n      <td>20.62</td>\n      <td>8.038627</td>\n      <td>0.844</td>\n    </tr>\n  </tbody>\n</table>\n</div>"
     },
     "execution_count": 97,
     "metadata": {},
     "output_type": "execute_result"
    }
   ],
   "source": [
    "vp_17_mean.head()"
   ]
  },
  {
   "cell_type": "code",
   "execution_count": 98,
   "metadata": {},
   "outputs": [],
   "source": [
    "vp_18_mean = vp_18.groupby(['DateTime', 'time', 'SensorDepth_Water_EXO'])[[\n",
    "    'PC_Water_EXO',\n",
    "    'Chla_Water_EXO',\n",
    "    'DO_Water_EXO',\n",
    "    'DO-Sat_Water_EXO',\n",
    "    'SpCond_Water_EXO',\n",
    "    'Temperature_Water_EXO',\n",
    "    'pH_Water_EXO',\n",
    "    'rel_fl'\n",
    "]].mean().reset_index()"
   ]
  },
  {
   "cell_type": "code",
   "execution_count": 99,
   "metadata": {},
   "outputs": [],
   "source": [
    "vp_19_mean = vp_19.groupby(['DateTime', 'SensorDepth_Water_EXO', 'time'])[[\n",
    "    'PC_Water_EXO',\n",
    "    'Chla_Water_EXO',\n",
    "    'DO_Water_EXO',\n",
    "    'DO-Sat_Water_EXO',\n",
    "    'SpCond_Water_EXO',\n",
    "    'Temperature_Water_EXO',\n",
    "    'pH_Water_EXO',\n",
    "    'rel_fl'\n",
    "]].mean().reset_index()"
   ]
  },
  {
   "cell_type": "code",
   "execution_count": 100,
   "metadata": {},
   "outputs": [],
   "source": [
    "vp_df = vp_17_mean.append(vp_18_mean)"
   ]
  },
  {
   "cell_type": "code",
   "execution_count": 101,
   "metadata": {},
   "outputs": [],
   "source": [
    "vp_df = vp_df.append(vp_19_mean)"
   ]
  },
  {
   "cell_type": "code",
   "execution_count": 102,
   "metadata": {},
   "outputs": [],
   "source": [
    "vp_df['month'] = vp_df.DateTime.map(get_month)\n",
    "vp_df['day'] = vp_df.DateTime.map(get_day)\n",
    "vp_df['year'] = vp_df.DateTime.map(get_year)"
   ]
  },
  {
   "cell_type": "code",
   "execution_count": 103,
   "metadata": {},
   "outputs": [
    {
     "data": {
      "text/plain": "    DateTime  time  SensorDepth_Water_EXO  PC_Water_EXO  Chla_Water_EXO  \\\n0  10-1-2017  0:01                   1.09        0.1448        0.800312   \n1  10-1-2017  0:03                   1.85        0.1340        0.553970   \n2  10-1-2017  0:04                   2.94        0.1232        0.553919   \n3  10-1-2017  0:05                   3.93        0.1124        0.437228   \n4  10-1-2017  0:07                   4.93        0.1160        0.489017   \n\n   DO_Water_EXO  DO-Sat_Water_EXO  SpCond_Water_EXO  Temperature_Water_EXO  \\\n0          9.14            101.82            139.74                  20.62   \n1          9.13            101.74            139.98                  20.62   \n2          9.13            101.67            139.80                  20.63   \n3          9.12            101.57            139.90                  20.63   \n4          9.11            101.50            139.92                  20.62   \n\n   pH_Water_EXO  rel_fl month day  year  \n0      8.038610   0.844    10   1  2017  \n1      8.038617   0.826    10   1  2017  \n2      8.038620   0.826    10   1  2017  \n3      8.038623   0.826    10   1  2017  \n4      8.038627   0.844    10   1  2017  ",
      "text/html": "<div>\n<style scoped>\n    .dataframe tbody tr th:only-of-type {\n        vertical-align: middle;\n    }\n\n    .dataframe tbody tr th {\n        vertical-align: top;\n    }\n\n    .dataframe thead th {\n        text-align: right;\n    }\n</style>\n<table border=\"1\" class=\"dataframe\">\n  <thead>\n    <tr style=\"text-align: right;\">\n      <th></th>\n      <th>DateTime</th>\n      <th>time</th>\n      <th>SensorDepth_Water_EXO</th>\n      <th>PC_Water_EXO</th>\n      <th>Chla_Water_EXO</th>\n      <th>DO_Water_EXO</th>\n      <th>DO-Sat_Water_EXO</th>\n      <th>SpCond_Water_EXO</th>\n      <th>Temperature_Water_EXO</th>\n      <th>pH_Water_EXO</th>\n      <th>rel_fl</th>\n      <th>month</th>\n      <th>day</th>\n      <th>year</th>\n    </tr>\n  </thead>\n  <tbody>\n    <tr>\n      <th>0</th>\n      <td>10-1-2017</td>\n      <td>0:01</td>\n      <td>1.09</td>\n      <td>0.1448</td>\n      <td>0.800312</td>\n      <td>9.14</td>\n      <td>101.82</td>\n      <td>139.74</td>\n      <td>20.62</td>\n      <td>8.038610</td>\n      <td>0.844</td>\n      <td>10</td>\n      <td>1</td>\n      <td>2017</td>\n    </tr>\n    <tr>\n      <th>1</th>\n      <td>10-1-2017</td>\n      <td>0:03</td>\n      <td>1.85</td>\n      <td>0.1340</td>\n      <td>0.553970</td>\n      <td>9.13</td>\n      <td>101.74</td>\n      <td>139.98</td>\n      <td>20.62</td>\n      <td>8.038617</td>\n      <td>0.826</td>\n      <td>10</td>\n      <td>1</td>\n      <td>2017</td>\n    </tr>\n    <tr>\n      <th>2</th>\n      <td>10-1-2017</td>\n      <td>0:04</td>\n      <td>2.94</td>\n      <td>0.1232</td>\n      <td>0.553919</td>\n      <td>9.13</td>\n      <td>101.67</td>\n      <td>139.80</td>\n      <td>20.63</td>\n      <td>8.038620</td>\n      <td>0.826</td>\n      <td>10</td>\n      <td>1</td>\n      <td>2017</td>\n    </tr>\n    <tr>\n      <th>3</th>\n      <td>10-1-2017</td>\n      <td>0:05</td>\n      <td>3.93</td>\n      <td>0.1124</td>\n      <td>0.437228</td>\n      <td>9.12</td>\n      <td>101.57</td>\n      <td>139.90</td>\n      <td>20.63</td>\n      <td>8.038623</td>\n      <td>0.826</td>\n      <td>10</td>\n      <td>1</td>\n      <td>2017</td>\n    </tr>\n    <tr>\n      <th>4</th>\n      <td>10-1-2017</td>\n      <td>0:07</td>\n      <td>4.93</td>\n      <td>0.1160</td>\n      <td>0.489017</td>\n      <td>9.11</td>\n      <td>101.50</td>\n      <td>139.92</td>\n      <td>20.62</td>\n      <td>8.038627</td>\n      <td>0.844</td>\n      <td>10</td>\n      <td>1</td>\n      <td>2017</td>\n    </tr>\n  </tbody>\n</table>\n</div>"
     },
     "execution_count": 103,
     "metadata": {},
     "output_type": "execute_result"
    }
   ],
   "source": [
    "vp_df.head()"
   ]
  },
  {
   "cell_type": "markdown",
   "metadata": {},
   "source": [
    "## Removing NA values"
   ]
  },
  {
   "cell_type": "code",
   "execution_count": 104,
   "metadata": {},
   "outputs": [],
   "source": [
    "mean_pc = vp_df.groupby(['DateTime', 'time'])['PC_Water_EXO'].mean()\n",
    "mean_chl_a = vp_df.groupby(['DateTime', 'time'])['Chla_Water_EXO'].mean()\n",
    "mean_do = vp_df.groupby(['DateTime', 'time'])['DO_Water_EXO'].mean()\n",
    "mean_do_sat = vp_df.groupby(['DateTime', 'time'])['DO-Sat_Water_EXO'].mean()\n",
    "mean_sp_c = vp_df.groupby(['DateTime', 'time'])['SpCond_Water_EXO'].mean()\n",
    "mean_water_temp = vp_df.groupby(['DateTime', 'time'])['Temperature_Water_EXO'].mean()\n",
    "mean_ph = vp_df.groupby(['DateTime', 'time'])['pH_Water_EXO'].mean()\n",
    "mean_fl = vp_df.groupby(['DateTime', 'time'])['rel_fl'].mean()"
   ]
  },
  {
   "cell_type": "code",
   "execution_count": 105,
   "metadata": {},
   "outputs": [
    {
     "data": {
      "text/plain": "4411"
     },
     "execution_count": 105,
     "metadata": {},
     "output_type": "execute_result"
    }
   ],
   "source": [
    "sum(vp_df.PC_Water_EXO.isna())"
   ]
  },
  {
   "cell_type": "code",
   "execution_count": 106,
   "metadata": {},
   "outputs": [],
   "source": [
    "def get_mean_pc_by_date_and_time(row):\n",
    "    return mean_pc.loc[(row['DateTime'], row['time'])]\n",
    "\n",
    "\n",
    "vp_df.PC_Water_EXO = vp_df.PC_Water_EXO.fillna(vp_df.apply(lambda row: get_mean_pc_by_date_and_time(row), axis=1))"
   ]
  },
  {
   "cell_type": "code",
   "execution_count": 107,
   "metadata": {},
   "outputs": [],
   "source": [
    "mean_pc_by_datetime = vp_df.groupby(['DateTime'])['PC_Water_EXO'].mean()"
   ]
  },
  {
   "cell_type": "markdown",
   "metadata": {},
   "source": [
    "## fill the remaining `NA` with the average taken by `DateTime`"
   ]
  },
  {
   "cell_type": "code",
   "execution_count": 108,
   "metadata": {},
   "outputs": [],
   "source": [
    "vp_df.PC_Water_EXO = vp_df.PC_Water_EXO.fillna(vp_df.DateTime.map(lambda datetime: mean_pc_by_datetime.loc[datetime]))"
   ]
  },
  {
   "cell_type": "code",
   "execution_count": 109,
   "metadata": {},
   "outputs": [
    {
     "data": {
      "text/plain": "0"
     },
     "execution_count": 109,
     "metadata": {},
     "output_type": "execute_result"
    }
   ],
   "source": [
    "sum(vp_df.PC_Water_EXO.isna())"
   ]
  },
  {
   "cell_type": "code",
   "execution_count": 110,
   "metadata": {},
   "outputs": [],
   "source": [
    "def get_mean_chla_by_date_and_time(row):\n",
    "    return mean_chl_a.loc[(row['DateTime'], row['time'])]\n"
   ]
  },
  {
   "cell_type": "code",
   "execution_count": 111,
   "metadata": {},
   "outputs": [
    {
     "data": {
      "text/plain": "4053"
     },
     "execution_count": 111,
     "metadata": {},
     "output_type": "execute_result"
    }
   ],
   "source": [
    "sum(vp_df.Chla_Water_EXO.isna())"
   ]
  },
  {
   "cell_type": "code",
   "execution_count": 112,
   "metadata": {},
   "outputs": [],
   "source": [
    "vp_df.Chla_Water_EXO = vp_df.Chla_Water_EXO.fillna(vp_df.apply(lambda row: get_mean_chla_by_date_and_time(row), axis=1))"
   ]
  },
  {
   "cell_type": "code",
   "execution_count": 113,
   "metadata": {},
   "outputs": [],
   "source": [
    "mean_chl_a_by_dt = vp_df.groupby(['DateTime'])['Chla_Water_EXO'].mean()"
   ]
  },
  {
   "cell_type": "code",
   "execution_count": 114,
   "metadata": {},
   "outputs": [],
   "source": [
    "vp_df.Chla_Water_EXO = vp_df.Chla_Water_EXO.fillna(vp_df.DateTime.map(lambda d: mean_chl_a_by_dt.loc[d]))"
   ]
  },
  {
   "cell_type": "code",
   "execution_count": 115,
   "metadata": {},
   "outputs": [
    {
     "data": {
      "text/plain": "0"
     },
     "execution_count": 115,
     "metadata": {},
     "output_type": "execute_result"
    }
   ],
   "source": [
    "sum(vp_df.Chla_Water_EXO.isna())"
   ]
  },
  {
   "cell_type": "markdown",
   "metadata": {},
   "source": [
    "### `DO-Sat_Water_EXO` treatment"
   ]
  },
  {
   "cell_type": "code",
   "execution_count": 116,
   "metadata": {},
   "outputs": [],
   "source": [
    "def get_mean_do_sat_by_dt(row):\n",
    "    return mean_do_sat.loc[(row['DateTime'], row['time'])]"
   ]
  },
  {
   "cell_type": "code",
   "execution_count": 117,
   "metadata": {},
   "outputs": [
    {
     "data": {
      "text/plain": "11193"
     },
     "execution_count": 117,
     "metadata": {},
     "output_type": "execute_result"
    }
   ],
   "source": [
    "sum(vp_df['DO-Sat_Water_EXO'].isna())"
   ]
  },
  {
   "cell_type": "code",
   "execution_count": 118,
   "metadata": {},
   "outputs": [],
   "source": [
    "vp_df['DO-Sat_Water_EXO'] = vp_df['DO-Sat_Water_EXO'].fillna(\n",
    "    vp_df.apply(lambda row: get_mean_do_sat_by_dt(row), axis=1))"
   ]
  },
  {
   "cell_type": "code",
   "execution_count": 119,
   "metadata": {},
   "outputs": [],
   "source": [
    "get_mean_do_sat_by_dt = vp_df.groupby(['DateTime'])['DO-Sat_Water_EXO'].mean()"
   ]
  },
  {
   "cell_type": "code",
   "execution_count": 120,
   "metadata": {},
   "outputs": [],
   "source": [
    "vp_df['DO-Sat_Water_EXO'] = vp_df['DO-Sat_Water_EXO'].fillna(vp_df.DateTime.map(lambda d: get_mean_do_sat_by_dt.loc[d]))"
   ]
  },
  {
   "cell_type": "code",
   "execution_count": 121,
   "metadata": {},
   "outputs": [
    {
     "data": {
      "text/plain": "0"
     },
     "execution_count": 121,
     "metadata": {},
     "output_type": "execute_result"
    }
   ],
   "source": [
    "sum(vp_df['DO-Sat_Water_EXO'].isna())"
   ]
  },
  {
   "cell_type": "markdown",
   "metadata": {},
   "source": [
    "`DO_Water_EXO` treatment"
   ]
  },
  {
   "cell_type": "code",
   "execution_count": 122,
   "metadata": {},
   "outputs": [],
   "source": [
    "def get_mean_do_by_dt(row):\n",
    "    return mean_do.loc[(row['DateTime'], row['time'])]"
   ]
  },
  {
   "cell_type": "code",
   "execution_count": 123,
   "metadata": {},
   "outputs": [],
   "source": [
    "vp_df.DO_Water_EXO = vp_df.DO_Water_EXO.fillna(vp_df.apply(lambda row: get_mean_do_by_dt(row), axis=1))"
   ]
  },
  {
   "cell_type": "code",
   "execution_count": 124,
   "metadata": {},
   "outputs": [],
   "source": [
    "mean_do_by_dt = vp_df.groupby(['DateTime'])['DO_Water_EXO'].mean()"
   ]
  },
  {
   "cell_type": "code",
   "execution_count": 125,
   "metadata": {},
   "outputs": [
    {
     "data": {
      "text/plain": "6326"
     },
     "execution_count": 125,
     "metadata": {},
     "output_type": "execute_result"
    }
   ],
   "source": [
    "sum(vp_df.DO_Water_EXO.isna())"
   ]
  },
  {
   "cell_type": "code",
   "execution_count": 126,
   "metadata": {},
   "outputs": [],
   "source": [
    "vp_df.DO_Water_EXO = vp_df.DO_Water_EXO.fillna(vp_df.DateTime.map(lambda datetime: mean_do_by_dt.loc[datetime]))"
   ]
  },
  {
   "cell_type": "code",
   "execution_count": 127,
   "metadata": {},
   "outputs": [
    {
     "data": {
      "text/plain": "0"
     },
     "execution_count": 127,
     "metadata": {},
     "output_type": "execute_result"
    }
   ],
   "source": [
    "sum(vp_df.DO_Water_EXO.isna())"
   ]
  },
  {
   "cell_type": "markdown",
   "metadata": {},
   "source": [
    "### `rel_fl` treatment"
   ]
  },
  {
   "cell_type": "code",
   "execution_count": 128,
   "metadata": {},
   "outputs": [],
   "source": [
    "def get_mean_fl_by_dt(row):\n",
    "    return mean_fl.loc[(row['DateTime'], row['time'])]"
   ]
  },
  {
   "cell_type": "code",
   "execution_count": 129,
   "metadata": {},
   "outputs": [
    {
     "data": {
      "text/plain": "1083"
     },
     "execution_count": 129,
     "metadata": {},
     "output_type": "execute_result"
    }
   ],
   "source": [
    "sum(vp_df.rel_fl.isna())"
   ]
  },
  {
   "cell_type": "code",
   "execution_count": 130,
   "metadata": {},
   "outputs": [],
   "source": [
    "vp_df.rel_fl = vp_df.rel_fl.fillna(vp_df.apply(lambda row: get_mean_fl_by_dt(row), axis=1))"
   ]
  },
  {
   "cell_type": "code",
   "execution_count": 131,
   "metadata": {},
   "outputs": [],
   "source": [
    "mean_fl_by_dt = vp_df.groupby(['DateTime'])['rel_fl'].mean()\n",
    "vp_df.rel_fl = vp_df.rel_fl.fillna(vp_df.DateTime.map(lambda d: mean_fl_by_dt.loc[d]))"
   ]
  },
  {
   "cell_type": "code",
   "execution_count": 132,
   "metadata": {},
   "outputs": [
    {
     "data": {
      "text/plain": "0"
     },
     "execution_count": 132,
     "metadata": {},
     "output_type": "execute_result"
    }
   ],
   "source": [
    "sum(vp_df.rel_fl.isna())"
   ]
  },
  {
   "cell_type": "code",
   "execution_count": 133,
   "metadata": {},
   "outputs": [],
   "source": [
    "variables = [\n",
    "    'DateTime',\n",
    "    'time',\n",
    "    'PC_Water_EXO',\n",
    "    'DO-Sat_Water_EXO',\n",
    "    'DO_Water_EXO',\n",
    "    'rel_fl',\n",
    "    'Chla_Water_EXO',\n",
    "    'rel_fl']"
   ]
  },
  {
   "cell_type": "code",
   "execution_count": 134,
   "metadata": {},
   "outputs": [],
   "source": [
    "vp_df_final = vp_df[variables]"
   ]
  },
  {
   "cell_type": "code",
   "execution_count": 135,
   "metadata": {},
   "outputs": [
    {
     "data": {
      "text/plain": "Index(['DateTime', 'time', 'PC_Water_EXO', 'DO-Sat_Water_EXO', 'DO_Water_EXO',\n       'rel_fl', 'Chla_Water_EXO', 'rel_fl'],\n      dtype='object')"
     },
     "execution_count": 135,
     "metadata": {},
     "output_type": "execute_result"
    }
   ],
   "source": [
    "vp_df_final.columns"
   ]
  },
  {
   "cell_type": "code",
   "execution_count": 136,
   "metadata": {},
   "outputs": [
    {
     "data": {
      "text/plain": "    DateTime  time  PC_Water_EXO  DO-Sat_Water_EXO  DO_Water_EXO  rel_fl  \\\n0  10-1-2017  0:01        0.1448            101.82          9.14   0.844   \n1  10-1-2017  0:03        0.1340            101.74          9.13   0.826   \n2  10-1-2017  0:04        0.1232            101.67          9.13   0.826   \n3  10-1-2017  0:05        0.1124            101.57          9.12   0.826   \n4  10-1-2017  0:07        0.1160            101.50          9.11   0.844   \n\n   Chla_Water_EXO  rel_fl  \n0        0.800312   0.844  \n1        0.553970   0.826  \n2        0.553919   0.826  \n3        0.437228   0.826  \n4        0.489017   0.844  ",
      "text/html": "<div>\n<style scoped>\n    .dataframe tbody tr th:only-of-type {\n        vertical-align: middle;\n    }\n\n    .dataframe tbody tr th {\n        vertical-align: top;\n    }\n\n    .dataframe thead th {\n        text-align: right;\n    }\n</style>\n<table border=\"1\" class=\"dataframe\">\n  <thead>\n    <tr style=\"text-align: right;\">\n      <th></th>\n      <th>DateTime</th>\n      <th>time</th>\n      <th>PC_Water_EXO</th>\n      <th>DO-Sat_Water_EXO</th>\n      <th>DO_Water_EXO</th>\n      <th>rel_fl</th>\n      <th>Chla_Water_EXO</th>\n      <th>rel_fl</th>\n    </tr>\n  </thead>\n  <tbody>\n    <tr>\n      <th>0</th>\n      <td>10-1-2017</td>\n      <td>0:01</td>\n      <td>0.1448</td>\n      <td>101.82</td>\n      <td>9.14</td>\n      <td>0.844</td>\n      <td>0.800312</td>\n      <td>0.844</td>\n    </tr>\n    <tr>\n      <th>1</th>\n      <td>10-1-2017</td>\n      <td>0:03</td>\n      <td>0.1340</td>\n      <td>101.74</td>\n      <td>9.13</td>\n      <td>0.826</td>\n      <td>0.553970</td>\n      <td>0.826</td>\n    </tr>\n    <tr>\n      <th>2</th>\n      <td>10-1-2017</td>\n      <td>0:04</td>\n      <td>0.1232</td>\n      <td>101.67</td>\n      <td>9.13</td>\n      <td>0.826</td>\n      <td>0.553919</td>\n      <td>0.826</td>\n    </tr>\n    <tr>\n      <th>3</th>\n      <td>10-1-2017</td>\n      <td>0:05</td>\n      <td>0.1124</td>\n      <td>101.57</td>\n      <td>9.12</td>\n      <td>0.826</td>\n      <td>0.437228</td>\n      <td>0.826</td>\n    </tr>\n    <tr>\n      <th>4</th>\n      <td>10-1-2017</td>\n      <td>0:07</td>\n      <td>0.1160</td>\n      <td>101.50</td>\n      <td>9.11</td>\n      <td>0.844</td>\n      <td>0.489017</td>\n      <td>0.844</td>\n    </tr>\n  </tbody>\n</table>\n</div>"
     },
     "execution_count": 136,
     "metadata": {},
     "output_type": "execute_result"
    }
   ],
   "source": [
    "vp_df_final.head()"
   ]
  },
  {
   "cell_type": "markdown",
   "metadata": {},
   "source": [
    "## get solar data"
   ]
  },
  {
   "cell_type": "code",
   "execution_count": 137,
   "metadata": {},
   "outputs": [],
   "source": [
    "ws_17 = pd.read_csv(data_path + '2017_JP_WX.csv')\n",
    "ws_18 = pd.read_csv(data_path + '2018_JP_WX_Level4.csv')\n",
    "ws_19 = pd.read_csv(data_path + '2019_JP_WX_Level4.csv')"
   ]
  },
  {
   "cell_type": "code",
   "execution_count": 138,
   "metadata": {},
   "outputs": [],
   "source": [
    "ws_variables = [\n",
    "    'DateTime',\n",
    "    'SolarRad_Air_LiCor'\n",
    "]"
   ]
  },
  {
   "cell_type": "code",
   "execution_count": 139,
   "metadata": {},
   "outputs": [],
   "source": [
    "ws_17_filtered = ws_17[ws_variables]"
   ]
  },
  {
   "cell_type": "code",
   "execution_count": 140,
   "metadata": {},
   "outputs": [],
   "source": [
    "ws_18_filtered = ws_18[ws_variables]\n",
    "ws_19_filtered = ws_19[ws_variables]"
   ]
  },
  {
   "cell_type": "code",
   "execution_count": 141,
   "metadata": {},
   "outputs": [
    {
     "data": {
      "text/plain": "0    1/1/2017 0:00\n1    1/1/2017 1:00\n2    1/1/2017 2:00\n3    1/1/2017 3:00\n4    1/1/2017 4:00\nName: DateTime, dtype: object"
     },
     "execution_count": 141,
     "metadata": {},
     "output_type": "execute_result"
    }
   ],
   "source": [
    "ws_17_filtered.DateTime.head()"
   ]
  },
  {
   "cell_type": "code",
   "execution_count": 142,
   "metadata": {},
   "outputs": [
    {
     "data": {
      "text/plain": "0    2018-05-09 23:00:00\n1    2018-05-10 00:00:00\n2    2018-05-10 01:00:00\n3    2018-05-10 02:00:00\n4    2018-05-10 03:00:00\nName: DateTime, dtype: object"
     },
     "execution_count": 142,
     "metadata": {},
     "output_type": "execute_result"
    }
   ],
   "source": [
    "ws_18_filtered.DateTime.head()"
   ]
  },
  {
   "cell_type": "code",
   "execution_count": 143,
   "metadata": {},
   "outputs": [
    {
     "data": {
      "text/plain": "0    2019-05-02 18:00:00\n1    2019-05-06 19:00:00\n2    2019-05-06 20:00:00\n3    2019-05-06 21:00:00\n4    2019-05-06 22:00:00\nName: DateTime, dtype: object"
     },
     "execution_count": 143,
     "metadata": {},
     "output_type": "execute_result"
    }
   ],
   "source": [
    "ws_19_filtered.DateTime.head()"
   ]
  },
  {
   "cell_type": "code",
   "execution_count": 144,
   "metadata": {},
   "outputs": [
    {
     "name": "stderr",
     "output_type": "stream",
     "text": [
      "/home/achara/achara_env/lib/python3.6/site-packages/pandas/core/generic.py:5170: SettingWithCopyWarning: \n",
      "A value is trying to be set on a copy of a slice from a DataFrame.\n",
      "Try using .loc[row_indexer,col_indexer] = value instead\n",
      "\n",
      "See the caveats in the documentation: https://pandas.pydata.org/pandas-docs/stable/user_guide/indexing.html#returning-a-view-versus-a-copy\n",
      "  self[name] = value\n"
     ]
    }
   ],
   "source": [
    "ws_17_filtered.DateTime = ws_17_filtered.DateTime.map(remove_time)"
   ]
  },
  {
   "cell_type": "code",
   "execution_count": 145,
   "metadata": {},
   "outputs": [],
   "source": [
    "ws_17_filtered.DateTime = ws_17_filtered.DateTime.map(lambda datetime: datetime.replace('/','-'))"
   ]
  },
  {
   "cell_type": "code",
   "execution_count": 146,
   "metadata": {},
   "outputs": [
    {
     "name": "stderr",
     "output_type": "stream",
     "text": [
      "/home/achara/achara_env/lib/python3.6/site-packages/pandas/core/indexing.py:1743: SettingWithCopyWarning: \n",
      "A value is trying to be set on a copy of a slice from a DataFrame.\n",
      "Try using .loc[row_indexer,col_indexer] = value instead\n",
      "\n",
      "See the caveats in the documentation: https://pandas.pydata.org/pandas-docs/stable/user_guide/indexing.html#returning-a-view-versus-a-copy\n",
      "  isetter(ilocs[0], value)\n"
     ]
    }
   ],
   "source": [
    "ws_18_filtered.loc[:,'DateTime'] = ws_18_filtered.DateTime.map(remove_time)"
   ]
  },
  {
   "cell_type": "code",
   "execution_count": 147,
   "metadata": {},
   "outputs": [],
   "source": [
    "ws_18_filtered.DateTime = ws_18_filtered.DateTime.map(convert_date_format)"
   ]
  },
  {
   "cell_type": "code",
   "execution_count": 148,
   "metadata": {},
   "outputs": [],
   "source": [
    "ws_19_filtered.loc[:,'DateTime'] = ws_19_filtered.DateTime.map(remove_time)"
   ]
  },
  {
   "cell_type": "code",
   "execution_count": 149,
   "metadata": {},
   "outputs": [],
   "source": [
    "ws_19_filtered.DateTime = ws_19_filtered.DateTime.map(convert_date_format)"
   ]
  },
  {
   "cell_type": "code",
   "execution_count": 150,
   "metadata": {},
   "outputs": [
    {
     "data": {
      "text/plain": "0    5-2-2019\n1    5-6-2019\n2    5-6-2019\n3    5-6-2019\n4    5-6-2019\nName: DateTime, dtype: object"
     },
     "execution_count": 150,
     "metadata": {},
     "output_type": "execute_result"
    }
   ],
   "source": [
    "ws_19_filtered.DateTime.head()"
   ]
  },
  {
   "cell_type": "code",
   "execution_count": 151,
   "metadata": {},
   "outputs": [],
   "source": [
    "ws_17_solar_mean = ws_17_filtered.groupby('DateTime')[['SolarRad_Air_LiCor']].mean()\n",
    "ws_18_solar_mean = ws_18_filtered.groupby('DateTime')[['SolarRad_Air_LiCor']].mean()\n",
    "ws_19_solar_mean = ws_19_filtered.groupby('DateTime')[['SolarRad_Air_LiCor']].mean()"
   ]
  },
  {
   "cell_type": "code",
   "execution_count": 152,
   "metadata": {},
   "outputs": [
    {
     "name": "stderr",
     "output_type": "stream",
     "text": [
      "/home/achara/achara_env/lib/python3.6/site-packages/ipykernel_launcher.py:2: SettingWithCopyWarning: \n",
      "A value is trying to be set on a copy of a slice from a DataFrame.\n",
      "Try using .loc[row_indexer,col_indexer] = value instead\n",
      "\n",
      "See the caveats in the documentation: https://pandas.pydata.org/pandas-docs/stable/user_guide/indexing.html#returning-a-view-versus-a-copy\n",
      "  \n"
     ]
    }
   ],
   "source": [
    "ws_17_filtered['SolarRad_Air_LiCor'] = ws_17_filtered['SolarRad_Air_LiCor'].fillna(\n",
    "    ws_17_filtered.DateTime.map(lambda date: ws_17_solar_mean.loc[date]))"
   ]
  },
  {
   "cell_type": "code",
   "execution_count": 153,
   "metadata": {},
   "outputs": [
    {
     "name": "stderr",
     "output_type": "stream",
     "text": [
      "/home/achara/achara_env/lib/python3.6/site-packages/ipykernel_launcher.py:2: SettingWithCopyWarning: \n",
      "A value is trying to be set on a copy of a slice from a DataFrame.\n",
      "Try using .loc[row_indexer,col_indexer] = value instead\n",
      "\n",
      "See the caveats in the documentation: https://pandas.pydata.org/pandas-docs/stable/user_guide/indexing.html#returning-a-view-versus-a-copy\n",
      "  \n"
     ]
    }
   ],
   "source": [
    "ws_18_filtered['SolarRad_Air_LiCor'] = ws_18_filtered['SolarRad_Air_LiCor'].fillna(\n",
    "    ws_18_filtered.DateTime.map(lambda date: ws_18_solar_mean.loc[date]))"
   ]
  },
  {
   "cell_type": "code",
   "execution_count": 154,
   "metadata": {},
   "outputs": [
    {
     "data": {
      "text/plain": "0"
     },
     "execution_count": 154,
     "metadata": {},
     "output_type": "execute_result"
    }
   ],
   "source": [
    "sum(ws_18_filtered.SolarRad_Air_LiCor.isna())"
   ]
  },
  {
   "cell_type": "code",
   "execution_count": 155,
   "metadata": {},
   "outputs": [
    {
     "name": "stderr",
     "output_type": "stream",
     "text": [
      "/home/achara/achara_env/lib/python3.6/site-packages/ipykernel_launcher.py:2: SettingWithCopyWarning: \n",
      "A value is trying to be set on a copy of a slice from a DataFrame.\n",
      "Try using .loc[row_indexer,col_indexer] = value instead\n",
      "\n",
      "See the caveats in the documentation: https://pandas.pydata.org/pandas-docs/stable/user_guide/indexing.html#returning-a-view-versus-a-copy\n",
      "  \n"
     ]
    }
   ],
   "source": [
    "ws_19_filtered['SolarRad_Air_LiCor'] = ws_19_filtered['SolarRad_Air_LiCor'].fillna(\n",
    "    ws_19_filtered.DateTime.map(lambda date: ws_19_solar_mean.loc[date]))"
   ]
  },
  {
   "cell_type": "code",
   "execution_count": 156,
   "metadata": {},
   "outputs": [
    {
     "data": {
      "text/plain": "0"
     },
     "execution_count": 156,
     "metadata": {},
     "output_type": "execute_result"
    }
   ],
   "source": [
    "sum(ws_19_filtered.SolarRad_Air_LiCor.isna())"
   ]
  },
  {
   "cell_type": "code",
   "execution_count": 157,
   "metadata": {},
   "outputs": [],
   "source": [
    "ws = ws_17_filtered.append(ws_18_filtered)"
   ]
  },
  {
   "cell_type": "code",
   "execution_count": 158,
   "metadata": {},
   "outputs": [],
   "source": [
    "ws = ws.append(ws_19_filtered)"
   ]
  },
  {
   "cell_type": "code",
   "execution_count": 159,
   "metadata": {},
   "outputs": [],
   "source": [
    "ws['day'] = ws.DateTime.map(get_day)\n",
    "ws['month'] = ws.DateTime.map(get_month)\n",
    "ws['year'] = ws.DateTime.map(get_year)"
   ]
  },
  {
   "cell_type": "code",
   "execution_count": 160,
   "metadata": {},
   "outputs": [
    {
     "data": {
      "text/plain": "   DateTime SolarRad_Air_LiCor day month  year\n0  1-1-2017                  0   1     1  2017\n1  1-1-2017                  0   1     1  2017\n2  1-1-2017                  0   1     1  2017\n3  1-1-2017                  0   1     1  2017\n4  1-1-2017                  0   1     1  2017",
      "text/html": "<div>\n<style scoped>\n    .dataframe tbody tr th:only-of-type {\n        vertical-align: middle;\n    }\n\n    .dataframe tbody tr th {\n        vertical-align: top;\n    }\n\n    .dataframe thead th {\n        text-align: right;\n    }\n</style>\n<table border=\"1\" class=\"dataframe\">\n  <thead>\n    <tr style=\"text-align: right;\">\n      <th></th>\n      <th>DateTime</th>\n      <th>SolarRad_Air_LiCor</th>\n      <th>day</th>\n      <th>month</th>\n      <th>year</th>\n    </tr>\n  </thead>\n  <tbody>\n    <tr>\n      <th>0</th>\n      <td>1-1-2017</td>\n      <td>0</td>\n      <td>1</td>\n      <td>1</td>\n      <td>2017</td>\n    </tr>\n    <tr>\n      <th>1</th>\n      <td>1-1-2017</td>\n      <td>0</td>\n      <td>1</td>\n      <td>1</td>\n      <td>2017</td>\n    </tr>\n    <tr>\n      <th>2</th>\n      <td>1-1-2017</td>\n      <td>0</td>\n      <td>1</td>\n      <td>1</td>\n      <td>2017</td>\n    </tr>\n    <tr>\n      <th>3</th>\n      <td>1-1-2017</td>\n      <td>0</td>\n      <td>1</td>\n      <td>1</td>\n      <td>2017</td>\n    </tr>\n    <tr>\n      <th>4</th>\n      <td>1-1-2017</td>\n      <td>0</td>\n      <td>1</td>\n      <td>1</td>\n      <td>2017</td>\n    </tr>\n  </tbody>\n</table>\n</div>"
     },
     "execution_count": 160,
     "metadata": {},
     "output_type": "execute_result"
    }
   ],
   "source": [
    "ws.head()"
   ]
  },
  {
   "cell_type": "code",
   "execution_count": 161,
   "metadata": {},
   "outputs": [],
   "source": [
    "ws.SolarRad_Air_LiCor = ws.SolarRad_Air_LiCor.astype('float')"
   ]
  },
  {
   "cell_type": "code",
   "execution_count": 162,
   "metadata": {},
   "outputs": [
    {
     "data": {
      "text/plain": "Index(['DateTime', 'SolarRad_Air_LiCor', 'day', 'month', 'year'], dtype='object')"
     },
     "execution_count": 162,
     "metadata": {},
     "output_type": "execute_result"
    }
   ],
   "source": [
    "ws.columns"
   ]
  },
  {
   "cell_type": "code",
   "execution_count": 163,
   "metadata": {},
   "outputs": [
    {
     "data": {
      "text/plain": "Index(['DateTime', 'time', 'PC_Water_EXO', 'DO-Sat_Water_EXO', 'DO_Water_EXO',\n       'rel_fl', 'Chla_Water_EXO', 'rel_fl'],\n      dtype='object')"
     },
     "execution_count": 163,
     "metadata": {},
     "output_type": "execute_result"
    }
   ],
   "source": [
    "vp_df_final.columns"
   ]
  },
  {
   "cell_type": "code",
   "execution_count": 164,
   "metadata": {},
   "outputs": [
    {
     "name": "stderr",
     "output_type": "stream",
     "text": [
      "/home/achara/achara_env/lib/python3.6/site-packages/ipykernel_launcher.py:1: SettingWithCopyWarning: \n",
      "A value is trying to be set on a copy of a slice from a DataFrame.\n",
      "Try using .loc[row_indexer,col_indexer] = value instead\n",
      "\n",
      "See the caveats in the documentation: https://pandas.pydata.org/pandas-docs/stable/user_guide/indexing.html#returning-a-view-versus-a-copy\n",
      "  \"\"\"Entry point for launching an IPython kernel.\n",
      "/home/achara/achara_env/lib/python3.6/site-packages/ipykernel_launcher.py:2: SettingWithCopyWarning: \n",
      "A value is trying to be set on a copy of a slice from a DataFrame.\n",
      "Try using .loc[row_indexer,col_indexer] = value instead\n",
      "\n",
      "See the caveats in the documentation: https://pandas.pydata.org/pandas-docs/stable/user_guide/indexing.html#returning-a-view-versus-a-copy\n",
      "  \n"
     ]
    }
   ],
   "source": [
    "vp_df_final['month'] = vp_df_final.DateTime.map(get_month)\n",
    "vp_df_final['year'] = vp_df_final.DateTime.map(get_year)"
   ]
  },
  {
   "cell_type": "code",
   "execution_count": 165,
   "metadata": {},
   "outputs": [],
   "source": [
    "ws_mean = ws.groupby(['year', 'month'], as_index=False)['SolarRad_Air_LiCor'].mean()"
   ]
  },
  {
   "cell_type": "code",
   "execution_count": 166,
   "metadata": {},
   "outputs": [],
   "source": [
    "vp_ws = vp_df_final.merge(ws_mean, on=['year', 'month'], how='left')"
   ]
  },
  {
   "cell_type": "code",
   "execution_count": 167,
   "metadata": {},
   "outputs": [
    {
     "data": {
      "text/plain": "    DateTime  time  PC_Water_EXO  DO-Sat_Water_EXO  DO_Water_EXO  rel_fl  \\\n0  10-1-2017  0:01        0.1448            101.82          9.14   0.844   \n1  10-1-2017  0:03        0.1340            101.74          9.13   0.826   \n2  10-1-2017  0:04        0.1232            101.67          9.13   0.826   \n3  10-1-2017  0:05        0.1124            101.57          9.12   0.826   \n4  10-1-2017  0:07        0.1160            101.50          9.11   0.844   \n\n   Chla_Water_EXO  rel_fl month  year  SolarRad_Air_LiCor  \n0        0.800312   0.844    10  2017           127.38941  \n1        0.553970   0.826    10  2017           127.38941  \n2        0.553919   0.826    10  2017           127.38941  \n3        0.437228   0.826    10  2017           127.38941  \n4        0.489017   0.844    10  2017           127.38941  ",
      "text/html": "<div>\n<style scoped>\n    .dataframe tbody tr th:only-of-type {\n        vertical-align: middle;\n    }\n\n    .dataframe tbody tr th {\n        vertical-align: top;\n    }\n\n    .dataframe thead th {\n        text-align: right;\n    }\n</style>\n<table border=\"1\" class=\"dataframe\">\n  <thead>\n    <tr style=\"text-align: right;\">\n      <th></th>\n      <th>DateTime</th>\n      <th>time</th>\n      <th>PC_Water_EXO</th>\n      <th>DO-Sat_Water_EXO</th>\n      <th>DO_Water_EXO</th>\n      <th>rel_fl</th>\n      <th>Chla_Water_EXO</th>\n      <th>rel_fl</th>\n      <th>month</th>\n      <th>year</th>\n      <th>SolarRad_Air_LiCor</th>\n    </tr>\n  </thead>\n  <tbody>\n    <tr>\n      <th>0</th>\n      <td>10-1-2017</td>\n      <td>0:01</td>\n      <td>0.1448</td>\n      <td>101.82</td>\n      <td>9.14</td>\n      <td>0.844</td>\n      <td>0.800312</td>\n      <td>0.844</td>\n      <td>10</td>\n      <td>2017</td>\n      <td>127.38941</td>\n    </tr>\n    <tr>\n      <th>1</th>\n      <td>10-1-2017</td>\n      <td>0:03</td>\n      <td>0.1340</td>\n      <td>101.74</td>\n      <td>9.13</td>\n      <td>0.826</td>\n      <td>0.553970</td>\n      <td>0.826</td>\n      <td>10</td>\n      <td>2017</td>\n      <td>127.38941</td>\n    </tr>\n    <tr>\n      <th>2</th>\n      <td>10-1-2017</td>\n      <td>0:04</td>\n      <td>0.1232</td>\n      <td>101.67</td>\n      <td>9.13</td>\n      <td>0.826</td>\n      <td>0.553919</td>\n      <td>0.826</td>\n      <td>10</td>\n      <td>2017</td>\n      <td>127.38941</td>\n    </tr>\n    <tr>\n      <th>3</th>\n      <td>10-1-2017</td>\n      <td>0:05</td>\n      <td>0.1124</td>\n      <td>101.57</td>\n      <td>9.12</td>\n      <td>0.826</td>\n      <td>0.437228</td>\n      <td>0.826</td>\n      <td>10</td>\n      <td>2017</td>\n      <td>127.38941</td>\n    </tr>\n    <tr>\n      <th>4</th>\n      <td>10-1-2017</td>\n      <td>0:07</td>\n      <td>0.1160</td>\n      <td>101.50</td>\n      <td>9.11</td>\n      <td>0.844</td>\n      <td>0.489017</td>\n      <td>0.844</td>\n      <td>10</td>\n      <td>2017</td>\n      <td>127.38941</td>\n    </tr>\n  </tbody>\n</table>\n</div>"
     },
     "execution_count": 167,
     "metadata": {},
     "output_type": "execute_result"
    }
   ],
   "source": [
    "vp_ws.head()"
   ]
  },
  {
   "cell_type": "code",
   "execution_count": 83,
   "metadata": {},
   "outputs": [
    {
     "data": {
      "text/plain": [
       "Index(['DateTime', 'time', 'PC_Water_EXO', 'DO-Sat_Water_EXO', 'DO_Water_EXO',\n",
       "       'rel_fl', 'Chla_Water_EXO', 'rel_fl', 'SolarRad_Air_LiCor', 'day',\n",
       "       'month', 'year'],\n",
       "      dtype='object')"
      ]
     },
     "execution_count": 83,
     "metadata": {},
     "output_type": "execute_result"
    }
   ],
   "source": [
    "vp_ws.columns"
   ]
  },
  {
   "cell_type": "code",
   "execution_count": 168,
   "metadata": {},
   "outputs": [
    {
     "data": {
      "text/plain": "DateTime              0\ntime                  0\nPC_Water_EXO          0\nDO-Sat_Water_EXO      0\nDO_Water_EXO          0\nrel_fl                0\nChla_Water_EXO        0\nrel_fl                0\nmonth                 0\nyear                  0\nSolarRad_Air_LiCor    0\ndtype: int64"
     },
     "execution_count": 168,
     "metadata": {},
     "output_type": "execute_result"
    }
   ],
   "source": [
    "vp_ws.isna().sum()"
   ]
  },
  {
   "cell_type": "code",
   "execution_count": 169,
   "metadata": {},
   "outputs": [],
   "source": [
    "vp_ws.to_csv(data_path+'/vp_ws_fc.csv', index=False)"
   ]
  },
  {
   "cell_type": "code",
   "execution_count": null,
   "outputs": [],
   "source": [],
   "metadata": {
    "collapsed": false
   }
  }
 ],
 "metadata": {
  "kernelspec": {
   "display_name": "Python 3 (ipykernel)",
   "language": "python",
   "name": "python3"
  },
  "language_info": {
   "codemirror_mode": {
    "name": "ipython",
    "version": 3
   },
   "file_extension": ".py",
   "mimetype": "text/x-python",
   "name": "python",
   "nbconvert_exporter": "python",
   "pygments_lexer": "ipython3",
   "version": "3.10.9"
  }
 },
 "nbformat": 4,
 "nbformat_minor": 1
}
