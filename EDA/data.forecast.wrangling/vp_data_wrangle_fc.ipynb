{
 "cells": [
  {
   "cell_type": "code",
   "execution_count": 80,
   "metadata": {
    "collapsed": true
   },
   "outputs": [],
   "source": [
    "import pandas as pd"
   ]
  },
  {
   "cell_type": "code",
   "execution_count": 81,
   "outputs": [],
   "source": [
    "data_path = '/home/achara/data/achara/'\n",
    "vp_17 = pd.read_csv(data_path + '2017_JP_VP.csv')\n",
    "vp_18 = pd.read_csv(data_path + '2018_JP_VP_Level4.csv')\n",
    "vp_19 = pd.read_csv(data_path + '2019_JP_VP_Level4.csv')"
   ],
   "metadata": {
    "collapsed": false
   }
  },
  {
   "cell_type": "code",
   "execution_count": 82,
   "outputs": [],
   "source": [
    "def remove_time(datetime: str) -> str:\n",
    "    return datetime.split(' ')[0]"
   ],
   "metadata": {
    "collapsed": false
   }
  },
  {
   "cell_type": "code",
   "execution_count": 83,
   "outputs": [],
   "source": [
    "def get_time(datetime: str) -> str:\n",
    "    return datetime.split(' ')[1]"
   ],
   "metadata": {
    "collapsed": false
   }
  },
  {
   "cell_type": "code",
   "execution_count": 84,
   "outputs": [],
   "source": [
    "vp_17.DateTime = vp_17.DateTime.map(lambda datetime: datetime.replace('/', '-'))"
   ],
   "metadata": {
    "collapsed": false
   }
  },
  {
   "cell_type": "code",
   "execution_count": 85,
   "outputs": [
    {
     "data": {
      "text/plain": "0    2018-05-09 23:12:00\n1    2018-05-09 23:22:00\n2    2018-05-09 23:32:00\n3    2018-05-09 23:42:00\n4    2018-05-09 23:52:00\nName: DateTime, dtype: object"
     },
     "execution_count": 85,
     "metadata": {},
     "output_type": "execute_result"
    }
   ],
   "source": [
    "vp_18.DateTime.head()"
   ],
   "metadata": {
    "collapsed": false
   }
  },
  {
   "cell_type": "markdown",
   "source": [
    "## The date format differs"
   ],
   "metadata": {
    "collapsed": false
   }
  },
  {
   "cell_type": "code",
   "execution_count": 86,
   "outputs": [],
   "source": [
    "def convert_date_format(date: str) -> str:\n",
    "    parts = date.split('-')\n",
    "    parts.append(parts.pop(0))\n",
    "    standardize = list(map(int, parts))\n",
    "    return '-'.join(list(map(str, standardize)))"
   ],
   "metadata": {
    "collapsed": false
   }
  },
  {
   "cell_type": "markdown",
   "source": [
    "## Split date and time for initial data processing and merging"
   ],
   "metadata": {
    "collapsed": false
   }
  },
  {
   "cell_type": "code",
   "execution_count": 87,
   "outputs": [],
   "source": [
    "vp_17['time'] = vp_17.DateTime.map(get_time)\n",
    "vp_18['time'] = vp_18.DateTime.map(get_time)\n",
    "vp_19['time'] = vp_19.DateTime.map(get_time)"
   ],
   "metadata": {
    "collapsed": false
   }
  },
  {
   "cell_type": "code",
   "execution_count": 88,
   "outputs": [],
   "source": [
    "vp_17.DateTime = vp_17.DateTime.map(remove_time)\n",
    "vp_18.DateTime = vp_18.DateTime.map(remove_time)\n",
    "vp_19.DateTime = vp_19.DateTime.map(remove_time)"
   ],
   "metadata": {
    "collapsed": false
   }
  },
  {
   "cell_type": "code",
   "execution_count": 89,
   "outputs": [],
   "source": [
    "vp_18.DateTime = vp_18.DateTime.map(convert_date_format)\n",
    "vp_19.DateTime = vp_19.DateTime.map(convert_date_format)"
   ],
   "metadata": {
    "collapsed": false
   }
  },
  {
   "cell_type": "code",
   "execution_count": 90,
   "outputs": [],
   "source": [
    "def get_month(date: str) -> str:\n",
    "    return date.split('-')[0]\n",
    "\n",
    "\n",
    "def get_day(date: str) -> str:\n",
    "    return date.split('-')[1]\n",
    "\n",
    "\n",
    "def get_year(date: str) -> str:\n",
    "    return date.split('-')[2]"
   ],
   "metadata": {
    "collapsed": false
   }
  },
  {
   "cell_type": "code",
   "execution_count": 91,
   "outputs": [],
   "source": [
    "vp_17 = vp_17.rename(columns={'fDOM_Water_EXO': 'rel_fl'})\n",
    "vp_18 = vp_18.rename(columns={'fDOM_Water_EXO': 'rel_fl'})\n",
    "vp_19 = vp_19.rename(columns={'fDOM_Water_EXO': 'rel_fl'})"
   ],
   "metadata": {
    "collapsed": false
   }
  },
  {
   "cell_type": "markdown",
   "source": [
    "## Group by `DateTime`, `time` and `SensorDepth_Water_EXO` keeping the sensor depth information"
   ],
   "metadata": {
    "collapsed": false
   }
  },
  {
   "cell_type": "code",
   "execution_count": 92,
   "outputs": [],
   "source": [
    "vp_17_mean = vp_17.groupby(['DateTime', 'time', 'SensorDepth_Water_EXO'])[[\n",
    "    'PC_Water_EXO',\n",
    "    'Chla_Water_EXO',\n",
    "    'DO_Water_EXO',\n",
    "    'DO-Sat_Water_EXO',\n",
    "    'SpCond_Water_EXO',\n",
    "    'Temperature_Water_EXO',\n",
    "    'pH_Water_EXO',\n",
    "    'rel_fl'\n",
    "]].mean().reset_index()"
   ],
   "metadata": {
    "collapsed": false
   }
  },
  {
   "cell_type": "code",
   "execution_count": 93,
   "outputs": [
    {
     "data": {
      "text/plain": "    DateTime  time  SensorDepth_Water_EXO  PC_Water_EXO  Chla_Water_EXO  \\\n0  10-1-2017  0:01                   1.09        0.1448        0.800312   \n1  10-1-2017  0:03                   1.85        0.1340        0.553970   \n2  10-1-2017  0:04                   2.94        0.1232        0.553919   \n3  10-1-2017  0:05                   3.93        0.1124        0.437228   \n4  10-1-2017  0:07                   4.93        0.1160        0.489017   \n\n   DO_Water_EXO  DO-Sat_Water_EXO  SpCond_Water_EXO  Temperature_Water_EXO  \\\n0          9.14            101.82            139.74                  20.62   \n1          9.13            101.74            139.98                  20.62   \n2          9.13            101.67            139.80                  20.63   \n3          9.12            101.57            139.90                  20.63   \n4          9.11            101.50            139.92                  20.62   \n\n   pH_Water_EXO  rel_fl  \n0      8.038610   0.844  \n1      8.038617   0.826  \n2      8.038620   0.826  \n3      8.038623   0.826  \n4      8.038627   0.844  ",
      "text/html": "<div>\n<style scoped>\n    .dataframe tbody tr th:only-of-type {\n        vertical-align: middle;\n    }\n\n    .dataframe tbody tr th {\n        vertical-align: top;\n    }\n\n    .dataframe thead th {\n        text-align: right;\n    }\n</style>\n<table border=\"1\" class=\"dataframe\">\n  <thead>\n    <tr style=\"text-align: right;\">\n      <th></th>\n      <th>DateTime</th>\n      <th>time</th>\n      <th>SensorDepth_Water_EXO</th>\n      <th>PC_Water_EXO</th>\n      <th>Chla_Water_EXO</th>\n      <th>DO_Water_EXO</th>\n      <th>DO-Sat_Water_EXO</th>\n      <th>SpCond_Water_EXO</th>\n      <th>Temperature_Water_EXO</th>\n      <th>pH_Water_EXO</th>\n      <th>rel_fl</th>\n    </tr>\n  </thead>\n  <tbody>\n    <tr>\n      <th>0</th>\n      <td>10-1-2017</td>\n      <td>0:01</td>\n      <td>1.09</td>\n      <td>0.1448</td>\n      <td>0.800312</td>\n      <td>9.14</td>\n      <td>101.82</td>\n      <td>139.74</td>\n      <td>20.62</td>\n      <td>8.038610</td>\n      <td>0.844</td>\n    </tr>\n    <tr>\n      <th>1</th>\n      <td>10-1-2017</td>\n      <td>0:03</td>\n      <td>1.85</td>\n      <td>0.1340</td>\n      <td>0.553970</td>\n      <td>9.13</td>\n      <td>101.74</td>\n      <td>139.98</td>\n      <td>20.62</td>\n      <td>8.038617</td>\n      <td>0.826</td>\n    </tr>\n    <tr>\n      <th>2</th>\n      <td>10-1-2017</td>\n      <td>0:04</td>\n      <td>2.94</td>\n      <td>0.1232</td>\n      <td>0.553919</td>\n      <td>9.13</td>\n      <td>101.67</td>\n      <td>139.80</td>\n      <td>20.63</td>\n      <td>8.038620</td>\n      <td>0.826</td>\n    </tr>\n    <tr>\n      <th>3</th>\n      <td>10-1-2017</td>\n      <td>0:05</td>\n      <td>3.93</td>\n      <td>0.1124</td>\n      <td>0.437228</td>\n      <td>9.12</td>\n      <td>101.57</td>\n      <td>139.90</td>\n      <td>20.63</td>\n      <td>8.038623</td>\n      <td>0.826</td>\n    </tr>\n    <tr>\n      <th>4</th>\n      <td>10-1-2017</td>\n      <td>0:07</td>\n      <td>4.93</td>\n      <td>0.1160</td>\n      <td>0.489017</td>\n      <td>9.11</td>\n      <td>101.50</td>\n      <td>139.92</td>\n      <td>20.62</td>\n      <td>8.038627</td>\n      <td>0.844</td>\n    </tr>\n  </tbody>\n</table>\n</div>"
     },
     "execution_count": 93,
     "metadata": {},
     "output_type": "execute_result"
    }
   ],
   "source": [
    "vp_17_mean.head()"
   ],
   "metadata": {
    "collapsed": false
   }
  },
  {
   "cell_type": "code",
   "execution_count": 94,
   "outputs": [],
   "source": [
    "vp_18_mean = vp_18.groupby(['DateTime', 'time', 'SensorDepth_Water_EXO'])[[\n",
    "    'PC_Water_EXO',\n",
    "    'Chla_Water_EXO',\n",
    "    'DO_Water_EXO',\n",
    "    'DO-Sat_Water_EXO',\n",
    "    'SpCond_Water_EXO',\n",
    "    'Temperature_Water_EXO',\n",
    "    'pH_Water_EXO',\n",
    "    'rel_fl'\n",
    "]].mean().reset_index()"
   ],
   "metadata": {
    "collapsed": false
   }
  },
  {
   "cell_type": "code",
   "execution_count": 95,
   "outputs": [],
   "source": [
    "vp_19_mean = vp_19.groupby(['DateTime', 'SensorDepth_Water_EXO', 'time'])[[\n",
    "    'PC_Water_EXO',\n",
    "    'Chla_Water_EXO',\n",
    "    'DO_Water_EXO',\n",
    "    'DO-Sat_Water_EXO',\n",
    "    'SpCond_Water_EXO',\n",
    "    'Temperature_Water_EXO',\n",
    "    'pH_Water_EXO',\n",
    "    'rel_fl'\n",
    "]].mean().reset_index()"
   ],
   "metadata": {
    "collapsed": false
   }
  },
  {
   "cell_type": "code",
   "execution_count": 96,
   "outputs": [],
   "source": [
    "vp_df = vp_17_mean.append(vp_18_mean)"
   ],
   "metadata": {
    "collapsed": false
   }
  },
  {
   "cell_type": "code",
   "execution_count": 97,
   "outputs": [],
   "source": [
    "vp_df = vp_df.append(vp_19_mean)"
   ],
   "metadata": {
    "collapsed": false
   }
  },
  {
   "cell_type": "code",
   "execution_count": 98,
   "outputs": [],
   "source": [
    "vp_df['month'] = vp_df.DateTime.map(get_month)\n",
    "vp_df['day'] = vp_df.DateTime.map(get_day)\n",
    "vp_df['year'] = vp_df.DateTime.map(get_year)"
   ],
   "metadata": {
    "collapsed": false
   }
  },
  {
   "cell_type": "code",
   "execution_count": 99,
   "outputs": [
    {
     "data": {
      "text/plain": "    DateTime  time  SensorDepth_Water_EXO  PC_Water_EXO  Chla_Water_EXO  \\\n0  10-1-2017  0:01                   1.09        0.1448        0.800312   \n1  10-1-2017  0:03                   1.85        0.1340        0.553970   \n2  10-1-2017  0:04                   2.94        0.1232        0.553919   \n3  10-1-2017  0:05                   3.93        0.1124        0.437228   \n4  10-1-2017  0:07                   4.93        0.1160        0.489017   \n\n   DO_Water_EXO  DO-Sat_Water_EXO  SpCond_Water_EXO  Temperature_Water_EXO  \\\n0          9.14            101.82            139.74                  20.62   \n1          9.13            101.74            139.98                  20.62   \n2          9.13            101.67            139.80                  20.63   \n3          9.12            101.57            139.90                  20.63   \n4          9.11            101.50            139.92                  20.62   \n\n   pH_Water_EXO  rel_fl month day  year  \n0      8.038610   0.844    10   1  2017  \n1      8.038617   0.826    10   1  2017  \n2      8.038620   0.826    10   1  2017  \n3      8.038623   0.826    10   1  2017  \n4      8.038627   0.844    10   1  2017  ",
      "text/html": "<div>\n<style scoped>\n    .dataframe tbody tr th:only-of-type {\n        vertical-align: middle;\n    }\n\n    .dataframe tbody tr th {\n        vertical-align: top;\n    }\n\n    .dataframe thead th {\n        text-align: right;\n    }\n</style>\n<table border=\"1\" class=\"dataframe\">\n  <thead>\n    <tr style=\"text-align: right;\">\n      <th></th>\n      <th>DateTime</th>\n      <th>time</th>\n      <th>SensorDepth_Water_EXO</th>\n      <th>PC_Water_EXO</th>\n      <th>Chla_Water_EXO</th>\n      <th>DO_Water_EXO</th>\n      <th>DO-Sat_Water_EXO</th>\n      <th>SpCond_Water_EXO</th>\n      <th>Temperature_Water_EXO</th>\n      <th>pH_Water_EXO</th>\n      <th>rel_fl</th>\n      <th>month</th>\n      <th>day</th>\n      <th>year</th>\n    </tr>\n  </thead>\n  <tbody>\n    <tr>\n      <th>0</th>\n      <td>10-1-2017</td>\n      <td>0:01</td>\n      <td>1.09</td>\n      <td>0.1448</td>\n      <td>0.800312</td>\n      <td>9.14</td>\n      <td>101.82</td>\n      <td>139.74</td>\n      <td>20.62</td>\n      <td>8.038610</td>\n      <td>0.844</td>\n      <td>10</td>\n      <td>1</td>\n      <td>2017</td>\n    </tr>\n    <tr>\n      <th>1</th>\n      <td>10-1-2017</td>\n      <td>0:03</td>\n      <td>1.85</td>\n      <td>0.1340</td>\n      <td>0.553970</td>\n      <td>9.13</td>\n      <td>101.74</td>\n      <td>139.98</td>\n      <td>20.62</td>\n      <td>8.038617</td>\n      <td>0.826</td>\n      <td>10</td>\n      <td>1</td>\n      <td>2017</td>\n    </tr>\n    <tr>\n      <th>2</th>\n      <td>10-1-2017</td>\n      <td>0:04</td>\n      <td>2.94</td>\n      <td>0.1232</td>\n      <td>0.553919</td>\n      <td>9.13</td>\n      <td>101.67</td>\n      <td>139.80</td>\n      <td>20.63</td>\n      <td>8.038620</td>\n      <td>0.826</td>\n      <td>10</td>\n      <td>1</td>\n      <td>2017</td>\n    </tr>\n    <tr>\n      <th>3</th>\n      <td>10-1-2017</td>\n      <td>0:05</td>\n      <td>3.93</td>\n      <td>0.1124</td>\n      <td>0.437228</td>\n      <td>9.12</td>\n      <td>101.57</td>\n      <td>139.90</td>\n      <td>20.63</td>\n      <td>8.038623</td>\n      <td>0.826</td>\n      <td>10</td>\n      <td>1</td>\n      <td>2017</td>\n    </tr>\n    <tr>\n      <th>4</th>\n      <td>10-1-2017</td>\n      <td>0:07</td>\n      <td>4.93</td>\n      <td>0.1160</td>\n      <td>0.489017</td>\n      <td>9.11</td>\n      <td>101.50</td>\n      <td>139.92</td>\n      <td>20.62</td>\n      <td>8.038627</td>\n      <td>0.844</td>\n      <td>10</td>\n      <td>1</td>\n      <td>2017</td>\n    </tr>\n  </tbody>\n</table>\n</div>"
     },
     "execution_count": 99,
     "metadata": {},
     "output_type": "execute_result"
    }
   ],
   "source": [
    "vp_df.head()"
   ],
   "metadata": {
    "collapsed": false
   }
  },
  {
   "cell_type": "markdown",
   "source": [
    "## Removing NA values"
   ],
   "metadata": {
    "collapsed": false
   }
  },
  {
   "cell_type": "code",
   "execution_count": 100,
   "outputs": [],
   "source": [
    "mean_pc = vp_df.groupby(['DateTime', 'time'])['PC_Water_EXO'].mean()\n",
    "mean_chl_a = vp_df.groupby(['DateTime', 'time'])['Chla_Water_EXO'].mean()\n",
    "mean_do = vp_df.groupby(['DateTime', 'time'])['DO_Water_EXO'].mean()\n",
    "mean_do_sat = vp_df.groupby(['DateTime', 'time'])['DO-Sat_Water_EXO'].mean()\n",
    "mean_sp_c = vp_df.groupby(['DateTime', 'time'])['SpCond_Water_EXO'].mean()\n",
    "mean_water_temp = vp_df.groupby(['DateTime', 'time'])['Temperature_Water_EXO'].mean()\n",
    "mean_ph = vp_df.groupby(['DateTime', 'time'])['pH_Water_EXO'].mean()\n",
    "mean_fl = vp_df.groupby(['DateTime', 'time'])['rel_fl'].mean()"
   ],
   "metadata": {
    "collapsed": false
   }
  },
  {
   "cell_type": "code",
   "execution_count": 101,
   "outputs": [
    {
     "data": {
      "text/plain": "4411"
     },
     "execution_count": 101,
     "metadata": {},
     "output_type": "execute_result"
    }
   ],
   "source": [
    "sum(vp_df.PC_Water_EXO.isna())"
   ],
   "metadata": {
    "collapsed": false
   }
  },
  {
   "cell_type": "code",
   "execution_count": 102,
   "outputs": [],
   "source": [
    "def get_mean_pc_by_date_and_time(row):\n",
    "    return mean_pc.loc[(row['DateTime'], row['time'])]\n",
    "\n",
    "\n",
    "vp_df.PC_Water_EXO = vp_df.PC_Water_EXO.fillna(vp_df.apply(lambda row: get_mean_pc_by_date_and_time(row), axis=1))"
   ],
   "metadata": {
    "collapsed": false
   }
  },
  {
   "cell_type": "code",
   "execution_count": 103,
   "outputs": [],
   "source": [
    "mean_pc_by_datetime = vp_df.groupby(['DateTime'])['PC_Water_EXO'].mean()"
   ],
   "metadata": {
    "collapsed": false
   }
  },
  {
   "cell_type": "markdown",
   "source": [
    "## fill the remaining `NA` with the average taken by `DateTime`"
   ],
   "metadata": {
    "collapsed": false
   }
  },
  {
   "cell_type": "code",
   "execution_count": 104,
   "outputs": [],
   "source": [
    "vp_df.PC_Water_EXO = vp_df.PC_Water_EXO.fillna(vp_df.DateTime.map(lambda datetime: mean_pc_by_datetime.loc[datetime]))"
   ],
   "metadata": {
    "collapsed": false
   }
  },
  {
   "cell_type": "code",
   "execution_count": 105,
   "outputs": [
    {
     "data": {
      "text/plain": "0"
     },
     "execution_count": 105,
     "metadata": {},
     "output_type": "execute_result"
    }
   ],
   "source": [
    "sum(vp_df.PC_Water_EXO.isna())"
   ],
   "metadata": {
    "collapsed": false
   }
  },
  {
   "cell_type": "code",
   "execution_count": 106,
   "outputs": [],
   "source": [
    "def get_mean_chla_by_date_and_time(row):\n",
    "    return mean_chl_a.loc[(row['DateTime'], row['time'])]\n"
   ],
   "metadata": {
    "collapsed": false
   }
  },
  {
   "cell_type": "code",
   "execution_count": 107,
   "outputs": [
    {
     "data": {
      "text/plain": "4053"
     },
     "execution_count": 107,
     "metadata": {},
     "output_type": "execute_result"
    }
   ],
   "source": [
    "sum(vp_df.Chla_Water_EXO.isna())"
   ],
   "metadata": {
    "collapsed": false
   }
  },
  {
   "cell_type": "code",
   "execution_count": 108,
   "outputs": [],
   "source": [
    "vp_df.Chla_Water_EXO = vp_df.Chla_Water_EXO.fillna(vp_df.apply(lambda row: get_mean_chla_by_date_and_time(row), axis=1))"
   ],
   "metadata": {
    "collapsed": false
   }
  },
  {
   "cell_type": "code",
   "execution_count": 109,
   "outputs": [],
   "source": [
    "mean_chl_a_by_dt = vp_df.groupby(['DateTime'])['Chla_Water_EXO'].mean()"
   ],
   "metadata": {
    "collapsed": false
   }
  },
  {
   "cell_type": "code",
   "execution_count": 110,
   "outputs": [],
   "source": [
    "vp_df.Chla_Water_EXO = vp_df.Chla_Water_EXO.fillna(vp_df.DateTime.map(lambda d: mean_chl_a_by_dt.loc[d]))"
   ],
   "metadata": {
    "collapsed": false
   }
  },
  {
   "cell_type": "code",
   "execution_count": 111,
   "outputs": [
    {
     "data": {
      "text/plain": "0"
     },
     "execution_count": 111,
     "metadata": {},
     "output_type": "execute_result"
    }
   ],
   "source": [
    "sum(vp_df.Chla_Water_EXO.isna())"
   ],
   "metadata": {
    "collapsed": false
   }
  },
  {
   "cell_type": "markdown",
   "source": [
    "### `DO-Sat_Water_EXO` treatment"
   ],
   "metadata": {
    "collapsed": false
   }
  },
  {
   "cell_type": "code",
   "execution_count": 112,
   "outputs": [],
   "source": [
    "def get_mean_do_sat_by_dt(row):\n",
    "    return mean_do_sat.loc[(row['DateTime'], row['time'])]"
   ],
   "metadata": {
    "collapsed": false
   }
  },
  {
   "cell_type": "code",
   "execution_count": 113,
   "outputs": [
    {
     "data": {
      "text/plain": "11193"
     },
     "execution_count": 113,
     "metadata": {},
     "output_type": "execute_result"
    }
   ],
   "source": [
    "sum(vp_df['DO-Sat_Water_EXO'].isna())"
   ],
   "metadata": {
    "collapsed": false
   }
  },
  {
   "cell_type": "code",
   "execution_count": 114,
   "outputs": [],
   "source": [
    "vp_df['DO-Sat_Water_EXO'] = vp_df['DO-Sat_Water_EXO'].fillna(\n",
    "    vp_df.apply(lambda row: get_mean_do_sat_by_dt(row), axis=1))"
   ],
   "metadata": {
    "collapsed": false
   }
  },
  {
   "cell_type": "code",
   "execution_count": 115,
   "outputs": [],
   "source": [
    "get_mean_do_sat_by_dt = vp_df.groupby(['DateTime'])['DO-Sat_Water_EXO'].mean()"
   ],
   "metadata": {
    "collapsed": false
   }
  },
  {
   "cell_type": "code",
   "execution_count": 116,
   "outputs": [],
   "source": [
    "vp_df['DO-Sat_Water_EXO'] = vp_df['DO-Sat_Water_EXO'].fillna(vp_df.DateTime.map(lambda d: get_mean_do_sat_by_dt.loc[d]))"
   ],
   "metadata": {
    "collapsed": false
   }
  },
  {
   "cell_type": "code",
   "execution_count": 117,
   "outputs": [
    {
     "data": {
      "text/plain": "0"
     },
     "execution_count": 117,
     "metadata": {},
     "output_type": "execute_result"
    }
   ],
   "source": [
    "sum(vp_df['DO-Sat_Water_EXO'].isna())"
   ],
   "metadata": {
    "collapsed": false
   }
  },
  {
   "cell_type": "markdown",
   "source": [
    "`DO_Water_EXO` treatment"
   ],
   "metadata": {
    "collapsed": false
   }
  },
  {
   "cell_type": "code",
   "execution_count": 118,
   "outputs": [],
   "source": [
    "def get_mean_do_by_dt(row):\n",
    "    return mean_do.loc[(row['DateTime'], row['time'])]"
   ],
   "metadata": {
    "collapsed": false
   }
  },
  {
   "cell_type": "code",
   "execution_count": 119,
   "outputs": [],
   "source": [
    "vp_df.DO_Water_EXO = vp_df.DO_Water_EXO.fillna(vp_df.apply(lambda row: get_mean_do_by_dt(row), axis=1))"
   ],
   "metadata": {
    "collapsed": false
   }
  },
  {
   "cell_type": "code",
   "execution_count": 120,
   "outputs": [],
   "source": [
    "mean_do_by_dt = vp_df.groupby(['DateTime'])['DO_Water_EXO'].mean()"
   ],
   "metadata": {
    "collapsed": false
   }
  },
  {
   "cell_type": "code",
   "execution_count": 121,
   "outputs": [
    {
     "data": {
      "text/plain": "6326"
     },
     "execution_count": 121,
     "metadata": {},
     "output_type": "execute_result"
    }
   ],
   "source": [
    "sum(vp_df.DO_Water_EXO.isna())"
   ],
   "metadata": {
    "collapsed": false
   }
  },
  {
   "cell_type": "code",
   "execution_count": 122,
   "outputs": [],
   "source": [
    "vp_df.DO_Water_EXO = vp_df.DO_Water_EXO.fillna(vp_df.DateTime.map(lambda datetime: mean_do_by_dt.loc[datetime]))"
   ],
   "metadata": {
    "collapsed": false
   }
  },
  {
   "cell_type": "code",
   "execution_count": 123,
   "outputs": [
    {
     "data": {
      "text/plain": "0"
     },
     "execution_count": 123,
     "metadata": {},
     "output_type": "execute_result"
    }
   ],
   "source": [
    "sum(vp_df.DO_Water_EXO.isna())"
   ],
   "metadata": {
    "collapsed": false
   }
  },
  {
   "cell_type": "markdown",
   "source": [
    "### `rel_fl` treatment"
   ],
   "metadata": {
    "collapsed": false
   }
  },
  {
   "cell_type": "code",
   "execution_count": 124,
   "outputs": [],
   "source": [
    "def get_mean_fl_by_dt(row):\n",
    "    return mean_fl.loc[(row['DateTime'], row['time'])]"
   ],
   "metadata": {
    "collapsed": false
   }
  },
  {
   "cell_type": "code",
   "execution_count": 125,
   "outputs": [
    {
     "data": {
      "text/plain": "1083"
     },
     "execution_count": 125,
     "metadata": {},
     "output_type": "execute_result"
    }
   ],
   "source": [
    "sum(vp_df.rel_fl.isna())"
   ],
   "metadata": {
    "collapsed": false
   }
  },
  {
   "cell_type": "code",
   "execution_count": 126,
   "outputs": [],
   "source": [
    "vp_df.rel_fl = vp_df.rel_fl.fillna(vp_df.apply(lambda row: get_mean_fl_by_dt(row), axis=1))"
   ],
   "metadata": {
    "collapsed": false
   }
  },
  {
   "cell_type": "code",
   "execution_count": 127,
   "outputs": [],
   "source": [
    "mean_fl_by_dt = vp_df.groupby(['DateTime'])['rel_fl'].mean()\n",
    "vp_df.rel_fl = vp_df.rel_fl.fillna(vp_df.DateTime.map(lambda d: mean_fl_by_dt.loc[d]))"
   ],
   "metadata": {
    "collapsed": false
   }
  },
  {
   "cell_type": "code",
   "execution_count": 128,
   "outputs": [
    {
     "data": {
      "text/plain": "0"
     },
     "execution_count": 128,
     "metadata": {},
     "output_type": "execute_result"
    }
   ],
   "source": [
    "sum(vp_df.rel_fl.isna())"
   ],
   "metadata": {
    "collapsed": false
   }
  },
  {
   "cell_type": "code",
   "execution_count": 131,
   "outputs": [],
   "source": [
    "variables = [\n",
    "    'DateTime',\n",
    "    'time',\n",
    "    'PC_Water_EXO',\n",
    "    'DO-Sat_Water_EXO',\n",
    "    'DO_Water_EXO',\n",
    "    'rel_fl',\n",
    "    'Chla_Water_EXO',\n",
    "    'rel_fl']"
   ],
   "metadata": {
    "collapsed": false
   }
  },
  {
   "cell_type": "code",
   "execution_count": 132,
   "outputs": [],
   "source": [
    "vp_df_final = vp_df[variables]"
   ],
   "metadata": {
    "collapsed": false
   }
  },
  {
   "cell_type": "code",
   "execution_count": 133,
   "outputs": [
    {
     "data": {
      "text/plain": "Index(['DateTime', 'time', 'PC_Water_EXO', 'DO-Sat_Water_EXO', 'DO_Water_EXO',\n       'rel_fl', 'Chla_Water_EXO', 'rel_fl'],\n      dtype='object')"
     },
     "execution_count": 133,
     "metadata": {},
     "output_type": "execute_result"
    }
   ],
   "source": [
    "vp_df_final.columns"
   ],
   "metadata": {
    "collapsed": false
   }
  },
  {
   "cell_type": "code",
   "execution_count": 137,
   "outputs": [
    {
     "data": {
      "text/plain": "    DateTime  time  PC_Water_EXO  DO-Sat_Water_EXO  DO_Water_EXO  rel_fl  \\\n0  10-1-2017  0:01        0.1448            101.82          9.14   0.844   \n1  10-1-2017  0:03        0.1340            101.74          9.13   0.826   \n2  10-1-2017  0:04        0.1232            101.67          9.13   0.826   \n3  10-1-2017  0:05        0.1124            101.57          9.12   0.826   \n4  10-1-2017  0:07        0.1160            101.50          9.11   0.844   \n\n   Chla_Water_EXO  rel_fl  \n0        0.800312   0.844  \n1        0.553970   0.826  \n2        0.553919   0.826  \n3        0.437228   0.826  \n4        0.489017   0.844  ",
      "text/html": "<div>\n<style scoped>\n    .dataframe tbody tr th:only-of-type {\n        vertical-align: middle;\n    }\n\n    .dataframe tbody tr th {\n        vertical-align: top;\n    }\n\n    .dataframe thead th {\n        text-align: right;\n    }\n</style>\n<table border=\"1\" class=\"dataframe\">\n  <thead>\n    <tr style=\"text-align: right;\">\n      <th></th>\n      <th>DateTime</th>\n      <th>time</th>\n      <th>PC_Water_EXO</th>\n      <th>DO-Sat_Water_EXO</th>\n      <th>DO_Water_EXO</th>\n      <th>rel_fl</th>\n      <th>Chla_Water_EXO</th>\n      <th>rel_fl</th>\n    </tr>\n  </thead>\n  <tbody>\n    <tr>\n      <th>0</th>\n      <td>10-1-2017</td>\n      <td>0:01</td>\n      <td>0.1448</td>\n      <td>101.82</td>\n      <td>9.14</td>\n      <td>0.844</td>\n      <td>0.800312</td>\n      <td>0.844</td>\n    </tr>\n    <tr>\n      <th>1</th>\n      <td>10-1-2017</td>\n      <td>0:03</td>\n      <td>0.1340</td>\n      <td>101.74</td>\n      <td>9.13</td>\n      <td>0.826</td>\n      <td>0.553970</td>\n      <td>0.826</td>\n    </tr>\n    <tr>\n      <th>2</th>\n      <td>10-1-2017</td>\n      <td>0:04</td>\n      <td>0.1232</td>\n      <td>101.67</td>\n      <td>9.13</td>\n      <td>0.826</td>\n      <td>0.553919</td>\n      <td>0.826</td>\n    </tr>\n    <tr>\n      <th>3</th>\n      <td>10-1-2017</td>\n      <td>0:05</td>\n      <td>0.1124</td>\n      <td>101.57</td>\n      <td>9.12</td>\n      <td>0.826</td>\n      <td>0.437228</td>\n      <td>0.826</td>\n    </tr>\n    <tr>\n      <th>4</th>\n      <td>10-1-2017</td>\n      <td>0:07</td>\n      <td>0.1160</td>\n      <td>101.50</td>\n      <td>9.11</td>\n      <td>0.844</td>\n      <td>0.489017</td>\n      <td>0.844</td>\n    </tr>\n  </tbody>\n</table>\n</div>"
     },
     "execution_count": 137,
     "metadata": {},
     "output_type": "execute_result"
    }
   ],
   "source": [
    "vp_df_final.head()"
   ],
   "metadata": {
    "collapsed": false
   }
  },
  {
   "cell_type": "code",
   "execution_count": null,
   "outputs": [],
   "source": [],
   "metadata": {
    "collapsed": false
   }
  }
 ],
 "metadata": {
  "kernelspec": {
   "display_name": "Python 3",
   "language": "python",
   "name": "python3"
  },
  "language_info": {
   "codemirror_mode": {
    "name": "ipython",
    "version": 2
   },
   "file_extension": ".py",
   "mimetype": "text/x-python",
   "name": "python",
   "nbconvert_exporter": "python",
   "pygments_lexer": "ipython2",
   "version": "2.7.6"
  }
 },
 "nbformat": 4,
 "nbformat_minor": 0
}
