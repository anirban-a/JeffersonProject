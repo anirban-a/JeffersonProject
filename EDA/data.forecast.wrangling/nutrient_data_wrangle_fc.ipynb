{
 "cells": [
  {
   "cell_type": "code",
   "execution_count": 50,
   "metadata": {
    "collapsed": true
   },
   "outputs": [],
   "source": [
    "import numpy as np\n",
    "import pandas as pd\n",
    "from functools import partial"
   ]
  },
  {
   "cell_type": "code",
   "execution_count": 51,
   "outputs": [],
   "source": [
    "data_path = '/home/achara/data/achara/'\n",
    "df = pd.read_csv(data_path + '/vp_ws_fc.csv')"
   ],
   "metadata": {
    "collapsed": false
   }
  },
  {
   "cell_type": "code",
   "execution_count": 52,
   "outputs": [
    {
     "data": {
      "text/plain": "    DateTime  time  PC_Water_EXO  DO-Sat_Water_EXO  DO_Water_EXO  rel_fl  \\\n0  10-1-2017  0:01        0.1448            101.82          9.14   0.844   \n1  10-1-2017  0:03        0.1340            101.74          9.13   0.826   \n2  10-1-2017  0:04        0.1232            101.67          9.13   0.826   \n3  10-1-2017  0:05        0.1124            101.57          9.12   0.826   \n4  10-1-2017  0:07        0.1160            101.50          9.11   0.844   \n\n   Chla_Water_EXO  rel_fl.1  month  year  SolarRad_Air_LiCor  \n0        0.800312     0.844     10  2017           127.38941  \n1        0.553970     0.826     10  2017           127.38941  \n2        0.553919     0.826     10  2017           127.38941  \n3        0.437228     0.826     10  2017           127.38941  \n4        0.489017     0.844     10  2017           127.38941  ",
      "text/html": "<div>\n<style scoped>\n    .dataframe tbody tr th:only-of-type {\n        vertical-align: middle;\n    }\n\n    .dataframe tbody tr th {\n        vertical-align: top;\n    }\n\n    .dataframe thead th {\n        text-align: right;\n    }\n</style>\n<table border=\"1\" class=\"dataframe\">\n  <thead>\n    <tr style=\"text-align: right;\">\n      <th></th>\n      <th>DateTime</th>\n      <th>time</th>\n      <th>PC_Water_EXO</th>\n      <th>DO-Sat_Water_EXO</th>\n      <th>DO_Water_EXO</th>\n      <th>rel_fl</th>\n      <th>Chla_Water_EXO</th>\n      <th>rel_fl.1</th>\n      <th>month</th>\n      <th>year</th>\n      <th>SolarRad_Air_LiCor</th>\n    </tr>\n  </thead>\n  <tbody>\n    <tr>\n      <th>0</th>\n      <td>10-1-2017</td>\n      <td>0:01</td>\n      <td>0.1448</td>\n      <td>101.82</td>\n      <td>9.14</td>\n      <td>0.844</td>\n      <td>0.800312</td>\n      <td>0.844</td>\n      <td>10</td>\n      <td>2017</td>\n      <td>127.38941</td>\n    </tr>\n    <tr>\n      <th>1</th>\n      <td>10-1-2017</td>\n      <td>0:03</td>\n      <td>0.1340</td>\n      <td>101.74</td>\n      <td>9.13</td>\n      <td>0.826</td>\n      <td>0.553970</td>\n      <td>0.826</td>\n      <td>10</td>\n      <td>2017</td>\n      <td>127.38941</td>\n    </tr>\n    <tr>\n      <th>2</th>\n      <td>10-1-2017</td>\n      <td>0:04</td>\n      <td>0.1232</td>\n      <td>101.67</td>\n      <td>9.13</td>\n      <td>0.826</td>\n      <td>0.553919</td>\n      <td>0.826</td>\n      <td>10</td>\n      <td>2017</td>\n      <td>127.38941</td>\n    </tr>\n    <tr>\n      <th>3</th>\n      <td>10-1-2017</td>\n      <td>0:05</td>\n      <td>0.1124</td>\n      <td>101.57</td>\n      <td>9.12</td>\n      <td>0.826</td>\n      <td>0.437228</td>\n      <td>0.826</td>\n      <td>10</td>\n      <td>2017</td>\n      <td>127.38941</td>\n    </tr>\n    <tr>\n      <th>4</th>\n      <td>10-1-2017</td>\n      <td>0:07</td>\n      <td>0.1160</td>\n      <td>101.50</td>\n      <td>9.11</td>\n      <td>0.844</td>\n      <td>0.489017</td>\n      <td>0.844</td>\n      <td>10</td>\n      <td>2017</td>\n      <td>127.38941</td>\n    </tr>\n  </tbody>\n</table>\n</div>"
     },
     "execution_count": 52,
     "metadata": {},
     "output_type": "execute_result"
    }
   ],
   "source": [
    "df.head()"
   ],
   "metadata": {
    "collapsed": false
   }
  },
  {
   "cell_type": "code",
   "execution_count": 53,
   "outputs": [],
   "source": [
    "nut_df = pd.read_csv(data_path + 'SINC_input_data_EDI.csv')"
   ],
   "metadata": {
    "collapsed": false
   }
  },
  {
   "cell_type": "code",
   "execution_count": 54,
   "outputs": [],
   "source": [
    "def convert_date_format(date: str) -> str:\n",
    "    parts = date.split('-')\n",
    "    parts.append(parts.pop(0))\n",
    "    standardize = list(map(int, parts))\n",
    "    return '-'.join(list(map(str, standardize)))"
   ],
   "metadata": {
    "collapsed": false
   }
  },
  {
   "cell_type": "code",
   "execution_count": 55,
   "outputs": [],
   "source": [
    "nut_df.Datetime = nut_df.Datetime.map(lambda x: x.split(' ')[0]).map(convert_date_format)"
   ],
   "metadata": {
    "collapsed": false
   }
  },
  {
   "cell_type": "code",
   "execution_count": 56,
   "outputs": [],
   "source": [
    "keys = ['Datetime','NO3', 'NH4', 'PP']\n",
    "nut_df_filtered = nut_df.loc[:, keys]"
   ],
   "metadata": {
    "collapsed": false
   }
  },
  {
   "cell_type": "code",
   "execution_count": 57,
   "outputs": [
    {
     "data": {
      "text/plain": "       Datetime    NO3     NH4       PP\n0     1-22-2018  0.552  0.0050   2.1741\n1     2-28-2018  0.362  0.0185   3.8954\n2     3-20-2018  0.587  0.0050   9.7426\n3      4-4-2018  0.248  0.0050   7.5395\n4      4-4-2018  0.195  0.0050  25.6634\n..          ...    ...     ...      ...\n675  10-23-2019  0.825  0.0050  13.0438\n676  10-23-2019  0.732  0.0050   8.8632\n677  10-23-2019  0.851  0.0050   6.5220\n678   11-6-2019  0.905  0.0134   2.8660\n679  12-13-2019  0.874  0.0050   3.3341\n\n[680 rows x 4 columns]",
      "text/html": "<div>\n<style scoped>\n    .dataframe tbody tr th:only-of-type {\n        vertical-align: middle;\n    }\n\n    .dataframe tbody tr th {\n        vertical-align: top;\n    }\n\n    .dataframe thead th {\n        text-align: right;\n    }\n</style>\n<table border=\"1\" class=\"dataframe\">\n  <thead>\n    <tr style=\"text-align: right;\">\n      <th></th>\n      <th>Datetime</th>\n      <th>NO3</th>\n      <th>NH4</th>\n      <th>PP</th>\n    </tr>\n  </thead>\n  <tbody>\n    <tr>\n      <th>0</th>\n      <td>1-22-2018</td>\n      <td>0.552</td>\n      <td>0.0050</td>\n      <td>2.1741</td>\n    </tr>\n    <tr>\n      <th>1</th>\n      <td>2-28-2018</td>\n      <td>0.362</td>\n      <td>0.0185</td>\n      <td>3.8954</td>\n    </tr>\n    <tr>\n      <th>2</th>\n      <td>3-20-2018</td>\n      <td>0.587</td>\n      <td>0.0050</td>\n      <td>9.7426</td>\n    </tr>\n    <tr>\n      <th>3</th>\n      <td>4-4-2018</td>\n      <td>0.248</td>\n      <td>0.0050</td>\n      <td>7.5395</td>\n    </tr>\n    <tr>\n      <th>4</th>\n      <td>4-4-2018</td>\n      <td>0.195</td>\n      <td>0.0050</td>\n      <td>25.6634</td>\n    </tr>\n    <tr>\n      <th>...</th>\n      <td>...</td>\n      <td>...</td>\n      <td>...</td>\n      <td>...</td>\n    </tr>\n    <tr>\n      <th>675</th>\n      <td>10-23-2019</td>\n      <td>0.825</td>\n      <td>0.0050</td>\n      <td>13.0438</td>\n    </tr>\n    <tr>\n      <th>676</th>\n      <td>10-23-2019</td>\n      <td>0.732</td>\n      <td>0.0050</td>\n      <td>8.8632</td>\n    </tr>\n    <tr>\n      <th>677</th>\n      <td>10-23-2019</td>\n      <td>0.851</td>\n      <td>0.0050</td>\n      <td>6.5220</td>\n    </tr>\n    <tr>\n      <th>678</th>\n      <td>11-6-2019</td>\n      <td>0.905</td>\n      <td>0.0134</td>\n      <td>2.8660</td>\n    </tr>\n    <tr>\n      <th>679</th>\n      <td>12-13-2019</td>\n      <td>0.874</td>\n      <td>0.0050</td>\n      <td>3.3341</td>\n    </tr>\n  </tbody>\n</table>\n<p>680 rows × 4 columns</p>\n</div>"
     },
     "execution_count": 57,
     "metadata": {},
     "output_type": "execute_result"
    }
   ],
   "source": [
    "nut_df_filtered"
   ],
   "metadata": {
    "collapsed": false
   }
  },
  {
   "cell_type": "code",
   "execution_count": 58,
   "outputs": [],
   "source": [
    "def get_part(idx: int, date: str) -> str:\n",
    "    return date.split('-')[idx]"
   ],
   "metadata": {
    "collapsed": false
   }
  },
  {
   "cell_type": "code",
   "execution_count": 59,
   "outputs": [],
   "source": [
    "nut_df_filtered['month'] = nut_df_filtered.Datetime.map(partial(get_part, 0)).map(int)\n",
    "nut_df_filtered['day'] = nut_df_filtered.Datetime.map(partial(get_part, 1)).map(int)\n",
    "nut_df_filtered['year'] = nut_df_filtered.Datetime.map(partial(get_part, 2)).map(int)"
   ],
   "metadata": {
    "collapsed": false
   }
  },
  {
   "cell_type": "code",
   "execution_count": 60,
   "outputs": [],
   "source": [
    "nut_df_filtered = nut_df_filtered.loc[:,  ~nut_df_filtered.columns.isin(['Datetime','day'])]"
   ],
   "metadata": {
    "collapsed": false
   }
  },
  {
   "cell_type": "code",
   "execution_count": 61,
   "outputs": [],
   "source": [
    "nut_df_mean = nut_df_filtered.groupby(['year','month'], as_index=False).mean()"
   ],
   "metadata": {
    "collapsed": false
   }
  },
  {
   "cell_type": "code",
   "execution_count": 62,
   "outputs": [],
   "source": [
    "merged = df.merge(nut_df_mean, on=['year','month' ], how='left')"
   ],
   "metadata": {
    "collapsed": false
   }
  },
  {
   "cell_type": "code",
   "execution_count": 63,
   "outputs": [
    {
     "data": {
      "text/plain": "DateTime              0\ntime                  0\nPC_Water_EXO          0\nDO-Sat_Water_EXO      0\nDO_Water_EXO          0\nrel_fl                0\nChla_Water_EXO        0\nrel_fl.1              0\nmonth                 0\nyear                  0\nSolarRad_Air_LiCor    0\nNO3                   0\nNH4                   0\nPP                    0\ndtype: int64"
     },
     "execution_count": 63,
     "metadata": {},
     "output_type": "execute_result"
    }
   ],
   "source": [
    "merged.isna().sum()"
   ],
   "metadata": {
    "collapsed": false
   }
  },
  {
   "cell_type": "code",
   "execution_count": 64,
   "outputs": [
    {
     "data": {
      "text/plain": "Index(['DateTime', 'time', 'PC_Water_EXO', 'DO-Sat_Water_EXO', 'DO_Water_EXO',\n       'rel_fl', 'Chla_Water_EXO', 'rel_fl.1', 'month', 'year',\n       'SolarRad_Air_LiCor', 'NO3', 'NH4', 'PP'],\n      dtype='object')"
     },
     "execution_count": 64,
     "metadata": {},
     "output_type": "execute_result"
    }
   ],
   "source": [
    "merged.columns"
   ],
   "metadata": {
    "collapsed": false
   }
  },
  {
   "cell_type": "code",
   "execution_count": 65,
   "outputs": [],
   "source": [
    "merged['day']=merged.DateTime.map(partial(get_part, 1)).map(int)"
   ],
   "metadata": {
    "collapsed": false
   }
  },
  {
   "cell_type": "code",
   "execution_count": 66,
   "outputs": [
    {
     "data": {
      "text/plain": "    DateTime  time  PC_Water_EXO  DO-Sat_Water_EXO  DO_Water_EXO  rel_fl  \\\n0  10-1-2017  0:01        0.1448            101.82          9.14   0.844   \n1  10-1-2017  0:03        0.1340            101.74          9.13   0.826   \n2  10-1-2017  0:04        0.1232            101.67          9.13   0.826   \n3  10-1-2017  0:05        0.1124            101.57          9.12   0.826   \n4  10-1-2017  0:07        0.1160            101.50          9.11   0.844   \n\n   Chla_Water_EXO  rel_fl.1  month  year  SolarRad_Air_LiCor    NO3    NH4  \\\n0        0.800312     0.844     10  2017           127.38941  0.191  0.005   \n1        0.553970     0.826     10  2017           127.38941  0.191  0.005   \n2        0.553919     0.826     10  2017           127.38941  0.191  0.005   \n3        0.437228     0.826     10  2017           127.38941  0.191  0.005   \n4        0.489017     0.844     10  2017           127.38941  0.191  0.005   \n\n          PP  day  \n0  16.681741    1  \n1  16.681741    1  \n2  16.681741    1  \n3  16.681741    1  \n4  16.681741    1  ",
      "text/html": "<div>\n<style scoped>\n    .dataframe tbody tr th:only-of-type {\n        vertical-align: middle;\n    }\n\n    .dataframe tbody tr th {\n        vertical-align: top;\n    }\n\n    .dataframe thead th {\n        text-align: right;\n    }\n</style>\n<table border=\"1\" class=\"dataframe\">\n  <thead>\n    <tr style=\"text-align: right;\">\n      <th></th>\n      <th>DateTime</th>\n      <th>time</th>\n      <th>PC_Water_EXO</th>\n      <th>DO-Sat_Water_EXO</th>\n      <th>DO_Water_EXO</th>\n      <th>rel_fl</th>\n      <th>Chla_Water_EXO</th>\n      <th>rel_fl.1</th>\n      <th>month</th>\n      <th>year</th>\n      <th>SolarRad_Air_LiCor</th>\n      <th>NO3</th>\n      <th>NH4</th>\n      <th>PP</th>\n      <th>day</th>\n    </tr>\n  </thead>\n  <tbody>\n    <tr>\n      <th>0</th>\n      <td>10-1-2017</td>\n      <td>0:01</td>\n      <td>0.1448</td>\n      <td>101.82</td>\n      <td>9.14</td>\n      <td>0.844</td>\n      <td>0.800312</td>\n      <td>0.844</td>\n      <td>10</td>\n      <td>2017</td>\n      <td>127.38941</td>\n      <td>0.191</td>\n      <td>0.005</td>\n      <td>16.681741</td>\n      <td>1</td>\n    </tr>\n    <tr>\n      <th>1</th>\n      <td>10-1-2017</td>\n      <td>0:03</td>\n      <td>0.1340</td>\n      <td>101.74</td>\n      <td>9.13</td>\n      <td>0.826</td>\n      <td>0.553970</td>\n      <td>0.826</td>\n      <td>10</td>\n      <td>2017</td>\n      <td>127.38941</td>\n      <td>0.191</td>\n      <td>0.005</td>\n      <td>16.681741</td>\n      <td>1</td>\n    </tr>\n    <tr>\n      <th>2</th>\n      <td>10-1-2017</td>\n      <td>0:04</td>\n      <td>0.1232</td>\n      <td>101.67</td>\n      <td>9.13</td>\n      <td>0.826</td>\n      <td>0.553919</td>\n      <td>0.826</td>\n      <td>10</td>\n      <td>2017</td>\n      <td>127.38941</td>\n      <td>0.191</td>\n      <td>0.005</td>\n      <td>16.681741</td>\n      <td>1</td>\n    </tr>\n    <tr>\n      <th>3</th>\n      <td>10-1-2017</td>\n      <td>0:05</td>\n      <td>0.1124</td>\n      <td>101.57</td>\n      <td>9.12</td>\n      <td>0.826</td>\n      <td>0.437228</td>\n      <td>0.826</td>\n      <td>10</td>\n      <td>2017</td>\n      <td>127.38941</td>\n      <td>0.191</td>\n      <td>0.005</td>\n      <td>16.681741</td>\n      <td>1</td>\n    </tr>\n    <tr>\n      <th>4</th>\n      <td>10-1-2017</td>\n      <td>0:07</td>\n      <td>0.1160</td>\n      <td>101.50</td>\n      <td>9.11</td>\n      <td>0.844</td>\n      <td>0.489017</td>\n      <td>0.844</td>\n      <td>10</td>\n      <td>2017</td>\n      <td>127.38941</td>\n      <td>0.191</td>\n      <td>0.005</td>\n      <td>16.681741</td>\n      <td>1</td>\n    </tr>\n  </tbody>\n</table>\n</div>"
     },
     "execution_count": 66,
     "metadata": {},
     "output_type": "execute_result"
    }
   ],
   "source": [
    "merged.head()"
   ],
   "metadata": {
    "collapsed": false
   }
  },
  {
   "cell_type": "code",
   "execution_count": 67,
   "outputs": [],
   "source": [
    "lst = pd.read_csv(data_path+'LST.csv')"
   ],
   "metadata": {
    "collapsed": false
   }
  },
  {
   "cell_type": "code",
   "execution_count": 68,
   "outputs": [],
   "source": [
    "lst.rename(columns={'YEAR':'year', 'MO':'month','DY':'day'}, inplace=True)"
   ],
   "metadata": {
    "collapsed": false
   }
  },
  {
   "cell_type": "code",
   "execution_count": 69,
   "outputs": [],
   "source": [
    "final_df = merged.merge(lst, on=['year','month','day'], how='left')"
   ],
   "metadata": {
    "collapsed": false
   }
  },
  {
   "cell_type": "code",
   "execution_count": 70,
   "outputs": [
    {
     "name": "stderr",
     "output_type": "stream",
     "text": [
      "/home/achara/achara_env/lib/python3.6/site-packages/ipykernel_launcher.py:1: FutureWarning: Indexing with multiple keys (implicitly converted to a tuple of keys) will be deprecated, use a list instead.\n",
      "  \"\"\"Entry point for launching an IPython kernel.\n"
     ]
    }
   ],
   "source": [
    "mean_df = final_df.groupby(['month'])['PRECTOTCORR', 'ALLSKY_SFC_LW_DWN', 'ALLSKY_SFC_SW_DWN'].mean()"
   ],
   "metadata": {
    "collapsed": false
   }
  },
  {
   "cell_type": "code",
   "execution_count": 71,
   "outputs": [
    {
     "data": {
      "text/plain": "       PRECTOTCORR  ALLSKY_SFC_LW_DWN  ALLSKY_SFC_SW_DWN\nmonth                                                   \n5         2.628489         334.779173           5.391961\n6         3.492326         344.496395           5.933266\n7         2.637167         367.263344           6.410781\n8         3.271875         358.454086           5.399513\n9         2.670990         341.080583           4.167955\n10        4.503493         311.677335           2.355409\n11        2.941629         275.013789           1.673628\n12        2.209290         278.067458           1.218532",
      "text/html": "<div>\n<style scoped>\n    .dataframe tbody tr th:only-of-type {\n        vertical-align: middle;\n    }\n\n    .dataframe tbody tr th {\n        vertical-align: top;\n    }\n\n    .dataframe thead th {\n        text-align: right;\n    }\n</style>\n<table border=\"1\" class=\"dataframe\">\n  <thead>\n    <tr style=\"text-align: right;\">\n      <th></th>\n      <th>PRECTOTCORR</th>\n      <th>ALLSKY_SFC_LW_DWN</th>\n      <th>ALLSKY_SFC_SW_DWN</th>\n    </tr>\n    <tr>\n      <th>month</th>\n      <th></th>\n      <th></th>\n      <th></th>\n    </tr>\n  </thead>\n  <tbody>\n    <tr>\n      <th>5</th>\n      <td>2.628489</td>\n      <td>334.779173</td>\n      <td>5.391961</td>\n    </tr>\n    <tr>\n      <th>6</th>\n      <td>3.492326</td>\n      <td>344.496395</td>\n      <td>5.933266</td>\n    </tr>\n    <tr>\n      <th>7</th>\n      <td>2.637167</td>\n      <td>367.263344</td>\n      <td>6.410781</td>\n    </tr>\n    <tr>\n      <th>8</th>\n      <td>3.271875</td>\n      <td>358.454086</td>\n      <td>5.399513</td>\n    </tr>\n    <tr>\n      <th>9</th>\n      <td>2.670990</td>\n      <td>341.080583</td>\n      <td>4.167955</td>\n    </tr>\n    <tr>\n      <th>10</th>\n      <td>4.503493</td>\n      <td>311.677335</td>\n      <td>2.355409</td>\n    </tr>\n    <tr>\n      <th>11</th>\n      <td>2.941629</td>\n      <td>275.013789</td>\n      <td>1.673628</td>\n    </tr>\n    <tr>\n      <th>12</th>\n      <td>2.209290</td>\n      <td>278.067458</td>\n      <td>1.218532</td>\n    </tr>\n  </tbody>\n</table>\n</div>"
     },
     "execution_count": 71,
     "metadata": {},
     "output_type": "execute_result"
    }
   ],
   "source": [
    "mean_df"
   ],
   "metadata": {
    "collapsed": false
   }
  },
  {
   "cell_type": "code",
   "execution_count": 72,
   "outputs": [],
   "source": [
    "final_df['PRECTOTCORR'] = final_df['PRECTOTCORR'].fillna(\n",
    "    final_df.month.map(lambda m: mean_df.at[m, 'PRECTOTCORR']))"
   ],
   "metadata": {
    "collapsed": false
   }
  },
  {
   "cell_type": "code",
   "execution_count": 73,
   "outputs": [],
   "source": [
    "final_df['ALLSKY_SFC_LW_DWN'] = final_df['ALLSKY_SFC_LW_DWN'].fillna(\n",
    "    final_df.month.map(lambda m: mean_df.at[m, 'ALLSKY_SFC_LW_DWN']))"
   ],
   "metadata": {
    "collapsed": false
   }
  },
  {
   "cell_type": "code",
   "execution_count": 74,
   "outputs": [],
   "source": [
    "final_df['ALLSKY_SFC_SW_DWN'] = final_df['ALLSKY_SFC_SW_DWN'].fillna(\n",
    "    final_df.month.map(lambda m: mean_df.at[m, 'ALLSKY_SFC_SW_DWN']))"
   ],
   "metadata": {
    "collapsed": false
   }
  },
  {
   "cell_type": "code",
   "execution_count": 75,
   "outputs": [
    {
     "data": {
      "text/plain": "DateTime              0\ntime                  0\nPC_Water_EXO          0\nDO-Sat_Water_EXO      0\nDO_Water_EXO          0\nrel_fl                0\nChla_Water_EXO        0\nrel_fl.1              0\nmonth                 0\nyear                  0\nSolarRad_Air_LiCor    0\nNO3                   0\nNH4                   0\nPP                    0\nday                   0\nPRECTOTCORR           0\nALLSKY_SFC_SW_DWN     0\nALLSKY_SFC_LW_DWN     0\ndtype: int64"
     },
     "execution_count": 75,
     "metadata": {},
     "output_type": "execute_result"
    }
   ],
   "source": [
    "final_df.isna().sum()"
   ],
   "metadata": {
    "collapsed": false
   }
  },
  {
   "cell_type": "code",
   "execution_count": 76,
   "outputs": [],
   "source": [
    "final_df_filtered = final_df.loc[:, ~final_df.columns.isin(['month','year','day'])]"
   ],
   "metadata": {
    "collapsed": false
   }
  },
  {
   "cell_type": "code",
   "execution_count": 77,
   "outputs": [
    {
     "data": {
      "text/plain": "    DateTime  time  PC_Water_EXO  DO-Sat_Water_EXO  DO_Water_EXO  rel_fl  \\\n0  10-1-2017  0:01        0.1448            101.82          9.14   0.844   \n1  10-1-2017  0:03        0.1340            101.74          9.13   0.826   \n2  10-1-2017  0:04        0.1232            101.67          9.13   0.826   \n3  10-1-2017  0:05        0.1124            101.57          9.12   0.826   \n4  10-1-2017  0:07        0.1160            101.50          9.11   0.844   \n\n   Chla_Water_EXO  rel_fl.1  SolarRad_Air_LiCor    NO3    NH4         PP  \\\n0        0.800312     0.844           127.38941  0.191  0.005  16.681741   \n1        0.553970     0.826           127.38941  0.191  0.005  16.681741   \n2        0.553919     0.826           127.38941  0.191  0.005  16.681741   \n3        0.437228     0.826           127.38941  0.191  0.005  16.681741   \n4        0.489017     0.844           127.38941  0.191  0.005  16.681741   \n\n   PRECTOTCORR  ALLSKY_SFC_SW_DWN  ALLSKY_SFC_LW_DWN  \n0     4.503493           2.355409         311.677335  \n1     4.503493           2.355409         311.677335  \n2     4.503493           2.355409         311.677335  \n3     4.503493           2.355409         311.677335  \n4     4.503493           2.355409         311.677335  ",
      "text/html": "<div>\n<style scoped>\n    .dataframe tbody tr th:only-of-type {\n        vertical-align: middle;\n    }\n\n    .dataframe tbody tr th {\n        vertical-align: top;\n    }\n\n    .dataframe thead th {\n        text-align: right;\n    }\n</style>\n<table border=\"1\" class=\"dataframe\">\n  <thead>\n    <tr style=\"text-align: right;\">\n      <th></th>\n      <th>DateTime</th>\n      <th>time</th>\n      <th>PC_Water_EXO</th>\n      <th>DO-Sat_Water_EXO</th>\n      <th>DO_Water_EXO</th>\n      <th>rel_fl</th>\n      <th>Chla_Water_EXO</th>\n      <th>rel_fl.1</th>\n      <th>SolarRad_Air_LiCor</th>\n      <th>NO3</th>\n      <th>NH4</th>\n      <th>PP</th>\n      <th>PRECTOTCORR</th>\n      <th>ALLSKY_SFC_SW_DWN</th>\n      <th>ALLSKY_SFC_LW_DWN</th>\n    </tr>\n  </thead>\n  <tbody>\n    <tr>\n      <th>0</th>\n      <td>10-1-2017</td>\n      <td>0:01</td>\n      <td>0.1448</td>\n      <td>101.82</td>\n      <td>9.14</td>\n      <td>0.844</td>\n      <td>0.800312</td>\n      <td>0.844</td>\n      <td>127.38941</td>\n      <td>0.191</td>\n      <td>0.005</td>\n      <td>16.681741</td>\n      <td>4.503493</td>\n      <td>2.355409</td>\n      <td>311.677335</td>\n    </tr>\n    <tr>\n      <th>1</th>\n      <td>10-1-2017</td>\n      <td>0:03</td>\n      <td>0.1340</td>\n      <td>101.74</td>\n      <td>9.13</td>\n      <td>0.826</td>\n      <td>0.553970</td>\n      <td>0.826</td>\n      <td>127.38941</td>\n      <td>0.191</td>\n      <td>0.005</td>\n      <td>16.681741</td>\n      <td>4.503493</td>\n      <td>2.355409</td>\n      <td>311.677335</td>\n    </tr>\n    <tr>\n      <th>2</th>\n      <td>10-1-2017</td>\n      <td>0:04</td>\n      <td>0.1232</td>\n      <td>101.67</td>\n      <td>9.13</td>\n      <td>0.826</td>\n      <td>0.553919</td>\n      <td>0.826</td>\n      <td>127.38941</td>\n      <td>0.191</td>\n      <td>0.005</td>\n      <td>16.681741</td>\n      <td>4.503493</td>\n      <td>2.355409</td>\n      <td>311.677335</td>\n    </tr>\n    <tr>\n      <th>3</th>\n      <td>10-1-2017</td>\n      <td>0:05</td>\n      <td>0.1124</td>\n      <td>101.57</td>\n      <td>9.12</td>\n      <td>0.826</td>\n      <td>0.437228</td>\n      <td>0.826</td>\n      <td>127.38941</td>\n      <td>0.191</td>\n      <td>0.005</td>\n      <td>16.681741</td>\n      <td>4.503493</td>\n      <td>2.355409</td>\n      <td>311.677335</td>\n    </tr>\n    <tr>\n      <th>4</th>\n      <td>10-1-2017</td>\n      <td>0:07</td>\n      <td>0.1160</td>\n      <td>101.50</td>\n      <td>9.11</td>\n      <td>0.844</td>\n      <td>0.489017</td>\n      <td>0.844</td>\n      <td>127.38941</td>\n      <td>0.191</td>\n      <td>0.005</td>\n      <td>16.681741</td>\n      <td>4.503493</td>\n      <td>2.355409</td>\n      <td>311.677335</td>\n    </tr>\n  </tbody>\n</table>\n</div>"
     },
     "execution_count": 77,
     "metadata": {},
     "output_type": "execute_result"
    }
   ],
   "source": [
    "final_df_filtered.head()"
   ],
   "metadata": {
    "collapsed": false
   }
  },
  {
   "cell_type": "code",
   "execution_count": 78,
   "outputs": [],
   "source": [
    "final_df.to_csv(data_path+'/forecast_input.csv', index=False)"
   ],
   "metadata": {
    "collapsed": false
   }
  }
 ],
 "metadata": {
  "kernelspec": {
   "display_name": "Python 3",
   "language": "python",
   "name": "python3"
  },
  "language_info": {
   "codemirror_mode": {
    "name": "ipython",
    "version": 2
   },
   "file_extension": ".py",
   "mimetype": "text/x-python",
   "name": "python",
   "nbconvert_exporter": "python",
   "pygments_lexer": "ipython2",
   "version": "2.7.6"
  }
 },
 "nbformat": 4,
 "nbformat_minor": 0
}
