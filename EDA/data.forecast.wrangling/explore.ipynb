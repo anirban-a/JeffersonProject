{
 "cells": [
  {
   "cell_type": "code",
   "execution_count": null,
   "metadata": {
    "collapsed": true,
    "pycharm": {
     "is_executing": true
    }
   },
   "outputs": [],
   "source": [
    "import pandas as pd\n",
    "import seaborn as sns"
   ]
  },
  {
   "cell_type": "code",
   "execution_count": 7,
   "outputs": [],
   "source": [
    "data_path = '/home/achara/data/achara/'\n",
    "df = pd.read_csv(data_path + '/forecast_input.csv')"
   ],
   "metadata": {
    "collapsed": false
   }
  },
  {
   "cell_type": "code",
   "execution_count": 8,
   "outputs": [
    {
     "data": {
      "text/plain": "              DateTime  time  PC_Water_EXO  DO-Sat_Water_EXO  DO_Water_EXO  \\\n0  2017-10-01 00:01:00  0:01        0.1448            101.82          9.14   \n1  2017-10-01 00:03:00  0:03        0.1340            101.74          9.13   \n2  2017-10-01 00:04:00  0:04        0.1232            101.67          9.13   \n3  2017-10-01 00:05:00  0:05        0.1124            101.57          9.12   \n4  2017-10-01 00:07:00  0:07        0.1160            101.50          9.11   \n\n   rel_fl  Chla_Water_EXO  month  year  SolarRad_Air_LiCor    NO3    NH4  \\\n0   0.844        0.800312     10  2017           127.38941  0.191  0.005   \n1   0.826        0.553970     10  2017           127.38941  0.191  0.005   \n2   0.826        0.553919     10  2017           127.38941  0.191  0.005   \n3   0.826        0.437228     10  2017           127.38941  0.191  0.005   \n4   0.844        0.489017     10  2017           127.38941  0.191  0.005   \n\n          PP  day  PRECTOTCORR  ALLSKY_SFC_SW_DWN  ALLSKY_SFC_LW_DWN  \n0  16.681741    1     4.503493           2.355409         311.677335  \n1  16.681741    1     4.503493           2.355409         311.677335  \n2  16.681741    1     4.503493           2.355409         311.677335  \n3  16.681741    1     4.503493           2.355409         311.677335  \n4  16.681741    1     4.503493           2.355409         311.677335  ",
      "text/html": "<div>\n<style scoped>\n    .dataframe tbody tr th:only-of-type {\n        vertical-align: middle;\n    }\n\n    .dataframe tbody tr th {\n        vertical-align: top;\n    }\n\n    .dataframe thead th {\n        text-align: right;\n    }\n</style>\n<table border=\"1\" class=\"dataframe\">\n  <thead>\n    <tr style=\"text-align: right;\">\n      <th></th>\n      <th>DateTime</th>\n      <th>time</th>\n      <th>PC_Water_EXO</th>\n      <th>DO-Sat_Water_EXO</th>\n      <th>DO_Water_EXO</th>\n      <th>rel_fl</th>\n      <th>Chla_Water_EXO</th>\n      <th>month</th>\n      <th>year</th>\n      <th>SolarRad_Air_LiCor</th>\n      <th>NO3</th>\n      <th>NH4</th>\n      <th>PP</th>\n      <th>day</th>\n      <th>PRECTOTCORR</th>\n      <th>ALLSKY_SFC_SW_DWN</th>\n      <th>ALLSKY_SFC_LW_DWN</th>\n    </tr>\n  </thead>\n  <tbody>\n    <tr>\n      <th>0</th>\n      <td>2017-10-01 00:01:00</td>\n      <td>0:01</td>\n      <td>0.1448</td>\n      <td>101.82</td>\n      <td>9.14</td>\n      <td>0.844</td>\n      <td>0.800312</td>\n      <td>10</td>\n      <td>2017</td>\n      <td>127.38941</td>\n      <td>0.191</td>\n      <td>0.005</td>\n      <td>16.681741</td>\n      <td>1</td>\n      <td>4.503493</td>\n      <td>2.355409</td>\n      <td>311.677335</td>\n    </tr>\n    <tr>\n      <th>1</th>\n      <td>2017-10-01 00:03:00</td>\n      <td>0:03</td>\n      <td>0.1340</td>\n      <td>101.74</td>\n      <td>9.13</td>\n      <td>0.826</td>\n      <td>0.553970</td>\n      <td>10</td>\n      <td>2017</td>\n      <td>127.38941</td>\n      <td>0.191</td>\n      <td>0.005</td>\n      <td>16.681741</td>\n      <td>1</td>\n      <td>4.503493</td>\n      <td>2.355409</td>\n      <td>311.677335</td>\n    </tr>\n    <tr>\n      <th>2</th>\n      <td>2017-10-01 00:04:00</td>\n      <td>0:04</td>\n      <td>0.1232</td>\n      <td>101.67</td>\n      <td>9.13</td>\n      <td>0.826</td>\n      <td>0.553919</td>\n      <td>10</td>\n      <td>2017</td>\n      <td>127.38941</td>\n      <td>0.191</td>\n      <td>0.005</td>\n      <td>16.681741</td>\n      <td>1</td>\n      <td>4.503493</td>\n      <td>2.355409</td>\n      <td>311.677335</td>\n    </tr>\n    <tr>\n      <th>3</th>\n      <td>2017-10-01 00:05:00</td>\n      <td>0:05</td>\n      <td>0.1124</td>\n      <td>101.57</td>\n      <td>9.12</td>\n      <td>0.826</td>\n      <td>0.437228</td>\n      <td>10</td>\n      <td>2017</td>\n      <td>127.38941</td>\n      <td>0.191</td>\n      <td>0.005</td>\n      <td>16.681741</td>\n      <td>1</td>\n      <td>4.503493</td>\n      <td>2.355409</td>\n      <td>311.677335</td>\n    </tr>\n    <tr>\n      <th>4</th>\n      <td>2017-10-01 00:07:00</td>\n      <td>0:07</td>\n      <td>0.1160</td>\n      <td>101.50</td>\n      <td>9.11</td>\n      <td>0.844</td>\n      <td>0.489017</td>\n      <td>10</td>\n      <td>2017</td>\n      <td>127.38941</td>\n      <td>0.191</td>\n      <td>0.005</td>\n      <td>16.681741</td>\n      <td>1</td>\n      <td>4.503493</td>\n      <td>2.355409</td>\n      <td>311.677335</td>\n    </tr>\n  </tbody>\n</table>\n</div>"
     },
     "execution_count": 8,
     "metadata": {},
     "output_type": "execute_result"
    }
   ],
   "source": [
    "df.head()"
   ],
   "metadata": {
    "collapsed": false
   }
  },
  {
   "cell_type": "code",
   "execution_count": null,
   "outputs": [],
   "source": [
    "sns.relplot(data = df, x='DateTime', y='PC_Water_EXO', kind='line')"
   ],
   "metadata": {
    "collapsed": false,
    "pycharm": {
     "is_executing": true
    }
   }
  },
  {
   "cell_type": "code",
   "execution_count": null,
   "outputs": [],
   "source": [],
   "metadata": {
    "collapsed": false
   }
  }
 ],
 "metadata": {
  "kernelspec": {
   "display_name": "Python 3",
   "language": "python",
   "name": "python3"
  },
  "language_info": {
   "codemirror_mode": {
    "name": "ipython",
    "version": 2
   },
   "file_extension": ".py",
   "mimetype": "text/x-python",
   "name": "python",
   "nbconvert_exporter": "python",
   "pygments_lexer": "ipython2",
   "version": "2.7.6"
  }
 },
 "nbformat": 4,
 "nbformat_minor": 0
}
